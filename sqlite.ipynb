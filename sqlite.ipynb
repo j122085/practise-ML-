{
 "cells": [
  {
   "cell_type": "code",
   "execution_count": null,
   "metadata": {
    "collapsed": true
   },
   "outputs": [],
   "source": [
    "import sqlite3"
   ]
  },
  {
   "cell_type": "code",
   "execution_count": null,
   "metadata": {
    "collapsed": true
   },
   "outputs": [],
   "source": [
    "db = sqlite3.connect('../data/data104.sqlite')"
   ]
  },
  {
   "cell_type": "code",
   "execution_count": null,
   "metadata": {
    "collapsed": true
   },
   "outputs": [],
   "source": [
    "cur = db.cursor()"
   ]
  },
  {
   "cell_type": "code",
   "execution_count": null,
   "metadata": {
    "collapsed": true
   },
   "outputs": [],
   "source": [
    "#--------------------------------"
   ]
  },
  {
   "cell_type": "code",
   "execution_count": null,
   "metadata": {
    "collapsed": true
   },
   "outputs": [],
   "source": [
    "import pymongo"
   ]
  },
  {
   "cell_type": "code",
   "execution_count": null,
   "metadata": {
    "collapsed": true
   },
   "outputs": [],
   "source": [
    "Client=pymongo.MongoClient(\"172.20.26.39\",27017)"
   ]
  },
  {
   "cell_type": "code",
   "execution_count": null,
   "metadata": {},
   "outputs": [],
   "source": [
    "mdb=Client.rawData\n",
    "mdb.collection_names()"
   ]
  },
  {
   "cell_type": "code",
   "execution_count": null,
   "metadata": {
    "collapsed": true
   },
   "outputs": [],
   "source": [
    "collection=mdb.HRdata104\n",
    "data104=list(collection.find({}))\n",
    "for dien in data104:\n",
    "    del dien[\"_id\"]\n",
    "# data104\n",
    "Client.close()\n"
   ]
  },
  {
   "cell_type": "code",
   "execution_count": null,
   "metadata": {
    "collapsed": true
   },
   "outputs": [],
   "source": [
    "#-------------------"
   ]
  },
  {
   "cell_type": "code",
   "execution_count": null,
   "metadata": {},
   "outputs": [],
   "source": [
    "cur.execute(\"CREATE TABLE data104(APPEAR_DATE varchar, JOB varchar, JOBCAT_DESCRIPT varchar,\\\n",
    "            JOB_ADDRESS varchar, JOB_ADDR_NO_DESCRIPT varchar , LAT double, LON double,\\\n",
    "            NAME varchar, SAL_MONTH_HIGH int,SAL_MONTH_LOW int);\")"
   ]
  },
  {
   "cell_type": "code",
   "execution_count": null,
   "metadata": {},
   "outputs": [],
   "source": [
    "\", \".join([\"data['%s']\"%i for i in data104[0].keys()])"
   ]
  },
  {
   "cell_type": "code",
   "execution_count": null,
   "metadata": {
    "collapsed": true
   },
   "outputs": [],
   "source": [
    "for data in data104:\n",
    "    cur.execute(\"INSERT INTO data104 VALUES ('%s','%s','%s','%s','%s', %s, %s,'%s', %s, %s);\"%(data['APPEAR_DATE'],\n",
    "                                                                                   data['JOB'].replace(\"'\",\"\"),\n",
    "                                                                                   data['JOBCAT_DESCRIPT'].replace(\"'\",\"\"),\n",
    "                                                                                   data['JOB_ADDRESS'].replace(\"'\",\"\"),\n",
    "                                                                                   data['JOB_ADDR_NO_DESCRIPT'],\n",
    "                                                                                   data['LAT'],\n",
    "                                                                                   data['LON'],\n",
    "                                                                                   data['NAME'].replace(\"'\",\"\"),\n",
    "                                                                                   data['SAL_MONTH_HIGH'],\n",
    "                                                                                   data['SAL_MONTH_LOW']))"
   ]
  },
  {
   "cell_type": "code",
   "execution_count": null,
   "metadata": {
    "collapsed": true
   },
   "outputs": [],
   "source": [
    "db.commit()"
   ]
  },
  {
   "cell_type": "code",
   "execution_count": null,
   "metadata": {},
   "outputs": [],
   "source": [
    "for row in cur.execute(\"SELECT * FROM data104;\"):\n",
    "    print(row)"
   ]
  },
  {
   "cell_type": "code",
   "execution_count": null,
   "metadata": {
    "collapsed": true
   },
   "outputs": [],
   "source": [
    "db.close()"
   ]
  },
  {
   "cell_type": "code",
   "execution_count": null,
   "metadata": {
    "collapsed": true
   },
   "outputs": [],
   "source": []
  }
 ],
 "metadata": {
  "kernelspec": {
   "display_name": "Python 3",
   "language": "python",
   "name": "python3"
  },
  "language_info": {
   "codemirror_mode": {
    "name": "ipython",
    "version": 3
   },
   "file_extension": ".py",
   "mimetype": "text/x-python",
   "name": "python",
   "nbconvert_exporter": "python",
   "pygments_lexer": "ipython3",
   "version": "3.6.4"
  }
 },
 "nbformat": 4,
 "nbformat_minor": 2
}
