{
 "cells": [
  {
   "cell_type": "code",
   "execution_count": 86,
   "metadata": {},
   "outputs": [
    {
     "name": "stdout",
     "output_type": "stream",
     "text": [
      "top.location='..'\n"
     ]
    }
   ],
   "source": [
    "res=requests.post(findXYUrl,data=dataDict,headers=headerDict)"
   ]
  },
  {
   "cell_type": "code",
   "execution_count": 169,
   "metadata": {
    "collapsed": true
   },
   "outputs": [],
   "source": [
    "import requests\n",
    "import re\n",
    "import json\n",
    "# address=\"桃園市中壢區永泰街110號1F\"\n",
    "address=\"台中市西區台灣大道二段218號\"\n",
    "try:\n",
    "    bigadd = re.findall(\"(..[市|縣])(\\w\\w?\\w?[區|市|鎮|鄉])\",address)[0][0]\n",
    "    smalladd= re.findall(\"(..[市|縣])(\\w\\w?\\w?[區|市|鎮|鄉])\",address)[0][1]\n",
    "except:\n",
    "    bigadd=0\n",
    "    smalladd=0\n",
    "road=address.split(smalladd)[1]\n",
    "\n",
    "headersStr=\"\"\"Accept: */*\n",
    "Accept-Encoding: gzip, deflate\n",
    "Accept-Language: zh-TW,zh;q=0.9,en-US;q=0.8,en;q=0.7\n",
    "Connection: keep-alive\n",
    "Content-Length: 138\n",
    "Content-Type: application/x-www-form-urlencoded; charset=UTF-8\n",
    "Cookie: Location_XY=%7B%22status%22%3A%22error%22%2C%22code%22%3A3%7D; ASP.NET_SessionId=ut5wly2zp1pgplxjkrxkqovs\n",
    "Host: luz.tcd.gov.tw\n",
    "Origin: http://luz.tcd.gov.tw\n",
    "Referer: http://luz.tcd.gov.tw/WEB/\n",
    "User-Agent: Mozilla/5.0 (Windows NT 6.1; Win64; x64) AppleWebKit/537.36 (KHTML, like Gecko) Chrome/66.0.3359.181 Safari/537.36\n",
    "X-Requested-With: XMLHttpRequest\"\"\"\n",
    "headerDict={i.split(\":\")[0]:i.split(\":\")[1].strip() for i in headersStr.split(\"\\n\")}\n",
    "\n",
    "dataDict={}\n",
    "dataDict[\"VAL1\"]=road\n",
    "dataDict[\"COUNTY\"]=bigadd\n",
    "dataDict[\"TOWN\"]=smalladd\n",
    "findXYUrl=\"http://luz.tcd.gov.tw/WEB/ws_data.ashx?CMD=GETADDRESS\"\n",
    "res=requests.post(findXYUrl,data=dataDict,headers=headerDict)\n",
    "locationData=json.loads(res.text)\n",
    "\n",
    "\n",
    "\n",
    "\n",
    "queryHeadersStr=\"\"\"Accept: */*\n",
    "Accept-Encoding: gzip, deflate\n",
    "Accept-Language: zh-TW,zh;q=0.9,en-US;q=0.8,en;q=0.7\n",
    "Connection: keep-alive\n",
    "Content-Length: 70\n",
    "Content-Type: application/x-www-form-urlencoded; charset=UTF-8\n",
    "Cookie: Location_XY=%7B%22status%22%3A%22error%22%2C%22code%22%3A3%7D; ASP.NET_SessionId=ut5wly2zp1pgplxjkrxkqovs\n",
    "Host: luz.tcd.gov.tw\n",
    "Origin: http://luz.tcd.gov.tw\n",
    "Referer: http://luz.tcd.gov.tw/WEB/\n",
    "User-Agent: Mozilla/5.0 (Windows NT 6.1; Win64; x64) AppleWebKit/537.36 (KHTML, like Gecko) Chrome/66.0.3359.181 Safari/537.36\n",
    "X-Requested-With: XMLHttpRequest\"\"\"\n",
    "\n",
    "queryHeaderDict={i.split(\":\")[0]:i.split(\":\")[1].strip() for i in queryHeadersStr.split(\"\\n\")}\n",
    "\n",
    "queryData={}\n",
    "queryData[\"X\"],queryData[\"Y\"]=locationData['AddressList'][0]['X'],locationData['AddressList'][0]['Y']#TWD97\n",
    "# queryData[\"X\"],queryData[\"Y\"]=13495533.107782178,2870575.0923182988\n",
    "queryData[\"LAYERS\"]=\"5,3,6\"\n",
    "queryData['LANDLAYERS']=\"\"\n",
    "queryUrl=\"http://luz.tcd.gov.tw/WEB/ws_identify.ashx\"\n",
    "res=requests.post(queryUrl,data=queryData,headers=queryHeaderDict)\n",
    "info=json.loads(res.text)"
   ]
  },
  {
   "cell_type": "code",
   "execution_count": 173,
   "metadata": {},
   "outputs": [
    {
     "data": {
      "text/plain": [
       "{'AddressList': [{'ALLEY': '',\n",
       "   'COUNTY': '臺中市',\n",
       "   'FULL_ADDR': '臺中市西區民龍里1鄰臺灣大道二段218號',\n",
       "   'LANE': '',\n",
       "   'NEIGHBORHOOD': '1鄰',\n",
       "   'NUMBER': '218號',\n",
       "   'ROAD': '臺灣大道',\n",
       "   'SECTION': '2',\n",
       "   'SUB_ALLEY': '',\n",
       "   'TONG': '',\n",
       "   'TOWN': '西區',\n",
       "   'VILLAGE': '民龍里',\n",
       "   'X': 216372.891,\n",
       "   'Y': 2671908.212}],\n",
       " 'Info': [{'InAddress': '臺中市西區台灣大道二段218號',\n",
       "   'InCanIgnoreNeighborhood': 'True',\n",
       "   'InCanIgnoreVillage': 'True',\n",
       "   'InFuzzyBuffer': '0',\n",
       "   'InFuzzyType': '最近門牌號機制',\n",
       "   'InIsLockAlley': 'False',\n",
       "   'InIsLockArea': 'False',\n",
       "   'InIsLockCounty': 'False',\n",
       "   'InIsLockLane': 'False',\n",
       "   'InIsLockRoadSection': 'False',\n",
       "   'InIsLockTown': 'False',\n",
       "   'InIsLockVillage': 'False',\n",
       "   'InIsOnlyFullMatch': 'False',\n",
       "   'InIsSameNumber_SubNumber': 'False',\n",
       "   'InReturnMaxCount': '1',\n",
       "   'InSRS': 'EPSG:3826',\n",
       "   'IsSuccess': 'True',\n",
       "   'OutMatchCode': '[臺中市]\\tFULL:1',\n",
       "   'OutMatchType': '完全比對',\n",
       "   'OutTotal': '1',\n",
       "   'OutTraceInfo': '[臺中市]\\t { 完全比對 } 找到符合的門牌地址'}]}"
      ]
     },
     "execution_count": 173,
     "metadata": {},
     "output_type": "execute_result"
    }
   ],
   "source": [
    "locationData"
   ]
  },
  {
   "cell_type": "code",
   "execution_count": 171,
   "metadata": {},
   "outputs": [
    {
     "data": {
      "text/plain": [
       "{'status': '查詢地點錯誤，請點擊有分區的地點重新查詢。', 'success': 'false'}"
      ]
     },
     "execution_count": 171,
     "metadata": {},
     "output_type": "execute_result"
    }
   ],
   "source": [
    "info"
   ]
  },
  {
   "cell_type": "code",
   "execution_count": null,
   "metadata": {
    "collapsed": true
   },
   "outputs": [],
   "source": []
  },
  {
   "cell_type": "code",
   "execution_count": null,
   "metadata": {
    "collapsed": true
   },
   "outputs": [],
   "source": []
  },
  {
   "cell_type": "code",
   "execution_count": null,
   "metadata": {
    "collapsed": true
   },
   "outputs": [],
   "source": []
  },
  {
   "cell_type": "code",
   "execution_count": 76,
   "metadata": {
    "collapsed": true
   },
   "outputs": [],
   "source": [
    "import requests\n",
    "import re\n",
    "import geocoder\n",
    "# address=\"桃園市中壢區永泰街110號1F\"\n",
    "address=\"台中市西區台灣大道二段218號\"\n",
    "\n",
    "latlnglist=geocoder.arcgis(address).latlng\n",
    "# lngCommaLat=\"{},{}\".format(round(latlnglist[1],6),round(latlnglist[0],6))\n",
    "\n",
    "\n",
    "lngCommaLat=\"120.322845,22.649369\"\n",
    "\n",
    "headersStr=\"\"\"Accept: */*\n",
    "Accept-Encoding: gzip, deflate, br\n",
    "Accept-Language: zh-TW,zh;q=0.9,en-US;q=0.8,en;q=0.7\n",
    "Connection: keep-alive\n",
    "Content-Length: 29\n",
    "Content-Type: application/x-www-form-urlencoded; charset=UTF-8\n",
    "Host: api.nlsc.gov.tw\n",
    "Origin: https://maps.nlsc.gov.tw\n",
    "Referer: https://maps.nlsc.gov.tw/T09/mapshow.action?In_type=web\n",
    "User-Agent: Mozilla/5.0 (Windows NT 6.1; Win64; x64) AppleWebKit/537.36 (KHTML, like Gecko) Chrome/66.0.3359.181 Safari/537.36\"\"\"\n",
    "headerDict={i.split(\":\")[0]:i.split(\":\")[1].strip() for i in headersStr.split(\"\\n\")}\n",
    "\n",
    "dataDict={}\n",
    "# dataDict[\"center\"]=lngCommaLat\n",
    "findXYUrl=\"https://api.nlsc.gov.tw/MapSearch/LocationQuery\"\n",
    "res=requests.post(findXYUrl,data=dataDict,params=dataDict,headers=headerDict)\n",
    "# res=requests.post(findXYUrl,data=dataDict,headers=headerDict)\n",
    "\n"
   ]
  },
  {
   "cell_type": "code",
   "execution_count": 77,
   "metadata": {},
   "outputs": [
    {
     "data": {
      "text/plain": [
       "<Response [504]>"
      ]
     },
     "execution_count": 77,
     "metadata": {},
     "output_type": "execute_result"
    }
   ],
   "source": [
    "res"
   ]
  },
  {
   "cell_type": "code",
   "execution_count": null,
   "metadata": {
    "collapsed": true
   },
   "outputs": [],
   "source": []
  },
  {
   "cell_type": "code",
   "execution_count": 166,
   "metadata": {
    "collapsed": true
   },
   "outputs": [],
   "source": [
    "headerStr=\"\"\"Accept:*/*\n",
    "Accept-Encoding:gzip, deflate, br\n",
    "Accept-Language:zh-TW,zh;q=0.9,en-US;q=0.8,en;q=0.7\n",
    "Connection:keep-alive\n",
    "Content-Length:29\n",
    "Content-Type:application/x-www-form-urlencoded; charset=UTF-8\n",
    "Host:api.nlsc.gov.tw\n",
    "Origin:https://maps.nlsc.gov.tw\n",
    "Referer:https://maps.nlsc.gov.tw/T09/mapshow.action?In_type=web\n",
    "User-Agent:Mozilla/5.0 (Windows NT 6.1; Win64; x64) AppleWebKit/537.36 (KHTML, like Gecko) Chrome/66.0.3359.181 Safari/537.36\"\"\"\n",
    "headersDict={i.split(\":\")[0]:i.split(\":\")[1].strip() for i in headerStr.split(\"\\n\")}\n",
    "x={}\n",
    "x[\"center\"]=\"120.662491,24.143555\"\n",
    "import requests\n",
    "res=requests.get(\"https://api.nlsc.gov.tw/MapSearch/LocationQuery?=120.662491,24.143555\",headers=headersDict)"
   ]
  },
  {
   "cell_type": "code",
   "execution_count": 167,
   "metadata": {},
   "outputs": [
    {
     "data": {
      "text/plain": [
       "''"
      ]
     },
     "execution_count": 167,
     "metadata": {},
     "output_type": "execute_result"
    }
   ],
   "source": [
    "res.text"
   ]
  },
  {
   "cell_type": "code",
   "execution_count": 168,
   "metadata": {},
   "outputs": [
    {
     "data": {
      "text/plain": [
       "{'center': '120.662491,24.143555'}"
      ]
     },
     "execution_count": 168,
     "metadata": {},
     "output_type": "execute_result"
    }
   ],
   "source": [
    "x"
   ]
  },
  {
   "cell_type": "code",
   "execution_count": 146,
   "metadata": {},
   "outputs": [
    {
     "data": {
      "text/plain": [
       "{'Accept': '*/*',\n",
       " 'Accept-Encoding': 'gzip, deflate, br',\n",
       " 'Accept-Language': 'zh-TW,zh;q=0.9,en-US;q=0.8,en;q=0.7',\n",
       " 'Connection': 'keep-alive',\n",
       " 'Content-Length': '29',\n",
       " 'Content-Type': 'application/x-www-form-urlencoded; charset=UTF-8',\n",
       " 'Host': 'api.nlsc.gov.tw',\n",
       " 'Origin': 'https',\n",
       " 'Referer': 'https',\n",
       " 'User-Agent': 'Mozilla/5.0 (Windows NT 6.1; Win64; x64) AppleWebKit/537.36 (KHTML, like Gecko) Chrome/66.0.3359.181 Safari/537.36'}"
      ]
     },
     "execution_count": 146,
     "metadata": {},
     "output_type": "execute_result"
    }
   ],
   "source": [
    "headersDict"
   ]
  },
  {
   "cell_type": "code",
   "execution_count": 147,
   "metadata": {
    "collapsed": true
   },
   "outputs": [],
   "source": [
    "res=requests.post(r\"https://api.nlsc.gov.tw/MapSearch/LocationQuery?center=120.662491,24.143555\",x,headers=headersDict)"
   ]
  },
  {
   "cell_type": "code",
   "execution_count": 148,
   "metadata": {},
   "outputs": [
    {
     "data": {
      "text/plain": [
       "''"
      ]
     },
     "execution_count": 148,
     "metadata": {},
     "output_type": "execute_result"
    }
   ],
   "source": [
    "res.text"
   ]
  },
  {
   "cell_type": "code",
   "execution_count": 143,
   "metadata": {},
   "outputs": [
    {
     "data": {
      "text/plain": [
       "{'center': '120.662491,24.143555'}"
      ]
     },
     "execution_count": 143,
     "metadata": {},
     "output_type": "execute_result"
    }
   ],
   "source": [
    "x"
   ]
  },
  {
   "cell_type": "code",
   "execution_count": 162,
   "metadata": {
    "collapsed": true
   },
   "outputs": [],
   "source": [
    "ress=requests.get(r\"https://api.nlsc.gov.tw/MapSearch/LocationQuery?center=120.662491,24.143555\",headers=headersDict)"
   ]
  },
  {
   "cell_type": "code",
   "execution_count": 163,
   "metadata": {},
   "outputs": [
    {
     "data": {
      "text/plain": [
       "''"
      ]
     },
     "execution_count": 163,
     "metadata": {},
     "output_type": "execute_result"
    }
   ],
   "source": [
    "ress.text"
   ]
  },
  {
   "cell_type": "code",
   "execution_count": null,
   "metadata": {
    "collapsed": true
   },
   "outputs": [],
   "source": []
  }
 ],
 "metadata": {
  "kernelspec": {
   "display_name": "Python 3",
   "language": "python",
   "name": "python3"
  },
  "language_info": {
   "codemirror_mode": {
    "name": "ipython",
    "version": 3
   },
   "file_extension": ".py",
   "mimetype": "text/x-python",
   "name": "python",
   "nbconvert_exporter": "python",
   "pygments_lexer": "ipython3",
   "version": "3.6.4"
  }
 },
 "nbformat": 4,
 "nbformat_minor": 2
}
