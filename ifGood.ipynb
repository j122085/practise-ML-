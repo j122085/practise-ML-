{
 "cells": [
  {
   "cell_type": "code",
   "execution_count": 1,
   "metadata": {
    "collapsed": true
   },
   "outputs": [],
   "source": [
    "import requests\n",
    "import re\n",
    "import json\n",
    "from pyproj import Proj, transform\n",
    "import twd97\n",
    "import geocoder\n",
    "from selenium import webdriver\n",
    "import time\n",
    "\n",
    "if \"cookie\" not in dir():###判斷變數是否存在(如果cookie現況不存在才去網站抓)\n",
    "    driver = webdriver.Chrome(executable_path=\"chromedriver.exe\")\n",
    "    driver.get(\"http://luz.tcd.gov.tw/web/\")\n",
    "    time.sleep(2)\n",
    "    # driver.find_element_by_xpath('/html/body/div[2]/div[1]/button/span[1]').click()\n",
    "    # time.sleep(0.2)\n",
    "    # driver.find_element_by_xpath('//*[@id=\"menuLB\"]/img').click()\n",
    "    # time.sleep(0.2)\n",
    "    # driver.find_element_by_xpath('//*[@id=\"ui-id-14\"]/a').click()\n",
    "    # time.sleep(0.5)\n",
    "    # driver.find_element_by_xpath('//input[@value=\"搜尋門牌\"]').click()\n",
    "    cookie=driver.get_cookies()[0]\n",
    "    time.sleep(0.5)\n",
    "    driver.quit()"
   ]
  },
  {
   "cell_type": "code",
   "execution_count": 2,
   "metadata": {
    "collapsed": true
   },
   "outputs": [],
   "source": [
    "smallestDict={299:[\"原燒\",\"夏慕尼\"],\n",
    "              250:[\"王品\",\"藝奇\",\"陶板屋\",\"西堤\",\"莆田\",\"青花驕\",\"沐越\",\"享鴨\"],\n",
    "              150:[\"聚\",\"hot7\"],\n",
    "              100:[\"石二鍋\",\"品田\",\"ita\",\"乍牛\",\"舒果\",\"丰和日麗\"],\n",
    "              50:[\"酷必\",\"麻佬大\",\"禾樂\"]}\n",
    "smallestDict={j:i for i in smallestDict for j in smallestDict[i]}\n",
    "\n",
    "\n"
   ]
  },
  {
   "cell_type": "code",
   "execution_count": 3,
   "metadata": {
    "collapsed": true
   },
   "outputs": [],
   "source": [
    "# n=0\n",
    "# dienList={}\n",
    "# for i in smallestDict:\n",
    "#     n+=1\n",
    "#     dienList[str(n)]=i"
   ]
  },
  {
   "cell_type": "code",
   "execution_count": 4,
   "metadata": {
    "collapsed": true
   },
   "outputs": [],
   "source": [
    "dienList={\"2\":\"原燒\",\n",
    "\"3\":\"王品\",\n",
    "\"4\":\"聚\",\n",
    "\"5\":\"藝奇\",\n",
    "\"6\":\"夏慕尼\",\n",
    "\"7\":\"西堤\",\n",
    "\"8\":\"陶板屋\",\n",
    "\"10\":\"品田\",\n",
    "\"12\":\"石二鍋\",\n",
    "\"13\":\"舒果\",\n",
    "\"15\":\"hot7\",\n",
    "\"151\":\"禾樂\",\n",
    "\"16\":\"ita\",\n",
    "\"17\":\"莆田\",\n",
    "\"18\":\"酷必\",\n",
    "\"19\":\"麻佬大\",\n",
    "\"20\":\"乍牛\",\n",
    "\"22\":\"沐越\",\n",
    "\"23\":\"青花驕\",\n",
    "\"24\":\"享鴨\",\n",
    "\"25\":\"丰和日麗\"}\n"
   ]
  },
  {
   "cell_type": "code",
   "execution_count": 11,
   "metadata": {
    "collapsed": true
   },
   "outputs": [],
   "source": [
    "def taipei(areaClass,area=150,floorList=[1],use=\"餐飲\"):\n",
    "    ter=0\n",
    "    if \"特\" in areaClass:\n",
    "        print(areaClass,\"需人工判斷該區為什麼區!-{}\".format(address))\n",
    "        areaClass=input(\"請人工查詢下方網頁(用門牌號碼>選區、路、巷弄號搜索，確認該區右方括弧內叫做什麼)\\nhttps://www.zone.gov.taipei/new_showmapMain.aspx?noshow=0\\n請輸入該區右方括弧內名稱:\")\n",
    "        ter=1\n",
    "    if \"商\" in areaClass:\n",
    "        if use!='餐飲' and area>=300:\n",
    "            judgment=\"初評通過,但須檢討停車代金,請開發組進行品牌配對\"\n",
    "        else:\n",
    "            judgment=\"初評通過,請開發組進行品牌配對\"\n",
    "            \n",
    "    elif \"住\" in areaClass:\n",
    "        if \"住一\" in areaClass or \"住1\" in areaClass or \"第一種住\" in areaClass or \"第1種住\" in areaClass:\n",
    "            judgment=\"初評不通過\"\n",
    "        elif area<150 and len([i for i in floorList if i in [1,-1]])>0:\n",
    "            judgment=\"初評通過,請開發組進行品牌配對(面臨道路寬需8公尺以上)\"\n",
    "        elif areaClass in [\"三之一\",\"三之二\",\"四之一\",\"3-1\",\"3-2\",\"4-1\",\"3之1\",\"3之2\",\"4之1\"] and area<500 and len([i for i in floorList if i in [2,1,-1]])>0:\n",
    "            judgment=\"初評通過,請開發組進行品牌配對(面臨道路寬需12公尺以上)\"\n",
    "        elif len([i for i in floorList if i in [2,1,-1]])>0:\n",
    "            judgment=\"初評通過,請開發組進行品牌配對(面臨道路寬需12公尺以上,使用面積大於規定500㎡>需判斷是否可分戶使用)\"\n",
    "        else:\n",
    "            judgment=\"初評不通過\"\n",
    "            \n",
    "    elif \"工\" in areaClass:\n",
    "        if len([i for i in floorList if i in [2,1,-1]])>0 and area <300:\n",
    "            judgment=\"初評通過,請開發組進行品牌配對(同棟建築餐飲業+飲食業使用面積需在500㎡以下)\"\n",
    "        elif len([i for i in floorList if i in [2,1,-1]])>0 and area <500:\n",
    "            judgment=\"初評通過,請開發組進行品牌配對(同棟建築餐飲業+飲食業使用面積需在500㎡以下,使用面積大於規定300㎡>需判斷是否可分戶使用)\"\n",
    "        else:\n",
    "            judgment=\"初評不通過\"\n",
    "            \n",
    "    else:\n",
    "        judgment=\"初評通過,請開發組進行品牌配對(須請建築師判斷)\"\n",
    "    if ter==0:\n",
    "        return judgment\n",
    "    elif ter==1:\n",
    "        return judgment,areaClass"
   ]
  },
  {
   "cell_type": "code",
   "execution_count": 6,
   "metadata": {
    "collapsed": true
   },
   "outputs": [],
   "source": [
    "def taichung(areaClass,area=150,floorList=[1],use=\"餐飲\"):\n",
    "    if \"商\" in areaClass:\n",
    "        if use!='餐飲' and area>=300:\n",
    "            judgment=\"初評通過,但須檢討停車代金,請開發組進行品牌配對\"\n",
    "        else:\n",
    "            judgment=\"初評通過,請開發組進行品牌配對\"\n",
    "    elif \"住\" in areaClass:\n",
    "        if \"B種\" in areaClass:\n",
    "            judgment=\"初評不通過\"\n",
    "        elif area<500:\n",
    "            judgment=\"初評通過,請開發組進行品牌配對\"\n",
    "        elif area>=500:\n",
    "            judgment=\"初評通過,請開發組進行品牌配對(使用面積大於規定500㎡,需判斷是否可分戶使用)\"\n",
    "    else:\n",
    "        judgment=\"初評通過,請開發組進行品牌配對(須請建築師判斷)\"\n",
    "    return judgment"
   ]
  },
  {
   "cell_type": "code",
   "execution_count": 7,
   "metadata": {
    "collapsed": true
   },
   "outputs": [],
   "source": [
    "def Kaohsiung(areaClass,area=150,floorList=[1],use=\"餐飲\"):\n",
    "    if \"商\" in areaClass:\n",
    "        if use!='餐飲' and area>=300:\n",
    "            judgment=\"初評通過,但須檢討停車代金,請開發組進行品牌配對\"\n",
    "        else:\n",
    "            judgment=\"初評通過,請開發組進行品牌配對\"\n",
    "            \n",
    "    elif \"住\" in areaClass:\n",
    "        if area<300:\n",
    "            if len([i for i in floorList if i in [1,-1]])>0:\n",
    "                judgment=\"初評通過,請開發組進行品牌配對\"\n",
    "            elif 2 in floorList:\n",
    "                judgment=\"路寬十五公尺以上初評通過,請開發組進行品牌配對\"\n",
    "        elif len([i for i in floorList if i in [2,1,-1]])>0:\n",
    "            judgment=\"初評通過,請開發組進行品牌配對(使用面積大於規定300㎡,需判斷是否可分戶使用)\"\n",
    "        else:\n",
    "            judgment=\"初評不通過\"\n",
    "    else:\n",
    "        judgment=\"初評通過,請開發組進行品牌配對(須請建築師判斷)\"\n",
    "    return judgment\n",
    "\n",
    "\n",
    "# len([i for i in floorList if i in [2,1,-1]])>0:"
   ]
  },
  {
   "cell_type": "code",
   "execution_count": 8,
   "metadata": {
    "collapsed": true
   },
   "outputs": [],
   "source": [
    "def otherCity(areaClass,area,floorList=[1],use=\"餐飲\"):\n",
    "    if \"商\" in areaClass:\n",
    "        if use!='餐飲' and area>=300:\n",
    "            judgment=\"初評通過,但須檢討停車代金,請開發組進行品牌配對\"\n",
    "        else:\n",
    "            judgment=\"初評通過,請開發組進行品牌配對\"\n",
    "    elif \"住\" in areaClass:\n",
    "        if area<300:\n",
    "            judgment=\"初評通過,請開發組進行品牌配對\"\n",
    "        elif area>=300:\n",
    "            judgment=\"初評通過,請開發組進行品牌配對(使用面積大於規定300㎡,需判斷是否可分戶使用)\"\n",
    "    else:\n",
    "        judgment=\"初評通過,請開發組進行品牌配對(須請建築師判斷)\"\n",
    "    return judgment"
   ]
  },
  {
   "cell_type": "markdown",
   "metadata": {},
   "source": [
    "# 資料輸入區"
   ]
  },
  {
   "cell_type": "code",
   "execution_count": 9,
   "metadata": {
    "scrolled": false
   },
   "outputs": [
    {
     "name": "stdout",
     "output_type": "stream",
     "text": [
      "是否為街邊店\n",
      "選項\n",
      "\t1:是\n",
      "\t2:否\n",
      "\t：1\n",
      "請輸入地址(須包含[市|縣]及[區|市|鎮|鄉]):台北市大安區大安路一段51巷25號\n",
      "共承租幾層?1\n",
      "請輸入第1筆承租樓層\n",
      "選項\n",
      "\t 1:一樓\n",
      "\t 2:二樓\n",
      "\t-1:地下一樓\n",
      "\t-2:地下二樓 (以此類推)\n",
      "\t:1\n",
      "請輸入使用面積(平方公尺)123.25\n",
      "總面積共123.25平方公尺\n",
      "用途\n",
      "選項\n",
      "\t1:餐廳或飲食店\n",
      "\t2:其他-非餐飲\n",
      "\t：2\n",
      "品牌\n",
      "選項\n",
      "     2: '原燒',\n",
      "     3: '王品',\n",
      "     4: '聚',\n",
      "     5: '藝奇',\n",
      "     6: '夏慕尼',\n",
      "     7: 'ＴＡＳＴｙ',\n",
      "     8: '陶板屋',\n",
      "     10: '品田牧場',\n",
      "     12: '石二鍋',\n",
      "     13: '舒果',\n",
      "     15: 'hot 7',\n",
      "     151:'禾樂',\n",
      "     16: 'ita義塔',\n",
      "     17: '莆田',\n",
      "     18: 'CooK BEEF!',\n",
      "     19: '麻佬大',\n",
      "     20: '乍牛',\n",
      "     22: '沐越',\n",
      "     23: '青花驕',\n",
      "     24: '享鴨',\n",
      "     25: '丰和日麗'\n",
      "\t:19\n",
      "第四種商業區(特)\n"
     ]
    }
   ],
   "source": [
    "############################\n",
    "dienType=input(\"是否為街邊店\\n選項\\n\\t1:是\\n\\t2:否\\n\\t：\")\n",
    "if dienType==\"1\":\n",
    "    dienType='街邊'\n",
    "elif dienType==\"2\":\n",
    "    dienType='商場'\n",
    "    \n",
    "if dienType=='商場':\n",
    "    address=input(\"請輸入商場名稱、位置\\n(例:中原家樂福-桃園市中壢區中華路二段501號):\")\n",
    "    use=input(\"是否由商場辦理合法性?\\n選項\\n\\t1:是\\n\\t2:否\\n\\t：\")\n",
    "elif dienType=='街邊':\n",
    "    address=input(\"請輸入地址(須包含[市|縣]及[區|市|鎮|鄉]):\")\n",
    "    #############################\n",
    "    nF=int(input(\"共承租幾層?\"))\n",
    "    layerData={}\n",
    "    for i in range(1,nF+1):\n",
    "        nLayer=int(input(\"請輸入第{}筆承租樓層\\n選項\\n\\t 1:一樓\\n\\t 2:二樓\\n\\t-1:地下一樓\\n\\t-2:地下二樓 (以此類推)\\n\\t:\".format(i)))\n",
    "        nArea=float(input(\"請輸入使用面積(平方公尺)\"))\n",
    "        layerData[nLayer]=nArea\n",
    "    area=round(sum([layerData[i] for i in layerData]),3)\n",
    "    floorList=[i for i in layerData]\n",
    "    print(\"總面積共{}平方公尺\".format(area))\n",
    "    #############################\n",
    "#     area=float(input(\"請輸入使用面積(平方公尺):\"))\n",
    "#     floor=int(input(\"請輸入樓層\\n選項\\n\\t 1:一樓\\n\\t 2:二樓\\n\\t-1:地下一樓\\n\\t-2:地下二樓\\n\\t:\"))\n",
    "    use=input(\"用途\\n選項\\n\\t1:餐廳或飲食店\\n\\t2:其他-非餐飲\\n\\t：\")\n",
    "    if use==\"1\":\n",
    "        use='餐廳或飲食店'\n",
    "    elif use==\"2\":\n",
    "        use='其他-非餐飲'\n",
    "\n",
    "    brand=input(\"\"\"品牌\\n選項\n",
    "     2: '原燒',\n",
    "     3: '王品',\n",
    "     4: '聚',\n",
    "     5: '藝奇',\n",
    "     6: '夏慕尼',\n",
    "     7: 'ＴＡＳＴｙ',\n",
    "     8: '陶板屋',\n",
    "     10: '品田牧場',\n",
    "     12: '石二鍋',\n",
    "     13: '舒果',\n",
    "     15: 'hot 7',\n",
    "     151:'禾樂',\n",
    "     16: 'ita義塔',\n",
    "     17: '莆田',\n",
    "     18: 'CooK BEEF!',\n",
    "     19: '麻佬大',\n",
    "     20: '乍牛',\n",
    "     22: '沐越',\n",
    "     23: '青花驕',\n",
    "     24: '享鴨',\n",
    "     25: '丰和日麗'\\n\\t:\"\"\")\n",
    "    brand=dienList[brand]\n",
    "    smallest=smallestDict[brand]\n",
    "##########################\n",
    "    bigadd =\"\"\n",
    "    smalladd=\"\"\n",
    "\n",
    "    try:\n",
    "        bigadd = re.findall(\"(..[市|縣])(\\w\\w?\\w?[區|市|鎮|鄉])\",address)[0][0]\n",
    "        smalladd= re.findall(\"(..[市|縣])(\\w\\w?\\w?[區|市|鎮|鄉])\",address)[0][1]\n",
    "    except:\n",
    "        pass\n",
    "    try:\n",
    "        road=address.split(smalladd)[1].split(\"、\")[0]\n",
    "    except:\n",
    "        road=address.split(\"、\")[0]\n",
    "        print(\"沒有市或區的地址，可能會不準確\")\n",
    "\n",
    "\n",
    "    headersStr=\"\"\"Accept: */*\n",
    "    Accept-Encoding: gzip, deflate\n",
    "    Accept-Language: zh-TW,zh;q=0.9,en-US;q=0.8,en;q=0.7\n",
    "    Connection: keep-alive\n",
    "    Content-Length: 114\n",
    "    Content-Type: application/x-www-form-urlencoded; charset=UTF-8\n",
    "    Cookie: ASP.NET_SessionId=zyh3tb3y1zfoxairu3hr0mth\n",
    "    Host: luz.tcd.gov.tw\n",
    "    Origin: http://luz.tcd.gov.tw\n",
    "    Referer: http://luz.tcd.gov.tw/WEB/\n",
    "    User-Agent: Mozilla/5.0 (Windows NT 6.1; Win64; x64) AppleWebKit/537.36 (KHTML, like Gecko) Chrome/67.0.3396.99 Safari/537.36\n",
    "    X-Requested-With: XMLHttpRequest\"\"\"\n",
    "    # headersStr='''Accept: */*\n",
    "    # Accept-Encoding: gzip, deflate\n",
    "    # Accept-Language: zh-TW,zh;q=0.9,en-US;q=0.8,en;q=0.7\n",
    "    # Connection: keep-alive\n",
    "    # Content-Length: 112\n",
    "    # Content-Type: application/x-www-form-urlencoded; charset=UTF-8\n",
    "    # Cookie: ASP.NET_SessionId=zyh3tb3y1zfoxairu3hr0mth\n",
    "    # Host: luz.tcd.gov.tw\n",
    "    # Origin: http://luz.tcd.gov.tw\n",
    "    # Referer: http://luz.tcd.gov.tw/web/\n",
    "    # User-Agent: Mozilla/5.0 (Windows NT 6.1; Win64; x64) AppleWebKit/537.36 (KHTML, like Gecko) Chrome/67.0.3396.99 Safari/537.36\n",
    "    # X-Requested-With: XMLHttpRequest'''\n",
    "\n",
    "\n",
    "    # headersStr='''Accept: */*\n",
    "    # Accept-Encoding: gzip, deflate\n",
    "    # Accept-Language: zh-TW,zh;q=0.9,en-US;q=0.8,en;q=0.7\n",
    "    # Connection: keep-alive\n",
    "    # Content-Length: 122\n",
    "    # Content-Type: application/x-www-form-urlencoded; charset=UTF-8\n",
    "    # Cookie: ASP.NET_SessionId=lkznni2qk30ie5co553iai5u\n",
    "    # Host: luz.tcd.gov.tw\n",
    "    # Origin: http://luz.tcd.gov.tw\n",
    "    # Referer: http://luz.tcd.gov.tw/web/\n",
    "    # User-Agent: Mozilla/5.0 (Windows NT 6.1; Win64; x64) AppleWebKit/537.36 (KHTML, like Gecko) Chrome/68.0.3440.106 Safari/537.36\n",
    "    # X-Requested-With: XMLHttpRequest'''\n",
    "\n",
    "    headerDict={i.split(\": \")[0].strip():i.split(\": \")[1].strip() for i in headersStr.split(\"\\n\")}\n",
    "    headerDict['Cookie']=cookie['name']+\"=\"+cookie['value']\n",
    "\n",
    "    dataDict={}\n",
    "    dataDict[\"VAL1\"]=road\n",
    "    if bigadd!=\"\":\n",
    "        dataDict[\"COUNTY\"]=bigadd\n",
    "        dataDict[\"TOWN\"]=smalladd\n",
    "        findXYUrl=\"http://luz.tcd.gov.tw/WEB/ws_data.ashx?CMD=GETADDRESS\"\n",
    "        res=requests.post(findXYUrl,data=dataDict,headers=headerDict)\n",
    "        locationData=json.loads(res.text)\n",
    "        lat,lng=twd97.towgs84(locationData['AddressList'][0]['X'],locationData['AddressList'][0]['Y'])\n",
    "    else:\n",
    "        lat,lng=geocoder.google(address).latlng\n",
    "        print(lat,lng)\n",
    "\n",
    "    #以上由地址轉換出TWD97(epsg3826)的座標\n",
    "\n",
    "    #由TWD97的座標轉換成經緯度\n",
    "\n",
    "\n",
    "\n",
    "    #由經緯度轉換成epsg3857座標\n",
    "    P4326 = Proj(init='epsg:4326')\n",
    "    P3857 = Proj(init='epsg:3857')\n",
    "    x,y = transform(P4326, P3857, lng, lat)\n",
    "\n",
    "\n",
    "    queryHeadersStr=\"\"\"Accept: */*\n",
    "    Accept-Encoding: gzip, deflate\n",
    "    Accept-Language: zh-TW,zh;q=0.9,en-US;q=0.8,en;q=0.7\n",
    "    Connection: keep-alive\n",
    "    Content-Length: 69\n",
    "    Content-Type: application/x-www-form-urlencoded; charset=UTF-8\n",
    "    Cookie: ASP.NET_SessionId=zyh3tb3y1zfoxairu3hr0mth\n",
    "    Host: luz.tcd.gov.tw\n",
    "    Origin: http://luz.tcd.gov.tw\n",
    "    Referer: http://luz.tcd.gov.tw/WEB/\n",
    "    User-Agent: Mozilla/5.0 (Windows NT 6.1; Win64; x64) AppleWebKit/537.36 (KHTML, like Gecko) Chrome/67.0.3396.99 Safari/537.36\n",
    "    X-Requested-With: XMLHttpRequest\"\"\"\n",
    "\n",
    "    # queryHeadersStr='''Accept: */*\n",
    "    # Accept-Encoding: gzip, deflate\n",
    "    # Accept-Language: zh-TW,zh;q=0.9,en-US;q=0.8,en;q=0.7\n",
    "    # Connection: keep-alive\n",
    "    # Content-Length: 70\n",
    "    # Content-Type: application/x-www-form-urlencoded; charset=UTF-8\n",
    "    # Cookie: ASP.NET_SessionId=lkznni2qk30ie5co553iai5u\n",
    "    # Host: luz.tcd.gov.tw\n",
    "    # Origin: http://luz.tcd.gov.tw\n",
    "    # Referer: http://luz.tcd.gov.tw/web/\n",
    "    # User-Agent: Mozilla/5.0 (Windows NT 6.1; Win64; x64) AppleWebKit/537.36 (KHTML, like Gecko) Chrome/68.0.3440.106 Safari/537.36\n",
    "    # X-Requested-With: XMLHttpRequest'''\n",
    "\n",
    "\n",
    "    queryHeaderDict={i.split(\": \")[0].strip():i.split(\": \")[1].strip() for i in queryHeadersStr.split(\"\\n\")}\n",
    "    queryHeaderDict['Cookie']=cookie['name']+\"=\"+cookie['value']\n",
    "\n",
    "\n",
    "    queryData={}\n",
    "    queryData[\"X\"],queryData[\"Y\"]=x,y\n",
    "    # queryData[\"X\"],queryData[\"Y\"]=13495533.107782178,2870575.0923182988\n",
    "\n",
    "    queryData[\"LAYERS\"]=\"5,3,6\"\n",
    "    queryData['LANDLAYERS']=\"\"\n",
    "    queryUrl=\"http://luz.tcd.gov.tw/WEB/ws_identify.ashx\"\n",
    "    res=requests.post(queryUrl,data=queryData,headers=queryHeaderDict)\n",
    "    info=json.loads(res.text)\n",
    "    areaClass=info['5']['features'][0]['attributes']['使用分區']\n",
    "    print(areaClass)"
   ]
  },
  {
   "cell_type": "code",
   "execution_count": 10,
   "metadata": {},
   "outputs": [
    {
     "name": "stdout",
     "output_type": "stream",
     "text": [
      "第四種商業區(特) 需人工判斷該區為什麼區!-台北市大安區大安路一段51巷25號\n",
      "請人工查詢下方網頁(用門牌號碼>選區、路、巷弄號搜索，確認該區右方括弧內叫做什麼)\n",
      "https://www.zone.gov.taipei/new_showmapMain.aspx?noshow=0\n",
      "請輸入該區右方括弧內名稱:第四種住宅區\n",
      "================================\n",
      "本評估新點(台北市大安區大安路一段51巷25號)的使用分區為 第四種住宅區，\n",
      "(建物面積：1F:123.25㎡，用途：其他-非餐飲)。\n",
      "\n",
      "\t本案判斷:麻佬大-初評通過,請開發組進行品牌配對(面臨道路寬需8公尺以上)\n"
     ]
    }
   ],
   "source": [
    "if dienType=='商場':\n",
    "    if use==\"1\":\n",
    "        use=\"商場會辦理合法性\"\n",
    "        judgment=\"初評通過\"\n",
    "    else:\n",
    "        use=\"但須由我方自行辦理合法業務\"\n",
    "        judgment=\"初評通過(須請建築師判斷)\"\n",
    "    print(\"本評估新點({})為商場店,{}。\\n\\n\\t本案判斷:{}\".format(address,use,judgment))\n",
    "#     address=input(\"請輸入商場名稱、位置\\n(例:中原家樂福-桃園市中壢區中華路二段501號):\")\n",
    "#     use=input(\"是否為商場辦理合法性?\\n選項\\n\\t1:是\\n\\t2:否\\n\\t：\")\n",
    "else:\n",
    "    \n",
    "    if smallest>area:\n",
    "        judgment=\"初評不通過,未達'{}'最小合法面積限制{}m2\".format(brand,smallest)\n",
    "    elif bigadd==\"台北市\" or bigadd==\"臺北市\":\n",
    "        if \"特\" in areaClass:\n",
    "            judgment,areaClass=taipei(areaClass,area,floorList,use)\n",
    "        else:\n",
    "            judgment=taipei(areaClass,area,floorList,use)\n",
    "\n",
    "    elif bigadd==\"台中市\" or bigadd==\"臺中市\":\n",
    "        judgment=taichung(areaClass,area,floorList,use)\n",
    "    elif bigadd==\"高雄市\":\n",
    "        judgment=Kaohsiung(areaClass,area,floorList,use)\n",
    "    else:\n",
    "        judgment=otherCity(areaClass,area,floorList,use)\n",
    "    layer_area=\"、\".join([\"{}F:{}㎡\".format(i,layerData[i]) if i>0 else \"B{}:{}㎡\".format(-i,layerData[i]) for i in layerData])\n",
    "    if nF==1:\n",
    "        print(\"================================\\n本評估新點({})的使用分區為 {}，\\n(建物面積：{}，用途：{})。\\n\\n\\t本案判斷:{}-{}\".format(address,\n",
    "                                                                           areaClass,layer_area,use,brand,judgment))\n",
    "    else:\n",
    "        print(\"================================\\n本評估新點({})的使用分區為 {}，\\n(建物面積：{}-共{}㎡，用途：{})。\\n\\n\\t本案判斷:{}-{}\".format(address,\n",
    "                                                                           areaClass,layer_area,area,use,brand,judgment))"
   ]
  },
  {
   "cell_type": "code",
   "execution_count": null,
   "metadata": {
    "collapsed": true
   },
   "outputs": [],
   "source": []
  },
  {
   "cell_type": "code",
   "execution_count": null,
   "metadata": {
    "collapsed": true
   },
   "outputs": [],
   "source": []
  },
  {
   "cell_type": "code",
   "execution_count": null,
   "metadata": {
    "collapsed": true
   },
   "outputs": [],
   "source": []
  },
  {
   "cell_type": "code",
   "execution_count": null,
   "metadata": {
    "collapsed": true
   },
   "outputs": [],
   "source": []
  },
  {
   "cell_type": "code",
   "execution_count": null,
   "metadata": {
    "collapsed": true
   },
   "outputs": [],
   "source": [
    "from tkinter import Tk, StringVar, Label, Entry, Button\n",
    "from tkinter.filedialog import askdirectory\n",
    "import requests\n",
    "import re\n",
    "import json\n",
    "from pyproj import Proj, transform\n",
    "import twd97\n",
    "import geocoder\n",
    "# address=\"桃園市中壢區永泰街110號1F\"\n",
    "# address=\"台中市西區台灣大道二段218號\"\n",
    "# address=\"台北市松山區八德路二段312號\"\n",
    "# address=\"雲林縣斗六市雲林路二段297號\"\n",
    "# address=\"台中市西區民權路\"\n",
    "from selenium import webdriver\n",
    "import time\n",
    "driver = webdriver.Chrome(executable_path=\"chromedriver.exe\")\n",
    "driver.get(\"http://luz.tcd.gov.tw/web/\")\n",
    "time.sleep(2)\n",
    "# driver.find_element_by_xpath('/html/body/div[2]/div[1]/button/span[1]').click()\n",
    "# time.sleep(0.2)\n",
    "# driver.find_element_by_xpath('//*[@id=\"menuLB\"]/img').click()\n",
    "# time.sleep(0.2)\n",
    "# driver.find_element_by_xpath('//*[@id=\"ui-id-14\"]/a').click()\n",
    "# time.sleep(0.5)\n",
    "# driver.find_element_by_xpath('//input[@value=\"搜尋門牌\"]').click()\n",
    "cookie=driver.get_cookies()[0]\n",
    "time.sleep(0.5)\n",
    "driver.quit()\n",
    "\n",
    "\n",
    "\n",
    "\n",
    "def transAdd():\n",
    "    address=e1.get()\n",
    "\n",
    "    bigadd =\"\"\n",
    "    smalladd=\"\"\n",
    "\n",
    "    try:\n",
    "        bigadd = re.findall(\"(..[市|縣])(\\w\\w?\\w?[區|市|鎮|鄉])\",address)[0][0]\n",
    "        smalladd= re.findall(\"(..[市|縣])(\\w\\w?\\w?[區|市|鎮|鄉])\",address)[0][1]\n",
    "    except:\n",
    "        pass\n",
    "    try:\n",
    "        road=address.split(smalladd)[1]\n",
    "    except:\n",
    "        road=address\n",
    "        print(\"沒有市或區，可能會出問題\")\n",
    "\n",
    "    # headersStr=\"\"\"Accept: */*\n",
    "    # Accept-Encoding: gzip, deflate\n",
    "    # Accept-Language: zh-TW,zh;q=0.9,en-US;q=0.8,en;q=0.7\n",
    "    # Connection: keep-alive\n",
    "    # Content-Length: 114\n",
    "    # Content-Type: application/x-www-form-urlencoded; charset=UTF-8\n",
    "    # Cookie: ASP.NET_SessionId=zyh3tb3y1zfoxairu3hr0mth\n",
    "    # Host: luz.tcd.gov.tw\n",
    "    # Origin: http://luz.tcd.gov.tw\n",
    "    # Referer: http://luz.tcd.gov.tw/WEB/\n",
    "    # User-Agent: Mozilla/5.0 (Windows NT 6.1; Win64; x64) AppleWebKit/537.36 (KHTML, like Gecko) Chrome/67.0.3396.99 Safari/537.36\n",
    "    # X-Requested-With: XMLHttpRequest\"\"\"\n",
    "    headersStr='''Accept: */*\n",
    "    Accept-Encoding: gzip, deflate\n",
    "    Accept-Language: zh-TW,zh;q=0.9,en-US;q=0.8,en;q=0.7\n",
    "    Connection: keep-alive\n",
    "    Content-Length: 112\n",
    "    Content-Type: application/x-www-form-urlencoded; charset=UTF-8\n",
    "    Cookie: ASP.NET_SessionId=zyh3tb3y1zfoxairu3hr0mth\n",
    "    Host: luz.tcd.gov.tw\n",
    "    Origin: http://luz.tcd.gov.tw\n",
    "    Referer: http://luz.tcd.gov.tw/web/\n",
    "    User-Agent: Mozilla/5.0 (Windows NT 6.1; Win64; x64) AppleWebKit/537.36 (KHTML, like Gecko) Chrome/67.0.3396.99 Safari/537.36\n",
    "    X-Requested-With: XMLHttpRequest'''\n",
    "\n",
    "    headerDict={i.split(\": \")[0].strip():i.split(\": \")[1].strip() for i in headersStr.split(\"\\n\")}\n",
    "    headerDict['Cookie']=cookie['name']+\"=\"+cookie['value']\n",
    "    \n",
    "    dataDict={}\n",
    "    dataDict[\"VAL1\"]=road\n",
    "    if bigadd!=\"\":\n",
    "        dataDict[\"COUNTY\"]=bigadd\n",
    "        dataDict[\"TOWN\"]=smalladd\n",
    "        findXYUrl=\"http://luz.tcd.gov.tw/WEB/ws_data.ashx?CMD=GETADDRESS\"\n",
    "        res=requests.post(findXYUrl,data=dataDict,headers=headerDict)\n",
    "        locationData=json.loads(res.text)\n",
    "        lat,lng=twd97.towgs84(locationData['AddressList'][0]['X'],locationData['AddressList'][0]['Y'])\n",
    "    else:\n",
    "        lat,lng=geocoder.google(address).latlng\n",
    "        print(lat,lng)\n",
    "\n",
    "    #以上由地址轉換出TWD97的座標\n",
    "\n",
    "    #由TWD97的座標轉換成經緯度\n",
    "\n",
    "\n",
    "\n",
    "    #由經緯度轉換成epsg3857座標\n",
    "    P4326 = Proj(init='epsg:4326')\n",
    "    P3857 = Proj(init='epsg:3857')\n",
    "    x,y = transform(P4326, P3857, lng, lat)\n",
    "\n",
    "\n",
    "    queryHeadersStr=\"\"\"Accept: */*\n",
    "    Accept-Encoding: gzip, deflate\n",
    "    Accept-Language: zh-TW,zh;q=0.9,en-US;q=0.8,en;q=0.7\n",
    "    Connection: keep-alive\n",
    "    Content-Length: 69\n",
    "    Content-Type: application/x-www-form-urlencoded; charset=UTF-8\n",
    "    Cookie: ASP.NET_SessionId=zyh3tb3y1zfoxairu3hr0mth\n",
    "    Host: luz.tcd.gov.tw\n",
    "    Origin: http://luz.tcd.gov.tw\n",
    "    Referer: http://luz.tcd.gov.tw/WEB/\n",
    "    User-Agent: Mozilla/5.0 (Windows NT 6.1; Win64; x64) AppleWebKit/537.36 (KHTML, like Gecko) Chrome/67.0.3396.99 Safari/537.36\n",
    "    X-Requested-With: XMLHttpRequest\"\"\"\n",
    "\n",
    "    queryHeaderDict={i.split(\": \")[0].strip():i.split(\": \")[1].strip() for i in queryHeadersStr.split(\"\\n\")}\n",
    "    queryheaderDict['Cookie']=cookie['name']+\"=\"+cookie['value']\n",
    "    queryData={}\n",
    "    queryData[\"X\"],queryData[\"Y\"]=x,y\n",
    "    # queryData[\"X\"],queryData[\"Y\"]=13495533.107782178,2870575.0923182988\n",
    "\n",
    "    queryData[\"LAYERS\"]=\"5,3,6\"\n",
    "    queryData['LANDLAYERS']=\"\"\n",
    "    queryUrl=\"http://luz.tcd.gov.tw/WEB/ws_identify.ashx\"\n",
    "    res=requests.post(queryUrl,data=queryData,headers=queryHeaderDict)\n",
    "    info=json.loads(res.text)\n",
    "    areaClass=info['5']['features'][0]['attributes']['使用分區']\n",
    "    e3.delete(0,50)\n",
    "    e3.insert(10,areaClass)\n",
    "#     return areaClass\n",
    "\n",
    "\n",
    "# root = Tk()\n",
    "# path = StringVar()\n",
    "# Label(root, text=\"讀取資料夾:\").grid(row=0, column=0)\n",
    "# e1 = Entry(root)\n",
    "# e1.insert(0, \"台中市西區台灣大道二段218號\")\n",
    "# e1.grid(row=0, column=1)\n",
    "# Button(root, text=\"轉換\", command=transAdd).grid(row=0, column=2)\n",
    "\n",
    "# e3 = Entry(root)\n",
    "# e3.grid(row=1, column=1)\n",
    "# # e1.insert(10,\"Miller\") #輸入預設值\n",
    "# root.mainloop()"
   ]
  },
  {
   "cell_type": "code",
   "execution_count": null,
   "metadata": {
    "collapsed": true
   },
   "outputs": [],
   "source": [
    "form = Tk(screenName=None, baseName=None, className='transAddToAreaClass', useTk=1, sync=0, use=None)\n",
    "# form.resizable(True,True)\n",
    "form.geometry(\"400x80+500+300\")\n",
    "# path = StringVar()\n",
    "Label(form, text=\"請輸入地址:\").grid(row=0, column=0)\n",
    "e1 = Entry(form,width=30)\n",
    "e1.insert(0, \"台中市西區台灣大道二段218號\")\n",
    "e1.grid(row=0, column=1)\n",
    "# e1.size(50)\n",
    "\n",
    "Button(form, text=\"轉換\", command=transAdd).grid(row=0, column=2)\n",
    "\n",
    "e3 = Entry(form,width=30)\n",
    "e3.grid(row=1, column=1)\n",
    "e3.insert(10,\"這是顯示區\") #輸入預設值\n",
    "form.mainloop()"
   ]
  },
  {
   "cell_type": "code",
   "execution_count": null,
   "metadata": {
    "collapsed": true
   },
   "outputs": [],
   "source": []
  },
  {
   "cell_type": "code",
   "execution_count": null,
   "metadata": {
    "collapsed": true
   },
   "outputs": [],
   "source": []
  },
  {
   "cell_type": "code",
   "execution_count": null,
   "metadata": {
    "collapsed": true
   },
   "outputs": [],
   "source": []
  },
  {
   "cell_type": "code",
   "execution_count": null,
   "metadata": {
    "collapsed": true
   },
   "outputs": [],
   "source": [
    "from pyproj import Proj, transform"
   ]
  },
  {
   "cell_type": "code",
   "execution_count": null,
   "metadata": {
    "collapsed": true
   },
   "outputs": [],
   "source": [
    "import geocoder"
   ]
  },
  {
   "cell_type": "code",
   "execution_count": null,
   "metadata": {
    "collapsed": true
   },
   "outputs": [],
   "source": [
    "lat,lng=geocoder.arcgis(\"台中市西區台灣大道二段218號\").latlng"
   ]
  },
  {
   "cell_type": "code",
   "execution_count": null,
   "metadata": {
    "collapsed": true
   },
   "outputs": [],
   "source": [
    "P4326 = Proj(init='epsg:4326')"
   ]
  },
  {
   "cell_type": "code",
   "execution_count": null,
   "metadata": {
    "collapsed": true
   },
   "outputs": [],
   "source": [
    "P3857 = Proj(init='epsg:3857')"
   ]
  },
  {
   "cell_type": "code",
   "execution_count": null,
   "metadata": {
    "collapsed": true
   },
   "outputs": [],
   "source": [
    "x,y = transform(P4326, P3857, lng, lat)"
   ]
  },
  {
   "cell_type": "code",
   "execution_count": null,
   "metadata": {
    "collapsed": true
   },
   "outputs": [],
   "source": [
    "x,y"
   ]
  },
  {
   "cell_type": "code",
   "execution_count": null,
   "metadata": {
    "collapsed": true
   },
   "outputs": [],
   "source": [
    "import requests\n",
    "import json\n",
    "queryHeadersStr=\"\"\"Accept: */*\n",
    "Accept-Encoding: gzip, deflate\n",
    "Accept-Language: zh-TW,zh;q=0.9,en-US;q=0.8,en;q=0.7\n",
    "Connection: keep-alive\n",
    "Content-Length: 68\n",
    "Content-Type: application/x-www-form-urlencoded; charset=UTF-8\n",
    "Cookie: ASP.NET_SessionId=zyh3tb3y1zfoxairu3hr0mth\n",
    "Host: luz.tcd.gov.tw\n",
    "Origin: http://luz.tcd.gov.tw\n",
    "Referer: http://luz.tcd.gov.tw/web/\n",
    "User-Agent: Mozilla/5.0 (Windows NT 6.1; Win64; x64) AppleWebKit/537.36 (KHTML, like Gecko) Chrome/67.0.3396.99 Safari/537.36\n",
    "X-Requested-With: XMLHttpRequest\"\"\"\n",
    "\n",
    "queryHeaderDict={i.split(\":\")[0]:i.split(\":\")[1].strip() for i in queryHeadersStr.split(\"\\n\")}\n",
    "\n",
    "queryData={}\n",
    "queryData[\"X\"],queryData[\"Y\"]=x,y#TWD97\n",
    "# queryData[\"X\"],queryData[\"Y\"]=13495533.107782178,2870575.0923182988\n",
    "\n",
    "queryData[\"LAYERS\"]=\"5,3,6\"\n",
    "queryData['LANDLAYERS']=\"\"\n",
    "queryUrl=\"http://luz.tcd.gov.tw/WEB/ws_identify.ashx\"\n",
    "res=requests.post(queryUrl,data=queryData,headers=queryHeaderDict)\n",
    "info=json.loads(res.text)"
   ]
  },
  {
   "cell_type": "code",
   "execution_count": null,
   "metadata": {
    "collapsed": true
   },
   "outputs": [],
   "source": [
    "info"
   ]
  },
  {
   "cell_type": "code",
   "execution_count": null,
   "metadata": {
    "collapsed": true
   },
   "outputs": [],
   "source": [
    "import twd97"
   ]
  },
  {
   "cell_type": "code",
   "execution_count": null,
   "metadata": {
    "collapsed": true
   },
   "outputs": [],
   "source": [
    "lat,lng=twd97.towgs84(300933.651,2700157.358)"
   ]
  },
  {
   "cell_type": "code",
   "execution_count": null,
   "metadata": {
    "collapsed": true
   },
   "outputs": [],
   "source": []
  },
  {
   "cell_type": "code",
   "execution_count": null,
   "metadata": {
    "collapsed": true
   },
   "outputs": [],
   "source": []
  },
  {
   "cell_type": "code",
   "execution_count": null,
   "metadata": {
    "collapsed": true
   },
   "outputs": [],
   "source": [
    "headersStr1=\"\"\"Accept: */*\n",
    "Accept-Encoding: gzip, deflate\n",
    "Accept-Language: zh-TW,zh;q=0.9,en-US;q=0.8,en;q=0.7\n",
    "Connection: keep-alive\n",
    "Content-Length: 114\n",
    "Content-Type: application/x-www-form-urlencoded; charset=UTF-8\n",
    "Cookie: ASP.NET_SessionId=zyh3tb3y1zfoxairu3hr0mth\n",
    "Host: luz.tcd.gov.tw\n",
    "Origin: http://luz.tcd.gov.tw\n",
    "Referer: http://luz.tcd.gov.tw/WEB/\n",
    "User-Agent: Mozilla/5.0 (Windows NT 6.1; Win64; x64) AppleWebKit/537.36 (KHTML, like Gecko) Chrome/67.0.3396.99 Safari/537.36\n",
    "X-Requested-With: XMLHttpRequest\"\"\"\n",
    "headersStr2='''Accept: */*\n",
    "Accept-Encoding: gzip, deflate\n",
    "Accept-Language: zh-TW,zh;q=0.9,en-US;q=0.8,en;q=0.7\n",
    "Connection: keep-alive\n",
    "Content-Length: 112\n",
    "Content-Type: application/x-www-form-urlencoded; charset=UTF-8\n",
    "Cookie: ASP.NET_SessionId=zyh3tb3y1zfoxairu3hr0mth\n",
    "Host: luz.tcd.gov.tw\n",
    "Origin: http://luz.tcd.gov.tw\n",
    "Referer: http://luz.tcd.gov.tw/web/\n",
    "User-Agent: Mozilla/5.0 (Windows NT 6.1; Win64; x64) AppleWebKit/537.36 (KHTML, like Gecko) Chrome/67.0.3396.99 Safari/537.36\n",
    "X-Requested-With: XMLHttpRequest'''"
   ]
  },
  {
   "cell_type": "code",
   "execution_count": null,
   "metadata": {
    "collapsed": true
   },
   "outputs": [],
   "source": [
    "for i,j in zip(headersStr1.split(\"\\n\"),headersStr2.split(\"\\n\")):\n",
    "    if i!=j:\n",
    "        print(i,j)"
   ]
  },
  {
   "cell_type": "code",
   "execution_count": null,
   "metadata": {
    "collapsed": true
   },
   "outputs": [],
   "source": [
    "VAL1: 永泰街110號1F\n",
    "TOWN: 中壢區\n",
    "COUNTY: 桃園市"
   ]
  },
  {
   "cell_type": "code",
   "execution_count": null,
   "metadata": {
    "collapsed": true
   },
   "outputs": [],
   "source": []
  },
  {
   "cell_type": "code",
   "execution_count": null,
   "metadata": {
    "collapsed": true
   },
   "outputs": [],
   "source": [
    "from tkinter import Tk, StringVar, Label, Entry, Button\n",
    "from tkinter.filedialog import askdirectory\n",
    "import requests\n",
    "import re\n",
    "import json\n",
    "from pyproj import Proj, transform\n",
    "import twd97\n",
    "import geocoder\n",
    "# address=\"桃園市中壢區永泰街110號1F\"\n",
    "# address=\"台中市西區台灣大道二段218號\"\n",
    "# address=\"台北市松山區八德路二段312號\"\n",
    "# address=\"雲林縣斗六市雲林路二段297號\"\n",
    "# address=\"台中市西區民權路\"\n",
    "from selenium import webdriver\n",
    "import time\n",
    "driver = webdriver.Chrome(executable_path=\"chromedriver.exe\")\n",
    "driver.get(\"http://luz.tcd.gov.tw/web/\")\n",
    "time.sleep(2)\n",
    "driver.find_element_by_xpath('/html/body/div[2]/div[1]/button/span[1]').click()\n",
    "time.sleep(0.2)\n",
    "driver.find_element_by_xpath('//*[@id=\"menuLB\"]/img').click()\n",
    "time.sleep(0.2)\n",
    "driver.find_element_by_xpath('//*[@id=\"ui-id-14\"]/a').click()\n",
    "time.sleep(0.5)\n",
    "driver.find_element_by_xpath('//input[@value=\"搜尋門牌\"]').click()\n",
    "time.sleep(0.5)\n",
    "\n",
    "\n",
    "\n",
    "# driver.quit()"
   ]
  },
  {
   "cell_type": "code",
   "execution_count": null,
   "metadata": {
    "collapsed": true
   },
   "outputs": [],
   "source": []
  },
  {
   "cell_type": "code",
   "execution_count": null,
   "metadata": {
    "collapsed": true
   },
   "outputs": [],
   "source": [
    "driver.find_element_by_id(\"mapDiv_gc\").click()"
   ]
  },
  {
   "cell_type": "code",
   "execution_count": null,
   "metadata": {
    "collapsed": true
   },
   "outputs": [],
   "source": []
  }
 ],
 "metadata": {
  "kernelspec": {
   "display_name": "Python 3",
   "language": "python",
   "name": "python3"
  },
  "language_info": {
   "codemirror_mode": {
    "name": "ipython",
    "version": 3
   },
   "file_extension": ".py",
   "mimetype": "text/x-python",
   "name": "python",
   "nbconvert_exporter": "python",
   "pygments_lexer": "ipython3",
   "version": "3.6.4"
  }
 },
 "nbformat": 4,
 "nbformat_minor": 2
}
