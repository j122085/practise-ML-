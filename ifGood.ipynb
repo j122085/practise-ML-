{
 "cells": [
  {
   "cell_type": "code",
   "execution_count": 283,
   "metadata": {},
   "outputs": [
    {
     "name": "stdout",
     "output_type": "stream",
     "text": [
      "請輸入地址:台中市西區台灣大道二段218-49號\n"
     ]
    }
   ],
   "source": [
    "import requests\n",
    "import re\n",
    "import json\n",
    "from pyproj import Proj, transform\n",
    "import twd97\n",
    "import geocoder\n",
    "# address=\"桃園市中壢區永泰街110號1F\"\n",
    "# address=\"台中市西區台灣大道二段218號\"\n",
    "# address=\"台北市松山區八德路二段312號\"\n",
    "# address=\"雲林縣斗六市雲林路二段297號\"\n",
    "# address=\"台中市西區民權路\"\n",
    "\n",
    "address=input(\"請輸入地址:\")\n",
    "\n",
    "bigadd =\"\"\n",
    "smalladd=\"\"\n",
    "\n",
    "try:\n",
    "    bigadd = re.findall(\"(..[市|縣])(\\w\\w?\\w?[區|市|鎮|鄉])\",address)[0][0]\n",
    "    smalladd= re.findall(\"(..[市|縣])(\\w\\w?\\w?[區|市|鎮|鄉])\",address)[0][1]\n",
    "except:\n",
    "    pass\n",
    "try:\n",
    "    road=address.split(smalladd)[1]\n",
    "except:\n",
    "    road=address\n",
    "    print(\"沒有市或區，可能會出問題\")\n",
    "\n",
    "headersStr=\"\"\"Accept: */*\n",
    "Accept-Encoding: gzip, deflate\n",
    "Accept-Language: zh-TW,zh;q=0.9,en-US;q=0.8,en;q=0.7\n",
    "Connection: keep-alive\n",
    "Content-Length: 114\n",
    "Content-Type: application/x-www-form-urlencoded; charset=UTF-8\n",
    "Cookie: ASP.NET_SessionId=zyh3tb3y1zfoxairu3hr0mth\n",
    "Host: luz.tcd.gov.tw\n",
    "Origin: http://luz.tcd.gov.tw\n",
    "Referer: http://luz.tcd.gov.tw/WEB/\n",
    "User-Agent: Mozilla/5.0 (Windows NT 6.1; Win64; x64) AppleWebKit/537.36 (KHTML, like Gecko) Chrome/67.0.3396.99 Safari/537.36\n",
    "X-Requested-With: XMLHttpRequest\"\"\"\n",
    "headerDict={i.split(\":\")[0]:i.split(\":\")[1].strip() for i in headersStr.split(\"\\n\")}\n",
    "\n",
    "dataDict={}\n",
    "dataDict[\"VAL1\"]=road\n",
    "if bigadd!=\"\":\n",
    "    dataDict[\"COUNTY\"]=bigadd\n",
    "    dataDict[\"TOWN\"]=smalladd\n",
    "    findXYUrl=\"http://luz.tcd.gov.tw/WEB/ws_data.ashx?CMD=GETADDRESS\"\n",
    "    res=requests.post(findXYUrl,data=dataDict,headers=headerDict)\n",
    "    locationData=json.loads(res.text)\n",
    "    lat,lng=twd97.towgs84(locationData['AddressList'][0]['X'],locationData['AddressList'][0]['Y'])\n",
    "else:\n",
    "    lat,lng=geocoder.google(address).latlng\n",
    "    print(lat,lng)\n",
    "\n",
    "#以上由地址轉換出TWD97的座標\n",
    "\n",
    "#由TWD97的座標轉換成經緯度\n",
    "\n",
    "\n",
    "\n",
    "#由經緯度轉換成epsg3857座標\n",
    "P4326 = Proj(init='epsg:4326')\n",
    "P3857 = Proj(init='epsg:3857')\n",
    "x,y = transform(P4326, P3857, lng, lat)\n",
    "\n",
    "\n",
    "queryHeadersStr=\"\"\"Accept: */*\n",
    "Accept-Encoding: gzip, deflate\n",
    "Accept-Language: zh-TW,zh;q=0.9,en-US;q=0.8,en;q=0.7\n",
    "Connection: keep-alive\n",
    "Content-Length: 69\n",
    "Content-Type: application/x-www-form-urlencoded; charset=UTF-8\n",
    "Cookie: ASP.NET_SessionId=zyh3tb3y1zfoxairu3hr0mth\n",
    "Host: luz.tcd.gov.tw\n",
    "Origin: http://luz.tcd.gov.tw\n",
    "Referer: http://luz.tcd.gov.tw/WEB/\n",
    "User-Agent: Mozilla/5.0 (Windows NT 6.1; Win64; x64) AppleWebKit/537.36 (KHTML, like Gecko) Chrome/67.0.3396.99 Safari/537.36\n",
    "X-Requested-With: XMLHttpRequest\"\"\"\n",
    "\n",
    "queryHeaderDict={i.split(\":\")[0]:i.split(\":\")[1].strip() for i in queryHeadersStr.split(\"\\n\")}\n",
    "\n",
    "queryData={}\n",
    "queryData[\"X\"],queryData[\"Y\"]=x,y\n",
    "# queryData[\"X\"],queryData[\"Y\"]=13495533.107782178,2870575.0923182988\n",
    "\n",
    "queryData[\"LAYERS\"]=\"5,3,6\"\n",
    "queryData['LANDLAYERS']=\"\"\n",
    "queryUrl=\"http://luz.tcd.gov.tw/WEB/ws_identify.ashx\"\n",
    "res=requests.post(queryUrl,data=queryData,headers=queryHeaderDict)\n",
    "info=json.loads(res.text)"
   ]
  },
  {
   "cell_type": "code",
   "execution_count": 284,
   "metadata": {},
   "outputs": [
    {
     "data": {
      "text/plain": [
       "{'3': {'features': [], 'geometryType': '', 'spatialReference': {'wkid': 3857}},\n",
       " '5': {'features': [{'attributes': {'OBJECTID': '145705',\n",
       "     '使用分區': '第三種住宅區',\n",
       "     '備註': '',\n",
       "     '分區簡稱': '住',\n",
       "     '參考面積': '1816.21255800926',\n",
       "     '計畫區名稱': '臺中市都市計畫(不包括大坑風景區)',\n",
       "     '計畫案名稱': '變更臺中市都市計畫(舊有市區及一至五期市地重劃地區)細部計畫(第二次通盤檢討)案',\n",
       "     '變更前分區': '',\n",
       "     '資料品質': '',\n",
       "     '資料日期': '',\n",
       "     '附帶條件': ''}}],\n",
       "  'geometryType': '',\n",
       "  'spatialReference': {'wkid': 3857}},\n",
       " '6': {'features': [], 'geometryType': '', 'spatialReference': {'wkid': 3857}}}"
      ]
     },
     "execution_count": 284,
     "metadata": {},
     "output_type": "execute_result"
    }
   ],
   "source": [
    "info"
   ]
  },
  {
   "cell_type": "code",
   "execution_count": null,
   "metadata": {
    "collapsed": true
   },
   "outputs": [],
   "source": []
  },
  {
   "cell_type": "code",
   "execution_count": null,
   "metadata": {
    "collapsed": true
   },
   "outputs": [],
   "source": []
  },
  {
   "cell_type": "code",
   "execution_count": null,
   "metadata": {
    "collapsed": true
   },
   "outputs": [],
   "source": []
  },
  {
   "cell_type": "code",
   "execution_count": null,
   "metadata": {
    "collapsed": true
   },
   "outputs": [],
   "source": []
  },
  {
   "cell_type": "code",
   "execution_count": null,
   "metadata": {
    "collapsed": true
   },
   "outputs": [],
   "source": []
  },
  {
   "cell_type": "code",
   "execution_count": 88,
   "metadata": {
    "collapsed": true
   },
   "outputs": [],
   "source": [
    "XX_train=[[304933.651,2771157.358],\n",
    "          [273471.540,2761142.866],\n",
    "          [216372.891,2671908.212],\n",
    "          [216412.591,2671855.832],\n",
    "          [216423.471,2671841.271],\n",
    "          [273610.496,2761109.589],\n",
    "          [273586.274,2761163.312],\n",
    "          [273456.939,2761136.920],\n",
    "          [273395.027, 2761141.153],\n",
    "          [216485.151, 2670764.174],\n",
    "          [304633.65, 2770157.35],\n",
    "          [314633.65, 2970157.35],\n",
    "          [300933.651,2700157.358]\n",
    "         ]\n",
    "\n",
    "YY_train=[[13530262.995185157, 2881588.428958615],\n",
    "          [13495534.149093753,2870579.1198068312],\n",
    "          [13432821.756902112,2771949.264442703],\n",
    "          [13432865.380201073,2771891.3695835327],\n",
    "          [13432877.037296467,2771871.1779812025],\n",
    "          [13495687.1564441,2870542.009716954],\n",
    "          [13495660.55498392,2870601.312034573],\n",
    "          [13495517.964723885,2870572.3010908756],\n",
    "          [13495449.673774207, 2870577.409433772],\n",
    "          [13432947.709334468, 2770689.3807398593],\n",
    "          [13529927.787628435, 2880480.6334838117],\n",
    "          [13542054.133565776, 3103930.6888663652],\n",
    "          [13525563.22124938, 2803044.487542941]\n",
    "         ]\n"
   ]
  },
  {
   "cell_type": "code",
   "execution_count": 89,
   "metadata": {},
   "outputs": [
    {
     "data": {
      "text/plain": [
       "LinearRegression(copy_X=True, fit_intercept=True, n_jobs=1, normalize=False)"
      ]
     },
     "execution_count": 89,
     "metadata": {},
     "output_type": "execute_result"
    }
   ],
   "source": [
    "from sklearn.linear_model import LinearRegression\n",
    "lm = LinearRegression()\n",
    "lm.fit(XX_train, YY_train)\n",
    "\n"
   ]
  },
  {
   "cell_type": "code",
   "execution_count": 177,
   "metadata": {},
   "outputs": [
    {
     "data": {
      "text/plain": [
       "array([[13529834.92704136,  2880554.22952524]])"
      ]
     },
     "execution_count": 177,
     "metadata": {},
     "output_type": "execute_result"
    }
   ],
   "source": [
    "lm.predict([[304633.65,2770157.35]])"
   ]
  },
  {
   "cell_type": "code",
   "execution_count": 91,
   "metadata": {
    "collapsed": true
   },
   "outputs": [],
   "source": [
    "xxx='''\"X\": 304633.65,\n",
    "      \"Y\": 2770157.35'''"
   ]
  },
  {
   "cell_type": "code",
   "execution_count": 92,
   "metadata": {},
   "outputs": [
    {
     "data": {
      "text/plain": [
       "[304633.65, 2770157.35]"
      ]
     },
     "execution_count": 92,
     "metadata": {},
     "output_type": "execute_result"
    }
   ],
   "source": [
    "[float(i.split(\":\")[1].strip()) for i in xxx.split(',\\n')]"
   ]
  },
  {
   "cell_type": "code",
   "execution_count": 93,
   "metadata": {
    "collapsed": true
   },
   "outputs": [],
   "source": [
    "yyy='''X: 13525563.22124938\n",
    "Y: 2803044.487542941'''"
   ]
  },
  {
   "cell_type": "code",
   "execution_count": 94,
   "metadata": {
    "scrolled": true
   },
   "outputs": [
    {
     "data": {
      "text/plain": [
       "[13525563.22124938, 2803044.487542941]"
      ]
     },
     "execution_count": 94,
     "metadata": {},
     "output_type": "execute_result"
    }
   ],
   "source": [
    "[float(i.split(\":\")[1].strip()) for i in yyy.split('\\n')]"
   ]
  },
  {
   "cell_type": "code",
   "execution_count": null,
   "metadata": {
    "collapsed": true
   },
   "outputs": [],
   "source": []
  },
  {
   "cell_type": "code",
   "execution_count": null,
   "metadata": {
    "collapsed": true
   },
   "outputs": [],
   "source": []
  },
  {
   "cell_type": "code",
   "execution_count": null,
   "metadata": {
    "collapsed": true
   },
   "outputs": [],
   "source": []
  },
  {
   "cell_type": "code",
   "execution_count": null,
   "metadata": {
    "collapsed": true
   },
   "outputs": [],
   "source": []
  },
  {
   "cell_type": "code",
   "execution_count": 95,
   "metadata": {
    "collapsed": true
   },
   "outputs": [],
   "source": [
    "from pyproj import Proj, transform"
   ]
  },
  {
   "cell_type": "code",
   "execution_count": 96,
   "metadata": {
    "collapsed": true
   },
   "outputs": [],
   "source": [
    "import geocoder"
   ]
  },
  {
   "cell_type": "code",
   "execution_count": 135,
   "metadata": {
    "collapsed": true
   },
   "outputs": [],
   "source": [
    "lat,lng=geocoder.arcgis(\"台中市西區台灣大道二段218號\").latlng"
   ]
  },
  {
   "cell_type": "code",
   "execution_count": 156,
   "metadata": {
    "collapsed": true
   },
   "outputs": [],
   "source": [
    "P4326 = Proj(init='epsg:4326')"
   ]
  },
  {
   "cell_type": "code",
   "execution_count": 157,
   "metadata": {
    "collapsed": true
   },
   "outputs": [],
   "source": [
    "P3857 = Proj(init='epsg:3857')"
   ]
  },
  {
   "cell_type": "code",
   "execution_count": 158,
   "metadata": {},
   "outputs": [],
   "source": [
    "x,y = transform(P4326, P3857, lng, lat)"
   ]
  },
  {
   "cell_type": "code",
   "execution_count": 159,
   "metadata": {},
   "outputs": [
    {
     "data": {
      "text/plain": [
       "(13525563.520960934, 2803045.0939111193)"
      ]
     },
     "execution_count": 159,
     "metadata": {},
     "output_type": "execute_result"
    }
   ],
   "source": [
    "x,y"
   ]
  },
  {
   "cell_type": "code",
   "execution_count": 178,
   "metadata": {},
   "outputs": [],
   "source": [
    "import requests\n",
    "import json\n",
    "queryHeadersStr=\"\"\"Accept: */*\n",
    "Accept-Encoding: gzip, deflate\n",
    "Accept-Language: zh-TW,zh;q=0.9,en-US;q=0.8,en;q=0.7\n",
    "Connection: keep-alive\n",
    "Content-Length: 68\n",
    "Content-Type: application/x-www-form-urlencoded; charset=UTF-8\n",
    "Cookie: ASP.NET_SessionId=zyh3tb3y1zfoxairu3hr0mth\n",
    "Host: luz.tcd.gov.tw\n",
    "Origin: http://luz.tcd.gov.tw\n",
    "Referer: http://luz.tcd.gov.tw/web/\n",
    "User-Agent: Mozilla/5.0 (Windows NT 6.1; Win64; x64) AppleWebKit/537.36 (KHTML, like Gecko) Chrome/67.0.3396.99 Safari/537.36\n",
    "X-Requested-With: XMLHttpRequest\"\"\"\n",
    "\n",
    "queryHeaderDict={i.split(\":\")[0]:i.split(\":\")[1].strip() for i in queryHeadersStr.split(\"\\n\")}\n",
    "\n",
    "queryData={}\n",
    "queryData[\"X\"],queryData[\"Y\"]=x,y#TWD97\n",
    "# queryData[\"X\"],queryData[\"Y\"]=13495533.107782178,2870575.0923182988\n",
    "\n",
    "queryData[\"LAYERS\"]=\"5,3,6\"\n",
    "queryData['LANDLAYERS']=\"\"\n",
    "queryUrl=\"http://luz.tcd.gov.tw/WEB/ws_identify.ashx\"\n",
    "res=requests.post(queryUrl,data=queryData,headers=queryHeaderDict)\n",
    "info=json.loads(res.text)"
   ]
  },
  {
   "cell_type": "code",
   "execution_count": 179,
   "metadata": {},
   "outputs": [
    {
     "data": {
      "text/plain": [
       "{'3': {'features': [], 'geometryType': '', 'spatialReference': {'wkid': 3857}},\n",
       " '5': {'features': [{'attributes': {'OBJECTID': '57627',\n",
       "     '使用分區': '軍事機關用地',\n",
       "     '備註': '',\n",
       "     '分區簡稱': '軍事機關',\n",
       "     '參考面積': '71972.16',\n",
       "     '計畫區名稱': '臺北市都市計畫',\n",
       "     '計畫案名稱': '106年現行計畫圖',\n",
       "     '變更前分區': '',\n",
       "     '資料品質': '',\n",
       "     '資料日期': '',\n",
       "     '附帶條件': ''}}],\n",
       "  'geometryType': '',\n",
       "  'spatialReference': {'wkid': 3857}},\n",
       " '6': {'features': [], 'geometryType': '', 'spatialReference': {'wkid': 3857}}}"
      ]
     },
     "execution_count": 179,
     "metadata": {},
     "output_type": "execute_result"
    }
   ],
   "source": [
    "info"
   ]
  },
  {
   "cell_type": "code",
   "execution_count": 147,
   "metadata": {},
   "outputs": [],
   "source": [
    "import twd97"
   ]
  },
  {
   "cell_type": "code",
   "execution_count": 155,
   "metadata": {},
   "outputs": [],
   "source": [
    "lat,lng=twd97.towgs84(300933.651,2700157.358)"
   ]
  },
  {
   "cell_type": "code",
   "execution_count": null,
   "metadata": {
    "collapsed": true
   },
   "outputs": [],
   "source": []
  }
 ],
 "metadata": {
  "kernelspec": {
   "display_name": "Python 3",
   "language": "python",
   "name": "python3"
  },
  "language_info": {
   "codemirror_mode": {
    "name": "ipython",
    "version": 3
   },
   "file_extension": ".py",
   "mimetype": "text/x-python",
   "name": "python",
   "nbconvert_exporter": "python",
   "pygments_lexer": "ipython3",
   "version": "3.6.4"
  }
 },
 "nbformat": 4,
 "nbformat_minor": 2
}
