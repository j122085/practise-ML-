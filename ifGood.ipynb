{
 "cells": [
  {
   "cell_type": "code",
   "execution_count": 173,
   "metadata": {},
   "outputs": [
    {
     "name": "stdout",
     "output_type": "stream",
     "text": [
      "請輸入地址:桃園市中壢區永泰街110號\n",
      "住宅區\n"
     ]
    }
   ],
   "source": [
    "import requests\n",
    "import re\n",
    "import json\n",
    "from pyproj import Proj, transform\n",
    "import twd97\n",
    "import geocoder\n",
    "from selenium import webdriver\n",
    "import time\n",
    "driver = webdriver.Chrome(executable_path=\"chromedriver.exe\")\n",
    "driver.get(\"http://luz.tcd.gov.tw/web/\")\n",
    "time.sleep(2)\n",
    "driver.find_element_by_xpath('/html/body/div[2]/div[1]/button/span[1]').click()\n",
    "time.sleep(0.2)\n",
    "driver.find_element_by_xpath('//*[@id=\"menuLB\"]/img').click()\n",
    "time.sleep(0.2)\n",
    "driver.find_element_by_xpath('//*[@id=\"ui-id-14\"]/a').click()\n",
    "time.sleep(0.5)\n",
    "driver.find_element_by_xpath('//input[@value=\"搜尋門牌\"]').click()\n",
    "time.sleep(0.5)\n",
    "driver.quit()\n",
    "\n",
    "# address=\"桃園市中壢區永泰街110號1F\"\n",
    "# address=\"台中市西區台灣大道二段218號\"\n",
    "# address=\"台北市松山區八德路二段312號\"\n",
    "# address=\"雲林縣斗六市雲林路二段297號\"\n",
    "# address=\"台中市西區民權路\"\n",
    "\n",
    "address=input(\"請輸入地址:\")\n",
    "\n",
    "bigadd =\"\"\n",
    "smalladd=\"\"\n",
    "\n",
    "try:\n",
    "    bigadd = re.findall(\"(..[市|縣])(\\w\\w?\\w?[區|市|鎮|鄉])\",address)[0][0]\n",
    "    smalladd= re.findall(\"(..[市|縣])(\\w\\w?\\w?[區|市|鎮|鄉])\",address)[0][1]\n",
    "except:\n",
    "    pass\n",
    "try:\n",
    "    road=address.split(smalladd)[1]\n",
    "except:\n",
    "    road=address\n",
    "    print(\"沒有市或區的地址，可能會不準確\")\n",
    "\n",
    "# headersStr=\"\"\"Accept: */*\n",
    "# Accept-Encoding: gzip, deflate\n",
    "# Accept-Language: zh-TW,zh;q=0.9,en-US;q=0.8,en;q=0.7\n",
    "# Connection: keep-alive\n",
    "# Content-Length: 114\n",
    "# Content-Type: application/x-www-form-urlencoded; charset=UTF-8\n",
    "# Cookie: ASP.NET_SessionId=zyh3tb3y1zfoxairu3hr0mth\n",
    "# Host: luz.tcd.gov.tw\n",
    "# Origin: http://luz.tcd.gov.tw\n",
    "# Referer: http://luz.tcd.gov.tw/WEB/\n",
    "# User-Agent: Mozilla/5.0 (Windows NT 6.1; Win64; x64) AppleWebKit/537.36 (KHTML, like Gecko) Chrome/67.0.3396.99 Safari/537.36\n",
    "# X-Requested-With: XMLHttpRequest\"\"\"\n",
    "headersStr='''Accept: */*\n",
    "Accept-Encoding: gzip, deflate\n",
    "Accept-Language: zh-TW,zh;q=0.9,en-US;q=0.8,en;q=0.7\n",
    "Connection: keep-alive\n",
    "Content-Length: 112\n",
    "Content-Type: application/x-www-form-urlencoded; charset=UTF-8\n",
    "Cookie: ASP.NET_SessionId=zyh3tb3y1zfoxairu3hr0mth\n",
    "Host: luz.tcd.gov.tw\n",
    "Origin: http://luz.tcd.gov.tw\n",
    "Referer: http://luz.tcd.gov.tw/web/\n",
    "User-Agent: Mozilla/5.0 (Windows NT 6.1; Win64; x64) AppleWebKit/537.36 (KHTML, like Gecko) Chrome/67.0.3396.99 Safari/537.36\n",
    "X-Requested-With: XMLHttpRequest'''\n",
    "\n",
    "headerDict={i.split(\": \")[0].strip():i.split(\": \")[1].strip() for i in headersStr.split(\"\\n\")}\n",
    "\n",
    "dataDict={}\n",
    "dataDict[\"VAL1\"]=road\n",
    "if bigadd!=\"\":\n",
    "    dataDict[\"COUNTY\"]=bigadd\n",
    "    dataDict[\"TOWN\"]=smalladd\n",
    "    findXYUrl=\"http://luz.tcd.gov.tw/WEB/ws_data.ashx?CMD=GETADDRESS\"\n",
    "    res=requests.post(findXYUrl,data=dataDict,headers=headerDict)\n",
    "    locationData=json.loads(res.text)\n",
    "    lat,lng=twd97.towgs84(locationData['AddressList'][0]['X'],locationData['AddressList'][0]['Y'])\n",
    "else:\n",
    "    lat,lng=geocoder.google(address).latlng\n",
    "    print(lat,lng)\n",
    "\n",
    "#以上由地址轉換出TWD97(epsg3826)的座標\n",
    "\n",
    "#由TWD97的座標轉換成經緯度\n",
    "\n",
    "\n",
    "\n",
    "#由經緯度轉換成epsg3857座標\n",
    "P4326 = Proj(init='epsg:4326')\n",
    "P3857 = Proj(init='epsg:3857')\n",
    "x,y = transform(P4326, P3857, lng, lat)\n",
    "\n",
    "\n",
    "queryHeadersStr=\"\"\"Accept: */*\n",
    "Accept-Encoding: gzip, deflate\n",
    "Accept-Language: zh-TW,zh;q=0.9,en-US;q=0.8,en;q=0.7\n",
    "Connection: keep-alive\n",
    "Content-Length: 69\n",
    "Content-Type: application/x-www-form-urlencoded; charset=UTF-8\n",
    "Cookie: ASP.NET_SessionId=zyh3tb3y1zfoxairu3hr0mth\n",
    "Host: luz.tcd.gov.tw\n",
    "Origin: http://luz.tcd.gov.tw\n",
    "Referer: http://luz.tcd.gov.tw/WEB/\n",
    "User-Agent: Mozilla/5.0 (Windows NT 6.1; Win64; x64) AppleWebKit/537.36 (KHTML, like Gecko) Chrome/67.0.3396.99 Safari/537.36\n",
    "X-Requested-With: XMLHttpRequest\"\"\"\n",
    "\n",
    "queryHeaderDict={i.split(\": \")[0].strip():i.split(\": \")[1].strip() for i in queryHeadersStr.split(\"\\n\")}\n",
    "\n",
    "queryData={}\n",
    "queryData[\"X\"],queryData[\"Y\"]=x,y\n",
    "# queryData[\"X\"],queryData[\"Y\"]=13495533.107782178,2870575.0923182988\n",
    "\n",
    "queryData[\"LAYERS\"]=\"5,3,6\"\n",
    "queryData['LANDLAYERS']=\"\"\n",
    "queryUrl=\"http://luz.tcd.gov.tw/WEB/ws_identify.ashx\"\n",
    "res=requests.post(queryUrl,data=queryData,headers=queryHeaderDict)\n",
    "info=json.loads(res.text)\n",
    "areaClass=info['5']['features'][0]['attributes']['使用分區']\n",
    "print(areaClass)"
   ]
  },
  {
   "cell_type": "code",
   "execution_count": 131,
   "metadata": {},
   "outputs": [
    {
     "data": {
      "text/plain": [
       "\"top.location='..'\""
      ]
     },
     "execution_count": 131,
     "metadata": {},
     "output_type": "execute_result"
    }
   ],
   "source": [
    "res.text"
   ]
  },
  {
   "cell_type": "code",
   "execution_count": 144,
   "metadata": {
    "scrolled": true
   },
   "outputs": [
    {
     "data": {
      "text/plain": [
       "{'3': {'features': [], 'geometryType': '', 'spatialReference': {'wkid': 3857}},\n",
       " '5': {'features': [{'attributes': {'OBJECTID': '145705',\n",
       "     '使用分區': '第三種住宅區',\n",
       "     '備註': '',\n",
       "     '分區簡稱': '住',\n",
       "     '參考面積': '1816.21255800926',\n",
       "     '計畫區名稱': '臺中市都市計畫(不包括大坑風景區)',\n",
       "     '計畫案名稱': '變更臺中市都市計畫(舊有市區及一至五期市地重劃地區)細部計畫(第二次通盤檢討)案',\n",
       "     '變更前分區': '',\n",
       "     '資料品質': '',\n",
       "     '資料日期': '',\n",
       "     '附帶條件': ''}}],\n",
       "  'geometryType': '',\n",
       "  'spatialReference': {'wkid': 3857}},\n",
       " '6': {'features': [], 'geometryType': '', 'spatialReference': {'wkid': 3857}}}"
      ]
     },
     "execution_count": 144,
     "metadata": {},
     "output_type": "execute_result"
    }
   ],
   "source": [
    "info"
   ]
  },
  {
   "cell_type": "code",
   "execution_count": 25,
   "metadata": {},
   "outputs": [
    {
     "data": {
      "text/plain": [
       "{'Accept': '*/*',\n",
       " 'Accept-Encoding': 'gzip, deflate',\n",
       " 'Accept-Language': 'zh-TW,zh;q=0.9,en-US;q=0.8,en;q=0.7',\n",
       " 'Connection': 'keep-alive',\n",
       " 'Content-Length': '112',\n",
       " 'Content-Type': 'application/x-www-form-urlencoded; charset=UTF-8',\n",
       " 'Cookie': 'ASP.NET_SessionId=zyh3tb3y1zfoxairu3hr0mth',\n",
       " 'Host': 'luz.tcd.gov.tw',\n",
       " 'Origin': 'http://luz.tcd.gov.tw',\n",
       " 'Referer': 'http://luz.tcd.gov.tw/web/',\n",
       " 'User-Agent': 'Mozilla/5.0 (Windows NT 6.1; Win64; x64) AppleWebKit/537.36 (KHTML, like Gecko) Chrome/67.0.3396.99 Safari/537.36',\n",
       " 'X-Requested-With': 'XMLHttpRequest'}"
      ]
     },
     "execution_count": 25,
     "metadata": {},
     "output_type": "execute_result"
    }
   ],
   "source": [
    "headerDict"
   ]
  },
  {
   "cell_type": "code",
   "execution_count": null,
   "metadata": {
    "collapsed": true
   },
   "outputs": [],
   "source": []
  },
  {
   "cell_type": "code",
   "execution_count": null,
   "metadata": {
    "collapsed": true
   },
   "outputs": [],
   "source": []
  },
  {
   "cell_type": "code",
   "execution_count": 125,
   "metadata": {
    "collapsed": true
   },
   "outputs": [],
   "source": [
    "from tkinter import Tk, StringVar, Label, Entry, Button\n",
    "from tkinter.filedialog import askdirectory\n",
    "import requests\n",
    "import re\n",
    "import json\n",
    "from pyproj import Proj, transform\n",
    "import twd97\n",
    "import geocoder\n",
    "# address=\"桃園市中壢區永泰街110號1F\"\n",
    "# address=\"台中市西區台灣大道二段218號\"\n",
    "# address=\"台北市松山區八德路二段312號\"\n",
    "# address=\"雲林縣斗六市雲林路二段297號\"\n",
    "# address=\"台中市西區民權路\"\n",
    "\n",
    "\n",
    "def transAdd():\n",
    "    address=e1.get()\n",
    "\n",
    "    bigadd =\"\"\n",
    "    smalladd=\"\"\n",
    "\n",
    "    try:\n",
    "        bigadd = re.findall(\"(..[市|縣])(\\w\\w?\\w?[區|市|鎮|鄉])\",address)[0][0]\n",
    "        smalladd= re.findall(\"(..[市|縣])(\\w\\w?\\w?[區|市|鎮|鄉])\",address)[0][1]\n",
    "    except:\n",
    "        pass\n",
    "    try:\n",
    "        road=address.split(smalladd)[1]\n",
    "    except:\n",
    "        road=address\n",
    "        print(\"沒有市或區，可能會出問題\")\n",
    "\n",
    "    # headersStr=\"\"\"Accept: */*\n",
    "    # Accept-Encoding: gzip, deflate\n",
    "    # Accept-Language: zh-TW,zh;q=0.9,en-US;q=0.8,en;q=0.7\n",
    "    # Connection: keep-alive\n",
    "    # Content-Length: 114\n",
    "    # Content-Type: application/x-www-form-urlencoded; charset=UTF-8\n",
    "    # Cookie: ASP.NET_SessionId=zyh3tb3y1zfoxairu3hr0mth\n",
    "    # Host: luz.tcd.gov.tw\n",
    "    # Origin: http://luz.tcd.gov.tw\n",
    "    # Referer: http://luz.tcd.gov.tw/WEB/\n",
    "    # User-Agent: Mozilla/5.0 (Windows NT 6.1; Win64; x64) AppleWebKit/537.36 (KHTML, like Gecko) Chrome/67.0.3396.99 Safari/537.36\n",
    "    # X-Requested-With: XMLHttpRequest\"\"\"\n",
    "    headersStr='''Accept: */*\n",
    "    Accept-Encoding: gzip, deflate\n",
    "    Accept-Language: zh-TW,zh;q=0.9,en-US;q=0.8,en;q=0.7\n",
    "    Connection: keep-alive\n",
    "    Content-Length: 112\n",
    "    Content-Type: application/x-www-form-urlencoded; charset=UTF-8\n",
    "    Cookie: ASP.NET_SessionId=zyh3tb3y1zfoxairu3hr0mth\n",
    "    Host: luz.tcd.gov.tw\n",
    "    Origin: http://luz.tcd.gov.tw\n",
    "    Referer: http://luz.tcd.gov.tw/web/\n",
    "    User-Agent: Mozilla/5.0 (Windows NT 6.1; Win64; x64) AppleWebKit/537.36 (KHTML, like Gecko) Chrome/67.0.3396.99 Safari/537.36\n",
    "    X-Requested-With: XMLHttpRequest'''\n",
    "\n",
    "    headerDict={i.split(\": \")[0].strip():i.split(\": \")[1].strip() for i in headersStr.split(\"\\n\")}\n",
    "\n",
    "    dataDict={}\n",
    "    dataDict[\"VAL1\"]=road\n",
    "    if bigadd!=\"\":\n",
    "        dataDict[\"COUNTY\"]=bigadd\n",
    "        dataDict[\"TOWN\"]=smalladd\n",
    "        findXYUrl=\"http://luz.tcd.gov.tw/WEB/ws_data.ashx?CMD=GETADDRESS\"\n",
    "        res=requests.post(findXYUrl,data=dataDict,headers=headerDict)\n",
    "        locationData=json.loads(res.text)\n",
    "        lat,lng=twd97.towgs84(locationData['AddressList'][0]['X'],locationData['AddressList'][0]['Y'])\n",
    "    else:\n",
    "        lat,lng=geocoder.google(address).latlng\n",
    "        print(lat,lng)\n",
    "\n",
    "    #以上由地址轉換出TWD97的座標\n",
    "\n",
    "    #由TWD97的座標轉換成經緯度\n",
    "\n",
    "\n",
    "\n",
    "    #由經緯度轉換成epsg3857座標\n",
    "    P4326 = Proj(init='epsg:4326')\n",
    "    P3857 = Proj(init='epsg:3857')\n",
    "    x,y = transform(P4326, P3857, lng, lat)\n",
    "\n",
    "\n",
    "    queryHeadersStr=\"\"\"Accept: */*\n",
    "    Accept-Encoding: gzip, deflate\n",
    "    Accept-Language: zh-TW,zh;q=0.9,en-US;q=0.8,en;q=0.7\n",
    "    Connection: keep-alive\n",
    "    Content-Length: 69\n",
    "    Content-Type: application/x-www-form-urlencoded; charset=UTF-8\n",
    "    Cookie: ASP.NET_SessionId=zyh3tb3y1zfoxairu3hr0mth\n",
    "    Host: luz.tcd.gov.tw\n",
    "    Origin: http://luz.tcd.gov.tw\n",
    "    Referer: http://luz.tcd.gov.tw/WEB/\n",
    "    User-Agent: Mozilla/5.0 (Windows NT 6.1; Win64; x64) AppleWebKit/537.36 (KHTML, like Gecko) Chrome/67.0.3396.99 Safari/537.36\n",
    "    X-Requested-With: XMLHttpRequest\"\"\"\n",
    "\n",
    "    queryHeaderDict={i.split(\": \")[0].strip():i.split(\": \")[1].strip() for i in queryHeadersStr.split(\"\\n\")}\n",
    "\n",
    "    queryData={}\n",
    "    queryData[\"X\"],queryData[\"Y\"]=x,y\n",
    "    # queryData[\"X\"],queryData[\"Y\"]=13495533.107782178,2870575.0923182988\n",
    "\n",
    "    queryData[\"LAYERS\"]=\"5,3,6\"\n",
    "    queryData['LANDLAYERS']=\"\"\n",
    "    queryUrl=\"http://luz.tcd.gov.tw/WEB/ws_identify.ashx\"\n",
    "    res=requests.post(queryUrl,data=queryData,headers=queryHeaderDict)\n",
    "    info=json.loads(res.text)\n",
    "    areaClass=info['5']['features'][0]['attributes']['使用分區']\n",
    "    e3.delete(0,50)\n",
    "    e3.insert(10,areaClass)\n",
    "#     return areaClass\n",
    "\n",
    "\n",
    "# root = Tk()\n",
    "# path = StringVar()\n",
    "# Label(root, text=\"讀取資料夾:\").grid(row=0, column=0)\n",
    "# e1 = Entry(root)\n",
    "# e1.insert(0, \"台中市西區台灣大道二段218號\")\n",
    "# e1.grid(row=0, column=1)\n",
    "# Button(root, text=\"轉換\", command=transAdd).grid(row=0, column=2)\n",
    "\n",
    "# e3 = Entry(root)\n",
    "# e3.grid(row=1, column=1)\n",
    "# # e1.insert(10,\"Miller\") #輸入預設值\n",
    "# root.mainloop()"
   ]
  },
  {
   "cell_type": "code",
   "execution_count": 126,
   "metadata": {},
   "outputs": [
    {
     "name": "stderr",
     "output_type": "stream",
     "text": [
      "Exception in Tkinter callback\n",
      "Traceback (most recent call last):\n",
      "  File \"D:\\anaconda\\lib\\tkinter\\__init__.py\", line 1699, in __call__\n",
      "    return self.func(*args)\n",
      "  File \"<ipython-input-125-f48c43d4c346>\", line 67, in transAdd\n",
      "    locationData=json.loads(res.text)\n",
      "  File \"D:\\anaconda\\lib\\json\\__init__.py\", line 354, in loads\n",
      "    return _default_decoder.decode(s)\n",
      "  File \"D:\\anaconda\\lib\\json\\decoder.py\", line 339, in decode\n",
      "    obj, end = self.raw_decode(s, idx=_w(s, 0).end())\n",
      "  File \"D:\\anaconda\\lib\\json\\decoder.py\", line 357, in raw_decode\n",
      "    raise JSONDecodeError(\"Expecting value\", s, err.value) from None\n",
      "json.decoder.JSONDecodeError: Expecting value: line 1 column 1 (char 0)\n"
     ]
    }
   ],
   "source": [
    "form = Tk(screenName=None, baseName=None, className='transAddToAreaClass', useTk=1, sync=0, use=None)\n",
    "# form.resizable(True,True)\n",
    "form.geometry(\"400x80+500+300\")\n",
    "# path = StringVar()\n",
    "Label(form, text=\"請輸入地址:\").grid(row=0, column=0)\n",
    "e1 = Entry(form,width=30)\n",
    "e1.insert(0, \"台中市西區台灣大道二段218號\")\n",
    "e1.grid(row=0, column=1)\n",
    "# e1.size(50)\n",
    "\n",
    "Button(form, text=\"轉換\", command=transAdd).grid(row=0, column=2)\n",
    "\n",
    "e3 = Entry(form,width=30)\n",
    "e3.grid(row=1, column=1)\n",
    "e3.insert(10,\"這是顯示區\") #輸入預設值\n",
    "form.mainloop()"
   ]
  },
  {
   "cell_type": "code",
   "execution_count": null,
   "metadata": {
    "collapsed": true
   },
   "outputs": [],
   "source": []
  },
  {
   "cell_type": "code",
   "execution_count": null,
   "metadata": {
    "collapsed": true
   },
   "outputs": [],
   "source": []
  },
  {
   "cell_type": "code",
   "execution_count": null,
   "metadata": {
    "collapsed": true
   },
   "outputs": [],
   "source": []
  },
  {
   "cell_type": "code",
   "execution_count": 95,
   "metadata": {
    "collapsed": true
   },
   "outputs": [],
   "source": [
    "from pyproj import Proj, transform"
   ]
  },
  {
   "cell_type": "code",
   "execution_count": 96,
   "metadata": {
    "collapsed": true
   },
   "outputs": [],
   "source": [
    "import geocoder"
   ]
  },
  {
   "cell_type": "code",
   "execution_count": 135,
   "metadata": {
    "collapsed": true
   },
   "outputs": [],
   "source": [
    "lat,lng=geocoder.arcgis(\"台中市西區台灣大道二段218號\").latlng"
   ]
  },
  {
   "cell_type": "code",
   "execution_count": 156,
   "metadata": {
    "collapsed": true
   },
   "outputs": [],
   "source": [
    "P4326 = Proj(init='epsg:4326')"
   ]
  },
  {
   "cell_type": "code",
   "execution_count": 157,
   "metadata": {
    "collapsed": true
   },
   "outputs": [],
   "source": [
    "P3857 = Proj(init='epsg:3857')"
   ]
  },
  {
   "cell_type": "code",
   "execution_count": 158,
   "metadata": {
    "collapsed": true
   },
   "outputs": [],
   "source": [
    "x,y = transform(P4326, P3857, lng, lat)"
   ]
  },
  {
   "cell_type": "code",
   "execution_count": 159,
   "metadata": {},
   "outputs": [
    {
     "data": {
      "text/plain": [
       "(13525563.520960934, 2803045.0939111193)"
      ]
     },
     "execution_count": 159,
     "metadata": {},
     "output_type": "execute_result"
    }
   ],
   "source": [
    "x,y"
   ]
  },
  {
   "cell_type": "code",
   "execution_count": 178,
   "metadata": {
    "collapsed": true
   },
   "outputs": [],
   "source": [
    "import requests\n",
    "import json\n",
    "queryHeadersStr=\"\"\"Accept: */*\n",
    "Accept-Encoding: gzip, deflate\n",
    "Accept-Language: zh-TW,zh;q=0.9,en-US;q=0.8,en;q=0.7\n",
    "Connection: keep-alive\n",
    "Content-Length: 68\n",
    "Content-Type: application/x-www-form-urlencoded; charset=UTF-8\n",
    "Cookie: ASP.NET_SessionId=zyh3tb3y1zfoxairu3hr0mth\n",
    "Host: luz.tcd.gov.tw\n",
    "Origin: http://luz.tcd.gov.tw\n",
    "Referer: http://luz.tcd.gov.tw/web/\n",
    "User-Agent: Mozilla/5.0 (Windows NT 6.1; Win64; x64) AppleWebKit/537.36 (KHTML, like Gecko) Chrome/67.0.3396.99 Safari/537.36\n",
    "X-Requested-With: XMLHttpRequest\"\"\"\n",
    "\n",
    "queryHeaderDict={i.split(\":\")[0]:i.split(\":\")[1].strip() for i in queryHeadersStr.split(\"\\n\")}\n",
    "\n",
    "queryData={}\n",
    "queryData[\"X\"],queryData[\"Y\"]=x,y#TWD97\n",
    "# queryData[\"X\"],queryData[\"Y\"]=13495533.107782178,2870575.0923182988\n",
    "\n",
    "queryData[\"LAYERS\"]=\"5,3,6\"\n",
    "queryData['LANDLAYERS']=\"\"\n",
    "queryUrl=\"http://luz.tcd.gov.tw/WEB/ws_identify.ashx\"\n",
    "res=requests.post(queryUrl,data=queryData,headers=queryHeaderDict)\n",
    "info=json.loads(res.text)"
   ]
  },
  {
   "cell_type": "code",
   "execution_count": 179,
   "metadata": {},
   "outputs": [
    {
     "data": {
      "text/plain": [
       "{'3': {'features': [], 'geometryType': '', 'spatialReference': {'wkid': 3857}},\n",
       " '5': {'features': [{'attributes': {'OBJECTID': '57627',\n",
       "     '使用分區': '軍事機關用地',\n",
       "     '備註': '',\n",
       "     '分區簡稱': '軍事機關',\n",
       "     '參考面積': '71972.16',\n",
       "     '計畫區名稱': '臺北市都市計畫',\n",
       "     '計畫案名稱': '106年現行計畫圖',\n",
       "     '變更前分區': '',\n",
       "     '資料品質': '',\n",
       "     '資料日期': '',\n",
       "     '附帶條件': ''}}],\n",
       "  'geometryType': '',\n",
       "  'spatialReference': {'wkid': 3857}},\n",
       " '6': {'features': [], 'geometryType': '', 'spatialReference': {'wkid': 3857}}}"
      ]
     },
     "execution_count": 179,
     "metadata": {},
     "output_type": "execute_result"
    }
   ],
   "source": [
    "info"
   ]
  },
  {
   "cell_type": "code",
   "execution_count": 147,
   "metadata": {
    "collapsed": true
   },
   "outputs": [],
   "source": [
    "import twd97"
   ]
  },
  {
   "cell_type": "code",
   "execution_count": 155,
   "metadata": {
    "collapsed": true
   },
   "outputs": [],
   "source": [
    "lat,lng=twd97.towgs84(300933.651,2700157.358)"
   ]
  },
  {
   "cell_type": "code",
   "execution_count": null,
   "metadata": {
    "collapsed": true
   },
   "outputs": [],
   "source": []
  },
  {
   "cell_type": "code",
   "execution_count": null,
   "metadata": {
    "collapsed": true
   },
   "outputs": [],
   "source": []
  },
  {
   "cell_type": "code",
   "execution_count": 296,
   "metadata": {
    "collapsed": true
   },
   "outputs": [],
   "source": [
    "headersStr1=\"\"\"Accept: */*\n",
    "Accept-Encoding: gzip, deflate\n",
    "Accept-Language: zh-TW,zh;q=0.9,en-US;q=0.8,en;q=0.7\n",
    "Connection: keep-alive\n",
    "Content-Length: 114\n",
    "Content-Type: application/x-www-form-urlencoded; charset=UTF-8\n",
    "Cookie: ASP.NET_SessionId=zyh3tb3y1zfoxairu3hr0mth\n",
    "Host: luz.tcd.gov.tw\n",
    "Origin: http://luz.tcd.gov.tw\n",
    "Referer: http://luz.tcd.gov.tw/WEB/\n",
    "User-Agent: Mozilla/5.0 (Windows NT 6.1; Win64; x64) AppleWebKit/537.36 (KHTML, like Gecko) Chrome/67.0.3396.99 Safari/537.36\n",
    "X-Requested-With: XMLHttpRequest\"\"\"\n",
    "headersStr2='''Accept: */*\n",
    "Accept-Encoding: gzip, deflate\n",
    "Accept-Language: zh-TW,zh;q=0.9,en-US;q=0.8,en;q=0.7\n",
    "Connection: keep-alive\n",
    "Content-Length: 112\n",
    "Content-Type: application/x-www-form-urlencoded; charset=UTF-8\n",
    "Cookie: ASP.NET_SessionId=zyh3tb3y1zfoxairu3hr0mth\n",
    "Host: luz.tcd.gov.tw\n",
    "Origin: http://luz.tcd.gov.tw\n",
    "Referer: http://luz.tcd.gov.tw/web/\n",
    "User-Agent: Mozilla/5.0 (Windows NT 6.1; Win64; x64) AppleWebKit/537.36 (KHTML, like Gecko) Chrome/67.0.3396.99 Safari/537.36\n",
    "X-Requested-With: XMLHttpRequest'''"
   ]
  },
  {
   "cell_type": "code",
   "execution_count": 304,
   "metadata": {},
   "outputs": [
    {
     "name": "stdout",
     "output_type": "stream",
     "text": [
      "Content-Length: 114 Content-Length: 112\n",
      "Referer: http://luz.tcd.gov.tw/WEB/ Referer: http://luz.tcd.gov.tw/web/\n"
     ]
    }
   ],
   "source": [
    "for i,j in zip(headersStr1.split(\"\\n\"),headersStr2.split(\"\\n\")):\n",
    "    if i!=j:\n",
    "        print(i,j)"
   ]
  },
  {
   "cell_type": "code",
   "execution_count": null,
   "metadata": {
    "collapsed": true
   },
   "outputs": [],
   "source": [
    "VAL1: 永泰街110號1F\n",
    "TOWN: 中壢區\n",
    "COUNTY: 桃園市"
   ]
  }
 ],
 "metadata": {
  "kernelspec": {
   "display_name": "Python 3",
   "language": "python",
   "name": "python3"
  },
  "language_info": {
   "codemirror_mode": {
    "name": "ipython",
    "version": 3
   },
   "file_extension": ".py",
   "mimetype": "text/x-python",
   "name": "python",
   "nbconvert_exporter": "python",
   "pygments_lexer": "ipython3",
   "version": "3.6.4"
  }
 },
 "nbformat": 4,
 "nbformat_minor": 2
}
