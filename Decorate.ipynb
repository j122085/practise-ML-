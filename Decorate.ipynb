{
 "cells": [
  {
   "cell_type": "markdown",
   "metadata": {},
   "source": [
    "https://foofish.net/python-decorator.html"
   ]
  },
  {
   "cell_type": "code",
   "execution_count": 1,
   "metadata": {},
   "outputs": [
    {
     "name": "stdout",
     "output_type": "stream",
     "text": [
      "foo\n"
     ]
    }
   ],
   "source": [
    "\n",
    "def foo():\n",
    "    print(\"foo\")\n",
    "\n",
    "def bar(func):\n",
    "    func()\n",
    "\n",
    "bar(foo)"
   ]
  },
  {
   "cell_type": "code",
   "execution_count": 2,
   "metadata": {
    "collapsed": true
   },
   "outputs": [],
   "source": [
    "def foo():\n",
    "    print('i am foo')\n",
    "    \n",
    "import logging\n",
    "def foo():\n",
    "    print('i am foo')\n",
    "    logging.info(\"foo is running\")"
   ]
  },
  {
   "cell_type": "code",
   "execution_count": 3,
   "metadata": {},
   "outputs": [
    {
     "name": "stderr",
     "output_type": "stream",
     "text": [
      "D:\\anaconda\\lib\\site-packages\\ipykernel_launcher.py:2: DeprecationWarning: The 'warn' function is deprecated, use 'warning' instead\n",
      "  \n",
      "WARNING:root:foo is running\n"
     ]
    },
    {
     "name": "stdout",
     "output_type": "stream",
     "text": [
      "i am foo\n"
     ]
    }
   ],
   "source": [
    "def use_logging(func):\n",
    "    logging.warn(\"%s is running\" % func.__name__)\n",
    "    func()\n",
    "\n",
    "def foo():\n",
    "    print('i am foo')\n",
    "\n",
    "use_logging(foo)"
   ]
  },
  {
   "cell_type": "code",
   "execution_count": 4,
   "metadata": {},
   "outputs": [
    {
     "name": "stderr",
     "output_type": "stream",
     "text": [
      "D:\\anaconda\\lib\\site-packages\\ipykernel_launcher.py:4: DeprecationWarning: The 'warn' function is deprecated, use 'warning' instead\n",
      "  after removing the cwd from sys.path.\n",
      "WARNING:root:foo is running\n"
     ]
    },
    {
     "name": "stdout",
     "output_type": "stream",
     "text": [
      "i am foo\n"
     ]
    }
   ],
   "source": [
    "def use_logging(func):\n",
    "    def wrapper():\n",
    "        logging.warn(\"%s is running\" % func.__name__)\n",
    "        return func()   # 把 foo 当做参数传递进来时，执行func()就相当于执行foo()\n",
    "    return wrapper\n",
    "\n",
    "def foo():\n",
    "    print('i am foo')\n",
    "\n",
    "foo = use_logging(foo)  # 因为装饰器 use_logging(foo) 返回的时函数对象 wrapper，这条语句相当于  foo = wrapper\n",
    "foo()"
   ]
  },
  {
   "cell_type": "code",
   "execution_count": 5,
   "metadata": {},
   "outputs": [
    {
     "name": "stderr",
     "output_type": "stream",
     "text": [
      "D:\\anaconda\\lib\\site-packages\\ipykernel_launcher.py:4: DeprecationWarning: The 'warn' function is deprecated, use 'warning' instead\n",
      "  after removing the cwd from sys.path.\n",
      "WARNING:root:foo is running\n"
     ]
    },
    {
     "name": "stdout",
     "output_type": "stream",
     "text": [
      "i am foo\n"
     ]
    }
   ],
   "source": [
    "def use_logging(func):\n",
    "\n",
    "    def wrapper():\n",
    "        logging.warn(\"%s is running\" % func.__name__)\n",
    "        return func()\n",
    "    return wrapper\n",
    "\n",
    "@use_logging\n",
    "def foo():\n",
    "    print(\"i am foo\")\n",
    "\n",
    "foo()"
   ]
  },
  {
   "cell_type": "code",
   "execution_count": 27,
   "metadata": {},
   "outputs": [
    {
     "name": "stderr",
     "output_type": "stream",
     "text": [
      "D:\\anaconda\\lib\\site-packages\\ipykernel_launcher.py:5: DeprecationWarning: The 'warn' function is deprecated, use 'warning' instead\n",
      "  \"\"\"\n",
      "WARNING:root:foo is running\n"
     ]
    },
    {
     "name": "stdout",
     "output_type": "stream",
     "text": [
      "i am foo\n"
     ]
    }
   ],
   "source": [
    "def use_logging(level):\n",
    "    def decorator(func):\n",
    "        def wrapper(*args, **kwargs):\n",
    "            if level == \"warn\":\n",
    "                logging.warn(\"%s is running\" % func.__name__)\n",
    "            elif level == \"info\":\n",
    "                logging.info(\"%s is running\" % func.__name__)\n",
    "            return func(*args)\n",
    "        return wrapper\n",
    "\n",
    "    return decorator\n",
    "\n",
    "@use_logging(level=\"warn\")\n",
    "def foo(name='foo'):\n",
    "    print(\"i am %s\" % name)\n",
    "\n",
    "foo()"
   ]
  },
  {
   "cell_type": "code",
   "execution_count": 30,
   "metadata": {
    "scrolled": true
   },
   "outputs": [
    {
     "name": "stdout",
     "output_type": "stream",
     "text": [
      "class decorator runing\n",
      "bar\n",
      "class decorator ending\n"
     ]
    }
   ],
   "source": [
    "class Foo():\n",
    "    def __init__(self, func):\n",
    "        self._func = func\n",
    "\n",
    "    def __call__(self):\n",
    "        print ('class decorator runing')\n",
    "        self._func()\n",
    "        print ('class decorator ending')\n",
    "\n",
    "@Foo\n",
    "def bar():\n",
    "    print ('bar')\n",
    "\n",
    "bar()"
   ]
  },
  {
   "cell_type": "code",
   "execution_count": 38,
   "metadata": {},
   "outputs": [],
   "source": [
    "# 順序\n",
    "# @a\n",
    "# @b\n",
    "# @c\n",
    "# def f ():\n",
    "#     pass\n",
    "    \n",
    "# 由裡到外調用\n",
    "# f = a(b(c(f)))"
   ]
  },
  {
   "cell_type": "code",
   "execution_count": null,
   "metadata": {
    "collapsed": true
   },
   "outputs": [],
   "source": []
  }
 ],
 "metadata": {
  "kernelspec": {
   "display_name": "Python 3",
   "language": "python",
   "name": "python3"
  },
  "language_info": {
   "codemirror_mode": {
    "name": "ipython",
    "version": 3
   },
   "file_extension": ".py",
   "mimetype": "text/x-python",
   "name": "python",
   "nbconvert_exporter": "python",
   "pygments_lexer": "ipython3",
   "version": "3.6.4"
  }
 },
 "nbformat": 4,
 "nbformat_minor": 2
}
