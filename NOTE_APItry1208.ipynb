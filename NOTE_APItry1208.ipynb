{
 "cells": [
  {
   "cell_type": "markdown",
   "metadata": {},
   "source": [
    "# 中文轉阿拉伯"
   ]
  },
  {
   "cell_type": "code",
   "execution_count": null,
   "metadata": {
    "collapsed": true
   },
   "outputs": [],
   "source": [
    "dict ={u'零':0, u'一':1, u'二':2, u'三':3, u'四':4, u'五':5, u'六':6, u'七':7, u'八':8, u'九':9, u'十':10, u'百':100, u'千':1000, u'万':10000,\n",
    "       u'０':0, u'１':1, u'２':2, u'３':3, u'４':4, u'５':5, u'６':6, u'７':7, u'８':8, u'９':9,\n",
    "       u'0':0, u'1':1, u'2':2, u'3':3, u'4':4, u'5':5, u'6':6, u'7':7, u'8':8, u'9':9,\n",
    "       u'壹':1, u'贰':2, u'叁':3, u'肆':4, u'伍':5, u'陆':6, u'柒':7, u'捌':8, u'玖':9, u'拾':10, u'什':10, u'佰':100, u'仟':1000, u'萬':10000,\n",
    "       u'兩':2,u'貳':2, u'參':3, u'肆':4, u'伍':5, u'陸':6, u'佰':100, u'仟':1000, u'萬':10000,\n",
    "       u'亿':100000000,u'億':100000000,u'兆':1000000000000}\n",
    "def getResultForDigit(a, encoding=\"utf-8\"):\n",
    "    if not isinstance(a, str):\n",
    "        a = a.decode(encoding)\n",
    "    count = 0\n",
    "    result = 0\n",
    "    tmp = 0\n",
    "    Billion = 0\n",
    "    while count < len(a):\n",
    "        tmpChr = a[count]\n",
    "        #print tmpChr\n",
    "        tmpNum = dict.get(tmpChr, None)\n",
    "        #如果等于1亿\n",
    "        if tmpNum is None:\n",
    "            pass\n",
    "        elif tmpNum == 100000000:\n",
    "            result = result + tmp\n",
    "            result = result * tmpNum\n",
    "            #获得亿以上的数量，将其保存在中间变量Billion中并清空result\n",
    "            Billion = Billion * 100000000 + result\n",
    "            result = 0\n",
    "            tmp = 0\n",
    "        #如果等于1万\n",
    "        elif tmpNum == 10000:\n",
    "            result = result + tmp\n",
    "            result = result * tmpNum\n",
    "            tmp = 0\n",
    "        #如果等于十或者百，千\n",
    "        elif tmpNum >= 10:\n",
    "            if tmp == 0:\n",
    "                tmp = 1\n",
    "            result = result + tmpNum * tmp\n",
    "            tmp = 0\n",
    "        #如果是个位数\n",
    "        elif tmpNum is not None:\n",
    "            tmp = tmp * 10 + tmpNum\n",
    "        count += 1\n",
    "    result = result + tmp\n",
    "    result = result + Billion\n",
    "    return result"
   ]
  },
  {
   "cell_type": "code",
   "execution_count": 9,
   "metadata": {
    "collapsed": true
   },
   "outputs": [],
   "source": [
    "# 將這個公式的.py檔案放進D:\\anaconda\\Lib內即可直接import使用\n",
    "# 如果要變成套件，則放進D:\\anaconda\\Lib的 套件名稱(my_api) 資料夾內，並加入init.py檔"
   ]
  },
  {
   "cell_type": "code",
   "execution_count": 2,
   "metadata": {
    "collapsed": true
   },
   "outputs": [],
   "source": [
    "from my_api import TextMining\n",
    "TextMining."
   ]
  },
  {
   "cell_type": "code",
   "execution_count": 146,
   "metadata": {
    "collapsed": true
   },
   "outputs": [],
   "source": []
  },
  {
   "cell_type": "markdown",
   "metadata": {},
   "source": [
    "# dict取得value 沒key時的寫法"
   ]
  },
  {
   "cell_type": "code",
   "execution_count": null,
   "metadata": {
    "collapsed": true
   },
   "outputs": [],
   "source": [
    "#用[a]如果沒有key a會產生error 但用dict.get(a,b) 如果key a 不存在 則會回傳b值\n",
    "adict[\"j3\"]\n",
    "adict.get(\"j3\",\"sss\")"
   ]
  },
  {
   "cell_type": "markdown",
   "metadata": {},
   "source": [
    "# 單行if"
   ]
  },
  {
   "cell_type": "code",
   "execution_count": null,
   "metadata": {
    "collapsed": true
   },
   "outputs": [],
   "source": [
    "#a if b else c(b成立則a 否則c)\n",
    "(111 if 3>4 else 222)"
   ]
  },
  {
   "cell_type": "markdown",
   "metadata": {},
   "source": [
    "# 解開list(list)的快速方法"
   ]
  },
  {
   "cell_type": "code",
   "execution_count": 2,
   "metadata": {},
   "outputs": [
    {
     "data": {
      "text/plain": [
       "[1, 2, 3, 4, 5, 6, 7, 8, 9]"
      ]
     },
     "execution_count": 2,
     "metadata": {},
     "output_type": "execute_result"
    }
   ],
   "source": [
    "lts = [[1, 2, 3], [4, 5, 6], [7, 8, 9]]\n",
    "\n",
    "[ele for lt in lts for ele in lt]"
   ]
  },
  {
   "cell_type": "markdown",
   "metadata": {},
   "source": [
    "# python套件如何做?\n",
    "http://www.codedata.com.tw/python/python-tutorial-the-2nd-class-3-function-module-class-package/\n",
    "\n",
    "自己做import\n",
    "\n",
    "#檔案有tryyyy.py 裡面有def函數跟某些數值 可直接import tryyyy\n",
    "#資料夾名稱(bank)裡面有init.py檔則被視為套件、可import資料夾名稱.裡面的py檔 >>import bank.bank"
   ]
  },
  {
   "cell_type": "code",
   "execution_count": null,
   "metadata": {
    "collapsed": true
   },
   "outputs": [],
   "source": [
    "import tryyyy\n",
    "print(tryyyy.max(10,30),tryyyy.pi)"
   ]
  },
  {
   "cell_type": "code",
   "execution_count": null,
   "metadata": {
    "collapsed": true
   },
   "outputs": [],
   "source": [
    "import bank.bank\n",
    "acct = bank.account('Justin', '123-4567', 1000)\n",
    "bank.deposit(acct, 500)\n",
    "bank.withdraw(acct, 200)\n",
    "print (bank.to_str(acct))"
   ]
  },
  {
   "cell_type": "code",
   "execution_count": 28,
   "metadata": {
    "collapsed": true
   },
   "outputs": [],
   "source": [
    "#用__init__(self,name,tele,save)方法寫\n",
    "class bank:\n",
    "    def __init__(self,name,tele,have):\n",
    "        self.name=name\n",
    "        self.tele=tele\n",
    "        self.have=have\n",
    "    \n",
    "    def deposit(self,savein):\n",
    "        if savein>0:\n",
    "            self.have=self.have+savein\n",
    "        else:\n",
    "            raise ValueError(\"you should save positive money\")\n",
    "        \n",
    "    def withdraw(self,draw):\n",
    "        if draw>0:\n",
    "            if self.have>draw:\n",
    "                self.have=self.have-draw\n",
    "            else:\n",
    "                raise RuntimeError(\"your have is not enough\")\n",
    "        else:\n",
    "            raise ValueError(\"you should draw positive money\")\n",
    "    def __str__(self):\n",
    "        return \"bank({},{},{})\".format(self.name,self.tele,self.have)"
   ]
  },
  {
   "cell_type": "code",
   "execution_count": 30,
   "metadata": {
    "scrolled": true
   },
   "outputs": [
    {
     "name": "stdout",
     "output_type": "stream",
     "text": [
      "bank(Andy,0953564878,405000)\n",
      "bank(Andy,0953564878,354500)\n"
     ]
    }
   ],
   "source": [
    "acc=bank(\"Andy\",\"0953564878\",400000)\n",
    "acc.deposit(5000)\n",
    "print(acc)\n",
    "\n",
    "acc.withdraw(50500)\n",
    "print(acc)"
   ]
  },
  {
   "cell_type": "markdown",
   "metadata": {},
   "source": [
    "# lambda用法   lambda  a, b, c: you want to do from a,b,c\n",
    ">sum=lambda o, elem: o + elem\n",
    "\n",
    ">p=lambda o, elem: o *elem\n",
    "\n",
    "# reduce用法 (公式 ,需相同計算方式的list,計算初始)\n",
    ">reduce(sum,[1,2,3,4,5,6],5)\n",
    "5+1+2+3+4+5+6\n",
    "\n",
    ">reduce(p,[3,3,3,3],1)\n",
    "1\\*3\\*3\\*3\\*3\n"
   ]
  },
  {
   "cell_type": "code",
   "execution_count": 34,
   "metadata": {},
   "outputs": [
    {
     "data": {
      "text/plain": [
       "26"
      ]
     },
     "execution_count": 34,
     "metadata": {},
     "output_type": "execute_result"
    }
   ],
   "source": [
    "from functools import reduce\n",
    "\n",
    "summ=lambda a, b: a + b\n",
    "reduce(sum,[1,2,3,4,5,6],5)\n",
    "#5+1+2+3+4+5+6"
   ]
  },
  {
   "cell_type": "code",
   "execution_count": 33,
   "metadata": {},
   "outputs": [
    {
     "data": {
      "text/plain": [
       "81"
      ]
     },
     "execution_count": 33,
     "metadata": {},
     "output_type": "execute_result"
    }
   ],
   "source": [
    "p=lambda o, elem: o *elem\n",
    "reduce(p,[3,3,3,3],1)\n",
    "#>1*3*3*3*3"
   ]
  },
  {
   "cell_type": "markdown",
   "metadata": {},
   "source": [
    "# GUI"
   ]
  },
  {
   "cell_type": "code",
   "execution_count": 37,
   "metadata": {
    "collapsed": true
   },
   "outputs": [],
   "source": [
    "import tkinter as tk\n",
    " \n",
    "win=tk.Tk()\n",
    "win.title(\"My First Tk GUI\")#給標題\n",
    "label=tk.Label(win, text=\"Hello World!\")\n",
    "label.pack() #顯上label\n",
    "button=tk.Button(win, text=\"OK\")\n",
    "button.pack()#顯示botton\n",
    "win.resizable(0,0)#禁止調整大小\n",
    "win.mainloop()"
   ]
  },
  {
   "cell_type": "code",
   "execution_count": 38,
   "metadata": {
    "collapsed": true
   },
   "outputs": [],
   "source": [
    "from tkinter import *\n",
    "win=Tk()\n",
    "win.title(\"Tk GUI\")\n",
    "label=Label(win, text=\"Hello World!\")\n",
    "button=Button(win, text=\"OK\")\n",
    "label.pack()\n",
    "button.pack()\n",
    "win.mainloop()"
   ]
  },
  {
   "cell_type": "code",
   "execution_count": 39,
   "metadata": {
    "collapsed": true
   },
   "outputs": [],
   "source": [
    "from tkinter import *\n",
    "win=Tk()\n",
    "win.title(\"Tk GUI\")\n",
    "label=Label(win, text=\"Hello World!\")\n",
    "button=Button(win, text=\"OK\")\n",
    "label.grid(column=0,row=0)\n",
    "button.grid(column=0,row=2)\n",
    "win.mainloop() "
   ]
  },
  {
   "cell_type": "code",
   "execution_count": 40,
   "metadata": {
    "collapsed": true
   },
   "outputs": [],
   "source": [
    "from tkinter import *\n",
    "win=Tk()\n",
    "win.title(\"Tk GUI\")\n",
    "label=Label(win, text=\"Hello World!\")\n",
    "count=0\n",
    "def clickOK():\n",
    "    global count\n",
    "    count=count + 1\n",
    "    label.configure(text=\"Click OK \" + str(count) + \" times\")\n",
    "button=Button(win, text=\"OK\", command=clickOK)\n",
    "label.pack()\n",
    "button.pack()\n",
    "win.mainloop()"
   ]
  },
  {
   "cell_type": "markdown",
   "metadata": {
    "collapsed": true
   },
   "source": [
    "# 試寫TFIDF API"
   ]
  },
  {
   "cell_type": "code",
   "execution_count": 5,
   "metadata": {
    "collapsed": true
   },
   "outputs": [],
   "source": [
    "class TextMining:\n",
    "    from collections import Counter\n",
    "    import math\n",
    "    '''You should [I] cutArticlelist for get TFIDF'''\n",
    "    def __init__(self,cutArticlelist):\n",
    "        self.cutArticlelist=cutArticlelist\n",
    "    \n",
    "    def getWordCountList(self,N=300):\n",
    "        '''get all words(most appear limit 300)'''\n",
    "        wordCountList=[Counter(pincut.split(\" \")).most_common(N) for pincut in self.cutArticlelist]\n",
    "        return wordCountList\n",
    "    \n",
    "#     def getWordSet(self,N=300):\n",
    "#         wordCountlist=self.getWordCountList(N)\n",
    "#         wordset=set()\n",
    "#         for wordCount in wordCountlist:\n",
    "#             wordset.update(dict(wordCount).keys())\n",
    "#         print(\"共{}個字\".format(len(wordset)))\n",
    "#         return wordset\n",
    "\n",
    "    def getTF(self,N=300):\n",
    "        TFList=[]\n",
    "        n=0\n",
    "        for wordCount in self.getWordCountList(N):\n",
    "            n+=1\n",
    "            if n%1000==0:\n",
    "                print(n)\n",
    "            TF={}\n",
    "            allwords=sum(dict(wordCount).values())\n",
    "            for wordkv in wordCount:\n",
    "                TF[wordkv[0]]=(wordkv[1]/allwords)\n",
    "            TFList.append(TF)\n",
    "        return TFList\n",
    "    \n",
    "    def getWordAppear(self,N=300):\n",
    "        k=0\n",
    "        wordappear={}\n",
    "        for wordCount in self.getWordCountList(N):\n",
    "            k+=1\n",
    "            if k%3000==0:\n",
    "                print(k)\n",
    "            for word in dict(wordCount).keys():\n",
    "                if word in wordappear:\n",
    "                    wordappear[word]+=1\n",
    "                else:\n",
    "                    wordappear[word]=1\n",
    "        return wordappear\n",
    "    \n",
    "    def getIDF(self,N=300):\n",
    "        wordappear=self.getWordAppear(N)\n",
    "        artN=len(self.cutArticlelist)\n",
    "        IDFDict={word:math.log(artN/wordappear[word],10) for word in wordappear}\n",
    "        return IDFDict\n",
    "    \n",
    "    def getTFIDF(self,N=300):\n",
    "        TFList=self.getTF(N)\n",
    "        IDFdict=self.getIDF(N)\n",
    "        TFIDFList=[]\n",
    "        for artTFdict in TFList:\n",
    "            artTFIDF=Counter()\n",
    "            for artword in artTFdict:\n",
    "                artTFIDF[artword]=artTFdict[artword]*IDFdict[artword]\n",
    "            TFIDFList.append(artTFIDF)\n",
    "        return TFIDFList\n",
    "    \n",
    "    def __str__(self):\n",
    "        return \"TextMining({})\".format(self.cutArticlelist)"
   ]
  },
  {
   "cell_type": "code",
   "execution_count": 9,
   "metadata": {},
   "outputs": [
    {
     "data": {
      "text/plain": [
       "array([1, 2, 3])"
      ]
     },
     "execution_count": 9,
     "metadata": {},
     "output_type": "execute_result"
    }
   ],
   "source": [
    "import numpy as np\n",
    "a=np.array([1,2,3])\n",
    "a\n",
    "\n",
    "# a=np.array([1,2,3])"
   ]
  },
  {
   "cell_type": "code",
   "execution_count": 17,
   "metadata": {},
   "outputs": [
    {
     "data": {
      "text/plain": [
       "array([[ 1.5,  2. ,  3. ],\n",
       "       [ 4. ,  5. ,  6. ]])"
      ]
     },
     "execution_count": 17,
     "metadata": {},
     "output_type": "execute_result"
    }
   ],
   "source": [
    "b=np.array([[1.5,2,3],[4,5,6]])\n",
    "b"
   ]
  },
  {
   "cell_type": "code",
   "execution_count": 18,
   "metadata": {},
   "outputs": [
    {
     "data": {
      "text/plain": [
       "array([[[ 1.5,  2. ,  3. ],\n",
       "        [ 4. ,  5. ,  6. ]],\n",
       "\n",
       "       [[ 3. ,  2. ,  1. ],\n",
       "        [ 4. ,  5. ,  6. ]]])"
      ]
     },
     "execution_count": 18,
     "metadata": {},
     "output_type": "execute_result"
    }
   ],
   "source": [
    "c=np.array([[(1.5,2,3),(4,5,6)],[(3,2,1),(4,5,6)]])\n",
    "c"
   ]
  },
  {
   "cell_type": "code",
   "execution_count": 19,
   "metadata": {},
   "outputs": [
    {
     "data": {
      "text/plain": [
       "array([[ 0.,  0.,  0.,  0.],\n",
       "       [ 0.,  0.,  0.,  0.],\n",
       "       [ 0.,  0.,  0.,  0.]])"
      ]
     },
     "execution_count": 19,
     "metadata": {},
     "output_type": "execute_result"
    }
   ],
   "source": [
    "np.zeros((3,4))"
   ]
  },
  {
   "cell_type": "code",
   "execution_count": 20,
   "metadata": {},
   "outputs": [
    {
     "data": {
      "text/plain": [
       "array([[[ 1.,  1.,  1.,  1.],\n",
       "        [ 1.,  1.,  1.,  1.],\n",
       "        [ 1.,  1.,  1.,  1.]],\n",
       "\n",
       "       [[ 1.,  1.,  1.,  1.],\n",
       "        [ 1.,  1.,  1.,  1.],\n",
       "        [ 1.,  1.,  1.,  1.]]])"
      ]
     },
     "execution_count": 20,
     "metadata": {},
     "output_type": "execute_result"
    }
   ],
   "source": [
    "np.ones((2,3,4))"
   ]
  },
  {
   "cell_type": "code",
   "execution_count": 25,
   "metadata": {},
   "outputs": [
    {
     "data": {
      "text/plain": [
       "array([10, 15, 20, 25])"
      ]
     },
     "execution_count": 25,
     "metadata": {},
     "output_type": "execute_result"
    }
   ],
   "source": [
    "d=np.arange(10,30,5)\n",
    "d"
   ]
  },
  {
   "cell_type": "code",
   "execution_count": 26,
   "metadata": {},
   "outputs": [
    {
     "data": {
      "text/plain": [
       "array([ 0.  ,  0.25,  0.5 ,  0.75,  1.  ,  1.25,  1.5 ,  1.75,  2.  ])"
      ]
     },
     "execution_count": 26,
     "metadata": {},
     "output_type": "execute_result"
    }
   ],
   "source": [
    "np.linspace(0,2,9)"
   ]
  },
  {
   "cell_type": "code",
   "execution_count": 30,
   "metadata": {},
   "outputs": [
    {
     "data": {
      "text/plain": [
       "array([[7, 7],\n",
       "       [7, 7]])"
      ]
     },
     "execution_count": 30,
     "metadata": {},
     "output_type": "execute_result"
    }
   ],
   "source": [
    "e=np.full((2,2),7)\n",
    "e"
   ]
  },
  {
   "cell_type": "code",
   "execution_count": 35,
   "metadata": {},
   "outputs": [
    {
     "data": {
      "text/plain": [
       "array([[ 1.,  0.,  0.,  0.,  0.],\n",
       "       [ 0.,  1.,  0.,  0.,  0.],\n",
       "       [ 0.,  0.,  1.,  0.,  0.],\n",
       "       [ 0.,  0.,  0.,  1.,  0.],\n",
       "       [ 0.,  0.,  0.,  0.,  1.]])"
      ]
     },
     "execution_count": 35,
     "metadata": {},
     "output_type": "execute_result"
    }
   ],
   "source": [
    "f=np.eye(5)\n",
    "f"
   ]
  },
  {
   "cell_type": "code",
   "execution_count": 36,
   "metadata": {},
   "outputs": [
    {
     "data": {
      "text/plain": [
       "array([[ 1.,  0.,  0.,  0.],\n",
       "       [ 0.,  1.,  0.,  0.],\n",
       "       [ 0.,  0.,  1.,  0.]])"
      ]
     },
     "execution_count": 36,
     "metadata": {},
     "output_type": "execute_result"
    }
   ],
   "source": [
    "f=np.eye(3,4)\n",
    "f"
   ]
  },
  {
   "cell_type": "code",
   "execution_count": 42,
   "metadata": {},
   "outputs": [
    {
     "data": {
      "text/plain": [
       "array([ 0.58335928,  0.52324669,  0.29156031,  0.56717818,  0.03400959])"
      ]
     },
     "execution_count": 42,
     "metadata": {},
     "output_type": "execute_result"
    }
   ],
   "source": [
    "np.random.random(5)"
   ]
  },
  {
   "cell_type": "code",
   "execution_count": 45,
   "metadata": {},
   "outputs": [
    {
     "data": {
      "text/plain": [
       "array([[ 0.2011736 ,  0.65971363,  0.83272981],\n",
       "       [ 0.23794851,  0.29040024,  0.24004346],\n",
       "       [ 0.28470366,  0.90341337,  0.50584384]])"
      ]
     },
     "execution_count": 45,
     "metadata": {},
     "output_type": "execute_result"
    }
   ],
   "source": [
    "np.random.random((3,3))"
   ]
  },
  {
   "cell_type": "code",
   "execution_count": 60,
   "metadata": {},
   "outputs": [
    {
     "data": {
      "text/plain": [
       "array([[ 1.5,  2. ],\n",
       "       [ 3. ,  4. ],\n",
       "       [ 5. ,  6. ]])"
      ]
     },
     "execution_count": 60,
     "metadata": {},
     "output_type": "execute_result"
    }
   ],
   "source": [
    "np.empty((3,2))"
   ]
  },
  {
   "cell_type": "code",
   "execution_count": 62,
   "metadata": {
    "collapsed": true
   },
   "outputs": [],
   "source": [
    "np.save('my_array', a)\n",
    "np.savez('array.npz', a,b)"
   ]
  },
  {
   "cell_type": "code",
   "execution_count": 63,
   "metadata": {},
   "outputs": [
    {
     "data": {
      "text/plain": [
       "array([1, 2, 3])"
      ]
     },
     "execution_count": 63,
     "metadata": {},
     "output_type": "execute_result"
    }
   ],
   "source": [
    "np.load('my_array.npy')"
   ]
  }
 ],
 "metadata": {
  "kernelspec": {
   "display_name": "Python 3",
   "language": "python",
   "name": "python3"
  },
  "language_info": {
   "codemirror_mode": {
    "name": "ipython",
    "version": 3
   },
   "file_extension": ".py",
   "mimetype": "text/x-python",
   "name": "python",
   "nbconvert_exporter": "python",
   "pygments_lexer": "ipython3",
   "version": "3.6.3"
  }
 },
 "nbformat": 4,
 "nbformat_minor": 2
}
