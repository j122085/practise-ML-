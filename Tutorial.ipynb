{
 "cells": [
  {
   "cell_type": "code",
   "execution_count": 1,
   "metadata": {
    "collapsed": true
   },
   "outputs": [],
   "source": [
    "A = \"Hello\""
   ]
  },
  {
   "cell_type": "code",
   "execution_count": 5,
   "metadata": {},
   "outputs": [
    {
     "data": {
      "text/plain": [
       "'ello'"
      ]
     },
     "execution_count": 5,
     "metadata": {},
     "output_type": "execute_result"
    }
   ],
   "source": [
    "A[-4:] "
   ]
  },
  {
   "cell_type": "code",
   "execution_count": 11,
   "metadata": {},
   "outputs": [
    {
     "name": "stdout",
     "output_type": "stream",
     "text": [
      "D:\\notebook\\running_man\\test.dat\n"
     ]
    }
   ],
   "source": [
    "print(\"D:\\\\notebook\\\\running_man\\\\test.dat\")"
   ]
  },
  {
   "cell_type": "code",
   "execution_count": 12,
   "metadata": {},
   "outputs": [
    {
     "name": "stdout",
     "output_type": "stream",
     "text": [
      "False\n"
     ]
    }
   ],
   "source": [
    "print(not True)"
   ]
  },
  {
   "cell_type": "code",
   "execution_count": 16,
   "metadata": {
    "collapsed": true
   },
   "outputs": [],
   "source": [
    "A = \"asdasd\"\n",
    "B = -20\n",
    "C = A\n",
    "D = (0, 10, 20)"
   ]
  },
  {
   "cell_type": "code",
   "execution_count": 17,
   "metadata": {},
   "outputs": [
    {
     "data": {
      "text/plain": [
       "True"
      ]
     },
     "execution_count": 17,
     "metadata": {},
     "output_type": "execute_result"
    }
   ],
   "source": [
    "A is C"
   ]
  },
  {
   "cell_type": "code",
   "execution_count": 5,
   "metadata": {
    "collapsed": true
   },
   "outputs": [],
   "source": [
    "T3 = (0, (1, 3), (2, 4),0)"
   ]
  },
  {
   "cell_type": "code",
   "execution_count": 6,
   "metadata": {},
   "outputs": [
    {
     "data": {
      "text/plain": [
       "3"
      ]
     },
     "execution_count": 6,
     "metadata": {},
     "output_type": "execute_result"
    }
   ],
   "source": [
    "T3[1][1]"
   ]
  },
  {
   "cell_type": "code",
   "execution_count": 9,
   "metadata": {},
   "outputs": [],
   "source": [
    "T3=('Python', 'has', 'lots', 'of', 'interesDng', 'things', 'you', 'can', 'do', 'with', 'strings')"
   ]
  },
  {
   "cell_type": "code",
   "execution_count": 10,
   "metadata": {},
   "outputs": [
    {
     "data": {
      "text/plain": [
       "'things'"
      ]
     },
     "execution_count": 10,
     "metadata": {},
     "output_type": "execute_result"
    }
   ],
   "source": [
    "T3[5]"
   ]
  },
  {
   "cell_type": "code",
   "execution_count": 13,
   "metadata": {},
   "outputs": [
    {
     "data": {
      "text/plain": [
       "[499, 322, 161, 153, 66, 3, 2, 1]"
      ]
     },
     "execution_count": 13,
     "metadata": {},
     "output_type": "execute_result"
    }
   ],
   "source": [
    "sorted([1,2,3,66,499,153,322,161],reverse=True)"
   ]
  },
  {
   "cell_type": "code",
   "execution_count": 23,
   "metadata": {
    "collapsed": true
   },
   "outputs": [],
   "source": [
    "a='''Python has a lot of interesDng things you can do with strings'''"
   ]
  },
  {
   "cell_type": "code",
   "execution_count": 24,
   "metadata": {},
   "outputs": [
    {
     "data": {
      "text/plain": [
       "['strings',\n",
       " 'with',\n",
       " 'do',\n",
       " 'can',\n",
       " 'you',\n",
       " 'things',\n",
       " 'interesDng',\n",
       " 'of',\n",
       " 'lot',\n",
       " 'a',\n",
       " 'has',\n",
       " 'Python']"
      ]
     },
     "execution_count": 24,
     "metadata": {},
     "output_type": "execute_result"
    }
   ],
   "source": [
    "a.split(\" \")[: :-1]"
   ]
  },
  {
   "cell_type": "code",
   "execution_count": 32,
   "metadata": {
    "collapsed": true
   },
   "outputs": [],
   "source": [
    "x=set()"
   ]
  },
  {
   "cell_type": "code",
   "execution_count": 26,
   "metadata": {},
   "outputs": [],
   "source": [
    "x.update(a.split(\" \")[: :-1])"
   ]
  },
  {
   "cell_type": "code",
   "execution_count": 43,
   "metadata": {},
   "outputs": [],
   "source": [
    "aaa=[1,2,3,4,555,6,{\"a\":3},7]"
   ]
  },
  {
   "cell_type": "code",
   "execution_count": 44,
   "metadata": {},
   "outputs": [
    {
     "ename": "TypeError",
     "evalue": "unhashable type: 'dict'",
     "output_type": "error",
     "traceback": [
      "\u001b[1;31m---------------------------------------------------------------------------\u001b[0m",
      "\u001b[1;31mTypeError\u001b[0m                                 Traceback (most recent call last)",
      "\u001b[1;32m<ipython-input-44-8b5f65281567>\u001b[0m in \u001b[0;36m<module>\u001b[1;34m()\u001b[0m\n\u001b[1;32m----> 1\u001b[1;33m \u001b[0mx\u001b[0m\u001b[1;33m.\u001b[0m\u001b[0mupdate\u001b[0m\u001b[1;33m(\u001b[0m\u001b[0maaa\u001b[0m\u001b[1;33m)\u001b[0m\u001b[1;33m\u001b[0m\u001b[0m\n\u001b[0m",
      "\u001b[1;31mTypeError\u001b[0m: unhashable type: 'dict'"
     ]
    }
   ],
   "source": [
    "x.update(aaa)"
   ]
  },
  {
   "cell_type": "code",
   "execution_count": 50,
   "metadata": {},
   "outputs": [],
   "source": [
    "mathPass={\"Tom\", \"John\", \"Mary\", \"Kevin\", \"Ben\", \"Amy\"}\n",
    "englishPass={\"John\", \"Mike\", \"Tony\", \"Bob\", \"Pony\", \"Tom\", \"Alice\"}"
   ]
  },
  {
   "cell_type": "code",
   "execution_count": 51,
   "metadata": {},
   "outputs": [
    {
     "data": {
      "text/plain": [
       "{'Amy', 'Ben', 'Kevin', 'Mary'}"
      ]
     },
     "execution_count": 51,
     "metadata": {},
     "output_type": "execute_result"
    }
   ],
   "source": [
    "mathPass-englishPass"
   ]
  },
  {
   "cell_type": "code",
   "execution_count": 52,
   "metadata": {},
   "outputs": [
    {
     "data": {
      "text/plain": [
       "{'Alice', 'Bob', 'Mike', 'Pony', 'Tony'}"
      ]
     },
     "execution_count": 52,
     "metadata": {},
     "output_type": "execute_result"
    }
   ],
   "source": [
    "englishPass-mathPass"
   ]
  },
  {
   "cell_type": "code",
   "execution_count": 53,
   "metadata": {},
   "outputs": [
    {
     "data": {
      "text/plain": [
       "{'John', 'Tom'}"
      ]
     },
     "execution_count": 53,
     "metadata": {},
     "output_type": "execute_result"
    }
   ],
   "source": [
    "englishPass&mathPass"
   ]
  },
  {
   "cell_type": "code",
   "execution_count": 55,
   "metadata": {},
   "outputs": [
    {
     "data": {
      "text/plain": [
       "{'Alice',\n",
       " 'Amy',\n",
       " 'Ben',\n",
       " 'Bob',\n",
       " 'John',\n",
       " 'Kevin',\n",
       " 'Mary',\n",
       " 'Mike',\n",
       " 'Pony',\n",
       " 'Tom',\n",
       " 'Tony'}"
      ]
     },
     "execution_count": 55,
     "metadata": {},
     "output_type": "execute_result"
    }
   ],
   "source": [
    "englishPass|mathPass"
   ]
  },
  {
   "cell_type": "code",
   "execution_count": 58,
   "metadata": {},
   "outputs": [],
   "source": [
    "D2 = dict( [ [\"a\", 100], [\"b\", 200] ] )"
   ]
  },
  {
   "cell_type": "code",
   "execution_count": 60,
   "metadata": {},
   "outputs": [
    {
     "data": {
      "text/plain": [
       "dict_items([('a', 100), ('b', 200)])"
      ]
     },
     "execution_count": 60,
     "metadata": {},
     "output_type": "execute_result"
    }
   ],
   "source": [
    "D2.items()"
   ]
  },
  {
   "cell_type": "code",
   "execution_count": 61,
   "metadata": {
    "collapsed": true
   },
   "outputs": [],
   "source": [
    "D3=D2"
   ]
  },
  {
   "cell_type": "code",
   "execution_count": 64,
   "metadata": {},
   "outputs": [],
   "source": [
    "D3[\"a\"]=500"
   ]
  },
  {
   "cell_type": "code",
   "execution_count": 65,
   "metadata": {},
   "outputs": [
    {
     "data": {
      "text/plain": [
       "{'a': 500, 'b': 200}"
      ]
     },
     "execution_count": 65,
     "metadata": {},
     "output_type": "execute_result"
    }
   ],
   "source": [
    "D2"
   ]
  },
  {
   "cell_type": "code",
   "execution_count": 67,
   "metadata": {},
   "outputs": [],
   "source": [
    " D3=D2.copy()"
   ]
  },
  {
   "cell_type": "code",
   "execution_count": 68,
   "metadata": {
    "collapsed": true
   },
   "outputs": [],
   "source": [
    "D3['a']=50"
   ]
  },
  {
   "cell_type": "code",
   "execution_count": 69,
   "metadata": {},
   "outputs": [
    {
     "data": {
      "text/plain": [
       "{'a': 500, 'b': 200}"
      ]
     },
     "execution_count": 69,
     "metadata": {},
     "output_type": "execute_result"
    }
   ],
   "source": [
    "D2"
   ]
  },
  {
   "cell_type": "code",
   "execution_count": 70,
   "metadata": {},
   "outputs": [
    {
     "data": {
      "text/plain": [
       "{'a': 50, 'b': 200}"
      ]
     },
     "execution_count": 70,
     "metadata": {},
     "output_type": "execute_result"
    }
   ],
   "source": [
    "D3"
   ]
  },
  {
   "cell_type": "code",
   "execution_count": 71,
   "metadata": {
    "collapsed": true
   },
   "outputs": [],
   "source": [
    "A=\"aaaa\""
   ]
  },
  {
   "cell_type": "code",
   "execution_count": 72,
   "metadata": {
    "collapsed": true
   },
   "outputs": [],
   "source": [
    "B=A"
   ]
  },
  {
   "cell_type": "code",
   "execution_count": 74,
   "metadata": {},
   "outputs": [],
   "source": [
    "B=B+\"2\""
   ]
  },
  {
   "cell_type": "code",
   "execution_count": 78,
   "metadata": {},
   "outputs": [
    {
     "data": {
      "text/plain": [
       "True"
      ]
     },
     "execution_count": 78,
     "metadata": {},
     "output_type": "execute_result"
    }
   ],
   "source": [
    "D3[\"a\"]=500\n",
    "D2==D3"
   ]
  },
  {
   "cell_type": "code",
   "execution_count": 82,
   "metadata": {},
   "outputs": [
    {
     "name": "stdout",
     "output_type": "stream",
     "text": [
      "It's nothing.\n"
     ]
    }
   ],
   "source": [
    "anything = None \n",
    "if anything:\n",
    "    print(\"It's something.\")\n",
    "else: \n",
    "    print(\"It's nothing.\")"
   ]
  },
  {
   "cell_type": "code",
   "execution_count": 84,
   "metadata": {},
   "outputs": [
    {
     "data": {
      "text/plain": [
       "False"
      ]
     },
     "execution_count": 84,
     "metadata": {},
     "output_type": "execute_result"
    }
   ],
   "source": [
    "50 in D2"
   ]
  },
  {
   "cell_type": "code",
   "execution_count": 89,
   "metadata": {},
   "outputs": [
    {
     "name": "stdout",
     "output_type": "stream",
     "text": [
      "('a', 500)\n",
      "('b', 200)\n"
     ]
    }
   ],
   "source": [
    "for k in D3.items():\n",
    "    print(k)"
   ]
  },
  {
   "cell_type": "code",
   "execution_count": 91,
   "metadata": {},
   "outputs": [
    {
     "data": {
      "text/plain": [
       "[10, 8, 6, 4, 2, 0]"
      ]
     },
     "execution_count": 91,
     "metadata": {},
     "output_type": "execute_result"
    }
   ],
   "source": [
    "list(range(10,-1,-2)) "
   ]
  },
  {
   "cell_type": "code",
   "execution_count": 93,
   "metadata": {},
   "outputs": [
    {
     "data": {
      "text/plain": [
       "'nohtyP sah a tol fo gnDseretni sgniht uoy nac od htiw sgnirts'"
      ]
     },
     "execution_count": 93,
     "metadata": {},
     "output_type": "execute_result"
    }
   ],
   "source": [
    "\" \".join([i[::-1] for i in \"\"\"Python has a lot of interesDng things you can do with strings\"\"\".split(\" \")])"
   ]
  },
  {
   "cell_type": "code",
   "execution_count": 94,
   "metadata": {
    "collapsed": true
   },
   "outputs": [],
   "source": [
    "song='When I find myself in time of trouble \\n Mother Mary comes to me \\n Speaking words of wisdom: Let it be \\n And in my hour of darkness \\n She is standing right in front of me \\n Speaking words of wisdom: Let it be \\n Let it be, let it be \\n Let it be, let it be \\n Whisper words of wisdom: Let it be \\n And when the broken hearted people living in the world agree \\n There will be an answer: Let it be \\n For though they may be parted \\n There is still a chance that they will see \\n There will be an answer: Let it be \\n Let it be, let it be \\n Let it be, let it be \\n Yeah, there will be an answer: Let it be \\n And when the night is cloudy \\n There is still a light that shines on me \\n Shine until tomorrow. Let it be \\n I wake up to the sound of music Mother Mary comes to me \\n Speaking words of wisdom: Let it be'"
   ]
  },
  {
   "cell_type": "code",
   "execution_count": 98,
   "metadata": {
    "collapsed": true
   },
   "outputs": [],
   "source": [
    "from collections import Counter\n",
    "worddict=Counter()\n",
    "for word in song.split(\" \"):\n",
    "    if word not in worddict:\n",
    "        worddict[word]=0\n",
    "    worddict[word]+=1\n",
    "    "
   ]
  },
  {
   "cell_type": "code",
   "execution_count": 101,
   "metadata": {
    "scrolled": true
   },
   "outputs": [
    {
     "data": {
      "text/plain": [
       "[('\\n', 21),\n",
       " ('it', 16),\n",
       " ('be', 16),\n",
       " ('Let', 12),\n",
       " ('of', 8),\n",
       " ('in', 4),\n",
       " ('me', 4),\n",
       " ('words', 4),\n",
       " ('wisdom:', 4),\n",
       " ('is', 4),\n",
       " ('be,', 4),\n",
       " ('let', 4),\n",
       " ('the', 4),\n",
       " ('There', 4),\n",
       " ('will', 4),\n",
       " ('to', 3),\n",
       " ('Speaking', 3),\n",
       " ('And', 3),\n",
       " ('an', 3),\n",
       " ('answer:', 3),\n",
       " ('I', 2),\n",
       " ('Mother', 2),\n",
       " ('Mary', 2),\n",
       " ('comes', 2),\n",
       " ('when', 2),\n",
       " ('they', 2),\n",
       " ('still', 2),\n",
       " ('a', 2),\n",
       " ('that', 2),\n",
       " ('When', 1),\n",
       " ('find', 1),\n",
       " ('myself', 1),\n",
       " ('time', 1),\n",
       " ('trouble', 1),\n",
       " ('my', 1),\n",
       " ('hour', 1),\n",
       " ('darkness', 1),\n",
       " ('She', 1),\n",
       " ('standing', 1),\n",
       " ('right', 1),\n",
       " ('front', 1),\n",
       " ('Whisper', 1),\n",
       " ('broken', 1),\n",
       " ('hearted', 1),\n",
       " ('people', 1),\n",
       " ('living', 1),\n",
       " ('world', 1),\n",
       " ('agree', 1),\n",
       " ('For', 1),\n",
       " ('though', 1)]"
      ]
     },
     "execution_count": 101,
     "metadata": {},
     "output_type": "execute_result"
    }
   ],
   "source": [
    "worddict.most_common(50)"
   ]
  },
  {
   "cell_type": "code",
   "execution_count": 102,
   "metadata": {
    "scrolled": true
   },
   "outputs": [
    {
     "data": {
      "text/plain": [
       "Counter({'\\n': 21,\n",
       "         'And': 3,\n",
       "         'For': 1,\n",
       "         'I': 2,\n",
       "         'Let': 12,\n",
       "         'Mary': 2,\n",
       "         'Mother': 2,\n",
       "         'She': 1,\n",
       "         'Shine': 1,\n",
       "         'Speaking': 3,\n",
       "         'There': 4,\n",
       "         'When': 1,\n",
       "         'Whisper': 1,\n",
       "         'Yeah,': 1,\n",
       "         'a': 2,\n",
       "         'agree': 1,\n",
       "         'an': 3,\n",
       "         'answer:': 3,\n",
       "         'be': 16,\n",
       "         'be,': 4,\n",
       "         'broken': 1,\n",
       "         'chance': 1,\n",
       "         'cloudy': 1,\n",
       "         'comes': 2,\n",
       "         'darkness': 1,\n",
       "         'find': 1,\n",
       "         'front': 1,\n",
       "         'hearted': 1,\n",
       "         'hour': 1,\n",
       "         'in': 4,\n",
       "         'is': 4,\n",
       "         'it': 16,\n",
       "         'let': 4,\n",
       "         'light': 1,\n",
       "         'living': 1,\n",
       "         'may': 1,\n",
       "         'me': 4,\n",
       "         'music': 1,\n",
       "         'my': 1,\n",
       "         'myself': 1,\n",
       "         'night': 1,\n",
       "         'of': 8,\n",
       "         'on': 1,\n",
       "         'parted': 1,\n",
       "         'people': 1,\n",
       "         'right': 1,\n",
       "         'see': 1,\n",
       "         'shines': 1,\n",
       "         'sound': 1,\n",
       "         'standing': 1,\n",
       "         'still': 2,\n",
       "         'that': 2,\n",
       "         'the': 4,\n",
       "         'there': 1,\n",
       "         'they': 2,\n",
       "         'though': 1,\n",
       "         'time': 1,\n",
       "         'to': 3,\n",
       "         'tomorrow.': 1,\n",
       "         'trouble': 1,\n",
       "         'until': 1,\n",
       "         'up': 1,\n",
       "         'wake': 1,\n",
       "         'when': 2,\n",
       "         'will': 4,\n",
       "         'wisdom:': 4,\n",
       "         'words': 4,\n",
       "         'world': 1})"
      ]
     },
     "execution_count": 102,
     "metadata": {},
     "output_type": "execute_result"
    }
   ],
   "source": [
    "Counter(song.split(\" \"))"
   ]
  },
  {
   "cell_type": "code",
   "execution_count": 103,
   "metadata": {
    "collapsed": true
   },
   "outputs": [],
   "source": [
    "def dogAgeTrans(dogAge):\n",
    "    if dogAge<2:\n",
    "        return dogAge*10.5\n",
    "    else:\n",
    "        return (dogAge-2)*4+21"
   ]
  },
  {
   "cell_type": "code",
   "execution_count": 106,
   "metadata": {},
   "outputs": [
    {
     "data": {
      "text/plain": [
       "84.2"
      ]
     },
     "execution_count": 106,
     "metadata": {},
     "output_type": "execute_result"
    }
   ],
   "source": [
    "dogAgeTrans(17.8)"
   ]
  },
  {
   "cell_type": "code",
   "execution_count": 107,
   "metadata": {
    "collapsed": true
   },
   "outputs": [],
   "source": [
    "def even(numberlist):\n",
    "    return [number for number in numberlist if number%2==0]"
   ]
  },
  {
   "cell_type": "code",
   "execution_count": 108,
   "metadata": {},
   "outputs": [
    {
     "data": {
      "text/plain": [
       "[5414, 86156, 44, 142, 531534, 112, 2312, 3456, 4894, 2]"
      ]
     },
     "execution_count": 108,
     "metadata": {},
     "output_type": "execute_result"
    }
   ],
   "source": [
    "even([5414,86156,44,1531,3513,142,15641,531534,153,112,1,2312,3456,4894,165141,2])"
   ]
  },
  {
   "cell_type": "code",
   "execution_count": 111,
   "metadata": {
    "collapsed": true
   },
   "outputs": [],
   "source": [
    "def generateDict(num1,num2):\n",
    "    return {i:i**2 for i in range(num1,num2)}"
   ]
  },
  {
   "cell_type": "code",
   "execution_count": 113,
   "metadata": {},
   "outputs": [
    {
     "data": {
      "text/plain": [
       "{}"
      ]
     },
     "execution_count": 113,
     "metadata": {},
     "output_type": "execute_result"
    }
   ],
   "source": [
    "generateDict(8,5)"
   ]
  },
  {
   "cell_type": "code",
   "execution_count": 136,
   "metadata": {
    "collapsed": true
   },
   "outputs": [],
   "source": [
    "def concatDict(**dicts):\n",
    "    return dicts"
   ]
  },
  {
   "cell_type": "code",
   "execution_count": 137,
   "metadata": {},
   "outputs": [],
   "source": [
    "x={1:2,4:4}"
   ]
  },
  {
   "cell_type": "code",
   "execution_count": 138,
   "metadata": {},
   "outputs": [],
   "source": [
    "v=({3:2,5:4})"
   ]
  },
  {
   "cell_type": "code",
   "execution_count": 139,
   "metadata": {},
   "outputs": [
    {
     "data": {
      "text/plain": [
       "{1: 2, 4: 4}"
      ]
     },
     "execution_count": 139,
     "metadata": {},
     "output_type": "execute_result"
    }
   ],
   "source": [
    "x"
   ]
  },
  {
   "cell_type": "code",
   "execution_count": 144,
   "metadata": {},
   "outputs": [
    {
     "data": {
      "text/plain": [
       "{'header': 5, 'token': 3}"
      ]
     },
     "execution_count": 144,
     "metadata": {},
     "output_type": "execute_result"
    }
   ],
   "source": [
    "concatDict(token=3,header=5)"
   ]
  },
  {
   "cell_type": "code",
   "execution_count": 167,
   "metadata": {},
   "outputs": [
    {
     "data": {
      "text/plain": [
       "'When I find myself in time of trouble  \\nMother Mary comes to me  \\nSpeaking words of wisdom: Let it be  \\nAnd in my hour of darkness  \\nShe is standing right in front of me  \\nSpeaking words of wisdom: Let it be  \\n \\nLet it be, let it be  \\nLet it be, let it be  \\nWhisper words of wisdom: Let it be \\n \\nAnd when the broken hearted people living in the world agree  \\nThere will be an answer: Let it be  \\nFor though they may be parted  \\nThere is still a chance that they will see \\nThere will be an answer: Let it be \\n \\nLet it be, let it be  \\nLet it be, let it be  \\nYeah, there will be an answer: Let it be \\n \\nAnd when the night is cloudy  \\nThere is still a light that shines on me  \\nShine until tomorrow. Let it be  \\nI wake up to the sound of music Mother Mary comes to me \\nSpeaking words of wisdom: Let it be'"
      ]
     },
     "execution_count": 167,
     "metadata": {},
     "output_type": "execute_result"
    }
   ],
   "source": [
    "f=open(\"Let_It_Be.txt\")\n",
    "\n",
    "f.read()"
   ]
  },
  {
   "cell_type": "code",
   "execution_count": 33,
   "metadata": {},
   "outputs": [],
   "source": [
    "with open(\"Let_It_Be.txt\") as f:\n",
    "    linelist=f.readlines()"
   ]
  },
  {
   "cell_type": "code",
   "execution_count": 34,
   "metadata": {},
   "outputs": [],
   "source": [
    "n=0\n",
    "result=[]\n",
    "for line in linelist:\n",
    "    line=line.replace(\"\\n\",\"\").strip()\n",
    "    if line!=\"\":\n",
    "        n+=1\n",
    "        result.append(str(n)+\"-\"+line)"
   ]
  },
  {
   "cell_type": "code",
   "execution_count": 35,
   "metadata": {},
   "outputs": [],
   "source": [
    "result\n",
    "result=\"\\n\".join(result)"
   ]
  },
  {
   "cell_type": "code",
   "execution_count": 36,
   "metadata": {},
   "outputs": [
    {
     "data": {
      "text/plain": [
       "'1-When I find myself in time of trouble\\n2-Mother Mary comes to me\\n3-Speaking words of wisdom: Let it be\\n4-And in my hour of darkness\\n5-She is standing right in front of me\\n6-Speaking words of wisdom: Let it be\\n7-Let it be, let it be\\n8-Let it be, let it be\\n9-Whisper words of wisdom: Let it be\\n10-And when the broken hearted people living in the world agree\\n11-There will be an answer: Let it be\\n12-For though they may be parted\\n13-There is still a chance that they will see\\n14-There will be an answer: Let it be\\n15-Let it be, let it be\\n16-Let it be, let it be\\n17-Yeah, there will be an answer: Let it be\\n18-And when the night is cloudy\\n19-There is still a light that shines on me\\n20-Shine until tomorrow. Let it be\\n21-I wake up to the sound of music Mother Mary comes to me\\n22-Speaking words of wisdom: Let it be'"
      ]
     },
     "execution_count": 36,
     "metadata": {},
     "output_type": "execute_result"
    }
   ],
   "source": [
    "result"
   ]
  },
  {
   "cell_type": "code",
   "execution_count": 37,
   "metadata": {
    "collapsed": true
   },
   "outputs": [],
   "source": [
    "with open(\"Let_It_Be_Output.txt\",\"w\") as x:\n",
    "    x.write(result)"
   ]
  },
  {
   "cell_type": "code",
   "execution_count": 38,
   "metadata": {
    "collapsed": true
   },
   "outputs": [],
   "source": [
    "import random as rd"
   ]
  },
  {
   "cell_type": "code",
   "execution_count": 82,
   "metadata": {
    "collapsed": true
   },
   "outputs": [],
   "source": [
    "suit = {1:\"黑桃\", 2:\"紅心\", 3:\"方塊\", 4:\"梅花\"} \n",
    "card = [\"A\", \"2\", \"3\", \"4\", \"5\", \"6\", \"7\", \"8\", \"9\", \"10\", \"J\", \"Q\", \"K\"]"
   ]
  },
  {
   "cell_type": "code",
   "execution_count": 86,
   "metadata": {},
   "outputs": [
    {
     "name": "stdout",
     "output_type": "stream",
     "text": [
      "方塊4\n",
      "紅心10\n",
      "黑桃3\n",
      "方塊3\n",
      "梅花6\n"
     ]
    }
   ],
   "source": [
    "for i in range(5):\n",
    "    print(suit[rd.choice(list(suit.keys()))]+rd.choice(card))"
   ]
  },
  {
   "cell_type": "code",
   "execution_count": 89,
   "metadata": {},
   "outputs": [
    {
     "name": "stdout",
     "output_type": "stream",
     "text": [
      "方塊\n",
      "紅心\n",
      "方塊\n",
      "紅心\n",
      "黑桃\n",
      "黑桃\n"
     ]
    },
    {
     "ename": "KeyError",
     "evalue": "0",
     "output_type": "error",
     "traceback": [
      "\u001b[1;31m---------------------------------------------------------------------------\u001b[0m",
      "\u001b[1;31mKeyError\u001b[0m                                  Traceback (most recent call last)",
      "\u001b[1;32m<ipython-input-89-9b0a333246d5>\u001b[0m in \u001b[0;36m<module>\u001b[1;34m()\u001b[0m\n\u001b[0;32m      1\u001b[0m \u001b[1;32mfor\u001b[0m \u001b[0mi\u001b[0m \u001b[1;32min\u001b[0m \u001b[0mrange\u001b[0m\u001b[1;33m(\u001b[0m\u001b[1;36m15\u001b[0m\u001b[1;33m)\u001b[0m\u001b[1;33m:\u001b[0m\u001b[1;33m\u001b[0m\u001b[0m\n\u001b[1;32m----> 2\u001b[1;33m     \u001b[0mprint\u001b[0m\u001b[1;33m(\u001b[0m\u001b[0mrd\u001b[0m\u001b[1;33m.\u001b[0m\u001b[0mchoice\u001b[0m\u001b[1;33m(\u001b[0m\u001b[0msuit\u001b[0m\u001b[1;33m)\u001b[0m\u001b[1;33m)\u001b[0m\u001b[1;33m\u001b[0m\u001b[0m\n\u001b[0m",
      "\u001b[1;32mD:\\anaconda\\lib\\random.py\u001b[0m in \u001b[0;36mchoice\u001b[1;34m(self, seq)\u001b[0m\n\u001b[0;32m    256\u001b[0m         \u001b[1;32mexcept\u001b[0m \u001b[0mValueError\u001b[0m\u001b[1;33m:\u001b[0m\u001b[1;33m\u001b[0m\u001b[0m\n\u001b[0;32m    257\u001b[0m             \u001b[1;32mraise\u001b[0m \u001b[0mIndexError\u001b[0m\u001b[1;33m(\u001b[0m\u001b[1;34m'Cannot choose from an empty sequence'\u001b[0m\u001b[1;33m)\u001b[0m \u001b[1;32mfrom\u001b[0m \u001b[1;32mNone\u001b[0m\u001b[1;33m\u001b[0m\u001b[0m\n\u001b[1;32m--> 258\u001b[1;33m         \u001b[1;32mreturn\u001b[0m \u001b[0mseq\u001b[0m\u001b[1;33m[\u001b[0m\u001b[0mi\u001b[0m\u001b[1;33m]\u001b[0m\u001b[1;33m\u001b[0m\u001b[0m\n\u001b[0m\u001b[0;32m    259\u001b[0m \u001b[1;33m\u001b[0m\u001b[0m\n\u001b[0;32m    260\u001b[0m     \u001b[1;32mdef\u001b[0m \u001b[0mshuffle\u001b[0m\u001b[1;33m(\u001b[0m\u001b[0mself\u001b[0m\u001b[1;33m,\u001b[0m \u001b[0mx\u001b[0m\u001b[1;33m,\u001b[0m \u001b[0mrandom\u001b[0m\u001b[1;33m=\u001b[0m\u001b[1;32mNone\u001b[0m\u001b[1;33m)\u001b[0m\u001b[1;33m:\u001b[0m\u001b[1;33m\u001b[0m\u001b[0m\n",
      "\u001b[1;31mKeyError\u001b[0m: 0"
     ]
    }
   ],
   "source": [
    "#梅花會出錯\n",
    "print(rd.choice(suit))"
   ]
  },
  {
   "cell_type": "code",
   "execution_count": 111,
   "metadata": {
    "collapsed": true
   },
   "outputs": [],
   "source": [
    "lyric=[['order', 'line'], \n",
    " [1, 'When I find myself in time of trouble '], \n",
    " [2, 'Mother Mary comes to me '], \n",
    " [3, 'Speaking words of wisdom: Let it be ']] \n"
   ]
  },
  {
   "cell_type": "code",
   "execution_count": 108,
   "metadata": {},
   "outputs": [],
   "source": [
    "import csv \n",
    "with open('Let_It_Be.csv',\"w\") as fOut: \n",
    "    csvOut = csv.writer(fOut) \n",
    "    csvOut.writerows(lyric)"
   ]
  },
  {
   "cell_type": "code",
   "execution_count": 113,
   "metadata": {},
   "outputs": [],
   "source": [
    "import csv \n",
    "with open('Let_It_Be.csv',\"w\") as fOut: \n",
    "    csv.writer(fOut,lyric)"
   ]
  },
  {
   "cell_type": "code",
   "execution_count": 143,
   "metadata": {},
   "outputs": [],
   "source": [
    "class Animal:\n",
    "    def __init__(self,name):\n",
    "        self.name=name\n",
    "    \n",
    "    def run(self):\n",
    "        print(self.name+\" run\")\n",
    "    def jump(self):\n",
    "        print(self.name+\" jump\")\n",
    "        \n",
    "        \n",
    "        \n",
    "        \n",
    "class Human(Animal):\n",
    "    def __init__(self,name,email):\n",
    "        self.name=name\n",
    "        self.email=email\n",
    "        \n",
    "    def shout(self):\n",
    "        print(\"{} fu~~~~~~~ck you, this is my email:{}\".format(self.name,self.email))\n",
    "        \n",
    "        \n",
    "class Dog(Animal):\n",
    "    def shout(self):\n",
    "        print(\"{} won!won!\".format(self.name))"
   ]
  },
  {
   "cell_type": "code",
   "execution_count": 144,
   "metadata": {},
   "outputs": [],
   "source": [
    "andy=Human(\"Andy\",\"andy.yuan@wowprime.com\")"
   ]
  },
  {
   "cell_type": "code",
   "execution_count": 145,
   "metadata": {},
   "outputs": [
    {
     "name": "stdout",
     "output_type": "stream",
     "text": [
      "Andy jump\n",
      "Andy run\n",
      "Andy fu~~~~~~~ck you, this is my email:andy.yuan@wowprime.com\n"
     ]
    }
   ],
   "source": [
    "andy.jump()\n",
    "andy.run()\n",
    "andy.shout()"
   ]
  },
  {
   "cell_type": "code",
   "execution_count": 146,
   "metadata": {
    "collapsed": true
   },
   "outputs": [],
   "source": [
    "white=Dog(\"White\")"
   ]
  },
  {
   "cell_type": "code",
   "execution_count": 148,
   "metadata": {},
   "outputs": [],
   "source": [
    "white.name=\"aaa\""
   ]
  },
  {
   "cell_type": "code",
   "execution_count": 150,
   "metadata": {},
   "outputs": [
    {
     "name": "stdout",
     "output_type": "stream",
     "text": [
      "aaa won!won!\n"
     ]
    }
   ],
   "source": [
    "white.shout()"
   ]
  },
  {
   "cell_type": "code",
   "execution_count": 158,
   "metadata": {},
   "outputs": [
    {
     "name": "stdout",
     "output_type": "stream",
     "text": [
      "aaaaga1ga1sd3g\n"
     ]
    }
   ],
   "source": [
    "a=1\n",
    "b=3\n",
    "c=\"DDD\"\n",
    "\n",
    "\n",
    "print(\"aaaaga{a}ga{a}sd{d}g\".format(a=a,d=b))"
   ]
  },
  {
   "cell_type": "code",
   "execution_count": 160,
   "metadata": {},
   "outputs": [
    {
     "name": "stdout",
     "output_type": "stream",
     "text": [
      "437.5\n"
     ]
    }
   ],
   "source": [
    "x1q3z9ocd = 35.0\n",
    "x1q3z9afd = 12.50\n",
    "x1q3p9afd = x1q3z9ocd * x1q3z9afd\n",
    "print (x1q3p9afd)"
   ]
  },
  {
   "cell_type": "code",
   "execution_count": 165,
   "metadata": {},
   "outputs": [
    {
     "name": "stdout",
     "output_type": "stream",
     "text": [
      "--------------------------------------------------\n",
      "\n",
      "Hello App\n",
      "\n",
      "--------------------------------------------------\n",
      "\n",
      "請問你的大名?袁華谷\n",
      "袁華谷, 很高興認識你.\n"
     ]
    }
   ],
   "source": [
    "print(\"-\"*50+\"\\n\")\n",
    "print(\"Hello App\\n\")\n",
    "print(\"-\"*50+\"\\n\")\n",
    "\n",
    "username=input(\"請問你的大名?\")\n",
    "print(\"{}, 很高興認識你.\".format(username))\n",
    "# ---------------------------------------\n",
    "\n",
    "# Hello App\n",
    "\n",
    "# ---------------------------------------\n",
    "\n",
    "# 請問你的大名?麥克斯\n",
    "# 麥克斯, 很高興認識你."
   ]
  },
  {
   "cell_type": "code",
   "execution_count": 166,
   "metadata": {
    "collapsed": true
   },
   "outputs": [],
   "source": [
    "import random"
   ]
  },
  {
   "cell_type": "code",
   "execution_count": null,
   "metadata": {
    "collapsed": true
   },
   "outputs": [],
   "source": []
  }
 ],
 "metadata": {
  "kernelspec": {
   "display_name": "Python 3",
   "language": "python",
   "name": "python3"
  },
  "language_info": {
   "codemirror_mode": {
    "name": "ipython",
    "version": 3
   },
   "file_extension": ".py",
   "mimetype": "text/x-python",
   "name": "python",
   "nbconvert_exporter": "python",
   "pygments_lexer": "ipython3",
   "version": "3.6.3"
  }
 },
 "nbformat": 4,
 "nbformat_minor": 2
}
