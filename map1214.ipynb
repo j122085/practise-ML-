{
 "cells": [
  {
   "cell_type": "code",
   "execution_count": 5,
   "metadata": {
    "scrolled": true
   },
   "outputs": [
    {
     "name": "stderr",
     "output_type": "stream",
     "text": [
      " * Restarting with stat\n"
     ]
    },
    {
     "ename": "SystemExit",
     "evalue": "1",
     "output_type": "error",
     "traceback": [
      "An exception has occurred, use %tb to see the full traceback.\n",
      "\u001b[1;31mSystemExit\u001b[0m\u001b[1;31m:\u001b[0m 1\n"
     ]
    },
    {
     "name": "stderr",
     "output_type": "stream",
     "text": [
      "D:\\anaconda\\lib\\site-packages\\IPython\\core\\interactiveshell.py:2870: UserWarning: To exit: use 'exit', 'quit', or Ctrl-D.\n",
      "  warn(\"To exit: use 'exit', 'quit', or Ctrl-D.\", stacklevel=1)\n"
     ]
    }
   ],
   "source": [
    "from flask import Flask, render_template\n",
    "from flask_googlemaps import GoogleMaps\n",
    "from flask_googlemaps import Map\n",
    "\n",
    "app = Flask(__name__, template_folder=\".\")\n",
    "GoogleMaps(app)\n",
    "\n",
    "@app.route(\"/\")\n",
    "def mapview():\n",
    "    # creating a map in the view\n",
    "    mymap = Map(\n",
    "        identifier=\"view-side\",\n",
    "        lat=37.4419,\n",
    "        lng=-122.1419,\n",
    "        markers=[(37.4419, -122.1419)]\n",
    "    )\n",
    "    sndmap = Map(\n",
    "        identifier=\"sndmap\",\n",
    "        lat=37.4419,\n",
    "        lng=-122.1419,\n",
    "        markers=[\n",
    "          {\n",
    "             'icon': 'http://maps.google.com/mapfiles/ms/icons/green-dot.png',\n",
    "             'lat': 37.4419,\n",
    "             'lng': -122.1419,\n",
    "             'infobox': \"<b>Hello World</b>\"\n",
    "          },\n",
    "          {\n",
    "             'icon': 'http://maps.google.com/mapfiles/ms/icons/blue-dot.png',\n",
    "             'lat': 37.4300,\n",
    "             'lng': -122.1400,\n",
    "             'infobox': \"<b>Hello World from other place</b>\"\n",
    "          }\n",
    "        ]\n",
    "    )\n",
    "    return render_template('example.html', mymap=mymap, sndmap=sndmap)\n",
    "\n",
    "if __name__ == \"__main__\":\n",
    "    app.run(debug=True)"
   ]
  },
  {
   "cell_type": "code",
   "execution_count": 6,
   "metadata": {},
   "outputs": [
    {
     "name": "stdout",
     "output_type": "stream",
     "text": [
      ",APPEAR_DATE,JOB,JOBCAT_DESCRIPT,JOB_ADDRESS,JOB_ADDR_NO_DESCRIPT,LAT,LON,NAME,SAL_MONTH_HIGH,SAL_MONTH_LOW\n",
      "\n"
     ]
    }
   ],
   "source": [
    "with open(r\"../data/104pandas.csv\") as f:\n",
    "    print(f.readline())"
   ]
  },
  {
   "cell_type": "code",
   "execution_count": 5,
   "metadata": {},
   "outputs": [
    {
     "data": {
      "text/plain": [
       "'0,20171129,門市儲備幹部(中正 / 萬華區),儲備幹部@店長／賣場管理人員@餐飲服務生,中正萬華區門市,台北市中正區,0,0,達美樂披薩股份有限公司,040000,027000\\n'"
      ]
     },
     "execution_count": 5,
     "metadata": {},
     "output_type": "execute_result"
    }
   ],
   "source": []
  },
  {
   "cell_type": "code",
   "execution_count": null,
   "metadata": {
    "collapsed": true
   },
   "outputs": [],
   "source": []
  }
 ],
 "metadata": {
  "kernelspec": {
   "display_name": "Python 3",
   "language": "python",
   "name": "python3"
  },
  "language_info": {
   "codemirror_mode": {
    "name": "ipython",
    "version": 3
   },
   "file_extension": ".py",
   "mimetype": "text/x-python",
   "name": "python",
   "nbconvert_exporter": "python",
   "pygments_lexer": "ipython3",
   "version": "3.6.3"
  }
 },
 "nbformat": 4,
 "nbformat_minor": 2
}
