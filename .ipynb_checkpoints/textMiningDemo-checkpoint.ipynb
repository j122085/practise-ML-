{
 "cells": [
  {
   "cell_type": "code",
   "execution_count": 1,
   "metadata": {},
   "outputs": [
    {
     "data": {
      "text/plain": [
       "'CJK UNIFIED IDEOGRAPH-7B28'"
      ]
     },
     "execution_count": 1,
     "metadata": {},
     "output_type": "execute_result"
    }
   ],
   "source": [
    "import unicodedata\n",
    "# unicodedata.lookup(\"name\")\n",
    "unicodedata.name(\"笨\")\n",
    "# lookup(\"白癡\")"
   ]
  },
  {
   "cell_type": "code",
   "execution_count": 2,
   "metadata": {
    "collapsed": true
   },
   "outputs": [],
   "source": [
    "def unicode_test(value):\n",
    "    import unicodedata\n",
    "    name=unicodedata.name(value)\n",
    "    value2=unicodedata.lookup(name)\n",
    "    print(\"value='%s',name='%s',value2='%s'\"%(value,name,value2))"
   ]
  },
  {
   "cell_type": "code",
   "execution_count": 3,
   "metadata": {},
   "outputs": [
    {
     "name": "stdout",
     "output_type": "stream",
     "text": [
      "value='☃',name='SNOWMAN',value2='☃'\n"
     ]
    }
   ],
   "source": [
    "unicode_test(\"\\u2603\")"
   ]
  },
  {
   "cell_type": "code",
   "execution_count": 4,
   "metadata": {},
   "outputs": [
    {
     "name": "stdout",
     "output_type": "stream",
     "text": [
      "=====yyafsfasd======\n"
     ]
    }
   ],
   "source": [
    "print(\"{:=^20}\".format(\"yyafsfasd\"))"
   ]
  },
  {
   "cell_type": "code",
   "execution_count": 5,
   "metadata": {},
   "outputs": [
    {
     "name": "stdout",
     "output_type": "stream",
     "text": [
      "<_sre.SRE_Match object; span=(0, 3), match='you'>\n"
     ]
    }
   ],
   "source": [
    "import re\n",
    "\n",
    "x=re.match('you','young')\n",
    "print(x)"
   ]
  },
  {
   "cell_type": "code",
   "execution_count": 6,
   "metadata": {},
   "outputs": [
    {
     "data": {
      "text/plain": [
       "'ping'"
      ]
     },
     "execution_count": 6,
     "metadata": {},
     "output_type": "execute_result"
    }
   ],
   "source": [
    "re.sub('you','pi','young')"
   ]
  },
  {
   "cell_type": "code",
   "execution_count": 7,
   "metadata": {},
   "outputs": [
    {
     "data": {
      "text/plain": [
       "['y', 'ng']"
      ]
     },
     "execution_count": 7,
     "metadata": {},
     "output_type": "execute_result"
    }
   ],
   "source": [
    "re.split('ou','young')"
   ]
  },
  {
   "cell_type": "code",
   "execution_count": 8,
   "metadata": {},
   "outputs": [
    {
     "data": {
      "text/plain": [
       "['ou']"
      ]
     },
     "execution_count": 8,
     "metadata": {},
     "output_type": "execute_result"
    }
   ],
   "source": [
    "re.findall('ou','young')"
   ]
  },
  {
   "cell_type": "code",
   "execution_count": 9,
   "metadata": {},
   "outputs": [
    {
     "data": {
      "text/plain": [
       "'you'"
      ]
     },
     "execution_count": 9,
     "metadata": {},
     "output_type": "execute_result"
    }
   ],
   "source": [
    "xxx=re.compile(\"you\")\n",
    "xxx.match(\"young\").group()"
   ]
  },
  {
   "cell_type": "code",
   "execution_count": 10,
   "metadata": {
    "collapsed": true
   },
   "outputs": [],
   "source": [
    "import jieba\n",
    "class textMining():\n",
    "    def addWord(self,word):\n",
    "        import jieba\n",
    "        if type(word)==int:\n",
    "            jieba.add_word(word)\n",
    "        elif type(word)==list:\n",
    "            for i in word:\n",
    "                jieba.add_word(i)\n",
    "    \n",
    "    def remove_punctuation(self,text):\n",
    "        import re\n",
    "        rule = re.compile(\"[^a-zA-Z0-9\\u4e00-\\u9fa5]\")#a-zA-Z0-9英文數字\\u4e00-\\u9fa5中文 ^排除\n",
    "        line = rule.sub('',text)\n",
    "        return line\n",
    "    \n",
    "    def textCut(self,text,stopWord=True):\n",
    "        mp=self.remove_punctuation(text)\n",
    "        import jieba\n",
    "        cut=list(jieba.cut(mp))\n",
    "        if stopWord==True:\n",
    "            with open(r\"D:\\dict\\stopwords.txt\",'r',encoding=\"big5\") as f:\n",
    "                stopWords=f.read().split(\"\\n\")\n",
    "            return [i for i in cut if i not in stopWords]\n",
    "        else:\n",
    "            return cut\n",
    "    \n",
    "    def wordCount(self,text,stopWord=True):\n",
    "        from collections import Counter\n",
    "        cut=self.textCut(text,stopWord)\n",
    "        return Counter(cut)\n",
    "    \n",
    "    def mostWord(self,text,n,stopWord=True):\n",
    "        wc=self.wordCount(text,stopWord)\n",
    "        return wc.most_common(n)\n",
    "    \n",
    "    def findKeyWord(self,text,n):\n",
    "        text=\"\".join(self.textCut(text,True))\n",
    "        from textrank4zh import TextRank4Keyword, TextRank4Sentence\n",
    "        tr4=TextRank4Keyword()\n",
    "        tr4.analyze(text=text, lower=True, window=2) \n",
    "        for item in tr4.get_keywords(n, word_min_len=1):\n",
    "            print(item.word, item.weight)"
   ]
  },
  {
   "cell_type": "code",
   "execution_count": 11,
   "metadata": {
    "collapsed": true
   },
   "outputs": [],
   "source": [
    "toolCount=textMining()"
   ]
  },
  {
   "cell_type": "code",
   "execution_count": 219,
   "metadata": {
    "collapsed": true
   },
   "outputs": [],
   "source": [
    "text=\"\"\"這個月換了一位新的店經理—姿麟，從她和巧薇交接以後，開始慢慢針對八德存在很久、很多的問題點，有實際的改善方法並請同仁去落實，說真的我有一種「八德有救了！」的感覺，姿麟也都會陪著我們一起做事，我想這是一個很大的原因，讓店裡的同仁都很喜歡她，也願意把舊的、不好的習慣慢慢改掉，一起讓八德店變得更好！　　　　　　　　　　　　\n",
    "　　雖然只和姿麟短短的相處了一個月，我卻覺得這個月裡，得到的東西比前兩個月都還要多，她很願意告訴我很多事，不只是行政作業或管理，還有當上店經理以後的心路歷程，她遇到的困境、以前在新竹的故事、還有應該要怎麼做，同仁才能理解你。我覺得雖然只有一個月而已，但她很用心地想要讓八德改變，也不會因為即將要離職了，就馬虎做事或是敷衍同仁，真的很不想要她走呢！從她身上學到的很多，但是還想要學到更多更多…姿麟說來八德真是相見很晚，如果早一點來說不定就不會提離職了～　　　　　　　　　　　　　　　\n",
    "　　下個月又要換店經理了，是曾經在樹林遇過的聖堯～我的第五位店經理！在他來和姿麟交接的這幾天，我已經得到了很多功課哈哈…希望能在聖堯的帶領之下，讓我能變得更不一樣，感覺接下來的日子要更咬緊牙關了！加油～\n",
    "\n",
    "\"\"\""
   ]
  },
  {
   "cell_type": "code",
   "execution_count": 220,
   "metadata": {
    "scrolled": true
   },
   "outputs": [
    {
     "data": {
      "text/plain": [
       "Counter({'一位': 1,\n",
       "         '一個': 3,\n",
       "         '一種': 1,\n",
       "         '一起': 2,\n",
       "         '下個': 1,\n",
       "         '不一樣': 1,\n",
       "         '不只是': 1,\n",
       "         '不好': 1,\n",
       "         '不想要': 1,\n",
       "         '並請': 1,\n",
       "         '之下': 1,\n",
       "         '也不會': 1,\n",
       "         '事': 1,\n",
       "         '交接': 2,\n",
       "         '以前': 1,\n",
       "         '以後開始': 1,\n",
       "         '作業': 1,\n",
       "         '做': 1,\n",
       "         '做事': 2,\n",
       "         '兩個': 1,\n",
       "         '八德': 5,\n",
       "         '功課': 1,\n",
       "         '加油': 1,\n",
       "         '卻': 1,\n",
       "         '原因': 1,\n",
       "         '只': 1,\n",
       "         '同仁': 4,\n",
       "         '告訴': 1,\n",
       "         '咬': 1,\n",
       "         '問題': 1,\n",
       "         '困境': 1,\n",
       "         '多姿': 1,\n",
       "         '姿麟': 4,\n",
       "         '存在': 1,\n",
       "         '學到': 2,\n",
       "         '實際': 1,\n",
       "         '巧薇': 1,\n",
       "         '已經': 1,\n",
       "         '希望能': 1,\n",
       "         '帶領': 1,\n",
       "         '店': 2,\n",
       "         '店經理': 2,\n",
       "         '店裡': 1,\n",
       "         '很久': 1,\n",
       "         '很喜歡': 1,\n",
       "         '很多的': 1,\n",
       "         '很大': 1,\n",
       "         '很晚': 1,\n",
       "         '很用心': 1,\n",
       "         '後': 1,\n",
       "         '得到': 2,\n",
       "         '心路': 1,\n",
       "         '想要': 2,\n",
       "         '感覺': 2,\n",
       "         '慢慢': 2,\n",
       "         '應該要': 1,\n",
       "         '我想': 1,\n",
       "         '才能': 1,\n",
       "         '接下': 1,\n",
       "         '提離職': 1,\n",
       "         '換店': 1,\n",
       "         '改善': 1,\n",
       "         '改掉': 1,\n",
       "         '改變': 1,\n",
       "         '故事': 1,\n",
       "         '敷衍': 1,\n",
       "         '新': 1,\n",
       "         '新竹': 1,\n",
       "         '方法': 1,\n",
       "         '日子': 1,\n",
       "         '早一點': 1,\n",
       "         '更多': 1,\n",
       "         '更好': 1,\n",
       "         '曾經': 1,\n",
       "         '月': 4,\n",
       "         '月換': 1,\n",
       "         '月裡': 1,\n",
       "         '有救': 1,\n",
       "         '東西': 1,\n",
       "         '樹林': 1,\n",
       "         '歷程': 1,\n",
       "         '比前': 1,\n",
       "         '理解': 1,\n",
       "         '當上': 1,\n",
       "         '相處': 1,\n",
       "         '相見': 1,\n",
       "         '真是': 1,\n",
       "         '真的': 2,\n",
       "         '短短的': 1,\n",
       "         '第五位': 1,\n",
       "         '管理': 1,\n",
       "         '經理': 2,\n",
       "         '緊牙關': 1,\n",
       "         '習慣': 1,\n",
       "         '聖堯': 2,\n",
       "         '舊': 1,\n",
       "         '落實': 1,\n",
       "         '虎': 1,\n",
       "         '行政': 1,\n",
       "         '覺得': 2,\n",
       "         '說': 3,\n",
       "         '變得': 2,\n",
       "         '走': 1,\n",
       "         '身上': 1,\n",
       "         '這幾天': 1,\n",
       "         '這是': 1,\n",
       "         '遇到': 1,\n",
       "         '遇過': 1,\n",
       "         '還要': 1,\n",
       "         '都會': 1,\n",
       "         '針對': 1,\n",
       "         '陪著': 1,\n",
       "         '離職': 1,\n",
       "         '願意': 2,\n",
       "         '馬': 1,\n",
       "         '麟': 1,\n",
       "         '點有': 1})"
      ]
     },
     "execution_count": 220,
     "metadata": {},
     "output_type": "execute_result"
    }
   ],
   "source": [
    "toolCount.wordCount(text)"
   ]
  },
  {
   "cell_type": "code",
   "execution_count": 221,
   "metadata": {
    "scrolled": true
   },
   "outputs": [
    {
     "data": {
      "text/plain": [
       "[('八德', 5),\n",
       " ('姿麟', 4),\n",
       " ('同仁', 4),\n",
       " ('月', 4),\n",
       " ('說', 3),\n",
       " ('一個', 3),\n",
       " ('店', 2),\n",
       " ('經理', 2),\n",
       " ('交接', 2),\n",
       " ('慢慢', 2)]"
      ]
     },
     "execution_count": 221,
     "metadata": {},
     "output_type": "execute_result"
    }
   ],
   "source": [
    "toolCount.mostWord(text,10)"
   ]
  },
  {
   "cell_type": "code",
   "execution_count": 222,
   "metadata": {
    "collapsed": true
   },
   "outputs": [],
   "source": [
    "from textrank4zh import TextRank4Keyword, TextRank4Sentence"
   ]
  },
  {
   "cell_type": "code",
   "execution_count": 223,
   "metadata": {
    "collapsed": true
   },
   "outputs": [],
   "source": [
    "tr4=TextRank4Keyword()"
   ]
  },
  {
   "cell_type": "code",
   "execution_count": 224,
   "metadata": {
    "collapsed": true
   },
   "outputs": [],
   "source": [
    "tr4.analyze(text=text, lower=True, window=2) "
   ]
  },
  {
   "cell_type": "code",
   "execution_count": 226,
   "metadata": {
    "scrolled": false
   },
   "outputs": [
    {
     "name": "stdout",
     "output_type": "stream",
     "text": [
      "同仁 0.04736271603248685\n",
      "八德 0.03929004492710604\n",
      "店 0.03800672949728449\n",
      "後 0.0316584165021774\n",
      "姿麟 0.030503560269833016\n",
      "做事 0.02868760792589601\n",
      "來 0.02711035469380346\n",
      "想要 0.025125186909689883\n",
      "換 0.024837901265817662\n",
      "交接 0.024232519786034554\n",
      "遇過 0.022986712652571403\n",
      "堯 0.022986712652571403\n",
      "經理 0.022474528913455596\n",
      "聖 0.02234039015116692\n",
      "離職 0.021464485135799398\n",
      "遇到 0.02089927381724206\n",
      "行政 0.020758922493696007\n",
      "才能 0.020723061860356537\n",
      "馬虎 0.020051320788312833\n",
      "歷程 0.019205516943011137\n",
      "姿麟交接\n",
      "同仁才能\n",
      "聖堯\n",
      "換店經理\n",
      "店經理\n",
      "八德店\n",
      "馬虎做事\n"
     ]
    }
   ],
   "source": [
    "for item in tr4.get_keywords(20, word_min_len=1):\n",
    "    print(item.word, item.weight)\n",
    "    \n",
    "    \n",
    "for phrase in tr4.get_keyphrases(keywords_num=20, min_occur_num= 1):\n",
    "    print(phrase)"
   ]
  },
  {
   "cell_type": "code",
   "execution_count": 227,
   "metadata": {},
   "outputs": [
    {
     "name": "stdout",
     "output_type": "stream",
     "text": [
      "\n",
      "摘要：\n",
      "0 0.15021364307926338 這個月換了一位新的店經理—姿麟，從她和巧薇交接以後，開始慢慢針對八德存在很久、很多的問題點，有實際的改善方法並請同仁去落實，說真的我有一種「八德有救了\n",
      "2 0.14858243713938643 雖然只和姿麟短短的相處了一個月，我卻覺得這個月裡，得到的東西比前兩個月都還要多，她很願意告訴我很多事，不只是行政作業或管理，還有當上店經理以後的心路歷程，她遇到的困境、以前在新竹的故事、還有應該要怎麼做，同仁才能理解你\n",
      "1 0.1352216493696437 」的感覺，姿麟也都會陪著我們一起做事，我想這是一個很大的原因，讓店裡的同仁都很喜歡她，也願意把舊的、不好的習慣慢慢改掉，一起讓八德店變得更好\n",
      "3 0.11550295015280893 我覺得雖然只有一個月而已，但她很用心地想要讓八德改變，也不會因為即將要離職了，就馬虎做事或是敷衍同仁，真的很不想要她走呢\n",
      "5 0.0970347130251859 姿麟說來八德真是相見很晚，如果早一點來說不定就不會提離職了～\n",
      "6 0.09212095631273093 下個月又要換店經理了，是曾經在樹林遇過的聖堯～我的第五位店經理\n"
     ]
    }
   ],
   "source": [
    "tr4s = TextRank4Sentence()\n",
    "tr4s.analyze(text=text, lower=True, source = 'all_filters')\n",
    "\n",
    "print()\n",
    "print( '摘要：' )\n",
    "for item in tr4s.get_key_sentences(num=6):\n",
    "    print(item.index, item.weight, item.sentence)"
   ]
  },
  {
   "cell_type": "code",
   "execution_count": 302,
   "metadata": {
    "scrolled": true
   },
   "outputs": [
    {
     "name": "stdout",
     "output_type": "stream",
     "text": [
      " 4月份慢慢有再恢復客量了，但新進同仁都還沒訓起來，導致老手上班都有點累心累，有時候連領檯都需要進來一起收撤，同仁的速度才會加快，排崗位也是一樣，都需要花點心思，互相協助讓營運更順暢才行。從之前自己值班到現在自己一個人顧家值班，營運上的一些突發狀況也越來越多需要自己去解決，擔下各種責任，成為同仁的肩膀，有什麼事情一一解決，撐一下都可以走過來的，真的是關關難過關關過。不會因為這些挫折而逃避，和店經理回報時都覺得我的功力加深。反而過得太安逸會讓自己更害怕，根本學不到東西，遇到事情就是主動學著處理，就會又學到一課。現在反而希望自己遇到各種突發狀況，真的需要親自處理過才會更成長。一樣是那句話撐過了就是自己的。相信我可以的!! \n"
     ]
    }
   ],
   "source": [
    "import docx \n",
    "\n",
    "doc= docx.Document(r\"D:\\trydata\\textMining\\11233林欣潔.docx\")\n",
    "\n",
    "wholedoc=\"\"\n",
    "\n",
    "g=0\n",
    "for para in doc.paragraphs:\n",
    "    if \"建議回饋\" in para.text:\n",
    "        g=0\n",
    "    if g==1:\n",
    "        text=para.text.strip()\n",
    "    if \"工作心得\" in para.text:\n",
    "        g=1\n",
    "\n",
    "text=\"\"\" 4月份慢慢有再恢復客量了，但新進同仁都還沒訓起來，導致老手上班都有點累心累，有時候連領檯都需要進來一起收撤，同仁的速度才會加快，排崗位也是一樣，都需要花點心思，互相協助讓營運更順暢才行。從之前自己值班到現在自己一個人顧家值班，營運上的一些突發狀況也越來越多需要自己去解決，擔下各種責任，成為同仁的肩膀，有什麼事情一一解決，撐一下都可以走過來的，真的是關關難過關關過。不會因為這些挫折而逃避，和店經理回報時都覺得我的功力加深。反而過得太安逸會讓自己更害怕，根本學不到東西，遇到事情就是主動學著處理，就會又學到一課。現在反而希望自己遇到各種突發狀況，真的需要親自處理過才會更成長。一樣是那句話撐過了就是自己的。相信我可以的!! \"\"\"\n",
    "print(text)\n",
    "\n",
    "\n",
    "toolCount=textMining()\n",
    "import jieba\n",
    "\n",
    "keyWord=[\"恢復\",'有點累','有時候連','領檯','花點心思','一個人','突發狀況','越來越多','撐一下','關關難過關關過','功力加深','安逸',\"撐過\",'小集合']\n",
    "for word in keyWord:\n",
    "    jieba.add_word(word)\n",
    "\n",
    "# toolCount.addWord(\"恢復\")\n",
    "\n",
    "\n",
    "\n",
    "# shouldText="
   ]
  },
  {
   "cell_type": "code",
   "execution_count": 303,
   "metadata": {},
   "outputs": [
    {
     "name": "stdout",
     "output_type": "stream",
     "text": [
      "18596\n",
      "22717\n"
     ]
    }
   ],
   "source": [
    "goodStrSet=set()\n",
    "def addWordToSetFromFile(fileDir,wordSet=goodStrSet,coding='utf8'):\n",
    "    with open(fileDir,'r',encoding=coding) as f:\n",
    "        strs=f.read().replace(\"\\ufeff\",\"\").strip().split(\"\\n\")\n",
    "        wordSet.update(strs)\n",
    "\n",
    "addWordToSetFromFile(r\"D:\\dict\\other\\goodstr_9365.txt\",goodStrSet,coding='cp950')\n",
    "addWordToSetFromFile(r\"D:\\dict\\other\\NTUSD_positive_simplified.txt\")\n",
    "addWordToSetFromFile(r\"D:\\dict\\other\\中文正面情感词语.txt\")\n",
    "addWordToSetFromFile(r\"D:\\dict\\other\\中文正面评价词语.txt\")\n",
    "addWordToSetFromFile(r\"D:\\dict\\other\\tsinghua.positive.gb.txt\")\n",
    "try:\n",
    "    goodStrSet.remove(\"\")\n",
    "except:\n",
    "    pass\n",
    "\n",
    "badStrSet=set()\n",
    "addWordToSetFromFile(r\"D:\\dict\\other\\badstr_11230.txt\",badStrSet,coding='cp950')\n",
    "addWordToSetFromFile(r\"D:\\dict\\other\\NTUSD_negative_simplified.txt\",badStrSet)\n",
    "addWordToSetFromFile(r\"D:\\dict\\other\\tsinghua.negative.gb.txt\",badStrSet)\n",
    "addWordToSetFromFile(r\"D:\\dict\\other\\中文负面情感词语.txt\",badStrSet)\n",
    "addWordToSetFromFile(r\"D:\\dict\\other\\中文负面评价词语.txt\",badStrSet)\n",
    "try:\n",
    "    badStrSet.remove(\"\")\n",
    "except:\n",
    "    pass\n",
    "print(len(goodStrSet))\n",
    "print(len(badStrSet))\n",
    "\n",
    "\n",
    "\n",
    "\n",
    "for word in badStrSet:\n",
    "    jieba.add_word(word)\n",
    "\n",
    "for word in goodStrSet:\n",
    "    jieba.add_word(word)\n",
    "    \n",
    "    \n",
    "    "
   ]
  },
  {
   "cell_type": "code",
   "execution_count": 308,
   "metadata": {},
   "outputs": [
    {
     "data": {
      "text/plain": [
       "{'功力加深': '滿意',\n",
       " '各種責任': '壓力',\n",
       " '學不到東西': '怒',\n",
       " '心累': '累',\n",
       " '才會': '煩',\n",
       " '才行': '煩',\n",
       " '撐一下': '累',\n",
       " '有點累': '累',\n",
       " '突發狀況也越來越多': '累',\n",
       " '自己去解決': '壓力',\n",
       " '還沒訓起來': '煩'}"
      ]
     },
     "execution_count": 308,
     "metadata": {},
     "output_type": "execute_result"
    }
   ],
   "source": [
    "with open(r\"D:\\dict\\MoodDict.csv\",'r') as f:\n",
    "    myDict=f.readlines()\n",
    "myMoodDic={word.replace(\"\\n\",\"\"):line.split(\",\")[0] for line in myDict for word in line.split(\",\")[1:]}\n",
    "\n",
    "try:\n",
    "    myMoodDic.pop(\"\")\n",
    "except:\n",
    "    pass\n",
    "for word in myMoodDic:\n",
    "    jieba.add_word(word)\n",
    "\n",
    "myMoodDic"
   ]
  },
  {
   "cell_type": "code",
   "execution_count": 317,
   "metadata": {
    "scrolled": true
   },
   "outputs": [
    {
     "name": "stdout",
     "output_type": "stream",
     "text": [
      "還沒訓起來 = 煩 + 1\n",
      "有點累 = 累 + 1\n",
      "心累 = 累 + 1\n",
      "才會 = 煩 + 2\n",
      "才行 = 煩 + 1\n",
      "突發狀況也越來越多 = 累 + 1\n",
      "自己去解決 = 壓力 + 1\n",
      "各種責任 = 壓力 + 1\n",
      "撐一下 = 累 + 1\n",
      "功力加深 = 滿意 + 1\n",
      "學不到東西 = 怒 + 1\n",
      "{'煩': 4, '累': 4, '壓力': 2, '滿意': 1, '怒': 1}\n"
     ]
    }
   ],
   "source": [
    "wordCount=toolCount.wordCount(text)\n",
    "score=0\n",
    "myMoonScore={}\n",
    "for i in wordCount:\n",
    "    if i in goodStrSet:\n",
    "        score=score+wordCount[i]\n",
    "#         print(i+\"+\"+str(wordCount[i]))\n",
    "    if i in badStrSet:\n",
    "        score=score-wordCount[i]\n",
    "#         print(i+\"-\"+str(wordCount[i]))\n",
    "    if i in myMoodDic:\n",
    "        myMoonScore[myMoodDic[i]]=myMoonScore.get(myMoodDic[i],0)+wordCount[i]\n",
    "        print(i,\"=\",myMoodDic[i],\"+\",str(wordCount[i]))\n",
    "    \n",
    "# print(score)\n",
    "\n",
    "print(myMoonScore)\n",
    "\n"
   ]
  },
  {
   "cell_type": "code",
   "execution_count": 312,
   "metadata": {
    "scrolled": true
   },
   "outputs": [
    {
     "data": {
      "text/plain": [
       "Counter({'一一': 1,\n",
       "         '一些': 1,\n",
       "         '一個人': 1,\n",
       "         '一起': 1,\n",
       "         '上班': 1,\n",
       "         '主動': 1,\n",
       "         '之前': 1,\n",
       "         '也是': 1,\n",
       "         '事情': 2,\n",
       "         '值班': 2,\n",
       "         '再': 1,\n",
       "         '到現': 1,\n",
       "         '功力加深': 1,\n",
       "         '加快': 1,\n",
       "         '協助': 1,\n",
       "         '各種責任': 1,\n",
       "         '同仁': 3,\n",
       "         '回報': 1,\n",
       "         '太安逸': 1,\n",
       "         '學不到東西': 1,\n",
       "         '學到': 1,\n",
       "         '學著': 1,\n",
       "         '客量': 1,\n",
       "         '害怕': 1,\n",
       "         '導致': 1,\n",
       "         '就會': 1,\n",
       "         '希望': 1,\n",
       "         '店': 1,\n",
       "         '心累': 1,\n",
       "         '恢復': 1,\n",
       "         '慢慢': 1,\n",
       "         '成為': 1,\n",
       "         '成長': 1,\n",
       "         '才會': 2,\n",
       "         '才行': 1,\n",
       "         '挫折': 1,\n",
       "         '排崗位': 1,\n",
       "         '撐一下': 1,\n",
       "         '撐過': 1,\n",
       "         '擔下': 1,\n",
       "         '收撤': 1,\n",
       "         '新進': 1,\n",
       "         '時': 1,\n",
       "         '會讓': 1,\n",
       "         '月份': 1,\n",
       "         '有什麼': 1,\n",
       "         '有時候連': 1,\n",
       "         '有點累': 1,\n",
       "         '根本': 1,\n",
       "         '營運': 1,\n",
       "         '營運上': 1,\n",
       "         '相信': 1,\n",
       "         '真的': 1,\n",
       "         '真的是': 1,\n",
       "         '突發狀況': 1,\n",
       "         '突發狀況也越來越多': 1,\n",
       "         '經理': 1,\n",
       "         '老手': 1,\n",
       "         '肩膀': 1,\n",
       "         '自己去解決': 1,\n",
       "         '花點心思': 1,\n",
       "         '處理': 1,\n",
       "         '處理過': 1,\n",
       "         '覺得': 1,\n",
       "         '解決': 1,\n",
       "         '話': 1,\n",
       "         '課現': 1,\n",
       "         '走過': 1,\n",
       "         '逃避': 1,\n",
       "         '速度': 1,\n",
       "         '遇到': 2,\n",
       "         '過得': 1,\n",
       "         '還沒訓起來': 1,\n",
       "         '那句': 1,\n",
       "         '都可以': 1,\n",
       "         '都需要': 2,\n",
       "         '關關難過關關過': 1,\n",
       "         '需要': 2,\n",
       "         '順暢': 1,\n",
       "         '領檯': 1,\n",
       "         '顧家': 1})"
      ]
     },
     "execution_count": 312,
     "metadata": {},
     "output_type": "execute_result"
    }
   ],
   "source": [
    "wordCount"
   ]
  },
  {
   "cell_type": "code",
   "execution_count": null,
   "metadata": {
    "collapsed": true
   },
   "outputs": [],
   "source": []
  }
 ],
 "metadata": {
  "kernelspec": {
   "display_name": "Python 3",
   "language": "python",
   "name": "python3"
  },
  "language_info": {
   "codemirror_mode": {
    "name": "ipython",
    "version": 3
   },
   "file_extension": ".py",
   "mimetype": "text/x-python",
   "name": "python",
   "nbconvert_exporter": "python",
   "pygments_lexer": "ipython3",
   "version": "3.6.4"
  }
 },
 "nbformat": 4,
 "nbformat_minor": 2
}
