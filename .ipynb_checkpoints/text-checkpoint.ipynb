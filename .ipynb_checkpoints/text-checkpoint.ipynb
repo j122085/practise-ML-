{
 "cells": [
  {
   "cell_type": "code",
   "execution_count": 11,
   "metadata": {},
   "outputs": [
    {
     "data": {
      "text/plain": [
       "'CJK UNIFIED IDEOGRAPH-7B28'"
      ]
     },
     "execution_count": 11,
     "metadata": {},
     "output_type": "execute_result"
    }
   ],
   "source": [
    "import unicodedata\n",
    "# unicodedata.lookup(\"name\")\n",
    "unicodedata.name(\"笨\")\n",
    "# lookup(\"白癡\")"
   ]
  },
  {
   "cell_type": "code",
   "execution_count": 12,
   "metadata": {
    "collapsed": true
   },
   "outputs": [],
   "source": [
    "def unicode_test(value):\n",
    "    import unicodedata\n",
    "    name=unicodedata.name(value)\n",
    "    value2=unicodedata.lookup(name)\n",
    "    print(\"value='%s',name='%s',value2='%s'\"%(value,name,value2))"
   ]
  },
  {
   "cell_type": "code",
   "execution_count": 17,
   "metadata": {},
   "outputs": [
    {
     "name": "stdout",
     "output_type": "stream",
     "text": [
      "value='☃',name='SNOWMAN',value2='☃'\n"
     ]
    }
   ],
   "source": [
    "unicode_test(\"\\u2603\")"
   ]
  },
  {
   "cell_type": "code",
   "execution_count": 19,
   "metadata": {},
   "outputs": [
    {
     "name": "stdout",
     "output_type": "stream",
     "text": [
      "=====yyafsfasd======\n"
     ]
    }
   ],
   "source": [
    "print(\"{:=^20}\".format(\"yyafsfasd\"))"
   ]
  },
  {
   "cell_type": "code",
   "execution_count": 24,
   "metadata": {},
   "outputs": [
    {
     "name": "stdout",
     "output_type": "stream",
     "text": [
      "<_sre.SRE_Match object; span=(0, 3), match='you'>\n"
     ]
    }
   ],
   "source": [
    "import re\n",
    "\n",
    "x=re.match('you','young')\n",
    "print(x)"
   ]
  },
  {
   "cell_type": "code",
   "execution_count": 26,
   "metadata": {},
   "outputs": [
    {
     "data": {
      "text/plain": [
       "'ping'"
      ]
     },
     "execution_count": 26,
     "metadata": {},
     "output_type": "execute_result"
    }
   ],
   "source": [
    "re.sub('you','pi','young')"
   ]
  },
  {
   "cell_type": "code",
   "execution_count": 28,
   "metadata": {},
   "outputs": [
    {
     "data": {
      "text/plain": [
       "['y', 'ng']"
      ]
     },
     "execution_count": 28,
     "metadata": {},
     "output_type": "execute_result"
    }
   ],
   "source": [
    "re.split('ou','young')"
   ]
  },
  {
   "cell_type": "code",
   "execution_count": 29,
   "metadata": {},
   "outputs": [
    {
     "data": {
      "text/plain": [
       "['ou']"
      ]
     },
     "execution_count": 29,
     "metadata": {},
     "output_type": "execute_result"
    }
   ],
   "source": [
    "re.findall('ou','young')"
   ]
  },
  {
   "cell_type": "code",
   "execution_count": 31,
   "metadata": {},
   "outputs": [
    {
     "data": {
      "text/plain": [
       "'you'"
      ]
     },
     "execution_count": 31,
     "metadata": {},
     "output_type": "execute_result"
    }
   ],
   "source": [
    "xxx=re.compile(\"you\")\n",
    "xxx.match(\"young\").group()"
   ]
  },
  {
   "cell_type": "code",
   "execution_count": 203,
   "metadata": {
    "collapsed": true
   },
   "outputs": [],
   "source": [
    "import jieba\n",
    "class textMining():\n",
    "    def addWord(self,word):\n",
    "        import jieba\n",
    "        if type(word)==int:\n",
    "            jieba.add_word(word)\n",
    "        elif type(word)==list:\n",
    "            for i in word:\n",
    "                jieba.add_word(i)\n",
    "    \n",
    "    def remove_punctuation(self,text):\n",
    "        import re\n",
    "        rule = re.compile(\"[^a-zA-Z0-9\\u4e00-\\u9fa5]\")#a-zA-Z0-9英文數字\\u4e00-\\u9fa5中文 ^排除\n",
    "        line = rule.sub('',text)\n",
    "        return line\n",
    "    \n",
    "    def textCut(self,text,stopWord=True):\n",
    "        mp=self.remove_punctuation(text)\n",
    "        import jieba\n",
    "        cut=list(jieba.cut(mp))\n",
    "        if stopWord==True:\n",
    "            with open(r\"D:\\dict\\stopwords.txt\",'r',encoding=\"big5\") as f:\n",
    "                stopWords=f.read().split(\"\\n\")\n",
    "            return [i for i in cut if i not in stopWords]\n",
    "        else:\n",
    "            return cut\n",
    "    \n",
    "    def wordCount(self,text,stopWord=True):\n",
    "        from collections import Counter\n",
    "        cut=self.textCut(text,stopWord)\n",
    "        return Counter(cut)\n",
    "    \n",
    "    def mostWord(self,text,n,stopWord=True):\n",
    "        wc=self.wordCount(text,stopWord)\n",
    "        return wc.most_common(n)\n",
    "    \n",
    "    def findKeyWord(self,text,n):\n",
    "        text=\"\".join(self.textCut(text,True))\n",
    "        from textrank4zh import TextRank4Keyword, TextRank4Sentence\n",
    "        tr4=TextRank4Keyword()\n",
    "        tr4.analyze(text=text, lower=True, window=2) \n",
    "        for item in tr4.get_keywords(n, word_min_len=1):\n",
    "            print(item.word, item.weight)"
   ]
  },
  {
   "cell_type": "code",
   "execution_count": 204,
   "metadata": {
    "collapsed": true
   },
   "outputs": [],
   "source": [
    "toolCount=textMining()"
   ]
  },
  {
   "cell_type": "code",
   "execution_count": 185,
   "metadata": {
    "collapsed": true
   },
   "outputs": [],
   "source": [
    "text='''月，一名剛出獄的黃姓大哥看上琳琳，竟將人載到旅館性侵，事後還想拿30萬元封口，但琳琳不滿大哥四處放話說她是小三想A錢，氣得索性連一毛錢也不要，堅持提告。\n",
    "\n",
    "根據判決書指出，年輕的琳琳獨自從宜蘭到台中打拼，2、3年前在朋友介紹下到金錢豹上班，但琳琳堅持不做性服務，「我有我的手法，就是會跟客人有曖昧的感覺，但我會很清楚讓客人知道，我是沒有做S的」。\n",
    "\n",
    "沒過多久，琳琳靠著甜美外表和高明手腕，一躍成為店內紅牌，坐擁超高人氣，不僅每月坐檯時數遠遠超過其他小姐，連許多客人聽聞後都會紛紛慕名而來，指名要她坐檯。\n",
    "\n",
    "2015年5月，一名剛出獄的黃姓男子和友人到金錢豹喝酒狂歡，第一眼就相中女神級的紅牌琳琳，明知對方沒在做「黑的」仍不死心，過了幾週又砸大錢包檯帶她出場，以純休息為由叫潘姓小弟開車將2人載往摩鐵。\n",
    "'''"
   ]
  },
  {
   "cell_type": "code",
   "execution_count": 186,
   "metadata": {
    "collapsed": true
   },
   "outputs": [],
   "source": [
    "toolCount.addWord(\"金錢豹女神\")"
   ]
  },
  {
   "cell_type": "code",
   "execution_count": 187,
   "metadata": {},
   "outputs": [
    {
     "data": {
      "text/plain": [
       "Counter({'2': 1,\n",
       "         '2015': 1,\n",
       "         '23': 1,\n",
       "         '30': 1,\n",
       "         '5': 1,\n",
       "         'A': 1,\n",
       "         'S': 1,\n",
       "         '一名': 2,\n",
       "         '一躍成': 1,\n",
       "         '上班': 1,\n",
       "         '上琳琳': 1,\n",
       "         '下': 1,\n",
       "         '不': 1,\n",
       "         '不僅': 1,\n",
       "         '不死心': 1,\n",
       "         '不滿': 1,\n",
       "         '不要': 1,\n",
       "         '中': 1,\n",
       "         '也': 1,\n",
       "         '人氣': 1,\n",
       "         '人載': 1,\n",
       "         '介紹': 1,\n",
       "         '仍': 1,\n",
       "         '以純': 1,\n",
       "         '休息': 1,\n",
       "         '但': 1,\n",
       "         '但琳琳': 2,\n",
       "         '侵事': 1,\n",
       "         '做': 2,\n",
       "         '做性': 1,\n",
       "         '內紅牌': 1,\n",
       "         '其他': 1,\n",
       "         '出場': 1,\n",
       "         '到': 3,\n",
       "         '剛出': 2,\n",
       "         '包': 1,\n",
       "         '又': 1,\n",
       "         '友人': 1,\n",
       "         '叫': 1,\n",
       "         '台': 1,\n",
       "         '和': 2,\n",
       "         '喝酒': 1,\n",
       "         '四處': 1,\n",
       "         '在': 2,\n",
       "         '坐': 3,\n",
       "         '堅持': 2,\n",
       "         '外表': 1,\n",
       "         '多': 1,\n",
       "         '多久': 1,\n",
       "         '大': 1,\n",
       "         '大哥': 2,\n",
       "         '女神': 1,\n",
       "         '她': 3,\n",
       "         '姓': 2,\n",
       "         '宜蘭到': 1,\n",
       "         '客人': 3,\n",
       "         '封口': 1,\n",
       "         '將人載': 1,\n",
       "         '對方': 1,\n",
       "         '小三想': 1,\n",
       "         '小姐': 1,\n",
       "         '小弟': 1,\n",
       "         '就': 1,\n",
       "         '就是': 1,\n",
       "         '帶': 1,\n",
       "         '年': 2,\n",
       "         '年前': 1,\n",
       "         '幾週': 1,\n",
       "         '店': 1,\n",
       "         '往摩鐵': 1,\n",
       "         '很': 1,\n",
       "         '後': 2,\n",
       "         '得': 1,\n",
       "         '從': 1,\n",
       "         '感覺': 1,\n",
       "         '慕名': 1,\n",
       "         '我': 4,\n",
       "         '手法': 1,\n",
       "         '手腕': 1,\n",
       "         '打拼': 1,\n",
       "         '拿': 1,\n",
       "         '指出': 1,\n",
       "         '指名': 1,\n",
       "         '提告': 1,\n",
       "         '擁': 1,\n",
       "         '放話': 1,\n",
       "         '旅館性': 1,\n",
       "         '明知': 1,\n",
       "         '是': 2,\n",
       "         '時數': 1,\n",
       "         '曖昧': 1,\n",
       "         '會': 3,\n",
       "         '月': 2,\n",
       "         '有': 3,\n",
       "         '朋友': 1,\n",
       "         '服務': 1,\n",
       "         '根據判': 1,\n",
       "         '檯': 3,\n",
       "         '每月': 1,\n",
       "         '決書': 1,\n",
       "         '沒': 2,\n",
       "         '沒過': 1,\n",
       "         '清楚': 1,\n",
       "         '潘姓': 1,\n",
       "         '為': 2,\n",
       "         '狂歡': 1,\n",
       "         '獄': 2,\n",
       "         '獨自': 1,\n",
       "         '琳琳': 3,\n",
       "         '甜美': 1,\n",
       "         '由': 1,\n",
       "         '男子': 1,\n",
       "         '的': 8,\n",
       "         '相中': 1,\n",
       "         '看': 1,\n",
       "         '知道': 1,\n",
       "         '砸': 1,\n",
       "         '竟': 1,\n",
       "         '第一眼': 1,\n",
       "         '紅牌': 1,\n",
       "         '級': 1,\n",
       "         '紛紛': 1,\n",
       "         '索性': 1,\n",
       "         '而來': 1,\n",
       "         '聽聞': 1,\n",
       "         '萬元': 1,\n",
       "         '著': 1,\n",
       "         '要': 1,\n",
       "         '說': 1,\n",
       "         '讓': 1,\n",
       "         '超過': 1,\n",
       "         '超高': 1,\n",
       "         '跟': 1,\n",
       "         '輕': 1,\n",
       "         '連一毛': 1,\n",
       "         '連許': 1,\n",
       "         '過了': 1,\n",
       "         '遠遠': 1,\n",
       "         '還想': 1,\n",
       "         '都': 1,\n",
       "         '金錢豹': 2,\n",
       "         '錢': 2,\n",
       "         '錢氣': 1,\n",
       "         '開車將': 1,\n",
       "         '靠': 1,\n",
       "         '高明': 1,\n",
       "         '黃': 2,\n",
       "         '黑': 1})"
      ]
     },
     "execution_count": 187,
     "metadata": {},
     "output_type": "execute_result"
    }
   ],
   "source": [
    "toolCount.wordCount(text)"
   ]
  },
  {
   "cell_type": "code",
   "execution_count": 188,
   "metadata": {
    "scrolled": true
   },
   "outputs": [
    {
     "data": {
      "text/plain": [
       "[('的', 8),\n",
       " ('我', 4),\n",
       " ('到', 3),\n",
       " ('她', 3),\n",
       " ('琳琳', 3),\n",
       " ('有', 3),\n",
       " ('會', 3),\n",
       " ('客人', 3),\n",
       " ('坐', 3),\n",
       " ('檯', 3)]"
      ]
     },
     "execution_count": 188,
     "metadata": {},
     "output_type": "execute_result"
    }
   ],
   "source": [
    "toolCount.mostWord(text,10)"
   ]
  },
  {
   "cell_type": "code",
   "execution_count": 211,
   "metadata": {
    "collapsed": true
   },
   "outputs": [],
   "source": [
    "from textrank4zh import TextRank4Keyword, TextRank4Sentence"
   ]
  },
  {
   "cell_type": "code",
   "execution_count": 212,
   "metadata": {
    "collapsed": true
   },
   "outputs": [],
   "source": [
    "tr4=TextRank4Keyword()"
   ]
  },
  {
   "cell_type": "code",
   "execution_count": 213,
   "metadata": {
    "collapsed": true
   },
   "outputs": [],
   "source": [
    "tr4.analyze(text=text, lower=True, window=2) "
   ]
  },
  {
   "cell_type": "code",
   "execution_count": 214,
   "metadata": {
    "scrolled": true
   },
   "outputs": [
    {
     "name": "stdout",
     "output_type": "stream",
     "text": [
      "錢 0.03392433973057632\n",
      "坐 0.025445107075284388\n",
      "黃姓 0.02501940526920019\n",
      "豹 0.022079378777440224\n",
      "書 0.021571542773484782\n",
      "小弟 0.021571542773484782\n",
      "會 0.020854573293650876\n",
      "客人 0.02000643122379687\n",
      "高明 0.019190622528234863\n",
      "手腕 0.019190622528234863\n",
      "年前 0.018176754387481495\n",
      "介紹 0.018176754387481495\n",
      "超高 0.01769797847168518\n",
      "朋友 0.017669513166103136\n",
      "大哥 0.017519885805636404\n",
      "男子 0.017519885805636404\n",
      "載 0.017115241448057705\n",
      "擁 0.01695154601322685\n",
      "喝酒 0.016214341344200897\n",
      "人 0.016072126292608027\n",
      "黃姓男子\n",
      "黃姓大哥\n",
      "朋友介紹\n",
      "錢豹喝酒\n",
      "坐擁超高\n",
      "高明手腕\n",
      "人載\n",
      "錢豹\n"
     ]
    }
   ],
   "source": [
    "for item in tr4.get_keywords(20, word_min_len=1):\n",
    "    print(item.word, item.weight)\n",
    "    \n",
    "    \n",
    "for phrase in tr4.get_keyphrases(keywords_num=20, min_occur_num= 1):\n",
    "    print(phrase)"
   ]
  },
  {
   "cell_type": "code",
   "execution_count": 193,
   "metadata": {},
   "outputs": [
    {
     "name": "stdout",
     "output_type": "stream",
     "text": [
      "\n",
      "摘要：\n",
      "3 0.2739394542590211 2015年5月，一名剛出獄的黃姓男子和友人到金錢豹喝酒狂歡，第一眼就相中女神級的紅牌琳琳，明知對方沒在做「黑的」仍不死心，過了幾週又砸大錢包檯帶她出場，以純休息為由叫潘姓小弟開車將2人載往摩鐵\n",
      "1 0.25037308708221234 根據判決書指出，年輕的琳琳獨自從宜蘭到台中打拼，2、3年前在朋友介紹下到金錢豹上班，但琳琳堅持不做性服務，「我有我的手法，就是會跟客人有曖昧的感覺，但我會很清楚讓客人知道，我是沒有做S的」\n",
      "0 0.24038598045389023 月，一名剛出獄的黃姓大哥看上琳琳，竟將人載到旅館性侵，事後還想拿30萬元封口，但琳琳不滿大哥四處放話說她是小三想A錢，氣得索性連一毛錢也不要，堅持提告\n",
      "2 0.23530147820487654 沒過多久，琳琳靠著甜美外表和高明手腕，一躍成為店內紅牌，坐擁超高人氣，不僅每月坐檯時數遠遠超過其他小姐，連許多客人聽聞後都會紛紛慕名而來，指名要她坐檯\n"
     ]
    }
   ],
   "source": [
    "tr4s = TextRank4Sentence()\n",
    "tr4s.analyze(text=text, lower=True, source = 'all_filters')\n",
    "\n",
    "print()\n",
    "print( '摘要：' )\n",
    "for item in tr4s.get_key_sentences(num=6):\n",
    "    print(item.index, item.weight, item.sentence)"
   ]
  },
  {
   "cell_type": "code",
   "execution_count": null,
   "metadata": {
    "collapsed": true
   },
   "outputs": [],
   "source": []
  }
 ],
 "metadata": {
  "kernelspec": {
   "display_name": "Python 3",
   "language": "python",
   "name": "python3"
  },
  "language_info": {
   "codemirror_mode": {
    "name": "ipython",
    "version": 3
   },
   "file_extension": ".py",
   "mimetype": "text/x-python",
   "name": "python",
   "nbconvert_exporter": "python",
   "pygments_lexer": "ipython3",
   "version": "3.6.4"
  }
 },
 "nbformat": 4,
 "nbformat_minor": 2
}
