{
 "cells": [
  {
   "cell_type": "code",
   "execution_count": 29,
   "metadata": {},
   "outputs": [
    {
     "name": "stdout",
     "output_type": "stream",
     "text": [
      "0 [-0.07788751] [0.50062776]\n",
      "20 [0.02535695] [0.3362418]\n",
      "40 [0.07499067] [0.3121429]\n",
      "60 [0.09162057] [0.3040685]\n",
      "80 [0.09719244] [0.30136317]\n",
      "100 [0.09905931] [0.30045676]\n",
      "120 [0.09968484] [0.30015305]\n",
      "140 [0.0998944] [0.30005127]\n",
      "160 [0.09996462] [0.30001718]\n",
      "180 [0.09998816] [0.30000576]\n",
      "200 [0.09999604] [0.30000195]\n"
     ]
    }
   ],
   "source": [
    "#-*- coding: utf-8 -*-　\n",
    "#引用必要函數\n",
    "import tensorflow as tf\n",
    "import numpy as np\n",
    "\n",
    "# creat data\n",
    "#創造 亂數100個亂數 值介於0~1之間\n",
    "x_data = np.random.rand(100).astype(np.float32)\n",
    "\n",
    "#訂出要學習的函數  這裡要學的是 weight:0.1  biases:0.3\n",
    "y_data = x_data*0.1+0.3\n",
    "\n",
    "###creat tensorflow structure start###\n",
    "#定立 weights 的 範圍 和初始化\n",
    "Weights = tf.Variable(tf.random_uniform([1],-1.0,1.0))\n",
    "biases = tf.Variable(tf.zeros([1]))\n",
    "\n",
    "#定立 給 tensorflow 學習的函數\n",
    "y = Weights*x_data + biases\n",
    "\n",
    "#建立 loss 規則\n",
    "loss = tf.reduce_mean(tf.square(y-y_data))\n",
    "\n",
    "#選擇學習機制\n",
    "optimizer = tf.train.GradientDescentOptimizer(0.5)  #learning rate\n",
    "\n",
    "#像tensorflow 說 訓練規則就是把 loss 減到最小 最好是0\n",
    "train = optimizer.minimize(loss)\n",
    "\n",
    "#初始化所有變數\n",
    "init = tf.initialize_all_variables()\n",
    "\n",
    "###creat tensorflow structure end###\n",
    "#上面都是建立規則\n",
    "#*****************************************************開始訓練\n",
    "#建立sess\n",
    "sess = tf.Session()\n",
    "\n",
    "#記得初始化\n",
    "sess.run(init)     #Very important\n",
    "\n",
    "\"\"\"\n",
    "跑 for 迴圈 更新wight201次\n",
    "然後每訓練20次 印出一次weight\n",
    "\"\"\"\n",
    "for step in range(201):\n",
    "    sess.run(train)\n",
    "    if step % 20 ==0:\n",
    "        print(step,sess.run(Weights),sess.run(biases))"
   ]
  },
  {
   "cell_type": "code",
   "execution_count": 105,
   "metadata": {},
   "outputs": [],
   "source": [
    "import tensorflow as tf\n",
    "import numpy as np\n",
    "x_data=np.random.rand(300).astype(np.float32)\n",
    "y_data=x_data*5+8\n",
    "\n",
    "Weights =tf.Variable(tf.random_uniform([1],-10,10))\n",
    "biases = tf.Variable(tf.zeros(1))"
   ]
  },
  {
   "cell_type": "code",
   "execution_count": 106,
   "metadata": {},
   "outputs": [],
   "source": [
    "y = Weights*x_data + biases\n",
    "loss = tf.reduce_mean(tf.square(y-y_data))"
   ]
  },
  {
   "cell_type": "code",
   "execution_count": 107,
   "metadata": {
    "collapsed": true
   },
   "outputs": [],
   "source": [
    "optimizer = tf.train.GradientDescentOptimizer(0.3)  #learning rate"
   ]
  },
  {
   "cell_type": "code",
   "execution_count": 108,
   "metadata": {
    "collapsed": true
   },
   "outputs": [],
   "source": [
    "train = optimizer.minimize(loss)\n",
    "init = tf.initialize_all_variables()"
   ]
  },
  {
   "cell_type": "code",
   "execution_count": 109,
   "metadata": {
    "collapsed": true
   },
   "outputs": [],
   "source": [
    "sess = tf.Session()\n",
    "sess.run(init)"
   ]
  },
  {
   "cell_type": "code",
   "execution_count": 110,
   "metadata": {
    "scrolled": true
   },
   "outputs": [
    {
     "name": "stdout",
     "output_type": "stream",
     "text": [
      "0 [9.495546] [4.0152864]\n",
      "1 [9.787114] [5.075708]\n",
      "2 [9.707292] [5.41359]\n",
      "3 [9.543238] [5.5723658]\n",
      "4 [9.364589] [5.684426]\n",
      "5 [9.188052] [5.782119]\n",
      "6 [9.017462] [5.8734403]\n",
      "7 [8.85353] [5.960453]\n",
      "8 [8.696217] [6.043772]\n",
      "9 [8.545308] [6.123655]\n",
      "10 [8.400557] [6.2002673]\n",
      "11 [8.261714] [6.2737503]\n",
      "12 [8.12854] [6.344232]\n",
      "13 [8.000803] [6.411836]\n",
      "14 [7.878282] [6.4766803]\n",
      "15 [7.760763] [6.5388765]\n",
      "16 [7.6480427] [6.5985336]\n",
      "17 [7.5399246] [6.6557546]\n",
      "18 [7.436221] [6.7106395]\n",
      "19 [7.3367515] [6.7632833]\n",
      "20 [7.241343] [6.813778]\n",
      "21 [7.1498303] [6.8622108]\n",
      "22 [7.0620537] [6.908666]\n",
      "23 [6.977861] [6.9532247]\n",
      "24 [6.897106] [6.995964]\n",
      "25 [6.8196483] [7.036958]\n",
      "26 [6.745353] [7.0762787]\n",
      "27 [6.6740913] [7.1139936]\n",
      "28 [6.605739] [7.150169]\n",
      "29 [6.540178] [7.184867]\n",
      "30 [6.477293] [7.218148]\n",
      "31 [6.416976] [7.250071]\n",
      "32 [6.359122] [7.28069]\n",
      "33 [6.3036294] [7.310059]\n",
      "34 [6.250403] [7.338229]\n",
      "35 [6.1993494] [7.3652487]\n",
      "36 [6.1503806] [7.3911653]\n",
      "37 [6.103411] [7.4160237]\n",
      "38 [6.0583596] [7.439867]\n",
      "39 [6.015147] [7.462737]\n",
      "40 [5.9736996] [7.4846735]\n",
      "41 [5.9339437] [7.505714]\n",
      "42 [5.895811] [7.525895]\n",
      "43 [5.859236] [7.545253]\n",
      "44 [5.8241534] [7.56382]\n",
      "45 [5.7905035] [7.581629]\n",
      "46 [5.758228] [7.598711]\n",
      "47 [5.7272696] [7.615095]\n",
      "48 [5.6975756] [7.6308107]\n",
      "49 [5.669094] [7.6458845]\n",
      "50 [5.641775] [7.6603427]\n",
      "51 [5.615572] [7.674211]\n",
      "52 [5.5904384] [7.687513]\n",
      "53 [5.566331] [7.7002716]\n",
      "54 [5.543208] [7.712509]\n",
      "55 [5.5210295] [7.7242475]\n",
      "56 [5.499756] [7.735506]\n",
      "57 [5.479351] [7.7463055]\n",
      "58 [5.4597793] [7.756664]\n",
      "59 [5.4410067] [7.766599]\n",
      "60 [5.4230003] [7.776129]\n",
      "61 [5.4057293] [7.7852693]\n",
      "62 [5.3891635] [7.794037]\n",
      "63 [5.3732743] [7.8024464]\n",
      "64 [5.3580337] [7.810512]\n",
      "65 [5.3434153] [7.8182487]\n",
      "66 [5.329394] [7.82567]\n",
      "67 [5.3159447] [7.8327875]\n",
      "68 [5.303045] [7.839615]\n",
      "69 [5.2906713] [7.8461633]\n",
      "70 [5.2788033] [7.852444]\n",
      "71 [5.26742] [7.858469]\n",
      "72 [5.256501] [7.864248]\n",
      "73 [5.2460284] [7.8697906]\n",
      "74 [5.2359834] [7.875107]\n",
      "75 [5.2263484] [7.880206]\n",
      "76 [5.217107] [7.885097]\n",
      "77 [5.2082424] [7.8897886]\n",
      "78 [5.19974] [7.8942885]\n",
      "79 [5.1915846] [7.8986044]\n",
      "80 [5.1837626] [7.9027443]\n",
      "81 [5.1762595] [7.9067154]\n",
      "82 [5.169063] [7.910524]\n",
      "83 [5.1621604] [7.9141774]\n",
      "84 [5.1555395] [7.917681]\n",
      "85 [5.149189] [7.9210424]\n",
      "86 [5.143098] [7.9242663]\n",
      "87 [5.137255] [7.927358]\n",
      "88 [5.131651] [7.930324]\n",
      "89 [5.1262755] [7.933169]\n",
      "90 [5.12112] [7.935898]\n",
      "91 [5.1161747] [7.938515]\n",
      "92 [5.111431] [7.9410253]\n",
      "93 [5.1068816] [7.9434333]\n",
      "94 [5.1025176] [7.945743]\n",
      "95 [5.098332] [7.9479585]\n",
      "96 [5.094317] [7.9500833]\n",
      "97 [5.090466] [7.9521213]\n",
      "98 [5.0867724] [7.9540763]\n",
      "99 [5.0832295] [7.955951]\n",
      "100 [5.079831] [7.95775]\n",
      "101 [5.0765715] [7.959475]\n",
      "102 [5.073445] [7.9611297]\n",
      "103 [5.070446] [7.9627166]\n",
      "104 [5.0675697] [7.964239]\n",
      "105 [5.0648108] [7.965699]\n",
      "106 [5.0621643] [7.9670997]\n",
      "107 [5.059626] [7.968443]\n",
      "108 [5.057192] [7.9697313]\n",
      "109 [5.054857] [7.9709673]\n",
      "110 [5.052617] [7.9721527]\n",
      "111 [5.050469] [7.9732895]\n",
      "112 [5.0484085] [7.97438]\n",
      "113 [5.046432] [7.975426]\n",
      "114 [5.044536] [7.9764295]\n",
      "115 [5.042718] [7.9773917]\n",
      "116 [5.0409737] [7.978315]\n",
      "117 [5.039301] [7.9792004]\n",
      "118 [5.0376964] [7.9800496]\n",
      "119 [5.036157] [7.980864]\n",
      "120 [5.034681] [7.981645]\n",
      "121 [5.033265] [7.9823947]\n",
      "122 [5.031907] [7.9831133]\n",
      "123 [5.0306044] [7.983803]\n",
      "124 [5.0293546] [7.984464]\n",
      "125 [5.0281563] [7.9850984]\n",
      "126 [5.0270066] [7.985707]\n",
      "127 [5.025904] [7.9862905]\n",
      "128 [5.0248466] [7.9868503]\n",
      "129 [5.023832] [7.987387]\n",
      "130 [5.0228586] [7.987902]\n",
      "131 [5.0219254] [7.988396]\n",
      "132 [5.0210304] [7.9888697]\n",
      "133 [5.0201716] [7.989324]\n",
      "134 [5.019348] [7.98976]\n",
      "135 [5.018558] [7.990178]\n",
      "136 [5.0178003] [7.990579]\n",
      "137 [5.0170736] [7.990964]\n",
      "138 [5.0163765] [7.991333]\n",
      "139 [5.015708] [7.991687]\n",
      "140 [5.0150666] [7.9920263]\n",
      "141 [5.0144515] [7.9923515]\n",
      "142 [5.0138617] [7.992664]\n",
      "143 [5.0132957] [7.9929633]\n",
      "144 [5.012753] [7.993251]\n",
      "145 [5.0122323] [7.993526]\n",
      "146 [5.011733] [7.9937906]\n",
      "147 [5.011254] [7.994044]\n",
      "148 [5.010794] [7.994287]\n",
      "149 [5.0103536] [7.99452]\n",
      "150 [5.009931] [7.994744]\n",
      "151 [5.009526] [7.9949584]\n",
      "152 [5.0091367] [7.9951644]\n",
      "153 [5.008764] [7.995362]\n",
      "154 [5.008406] [7.995551]\n",
      "155 [5.008063] [7.995733]\n",
      "156 [5.007734] [7.995907]\n",
      "157 [5.007418] [7.996074]\n",
      "158 [5.0071154] [7.9962344]\n",
      "159 [5.006825] [7.996388]\n",
      "160 [5.0065465] [7.9965353]\n",
      "161 [5.006279] [7.996677]\n",
      "162 [5.0060225] [7.9968123]\n",
      "163 [5.0057764] [7.9969425]\n",
      "164 [5.005541] [7.9970675]\n",
      "165 [5.005315] [7.997187]\n",
      "166 [5.005098] [7.997302]\n",
      "167 [5.0048895] [7.997412]\n",
      "168 [5.0046897] [7.997518]\n",
      "169 [5.004498] [7.997619]\n",
      "170 [5.0043144] [7.9977164]\n",
      "171 [5.0041385] [7.99781]\n",
      "172 [5.0039697] [7.997899]\n",
      "173 [5.0038075] [7.997985]\n",
      "174 [5.003652] [7.998067]\n",
      "175 [5.003503] [7.998146]\n",
      "176 [5.00336] [7.998222]\n",
      "177 [5.0032225] [7.9982944]\n",
      "178 [5.003091] [7.998364]\n",
      "179 [5.0029645] [7.9984307]\n",
      "180 [5.0028434] [7.998495]\n",
      "181 [5.0027275] [7.9985566]\n",
      "182 [5.002616] [7.9986153]\n",
      "183 [5.002509] [7.998672]\n",
      "184 [5.0024066] [7.9987264]\n",
      "185 [5.0023084] [7.9987783]\n",
      "186 [5.002214] [7.9988284]\n",
      "187 [5.0021234] [7.998876]\n",
      "188 [5.0020366] [7.998922]\n",
      "189 [5.0019536] [7.998966]\n",
      "190 [5.001874] [7.999008]\n",
      "191 [5.0017977] [7.9990487]\n",
      "192 [5.0017242] [7.9990873]\n",
      "193 [5.0016537] [7.9991245]\n",
      "194 [5.0015864] [7.9991603]\n",
      "195 [5.0015216] [7.9991946]\n",
      "196 [5.0014596] [7.9992275]\n",
      "197 [5.0014] [7.999259]\n",
      "198 [5.001343] [7.9992895]\n",
      "199 [5.001288] [7.9993186]\n",
      "200 [5.0012355] [7.9993463]\n"
     ]
    }
   ],
   "source": [
    "for step in range(201):\n",
    "    sess.run(train)\n",
    "    if step % 1 ==0:\n",
    "        print(step,sess.run(Weights),sess.run(biases))"
   ]
  },
  {
   "cell_type": "markdown",
   "metadata": {},
   "source": [
    "# TensorFlow 入門操作\n",
    "## TensorFlow 提供了許多的 API，最底層的 API 就是 TensorFlow Core，其餘較高階的 API 都是以 TensorFlow Core 為基礎所建立的，低階的 TensorFlow Core API 使用上難度比較高，但是可以對模型進行細部的微調，適合機器學習的研究者使用，而較高階的 API 使用上比較簡單，適合一般的使用者來使用。\n",
    "\n",
    "## 以下我們將介紹 TensorFlow Core 的用法，在了解 TensorFlow 底層的運作方式之後，再介紹高階 API 的使用方式。\n",
    "\n",
    "## Tensors\n",
    "## TensorFlow 中最基礎的資料類型就是 tensor，它是一種多維度的陣列，其陣列的維度稱為 rank，以下是一些 tensor 的範例：\n",
    "\n",
    "一個 rank 為 0 的 tensor，形狀為 [] 的常數\n",
    "3\n",
    "\n",
    "一個 rank 為 1 的 tensor，形狀為 [3] 的向量\n",
    "[1. ,2., 3.]\n",
    "\n",
    "一個 rank 為 2 的 tensor，形狀為 [2, 3] 的矩陣\n",
    "[[1., 2., 3.], [4., 5., 6.]]\n",
    "\n",
    "一個 rank 為 3 的 tensor，形狀為 [2, 1, 3] 的高維度陣列\n",
    "[[[1., 2., 3.]], [[7., 8., 9.]]]\n",
    "\n",
    "在使用 TensorFlow 時，要將 tensorflow 這個 Python 模組匯入：\n",
    "\n",
    "import tensorflow as tf\n",
    "接著我們就可以透過這個 tf 使用 TensorFlow 了。\n",
    "\n",
    "TensorFlow Core 的程式可分為兩大部分：\n",
    "\n",
    "建立 computational graph。\n",
    "執行 computational graph。\n",
    "computational graph 是由許多 TensorFlow 運算節點（nodes）所組成的運算藍圖，每個節點可以接受任意個數的 tensors 作為輸入資料（或是沒有任何輸入也可以），並輸出一個 tensor。"
   ]
  },
  {
   "cell_type": "code",
   "execution_count": null,
   "metadata": {
    "collapsed": true
   },
   "outputs": [],
   "source": []
  },
  {
   "cell_type": "markdown",
   "metadata": {},
   "source": [
    "# constant 節點是一個最簡單的常數節點，它沒有輸入資料，只會輸出其內部儲存的常數，以下是兩個浮點數常數節點範例："
   ]
  },
  {
   "cell_type": "code",
   "execution_count": 111,
   "metadata": {
    "collapsed": true
   },
   "outputs": [],
   "source": [
    "\n",
    "node1 = tf.constant(3.0, dtype = tf.float32)\n",
    "node2 = tf.constant(4.0) # 預設型別亦為 tf.float32"
   ]
  },
  {
   "cell_type": "code",
   "execution_count": 113,
   "metadata": {},
   "outputs": [
    {
     "name": "stdout",
     "output_type": "stream",
     "text": [
      "Tensor(\"Const_4:0\", shape=(), dtype=float32) Tensor(\"Const_5:0\", shape=(), dtype=float32)\n"
     ]
    }
   ],
   "source": [
    "print(node1, node2)"
   ]
  },
  {
   "cell_type": "markdown",
   "metadata": {},
   "source": [
    "# 我們將節點輸出之後，並不會直接得到節點的輸出數值，而是看到兩個節點的內部結構，如果要讓節點實際進行運算，必須先建立一個 session，然後在 session 中執行 computational graph："
   ]
  },
  {
   "cell_type": "code",
   "execution_count": 114,
   "metadata": {},
   "outputs": [
    {
     "name": "stdout",
     "output_type": "stream",
     "text": [
      "[3.0, 4.0]\n"
     ]
    }
   ],
   "source": [
    "sess = tf.Session()\n",
    "print(sess.run([node1, node2]))"
   ]
  },
  {
   "cell_type": "code",
   "execution_count": 115,
   "metadata": {},
   "outputs": [
    {
     "name": "stdout",
     "output_type": "stream",
     "text": [
      "node3:  Tensor(\"Add:0\", shape=(), dtype=float32)\n"
     ]
    }
   ],
   "source": [
    "node3 = tf.add(node1, node2)\n",
    "print(\"node3: \", node3)"
   ]
  },
  {
   "cell_type": "code",
   "execution_count": 116,
   "metadata": {},
   "outputs": [
    {
     "name": "stdout",
     "output_type": "stream",
     "text": [
      "sess.run(node3):  7.0\n"
     ]
    }
   ],
   "source": [
    "print(\"sess.run(node3): \",sess.run(node3))"
   ]
  },
  {
   "cell_type": "markdown",
   "metadata": {},
   "source": [
    "# Placeholder\n",
    "## placeholder 是一種可以讓 computational graph 保留輸入欄位的節點，其允許實際的輸入值留到後來再指定。"
   ]
  },
  {
   "cell_type": "code",
   "execution_count": 165,
   "metadata": {
    "collapsed": true
   },
   "outputs": [],
   "source": [
    "a = tf.placeholder(tf.float32)\n",
    "b = tf.placeholder(tf.float32)\n",
    "adder_node = a + b  # 加號（+）等同於 tf.add(a, b) 的效果"
   ]
  },
  {
   "cell_type": "markdown",
   "metadata": {},
   "source": [
    "# 這種方式其實有點類似定義一個函數，其接受 a 與 b 兩個輸入參數，並且進行加法運算。\n",
    "\n",
    "# 接著在執行 computational graph 時，只要在 run 的 feed_dict 參數指定輸入的數值，即可進行運算："
   ]
  },
  {
   "cell_type": "code",
   "execution_count": 166,
   "metadata": {},
   "outputs": [
    {
     "name": "stdout",
     "output_type": "stream",
     "text": [
      "7.5\n"
     ]
    }
   ],
   "source": [
    "print(sess.run(adder_node, feed_dict={a: 3, b:4.5}))"
   ]
  },
  {
   "cell_type": "code",
   "execution_count": 167,
   "metadata": {},
   "outputs": [
    {
     "name": "stdout",
     "output_type": "stream",
     "text": [
      "[3. 7.]\n"
     ]
    }
   ],
   "source": [
    "print(sess.run(adder_node, {a: [1,3], b: [2, 4]}))"
   ]
  },
  {
   "cell_type": "code",
   "execution_count": 168,
   "metadata": {
    "scrolled": true
   },
   "outputs": [
    {
     "name": "stdout",
     "output_type": "stream",
     "text": [
      "22.5\n"
     ]
    }
   ],
   "source": [
    "add_and_triple = adder_node * 3.\n",
    "print(sess.run(add_and_triple, {a: 3, b:4.5}))"
   ]
  },
  {
   "cell_type": "markdown",
   "metadata": {},
   "source": [
    "# Variable\n",
    "## 在機器學習的應用上，我們可以讓模型透過 placeholder 輸入各種的資料，而參數的部份我們可以透過 variable 的節點來指定（這樣可以讓參數可以進行訓練）"
   ]
  },
  {
   "cell_type": "code",
   "execution_count": 169,
   "metadata": {
    "collapsed": true
   },
   "outputs": [],
   "source": [
    "W = tf.Variable([.3], dtype=tf.float32)\n",
    "b = tf.Variable([-.3], dtype=tf.float32)\n",
    "x = tf.placeholder(tf.float32)\n",
    "linear_model = W * x + b"
   ]
  },
  {
   "cell_type": "markdown",
   "metadata": {},
   "source": [
    "# 常數節點會在呼叫 tf.constant 時就進行初始化，而且其數值是固定的，而 variable 在呼叫 tf.Variable 時並不會進行初始化，若要初始化 variable 要另外執行以下的指令："
   ]
  },
  {
   "cell_type": "code",
   "execution_count": 170,
   "metadata": {
    "collapsed": true
   },
   "outputs": [],
   "source": [
    "init = tf.global_variables_initializer()\n",
    "sess.run(init)"
   ]
  },
  {
   "cell_type": "markdown",
   "metadata": {},
   "source": [
    "# 初始化 variables 之後，就可以將資料放進去這個模型中計算"
   ]
  },
  {
   "cell_type": "code",
   "execution_count": 171,
   "metadata": {},
   "outputs": [
    {
     "name": "stdout",
     "output_type": "stream",
     "text": [
      "[0.         0.3        0.6        0.90000004]\n"
     ]
    }
   ],
   "source": [
    "print(sess.run(linear_model, {x:[1,2,3,4]}))"
   ]
  },
  {
   "cell_type": "markdown",
   "metadata": {},
   "source": [
    "# 建立好模型之後，我們還會需要評估模型的表現好壞，所以還要定義一個 placeholder y，用於儲存正確的答案："
   ]
  },
  {
   "cell_type": "code",
   "execution_count": 172,
   "metadata": {
    "collapsed": true
   },
   "outputs": [],
   "source": [
    "y = tf.placeholder(tf.float32)"
   ]
  },
  {
   "cell_type": "markdown",
   "metadata": {},
   "source": [
    "# 接著使用 tf.square 計算每個誤差的平方，再使用 reduce_sum 把平方後的誤差加總："
   ]
  },
  {
   "cell_type": "code",
   "execution_count": 173,
   "metadata": {
    "collapsed": true
   },
   "outputs": [],
   "source": [
    "squared_deltas = tf.square(linear_model - y)\n",
    "loss = tf.reduce_sum(squared_deltas)"
   ]
  },
  {
   "cell_type": "markdown",
   "metadata": {},
   "source": [
    "# 最後把資料放進去，實際執行："
   ]
  },
  {
   "cell_type": "code",
   "execution_count": 174,
   "metadata": {},
   "outputs": [
    {
     "name": "stdout",
     "output_type": "stream",
     "text": [
      "23.66\n"
     ]
    }
   ],
   "source": [
    "print(sess.run(loss, {x:[1,2,3,4], y:[0,-1,-2,-3]}))"
   ]
  },
  {
   "cell_type": "markdown",
   "metadata": {},
   "source": [
    "# 在學習的過程，我們可以透過調整不同的參數組合，讓誤差值更小。若要調整 variable 的值可以使用 tf.assign："
   ]
  },
  {
   "cell_type": "code",
   "execution_count": 176,
   "metadata": {},
   "outputs": [
    {
     "name": "stdout",
     "output_type": "stream",
     "text": [
      "0.0\n"
     ]
    }
   ],
   "source": [
    "fixW = tf.assign(W, [-1.])\n",
    "fixb = tf.assign(b, [1.])\n",
    "sess.run([fixW, fixb])\n",
    "print(sess.run(loss, {x:[1,2,3,4], y:[0,-1,-2,-3]}))"
   ]
  },
  {
   "cell_type": "markdown",
   "metadata": {},
   "source": [
    "# 在建立好模型之後，接著就是要使用既有的資料對模型進行訓練，TensorFlow 所提供的 optimizers 可以對模型的 variable 進行微調，讓 loss function 達到最小，而最簡單的 optimizer 就是 gradient descent，他會依照 loss function 對個變數的 gradient 方向調整變數，TensorFlow 的 tf.gradients 可以幫助我們計算函數的微分，而 optimizers 也會自動幫我們處理這部分的問題。\n",
    "## 首先建立一個 gradient descent optimizer，並指定 loss function："
   ]
  },
  {
   "cell_type": "code",
   "execution_count": 177,
   "metadata": {
    "collapsed": true
   },
   "outputs": [],
   "source": [
    "optimizer = tf.train.GradientDescentOptimizer(0.01)\n",
    "train = optimizer.minimize(loss)"
   ]
  },
  {
   "cell_type": "markdown",
   "metadata": {},
   "source": [
    "# 將原本的變數設定為預設的錯誤組合，然後使用使用迴圈訓練模型，找出最佳的變數組合："
   ]
  },
  {
   "cell_type": "code",
   "execution_count": 184,
   "metadata": {
    "collapsed": true
   },
   "outputs": [],
   "source": [
    "sess.run(init) # 將變數重設為錯誤的組合\n",
    "for i in range(1000):\n",
    "    sess.run(train, {x:[1,2,3,4], y:[13,22,31,43]})"
   ]
  },
  {
   "cell_type": "code",
   "execution_count": 185,
   "metadata": {},
   "outputs": [
    {
     "name": "stdout",
     "output_type": "stream",
     "text": [
      "[array([9.899992], dtype=float32), array([2.5000215], dtype=float32)]\n"
     ]
    }
   ],
   "source": [
    "print(sess.run([W, b]))"
   ]
  },
  {
   "attachments": {
    "image.png": {
     "image/png": "[encoded data removed]"
    }
   },
   "cell_type": "markdown",
   "metadata": {},
   "source": [
    "# 完整的線性迴歸模型程式\n",
    "# 前面我們完成了一個簡單的線性迴歸模型程式，其完整的程式碼如下：\n",
    "![image.png](attachment:image.png)"
   ]
  },
  {
   "cell_type": "code",
   "execution_count": 144,
   "metadata": {},
   "outputs": [
    {
     "name": "stdout",
     "output_type": "stream",
     "text": [
      "0 [array([-0.21999997], dtype=float32), array([-0.456], dtype=float32), 4.0181446]\n",
      "50 [array([-0.7127021], dtype=float32), array([0.15530905], dtype=float32), 0.47665495]\n",
      "100 [array([-0.84270465], dtype=float32), array([0.5375326], dtype=float32), 0.14287975]\n",
      "150 [array([-0.913881], dtype=float32), array([0.74679965], dtype=float32), 0.04282894]\n",
      "200 [array([-0.9528499], dtype=float32), array([0.86137295], dtype=float32), 0.012838207]\n",
      "250 [array([-0.97418535], dtype=float32), array([0.92410177], dtype=float32), 0.0038483262]\n",
      "300 [array([-0.98586655], dtype=float32), array([0.95844597], dtype=float32), 0.0011535464]\n",
      "350 [array([-0.992262], dtype=float32), array([0.9772494], dtype=float32), 0.00034577594]\n",
      "400 [array([-0.9957634], dtype=float32), array([0.98754394], dtype=float32), 0.000103651124]\n",
      "450 [array([-0.9976805], dtype=float32), array([0.99318033], dtype=float32), 3.106893e-05]\n",
      "500 [array([-0.9987301], dtype=float32), array([0.9962665], dtype=float32), 9.312402e-06]\n",
      "550 [array([-0.9993047], dtype=float32), array([0.9979559], dtype=float32), 2.7915135e-06]\n",
      "600 [array([-0.99961936], dtype=float32), array([0.998881], dtype=float32), 8.3645574e-07]\n",
      "650 [array([-0.9997916], dtype=float32), array([0.9993873], dtype=float32), 2.5076088e-07]\n",
      "700 [array([-0.9998859], dtype=float32), array([0.9996646], dtype=float32), 7.514916e-08]\n",
      "750 [array([-0.99993753], dtype=float32), array([0.99981636], dtype=float32), 2.2531257e-08]\n",
      "800 [array([-0.9999658], dtype=float32), array([0.99989945], dtype=float32), 6.753911e-09]\n",
      "850 [array([-0.9999812], dtype=float32), array([0.9999448], dtype=float32), 2.0398154e-09]\n",
      "900 [array([-0.9999897], dtype=float32), array([0.9999697], dtype=float32), 6.12733e-10]\n",
      "950 [array([-0.9999944], dtype=float32), array([0.99998343], dtype=float32), 1.8181368e-10]\n",
      "W: [-0.9999969] b: [0.9999908] loss: 5.6999738e-11\n"
     ]
    }
   ],
   "source": [
    "import tensorflow as tf\n",
    "\n",
    "# 模型參數\n",
    "W = tf.Variable([.3], dtype=tf.float32)\n",
    "b = tf.Variable([-.3], dtype=tf.float32)\n",
    "\n",
    "# 輸入與輸出的資料\n",
    "x = tf.placeholder(tf.float32)\n",
    "linear_model = W * x + b\n",
    "y = tf.placeholder(tf.float32)\n",
    "\n",
    "# loss function\n",
    "loss = tf.reduce_sum(tf.square(linear_model - y)) # sum of the squares\n",
    "\n",
    "# optimizer\n",
    "optimizer = tf.train.GradientDescentOptimizer(0.01)\n",
    "train = optimizer.minimize(loss)\n",
    "\n",
    "# training data\n",
    "x_train = [1, 2, 3, 4]\n",
    "y_train = [0, -1, -2, -3]\n",
    "\n",
    "# 初始化、重設模型參數\n",
    "init = tf.global_variables_initializer()\n",
    "sess = tf.Session()\n",
    "sess.run(init)\n",
    "\n",
    "# 最佳化迴圈\n",
    "for i in range(1000):\n",
    "    sess.run(train, {x:x_train, y:y_train})\n",
    "    if i % 50 ==0:\n",
    "        print(i, sess.run([W, b, loss], {x:x_train, y:y_train}))\n",
    "# 輸出結果\n",
    "curr_W, curr_b, curr_loss = sess.run([W, b, loss], {x:x_train, y:y_train})\n",
    "print(\"W: %s b: %s loss: %s\"%(curr_W, curr_b, curr_loss))"
   ]
  },
  {
   "cell_type": "markdown",
   "metadata": {},
   "source": [
    "# tf.contrib.learn\n",
    "tf.contrib.learn 是一個高階的 TensorFlow API，可以處理模型的訓練與評估等各種常用的機器學習工作。\n",
    "\n",
    "以下是使用 tf.contrib.learn 來實作線性迴歸模型的程式碼："
   ]
  },
  {
   "cell_type": "code",
   "execution_count": 186,
   "metadata": {},
   "outputs": [
    {
     "name": "stdout",
     "output_type": "stream",
     "text": [
      "INFO:tensorflow:Using default config.\n",
      "WARNING:tensorflow:Using temporary folder as model directory: C:\\Users\\ANDY~1.YUA\\AppData\\Local\\Temp\\tmpnwta9mi1\n",
      "INFO:tensorflow:Using config: {'_task_type': None, '_task_id': 0, '_cluster_spec': <tensorflow.python.training.server_lib.ClusterSpec object at 0x0000000023406320>, '_master': '', '_num_ps_replicas': 0, '_num_worker_replicas': 0, '_environment': 'local', '_is_chief': True, '_evaluation_master': '', '_tf_config': gpu_options {\n",
      "  per_process_gpu_memory_fraction: 1\n",
      "}\n",
      ", '_tf_random_seed': None, '_save_summary_steps': 100, '_save_checkpoints_secs': 600, '_log_step_count_steps': 100, '_session_config': None, '_save_checkpoints_steps': None, '_keep_checkpoint_max': 5, '_keep_checkpoint_every_n_hours': 10000, '_model_dir': 'C:\\\\Users\\\\ANDY~1.YUA\\\\AppData\\\\Local\\\\Temp\\\\tmpnwta9mi1'}\n",
      "INFO:tensorflow:Create CheckpointSaverHook.\n",
      "INFO:tensorflow:Saving checkpoints for 1 into C:\\Users\\ANDY~1.YUA\\AppData\\Local\\Temp\\tmpnwta9mi1\\model.ckpt.\n",
      "INFO:tensorflow:loss = 3.0, step = 1\n",
      "INFO:tensorflow:global_step/sec: 1086.92\n",
      "INFO:tensorflow:loss = 0.05386898, step = 101 (0.092 sec)\n",
      "INFO:tensorflow:global_step/sec: 1369.84\n",
      "INFO:tensorflow:loss = 0.011463193, step = 201 (0.073 sec)\n",
      "INFO:tensorflow:global_step/sec: 1333.28\n",
      "INFO:tensorflow:loss = 0.0016368033, step = 301 (0.077 sec)\n",
      "INFO:tensorflow:global_step/sec: 1428.49\n",
      "INFO:tensorflow:loss = 0.00015758083, step = 401 (0.070 sec)\n",
      "INFO:tensorflow:global_step/sec: 1470.5\n",
      "INFO:tensorflow:loss = 3.9021594e-05, step = 501 (0.066 sec)\n",
      "INFO:tensorflow:global_step/sec: 1204.78\n",
      "INFO:tensorflow:loss = 1.5867288e-05, step = 601 (0.085 sec)\n",
      "INFO:tensorflow:global_step/sec: 1388.81\n",
      "INFO:tensorflow:loss = 8.256212e-07, step = 701 (0.071 sec)\n",
      "INFO:tensorflow:global_step/sec: 1538.38\n",
      "INFO:tensorflow:loss = 3.1879907e-07, step = 801 (0.065 sec)\n",
      "INFO:tensorflow:global_step/sec: 1724.04\n",
      "INFO:tensorflow:loss = 2.3680126e-08, step = 901 (0.058 sec)\n",
      "INFO:tensorflow:Saving checkpoints for 1000 into C:\\Users\\ANDY~1.YUA\\AppData\\Local\\Temp\\tmpnwta9mi1\\model.ckpt.\n",
      "INFO:tensorflow:Loss for final step: 1.5658372e-09.\n",
      "INFO:tensorflow:Starting evaluation at 2018-02-01-07:19:19\n",
      "INFO:tensorflow:Restoring parameters from C:\\Users\\ANDY~1.YUA\\AppData\\Local\\Temp\\tmpnwta9mi1\\model.ckpt-1000\n",
      "INFO:tensorflow:Finished evaluation at 2018-02-01-07:19:20\n",
      "INFO:tensorflow:Saving dict for global step 1000: global_step = 1000, loss = 6.8553336e-09\n",
      "INFO:tensorflow:Starting evaluation at 2018-02-01-07:19:20\n",
      "INFO:tensorflow:Restoring parameters from C:\\Users\\ANDY~1.YUA\\AppData\\Local\\Temp\\tmpnwta9mi1\\model.ckpt-1000\n",
      "INFO:tensorflow:Finished evaluation at 2018-02-01-07:19:21\n",
      "INFO:tensorflow:Saving dict for global step 1000: global_step = 1000, loss = 0.0025332812\n",
      "train loss: {'loss': 6.8553336e-09, 'global_step': 1000}\n",
      "eval loss: {'loss': 0.0025332812, 'global_step': 1000}\n"
     ]
    }
   ],
   "source": [
    "import tensorflow as tf\n",
    "\n",
    "# NumPy 時常用於載入與整理資料\n",
    "import numpy as np\n",
    "\n",
    "# 宣告特徵（fetures），此例中只有一個實數的特徵\n",
    "features = [tf.contrib.layers.real_valued_column(\"x\", dimension=1)]\n",
    "\n",
    "# 定義模型，此例使用線性迴歸模型\n",
    "estimator = tf.contrib.learn.LinearRegressor(feature_columns=features)\n",
    "\n",
    "# 定義資料，並指定 batch 與 epochs 的大小\n",
    "x_train = np.array([1., 2., 3., 4.])\n",
    "y_train = np.array([0., -1., -2., -3.])\n",
    "x_eval = np.array([2., 5., 8., 1.])\n",
    "y_eval = np.array([-1.01, -4.1, -7, 0.])\n",
    "input_fn = tf.contrib.learn.io.numpy_input_fn({\"x\":x_train}, y_train,\n",
    "                                              batch_size = 4,\n",
    "                                              num_epochs = 1000)\n",
    "eval_input_fn = tf.contrib.learn.io.numpy_input_fn(\n",
    "    {\"x\":x_eval}, y_eval, batch_size = 4, num_epochs = 1000)\n",
    "\n",
    "# 進行模型的訓練\n",
    "estimator.fit(input_fn = input_fn, steps = 1000)\n",
    "\n",
    "# 驗證模型\n",
    "train_loss = estimator.evaluate(input_fn=input_fn)\n",
    "eval_loss = estimator.evaluate(input_fn=eval_input_fn)\n",
    "print(\"train loss: %r\"% train_loss)\n",
    "print(\"eval loss: %r\"% eval_loss)"
   ]
  },
  {
   "cell_type": "markdown",
   "metadata": {},
   "source": [
    "# 自訂模型\n",
    "tf.contrib.learn 也允許使用者自訂模型，以下是自訂模型的範例："
   ]
  },
  {
   "cell_type": "code",
   "execution_count": 187,
   "metadata": {},
   "outputs": [
    {
     "name": "stdout",
     "output_type": "stream",
     "text": [
      "INFO:tensorflow:Using default config.\n",
      "WARNING:tensorflow:Using temporary folder as model directory: C:\\Users\\ANDY~1.YUA\\AppData\\Local\\Temp\\tmp5rpvgmtw\n",
      "INFO:tensorflow:Using config: {'_task_type': None, '_task_id': 0, '_cluster_spec': <tensorflow.python.training.server_lib.ClusterSpec object at 0x0000000023B8AC88>, '_master': '', '_num_ps_replicas': 0, '_num_worker_replicas': 0, '_environment': 'local', '_is_chief': True, '_evaluation_master': '', '_tf_config': gpu_options {\n",
      "  per_process_gpu_memory_fraction: 1\n",
      "}\n",
      ", '_tf_random_seed': None, '_save_summary_steps': 100, '_save_checkpoints_secs': 600, '_log_step_count_steps': 100, '_session_config': None, '_save_checkpoints_steps': None, '_keep_checkpoint_max': 5, '_keep_checkpoint_every_n_hours': 10000, '_model_dir': 'C:\\\\Users\\\\ANDY~1.YUA\\\\AppData\\\\Local\\\\Temp\\\\tmp5rpvgmtw'}\n",
      "INFO:tensorflow:Create CheckpointSaverHook.\n",
      "INFO:tensorflow:Saving checkpoints for 1 into C:\\Users\\ANDY~1.YUA\\AppData\\Local\\Temp\\tmp5rpvgmtw\\model.ckpt.\n",
      "INFO:tensorflow:loss = 15.932106509301624, step = 1\n",
      "INFO:tensorflow:global_step/sec: 819.637\n",
      "INFO:tensorflow:loss = 0.18631913985054793, step = 101 (0.124 sec)\n",
      "INFO:tensorflow:global_step/sec: 1298.65\n",
      "INFO:tensorflow:loss = 0.027241638255847432, step = 201 (0.075 sec)\n",
      "INFO:tensorflow:global_step/sec: 1136.33\n",
      "INFO:tensorflow:loss = 2.0244774751861293e-05, step = 301 (0.088 sec)\n",
      "INFO:tensorflow:global_step/sec: 1351.3\n",
      "INFO:tensorflow:loss = 0.0001153650893324619, step = 401 (0.074 sec)\n",
      "INFO:tensorflow:global_step/sec: 1204.79\n",
      "INFO:tensorflow:loss = 1.2935859810782689e-05, step = 501 (0.083 sec)\n",
      "INFO:tensorflow:global_step/sec: 1204.77\n",
      "INFO:tensorflow:loss = 1.094675715222144e-06, step = 601 (0.085 sec)\n",
      "INFO:tensorflow:global_step/sec: 1351.28\n",
      "INFO:tensorflow:loss = 9.640762437466812e-08, step = 701 (0.073 sec)\n",
      "INFO:tensorflow:global_step/sec: 1785.61\n",
      "INFO:tensorflow:loss = 1.0474733641962589e-08, step = 801 (0.055 sec)\n",
      "INFO:tensorflow:global_step/sec: 1754.34\n",
      "INFO:tensorflow:loss = 2.930656074284684e-10, step = 901 (0.058 sec)\n",
      "INFO:tensorflow:Saving checkpoints for 1000 into C:\\Users\\ANDY~1.YUA\\AppData\\Local\\Temp\\tmp5rpvgmtw\\model.ckpt.\n",
      "INFO:tensorflow:Loss for final step: 1.580175218543481e-11.\n",
      "INFO:tensorflow:Starting evaluation at 2018-02-01-07:22:02\n",
      "INFO:tensorflow:Restoring parameters from C:\\Users\\ANDY~1.YUA\\AppData\\Local\\Temp\\tmp5rpvgmtw\\model.ckpt-1000\n",
      "INFO:tensorflow:Finished evaluation at 2018-02-01-07:22:03\n",
      "INFO:tensorflow:Saving dict for global step 1000: global_step = 1000, loss = 5.0208365e-11\n",
      "INFO:tensorflow:Starting evaluation at 2018-02-01-07:22:03\n",
      "INFO:tensorflow:Restoring parameters from C:\\Users\\ANDY~1.YUA\\AppData\\Local\\Temp\\tmp5rpvgmtw\\model.ckpt-1000\n",
      "INFO:tensorflow:Finished evaluation at 2018-02-01-07:22:04\n",
      "INFO:tensorflow:Saving dict for global step 1000: global_step = 1000, loss = 0.01010096\n",
      "train loss: {'loss': 5.0208365e-11, 'global_step': 1000}\n",
      "eval loss: {'loss': 0.01010096, 'global_step': 1000}\n"
     ]
    }
   ],
   "source": [
    "import numpy as np\n",
    "import tensorflow as tf\n",
    "\n",
    "# 自訂模型\n",
    "def model(features, labels, mode):\n",
    "    # 建立線性迴歸模型\n",
    "    W = tf.get_variable(\"W\", [1], dtype=tf.float64)\n",
    "    b = tf.get_variable(\"b\", [1], dtype=tf.float64)\n",
    "    y = W * features['x'] + b\n",
    "    # loss function 的 sub-graph\n",
    "    loss = tf.reduce_sum(tf.square(y - labels))\n",
    "    # 訓練的 sub-graph\n",
    "    global_step = tf.train.get_global_step()\n",
    "    optimizer = tf.train.GradientDescentOptimizer(0.01)\n",
    "    train = tf.group(optimizer.minimize(loss),\n",
    "                   tf.assign_add(global_step, 1))\n",
    "    # 使用 ModelFnOps 將我們建立的 subgraphs 包裝好\n",
    "    return tf.contrib.learn.ModelFnOps(\n",
    "      mode=mode, predictions=y,\n",
    "      loss=loss,\n",
    "      train_op=train)\n",
    "\n",
    "# 定義模型\n",
    "estimator = tf.contrib.learn.Estimator(model_fn=model)\n",
    "\n",
    "# 定義資料，並指定 batch 與 epochs 的大小\n",
    "x_train = np.array([1., 2., 3., 4.])\n",
    "y_train = np.array([0., -1., -2., -3.])\n",
    "x_eval = np.array([2., 5., 8., 1.])\n",
    "y_eval = np.array([-1.01, -4.1, -7, 0.])\n",
    "input_fn = tf.contrib.learn.io.numpy_input_fn({\"x\": x_train}, y_train, 4, num_epochs=1000)\n",
    "tf.summary\n",
    "# 進行模型的訓練\n",
    "estimator.fit(input_fn=input_fn, steps=1000)\n",
    "\n",
    "# 驗證模型\n",
    "train_loss = estimator.evaluate(input_fn=input_fn)\n",
    "eval_loss = estimator.evaluate(input_fn=eval_input_fn)\n",
    "print(\"train loss: %r\"% train_loss)\n",
    "print(\"eval loss: %r\"% eval_loss)"
   ]
  },
  {
   "cell_type": "code",
   "execution_count": null,
   "metadata": {
    "collapsed": true
   },
   "outputs": [],
   "source": []
  }
 ],
 "metadata": {
  "kernelspec": {
   "display_name": "Python 3",
   "language": "python",
   "name": "python3"
  },
  "language_info": {
   "codemirror_mode": {
    "name": "ipython",
    "version": 3
   },
   "file_extension": ".py",
   "mimetype": "text/x-python",
   "name": "python",
   "nbconvert_exporter": "python",
   "pygments_lexer": "ipython3",
   "version": "3.6.3"
  }
 },
 "nbformat": 4,
 "nbformat_minor": 2
}
