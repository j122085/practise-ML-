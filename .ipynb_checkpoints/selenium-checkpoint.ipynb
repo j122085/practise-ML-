{
 "cells": [
  {
   "cell_type": "code",
   "execution_count": 4,
   "metadata": {
    "collapsed": true
   },
   "outputs": [],
   "source": [
    "from selenium import webdriver\n",
    "# from selenium.webdriver.common.keys import Keys"
   ]
  },
  {
   "cell_type": "code",
   "execution_count": 12,
   "metadata": {},
   "outputs": [
    {
     "name": "stdout",
     "output_type": "stream",
     "text": [
      "C:\\Users\\andy.yuan\\AppData\\Roaming\\Mozilla\\Firefox\\Profiles\\69npldc0.default\n"
     ]
    }
   ],
   "source": [
    "with open(\"defaultFirefoxPath.txt\" ,\"r\") as f:\n",
    "    x=f.read()\n",
    "    print(x)\n",
    "profile = webdriver.FirefoxProfile(x)\n",
    "profile.set_preference(\"browser.download.folderList\", 2)\n",
    "profile.set_preference(\"browser.download.manager.showWhenStarting\", False)\n",
    "profile.set_preference(\"browser.download.dir\", 'PATH TO DESKTOP')\n",
    "profile.set_preference(\"browser.helperApps.neverAsk.saveToDisk\", \"application/x-gzip\")\n",
    "# profile.add_extension(r\"D:\\PythonCode\\prastic\\__MSG_extName__.xpi\")\n",
    "driver = webdriver.Firefox(firefox_profile=profile)\n",
    "driver.get(\"https://edesk.bli.gov.tw/cpa/\")"
   ]
  },
  {
   "cell_type": "code",
   "execution_count": 7,
   "metadata": {
    "collapsed": true
   },
   "outputs": [],
   "source": [
    "alert=driver.switch_to_alert()"
   ]
  },
  {
   "cell_type": "code",
   "execution_count": 8,
   "metadata": {
    "collapsed": true
   },
   "outputs": [],
   "source": [
    "alert.dismiss()"
   ]
  },
  {
   "cell_type": "code",
   "execution_count": null,
   "metadata": {
    "collapsed": true
   },
   "outputs": [],
   "source": []
  },
  {
   "cell_type": "code",
   "execution_count": null,
   "metadata": {
    "collapsed": true
   },
   "outputs": [],
   "source": []
  },
  {
   "cell_type": "code",
   "execution_count": null,
   "metadata": {
    "collapsed": true
   },
   "outputs": [],
   "source": []
  },
  {
   "cell_type": "code",
   "execution_count": null,
   "metadata": {
    "collapsed": true
   },
   "outputs": [],
   "source": [
    "browser = webdriver.Chrome(executable_path='D:\\Driver\\chromedriver.exe')"
   ]
  },
  {
   "cell_type": "code",
   "execution_count": null,
   "metadata": {
    "collapsed": true
   },
   "outputs": [],
   "source": [
    "browser.get('http://www.yahoo.com')\n",
    "assert 'Yahoo' in browser.title\n",
    "elem = browser.find_element_by_name('p')  # Find the search box\n",
    "elem.send_keys('seleniumhq' + Keys.RETURN)\n",
    "\n",
    "# browser.quit()"
   ]
  },
  {
   "cell_type": "code",
   "execution_count": null,
   "metadata": {
    "collapsed": true
   },
   "outputs": [],
   "source": [
    "#搜索example\n",
    "from selenium import webdriver\n",
    "from selenium.webdriver.common.keys import Keys\n",
    "\n",
    "driver = webdriver.Chrome(executable_path='D:\\Driver\\chromedriver.exe')\n",
    "driver.get(\"http://www.python.org\")\n",
    "assert \"Python\" in driver.title\n",
    "elem = driver.find_element_by_name(\"q\")\n",
    "elem.clear()\n",
    "elem.send_keys(\"pycon\")\n",
    "elem.send_keys(Keys.RETURN)\n",
    "assert \"No results found.\" not in driver.page_source\n",
    "driver.close()"
   ]
  },
  {
   "cell_type": "code",
   "execution_count": null,
   "metadata": {
    "collapsed": true,
    "scrolled": true
   },
   "outputs": [],
   "source": [
    "#確認網頁是否運行\n",
    "import unittest\n",
    "from selenium import webdriver\n",
    "from selenium.webdriver.common.keys import Keys\n",
    "\n",
    "class PythonOrgSearch(unittest.TestCase):\n",
    "\n",
    "    def setUp(self):\n",
    "        self.driver = webdriver.Chrome(executable_path='D:\\Driver\\chromedriver.exe')\n",
    "\n",
    "    def test_search_in_python_org(self):\n",
    "        driver = self.driver\n",
    "        driver.get(\"http://www.python.org\")\n",
    "        self.assertIn(\"Python\", driver.title)\n",
    "        elem = driver.find_element_by_name(\"q\")\n",
    "        elem.send_keys(\"pycon\")\n",
    "        elem.send_keys(Keys.RETURN)\n",
    "        assert \"No results found.\" not in driver.page_source\n",
    "\n",
    "\n",
    "    def tearDown(self):\n",
    "        self.driver.close()\n",
    "\n",
    "if __name__ == \"__main__\":\n",
    "    unittest.main()"
   ]
  },
  {
   "cell_type": "markdown",
   "metadata": {},
   "source": [
    "# 各種指向方法"
   ]
  },
  {
   "cell_type": "code",
   "execution_count": null,
   "metadata": {
    "collapsed": true
   },
   "outputs": [],
   "source": [
    "from selenium import webdriver\n",
    "from selenium.webdriver.common.keys import Keys\n",
    "from selenium.webdriver.common.by import By\n",
    "driver =webdriver.Chrome(executable_path='D:\\Driver\\chromedriver.exe')"
   ]
  },
  {
   "cell_type": "code",
   "execution_count": null,
   "metadata": {
    "collapsed": true
   },
   "outputs": [],
   "source": [
    "driver.get(\"http://am.wowprime.com/api/map\")"
   ]
  },
  {
   "cell_type": "code",
   "execution_count": null,
   "metadata": {
    "collapsed": true
   },
   "outputs": [],
   "source": [
    "#<input type=\"text\" name=\"passwd\" id=\"passwd-id\" />"
   ]
  },
  {
   "cell_type": "code",
   "execution_count": null,
   "metadata": {
    "collapsed": true
   },
   "outputs": [],
   "source": [
    "# btn104=driver.find_element(By.XPATH, '//button[text()=\"104工作資料點\"]')\n",
    "btn104 = driver.find_element_by_xpath('//button[text()=\"104工作資料點\"]')"
   ]
  },
  {
   "cell_type": "code",
   "execution_count": null,
   "metadata": {
    "collapsed": true
   },
   "outputs": [],
   "source": [
    "btn104.click()"
   ]
  },
  {
   "cell_type": "code",
   "execution_count": null,
   "metadata": {
    "collapsed": true
   },
   "outputs": [],
   "source": [
    "addressInput = driver.find_element_by_id('address')"
   ]
  },
  {
   "cell_type": "code",
   "execution_count": null,
   "metadata": {
    "collapsed": true
   },
   "outputs": [],
   "source": [
    "selectBigCity=driver.find_element_by_id(\"bigCity\")"
   ]
  },
  {
   "cell_type": "code",
   "execution_count": null,
   "metadata": {
    "collapsed": true
   },
   "outputs": [],
   "source": [
    "selectBigCity.send_keys(\"台中市\")"
   ]
  },
  {
   "cell_type": "code",
   "execution_count": null,
   "metadata": {
    "collapsed": true
   },
   "outputs": [],
   "source": [
    "driver.find_element_by_id(\"smallCity\").send_keys(\"西區\")"
   ]
  },
  {
   "cell_type": "code",
   "execution_count": null,
   "metadata": {
    "collapsed": true
   },
   "outputs": [],
   "source": [
    "addressInput.clear()\n",
    "addressInput.send_keys(\"國立台北科技大學\")\n",
    "# addressInput.send_keys(Keys.RETURN)\n",
    "driver.find_element(By.XPATH,'//button[text()=\"提交\"]').click()\n",
    "time.sleep(2)"
   ]
  },
  {
   "cell_type": "code",
   "execution_count": null,
   "metadata": {
    "collapsed": true,
    "scrolled": true
   },
   "outputs": [],
   "source": [
    "import time\n",
    "xxx=driver.find_element_by_id(\"transit\")\n",
    "for i in xxx.text.split(\"\\n\"):\n",
    "    driver.find_element_by_xpath('//option[text()=\"{}\"]'.format(i)).click()\n",
    "    time.sleep(0.3)"
   ]
  },
  {
   "cell_type": "code",
   "execution_count": null,
   "metadata": {
    "collapsed": true,
    "scrolled": false
   },
   "outputs": [],
   "source": [
    "all_options = xxx.find_elements_by_tag_name(\"option\")\n",
    "for option in all_options:\n",
    "#     print(\"Value is: %s\" % option.get_attribute(\"value\"))\n",
    "    option.click()\n",
    "    time.sleep(0.3)"
   ]
  },
  {
   "cell_type": "code",
   "execution_count": null,
   "metadata": {
    "collapsed": true
   },
   "outputs": [],
   "source": [
    "from selenium.webdriver.support.ui import Select\n",
    "select=Select(xxx)\n",
    "all_options=select.options\n",
    "for option in all_options:\n",
    "#     print(\"Value is: %s\" % option.get_attribute(\"value\"))\n",
    "    option.click()\n",
    "    time.sleep(0.3)"
   ]
  },
  {
   "cell_type": "markdown",
   "metadata": {},
   "source": [
    "# 將指向完畢的資料變成給beautifulsoup撈的資料"
   ]
  },
  {
   "cell_type": "code",
   "execution_count": null,
   "metadata": {
    "collapsed": true
   },
   "outputs": [],
   "source": [
    "from bs4 import BeautifulSoup as bs\n",
    "soup=bs(driver.page_source,\"lxml\")"
   ]
  },
  {
   "cell_type": "code",
   "execution_count": null,
   "metadata": {
    "collapsed": true
   },
   "outputs": [],
   "source": [
    "x=soup.select_one(\"#address\")\n",
    "x"
   ]
  },
  {
   "cell_type": "code",
   "execution_count": null,
   "metadata": {
    "collapsed": true
   },
   "outputs": [],
   "source": [
    "time.sleep(3)\n",
    "x['value']"
   ]
  },
  {
   "cell_type": "code",
   "execution_count": null,
   "metadata": {
    "collapsed": true
   },
   "outputs": [],
   "source": [
    "driver.get(\"http://www.google.com\")"
   ]
  },
  {
   "cell_type": "code",
   "execution_count": null,
   "metadata": {
    "collapsed": true
   },
   "outputs": [],
   "source": [
    "driver.get(\"http://am.wowprime.com/api/map\")"
   ]
  },
  {
   "cell_type": "code",
   "execution_count": null,
   "metadata": {
    "collapsed": true
   },
   "outputs": [],
   "source": [
    "driver.back()#上一頁"
   ]
  },
  {
   "cell_type": "code",
   "execution_count": null,
   "metadata": {
    "collapsed": true
   },
   "outputs": [],
   "source": [
    "driver.forward()# 下一頁"
   ]
  },
  {
   "cell_type": "code",
   "execution_count": null,
   "metadata": {
    "collapsed": true
   },
   "outputs": [],
   "source": [
    "driver.close()"
   ]
  },
  {
   "cell_type": "markdown",
   "metadata": {},
   "source": [
    "# 取消選擇的方法\n",
    "deselect_by_index(index)\n",
    "deselect_by_value(value)\n",
    "deselect_by_visible_text(text)\n",
    "deselect_all()"
   ]
  },
  {
   "cell_type": "markdown",
   "metadata": {},
   "source": [
    "# 遭做滑鼠的方法\n",
    "click(on_element=None) ——单击鼠标左键\n",
    "\n",
    "click_and_hold(on_element=None) ——点击鼠标左键，不松开\n",
    "\n",
    "context_click(on_element=None) ——点击鼠标右键\n",
    "\n",
    "double_click(on_element=None) ——双击鼠标左键\n",
    "\n",
    "drag_and_drop(source, target) ——拖拽到某个元素然后松开\n",
    "\n",
    "drag_and_drop_by_offset(source, xoffset, yoffset) ——拖拽到某个坐标然后松开\n",
    "\n",
    "key_down(value, element=None) ——按下某个键盘上的键\n",
    "\n",
    "key_up(value, element=None) ——松开某个键\n",
    "\n",
    "move_by_offset(xoffset, yoffset) ——鼠标从当前位置移动到某个坐标\n",
    "\n",
    "move_to_element(to_element) ——鼠标移动到某个元素\n",
    "\n",
    "move_to_element_with_offset(to_element, xoffset, yoffset) ——移动到距某个元素（左上角坐标）多少距离的位置\n",
    "\n",
    "perform() ——执行链中的所有动作\n",
    "\n",
    "release(on_element=None) ——在某个元素位置松开鼠标左键\n",
    "\n",
    "send_keys(*keys_to_send) ——发送某个键到当前焦点的元素\n",
    "\n",
    "send_keys_to_element(element, *keys_to_send) ——发送某个键到指定元素"
   ]
  },
  {
   "cell_type": "code",
   "execution_count": null,
   "metadata": {
    "collapsed": true
   },
   "outputs": [],
   "source": []
  },
  {
   "cell_type": "code",
   "execution_count": null,
   "metadata": {
    "collapsed": true
   },
   "outputs": [],
   "source": []
  },
  {
   "cell_type": "code",
   "execution_count": null,
   "metadata": {
    "collapsed": true
   },
   "outputs": [],
   "source": [
    "!pip install xl2dict"
   ]
  },
  {
   "cell_type": "code",
   "execution_count": null,
   "metadata": {
    "collapsed": true
   },
   "outputs": [],
   "source": [
    "import xl2dict"
   ]
  },
  {
   "cell_type": "code",
   "execution_count": null,
   "metadata": {
    "collapsed": true
   },
   "outputs": [],
   "source": [
    "myxlobject= xl2dict.XlToDict()"
   ]
  },
  {
   "cell_type": "code",
   "execution_count": null,
   "metadata": {
    "collapsed": true
   },
   "outputs": [],
   "source": [
    "# myxlobject.convert_sheet_to_dict(file_path=r\"D:\\PythonCode\\data\\104_20180116.xlsx\", sheet=\"First Sheet\",\n",
    "#                                  filter_variables_dict={\"User Type\" : \"Admin\", \"Environment\" : \"Dev\"})\n",
    "myxlobject.convert_sheet_to_dict(file_path=r\"D:\\PythonCode\\data\\104_20180116.xlsx\", sheet=\"First Sheet\",\n",
    "                                 filter_variables_dict={\"bigadd\" : \"台北市\"})"
   ]
  },
  {
   "cell_type": "code",
   "execution_count": null,
   "metadata": {
    "collapsed": true
   },
   "outputs": [],
   "source": []
  },
  {
   "cell_type": "code",
   "execution_count": null,
   "metadata": {
    "collapsed": true
   },
   "outputs": [],
   "source": [
    "\n",
    "unoInput.send_keys(\"123\")"
   ]
  },
  {
   "cell_type": "code",
   "execution_count": null,
   "metadata": {
    "collapsed": true
   },
   "outputs": [],
   "source": []
  },
  {
   "cell_type": "markdown",
   "metadata": {},
   "source": [
    "# firefox"
   ]
  },
  {
   "cell_type": "code",
   "execution_count": 6,
   "metadata": {
    "collapsed": true
   },
   "outputs": [],
   "source": [
    "# WebDriverWait(driver,12).until(EC.element_to_be_clickable((By.CLASS_NAME,'b-close')))\n",
    "#                 time.sleep(0.4)\n",
    "#             #     alert=driver.switch_to_alert()\n",
    "#             #     alert.dismiss()\n",
    "#                 #關閉阻擋頁\n",
    "#                 successful = 0\n",
    "#                 sumN = 0\n",
    "#                 while successful == 0:\n",
    "#                     try:\n",
    "#                         sumN += 1\n",
    "#                         if sumN > 20:\n",
    "#                             break\n",
    "driver.find_element_by_class_name(\"b-close\").click()\n",
    "#                         successful = 1\n",
    "#                     except:\n",
    "#                         time.sleep(0.3)\n",
    "#                 time.sleep(0.2)\n",
    "\n",
    "\n",
    "#                 #輸入pin碼(自然人憑證)\n",
    "pinInput=driver.find_element_by_name(\"pin\")\n",
    "pinInput.clear()\n",
    "pinInput.send_keys(\"333\")#憑證pin碼\n",
    "#                 #輸入保險證號\n",
    "unoInput=driver.find_element_by_name(\"uno\")\n",
    "unoInput.clear()\n",
    "#                 unoNumber=dataDict['勞工保險證號']+dataDict['勞工保險證號檢查碼']#\"單位保險證號\"\n",
    "unoInput.send_keys(\"5555\")\n",
    "#                 uNoList.add(unoNumber)\n",
    "#                 WebDriverWait(driver,5).until(EC.element_to_be_clickable((By.NAME,'Submit')))\n",
    "#                 time.sleep(0.5)\n",
    "#                 #確認進入\n",
    "#                 successful=0\n",
    "#                 sumN=0\n",
    "#                 while successful==0:\n",
    "#                     try:\n",
    "#                         sumN+=1\n",
    "#                         if sumN>100:\n",
    "#                             break\n",
    "#                         driver.find_element_by_name('Submit').click()\n",
    "#                         successful = 1\n",
    "#                     except:\n",
    "#                         time.sleep(0.3)\n",
    "#                 time.sleep(2)\n",
    "#                 try:\n",
    "#                     WebDriverWait(driver,8).until(EC.element_to_be_clickable((By.CLASS_NAME,'b-close')))\n",
    "#                     time.sleep(0.4)\n",
    "#                     # driver.find_element_by_class_name(\"b-close\").click()\n",
    "#                     successful = 0\n",
    "#                     sumN = 0\n",
    "#                     while successful == 0:\n",
    "#                         try:\n",
    "#                             sumN += 1\n",
    "#                             if sumN > 20:\n",
    "#                                 break\n",
    "#                             driver.find_element_by_class_name(\"b-close\").click()\n",
    "#                             successful = 1\n",
    "#                         except:\n",
    "#                             time.sleep(0.3)\n",
    "#                     time.sleep(0.4)\n",
    "#                 except:\n",
    "#                     report.append(\"登入失敗-異動別:{}\\t證號:{}\\t位置{}\".\n",
    "#                                       format(changDict[dataDict['異動別']],\n",
    "#                                              dataDict['勞工保險證號']+dataDict['勞工保險證號檢查碼'],\n",
    "#                                              excelFilePath))"
   ]
  },
  {
   "cell_type": "code",
   "execution_count": null,
   "metadata": {
    "collapsed": true
   },
   "outputs": [],
   "source": []
  },
  {
   "cell_type": "code",
   "execution_count": 2,
   "metadata": {},
   "outputs": [
    {
     "name": "stdout",
     "output_type": "stream",
     "text": [
      "\n",
      "花費時間:10秒\n",
      "共處理0筆資料\n"
     ]
    }
   ],
   "source": [
    "from tkinter import Tk,StringVar,Label,Entry,Button\n",
    "from tkinter.filedialog import askdirectory\n",
    "from selenium import webdriver\n",
    "from selenium.webdriver.common.keys import Keys\n",
    "from selenium.webdriver.common.by import By\n",
    "from selenium.webdriver.support.ui import Select\n",
    "from selenium.webdriver.chrome.options import Options\n",
    "from selenium.webdriver.support.ui import WebDriverWait#直到找到 不斷等待\n",
    "from selenium.webdriver.support import expected_conditions as EC #判斷某物件存在，直到時間結束\n",
    "import os\n",
    "import sys\n",
    "import time \n",
    "import xl2dict\n",
    "import smtplib\n",
    "import xlrd\n",
    "from email.mime.text import MIMEText\n",
    "from email.mime.multipart import MIMEMultipart\n",
    "from email.message import EmailMessage\n",
    "\n",
    "\n",
    "\n",
    "uNoList=set()\n",
    "report=[]\n",
    "changDict={\"4\":\"加保\",\"2\":\"退保\",\"3\":\"調保\"}\n",
    "web='https://edesk.bli.gov.tw/cpa/'\n",
    "    \n",
    "with open('Email.txt') as f:\n",
    "    mails=f.read().split('\\n')\n",
    "while \"\" in mails:\n",
    "    mails.remove(\"\")\n",
    "mails=set(mails)\n",
    "\n",
    "def mailTo(title,mailAdds,message,whoSend='AutoAddInsurance'):\n",
    "    msg = MIMEMultipart()    \n",
    "    sender = whoSend\n",
    "    subject = title\n",
    "    body = message\n",
    "    msg['From'] = sender\n",
    "    msg['To'] = ','.join(mailAdds)\n",
    "    msg['Subject'] = subject\n",
    "    msg.attach(MIMEText(body, 'plain'))\n",
    "    text=msg.as_string()\n",
    "    #print text\n",
    "    # Send the message via our SMTP server\n",
    "    s = smtplib.SMTP('192.168.2.1',25)\n",
    "    s.sendmail(sender,mailAdds, text)\n",
    "    s.quit()        \n",
    "    \n",
    "    \n",
    "\n",
    "\n",
    "def doAddPopChangeAssure():\n",
    "    report = []\n",
    "    path2=e3.get()\n",
    "    unoNumber=0\n",
    "    excelFilePath=\"\"\n",
    "    def renamefile(path):\n",
    "#         pathList2=[i[0]+\"/\"+j for i in os.walk(path) for j in i[2]]\n",
    "        for pathTuple in os.walk(path):\n",
    "            for file_ in pathTuple[2]:\n",
    "                try:\n",
    "                    if 'xls' in file_ and 'crdownload' not in file_:\n",
    "                        name=[]\n",
    "                        book = xlrd.open_workbook(os.path.join(pathTuple[0], file_))\n",
    "                        sheet=book.sheet_by_index(0)\n",
    "\n",
    "                        #日期\n",
    "                        dateCell=sheet.cell_value(rowx=3,colx=8) or sheet.cell_value(rowx=3,colx=4)\n",
    "                        if len(dateCell.split(\"／\"))<3:\n",
    "                            name.append(dateCell.split(\"：\")[1].split(\" \")[0])\n",
    "                        else:\n",
    "                            name.append(dateCell.split(\"／\")[2] or dateCell.split(\"／\")[1].split(\"：\")[1].split(\" \")[0])\n",
    "\n",
    "                        ##事業部\n",
    "                        if \"公司\" in sheet.cell_value(rowx=4,colx=0):\n",
    "                            name.append(sheet.cell_value(rowx=4,colx=0).split(\"公司\")[1] or sheet.cell_value(rowx=3,colx=0).split(\"：\")[1])\n",
    "                        else:\n",
    "                            name.append(sheet.cell_value(rowx=3,colx=0).split(\"公司\")[1] or sheet.cell_value(rowx=2,colx=0).split(\"：\")[1])\n",
    "\n",
    "\n",
    "                        ##加退調保\n",
    "                        if '加' in sheet.cell_value(rowx=0,colx=0):\n",
    "                            name.append(\"加\")\n",
    "                        elif '退' in sheet.cell_value(rowx=0,colx=0):\n",
    "                            name.append(\"退\")\n",
    "                        elif '調' in sheet.cell_value(rowx=0,colx=0):\n",
    "                            name.append(\"調\")\n",
    "\n",
    "                        ##二、三合一\n",
    "                        if '健' in sheet.cell_value(rowx=1,colx=0):\n",
    "                            name.append(\"3\")\n",
    "                        else:\n",
    "                            name.append(\"2\")\n",
    "\n",
    "                        try:\n",
    "                            os.rename(os.path.join(pathTuple[0],file_),os.path.join(pathTuple[0],\"_\".join(name)+\".xls\"))\n",
    "                        except:\n",
    "    #                         print(os.path.join(path, file_)+\"\\t已有變更檔名的檔案\")\n",
    "                            os.remove(os.path.join(pathTuple[0],file_))\n",
    "                except:\n",
    "                    report.append(\"更名失敗>>{}\".format(os.path.join(pathTuple[0],file_)))\n",
    "\n",
    "\n",
    "    try:\n",
    "        uNoList=set()\n",
    "        report=[]\n",
    "        b=time.time()\n",
    "        errorMsg=\"\"\n",
    "        pinNum=e2.get() #pin號碼\n",
    "        #crx檔要用http://crxextractor.com/ 將套件網址key入，即可產生套件檔 \n",
    "#         chrome_options.add_extension('extension_0_0_1_3.crx')\n",
    "\t\t\n",
    "\t\t\n",
    "\t\t##################0516\n",
    "        # chrome_options.add_argument(\"--headless\")\n",
    "        # chrome_options.add_argument(\"--no-sandbox\")\n",
    "        # chrome_options.add_argument(\"start-maximized\")\n",
    "        # chrome_options.add_argument(\"disable-infobars\")\n",
    "        # chrome_options.add_argument(\"--disable-extensions\")\n",
    "\t\t###################0516\n",
    "#         profile = webdriver.FirefoxProfile()\n",
    "#         profile.set_preference(\"browser.download.folderList\", 2)\n",
    "#         profile.set_preference(\"browser.download.manager.showWhenStarting\", False)\n",
    "#         profile.set_preference(\"browser.download.dir\", e3.get())\n",
    "#         profile.set_preference(\"browser.helperApps.neverAsk.saveToDisk\", \"application/x-gzip\")\n",
    "#         profile.add_extension(\"extension_0_0_1_3.crx\")\n",
    "        with open(\"defaultFirefoxPath.txt\" ,\"r\") as f:\n",
    "            x=f.read()\n",
    "            print(x)\n",
    "        profile = webdriver.FirefoxProfile(x)\n",
    "        profile.set_preference(\"browser.download.folderList\", 2)\n",
    "        profile.set_preference(\"browser.download.manager.showWhenStarting\", False)\n",
    "        profile.set_preference(\"browser.download.dir\", e3.get())\n",
    "        profile.set_preference(\"browser.helperApps.neverAsk.saveToDisk\", \"application/x-gzip\")\n",
    "        # profile.add_extension(r\"D:\\PythonCode\\prastic\\__MSG_extName__.xpi\")\n",
    "        \n",
    "            \n",
    "        #webdriver檔要在 https://sites.google.com/a/chromium.org/chromedriver/downloads下載\n",
    "        #套件網址:https://chrome.google.com/webstore/detail/smartpki-%E5%A4%9A%E6%86%91%E8%AD%89%E5%AE%89%E6%8E%A7%E6%A8%A1%E7%B5%84%E6%93%B4%E5%85%85%E5%A5%97%E4%BB%B6/jhffgcfmcckgmioipfnmbannkpncfipo?utm_source=chrome-ntp-icon\n",
    "        time.sleep(0.5)\n",
    "        pa=0\n",
    "        n=0\n",
    "        while pa==0:\n",
    "            try:\n",
    "                driver = webdriver.Firefox(firefox_profile=profile)\n",
    "                time.sleep(0.5)\n",
    "                driver.get(web)\n",
    "                time.sleep(0.2)\n",
    "                try:\n",
    "                    alert=driver.switch_to_alert()\n",
    "                    time.sleep(0.1)\n",
    "                    alert.dismiss()\n",
    "                    time.sleep(0.1)\n",
    "                except:\n",
    "                    pass\n",
    "                pa=1\n",
    "            except:\n",
    "                time.sleep(0.3)\n",
    "                n+=1\n",
    "                if n%20==0:\n",
    "                    break\n",
    "\n",
    "\n",
    "        dataDir=e1.get() #需改成人工輸入\n",
    "        #遍歷資料夾內所有檔案  os.walk(路徑位置) 會產生該位置所有的 (路徑,資料夾名稱,檔案名稱)   (包含資料夾內的資料夾內的資料夾....的檔案)\n",
    "        # for i in os.walk(dataDir):\n",
    "        #     for j in i[2]:\n",
    "        #         print(i[0]+j)\n",
    "        #可縮寫成這樣     \n",
    "        pathList=[i[0]+\"\\\\\"+j for i in os.walk(dataDir) for j in i[2] if 'xls' in j]\n",
    "        myxlobject= xl2dict.XlToDict()\n",
    "        fileCount=0\n",
    "        for excelFilePath in pathList:\n",
    "            try:\n",
    "                #得到excel內容成dict\n",
    "                dataDict=myxlobject.convert_sheet_to_dict(file_path=excelFilePath, sheet=\"First Sheet\")[0]\n",
    "                time.sleep(0.2)\n",
    "                #進入勞保局\n",
    "                WebDriverWait(driver,12).until(EC.element_to_be_clickable((By.CLASS_NAME,'b-close')))\n",
    "                time.sleep(0.4)\n",
    "            #     alert=driver.switch_to_alert()\n",
    "            #     alert.dismiss()\n",
    "                #關閉阻擋頁\n",
    "                successful = 0\n",
    "                sumN = 0\n",
    "                while successful == 0:\n",
    "                    try:\n",
    "                        sumN += 1\n",
    "                        if sumN > 20:\n",
    "                            break\n",
    "                        driver.find_element_by_class_name(\"b-close\").click()\n",
    "                        successful = 1\n",
    "                    except:\n",
    "                        time.sleep(0.3)\n",
    "                time.sleep(0.2)\n",
    "\n",
    "\n",
    "                #輸入pin碼(自然人憑證)\n",
    "                pinInput=driver.find_element_by_name(\"pin\")\n",
    "                pinInput.clear()\n",
    "                pinInput.send_keys(pinNum)#憑證pin碼\n",
    "                #輸入保險證號\n",
    "                unoInput=driver.find_element_by_name(\"uno\")\n",
    "                unoInput.clear()\n",
    "                unoNumber=dataDict['勞工保險證號']+dataDict['勞工保險證號檢查碼']#\"單位保險證號\"\n",
    "                unoInput.send_keys(unoNumber)\n",
    "                uNoList.add(unoNumber)\n",
    "                WebDriverWait(driver,5).until(EC.element_to_be_clickable((By.NAME,'Submit')))\n",
    "                time.sleep(0.5)\n",
    "                #確認進入\n",
    "                successful=0\n",
    "                sumN=0\n",
    "                while successful==0:\n",
    "                    try:\n",
    "                        sumN+=1\n",
    "                        if sumN>100:\n",
    "                            break\n",
    "                        driver.find_element_by_name('Submit').click()\n",
    "                        successful = 1\n",
    "                    except:\n",
    "                        time.sleep(0.3)\n",
    "                time.sleep(2)\n",
    "                try:\n",
    "                    WebDriverWait(driver,8).until(EC.element_to_be_clickable((By.CLASS_NAME,'b-close')))\n",
    "                    time.sleep(0.4)\n",
    "                    # driver.find_element_by_class_name(\"b-close\").click()\n",
    "                    successful = 0\n",
    "                    sumN = 0\n",
    "                    while successful == 0:\n",
    "                        try:\n",
    "                            sumN += 1\n",
    "                            if sumN > 20:\n",
    "                                break\n",
    "                            driver.find_element_by_class_name(\"b-close\").click()\n",
    "                            successful = 1\n",
    "                        except:\n",
    "                            time.sleep(0.3)\n",
    "                    time.sleep(0.4)\n",
    "                except:\n",
    "                    report.append(\"登入失敗-異動別:{}\\t證號:{}\\t位置{}\".\n",
    "                                      format(changDict[dataDict['異動別']],\n",
    "                                             dataDict['勞工保險證號']+dataDict['勞工保險證號檢查碼'],\n",
    "                                             excelFilePath))\n",
    "                    time.sleep(0.3)\n",
    "                    alert=driver.switch_to_alert()\n",
    "                    ###############################################判斷密碼錯誤、權限錯誤問題\n",
    "                    if '讀卡機' in alert.text:\n",
    "                        errorMsg=\"讀卡機沒插卡\"\n",
    "                    elif '權限' in alert.text:\n",
    "                        errorMsg=\"你沒權限跑{}\".format(dataDict['勞工保險證號']+dataDict['勞工保險證號檢查碼'])\n",
    "                    elif '密碼' in alert.text:\n",
    "                        errorMsg=\"密碼錯誤>>你所輸入的密碼是:{}\".format(pinNum)\n",
    "\n",
    "                    if errorMsg!=\"\":\n",
    "                        mailTo('ReportError',mails,errorMsg)\n",
    "                        driver.quit()\n",
    "                        root.destroy()\n",
    "                        sys.exit(\"因故中斷:\"+errorMsg)\n",
    "                    ###############################################\n",
    "                    alert.accept()\n",
    "                    continue\n",
    "\n",
    "                WebDriverWait(driver,10).until(EC.element_to_be_clickable((By.ID,'mi0,0')))\n",
    "                time.sleep(0.6)\n",
    "                successful = 0\n",
    "                sumN = 0\n",
    "                while successful == 0:\n",
    "                    try:\n",
    "                        sumN += 1\n",
    "                        if sumN > 100:\n",
    "                            break\n",
    "                        driver.find_element_by_id(\"mi0,0\").click()\n",
    "                        successful = 1\n",
    "\n",
    "                    except:\n",
    "                        time.sleep(0.3)\n",
    "                time.sleep(0.2)\n",
    "                driver.find_element_by_id(\"mi0,5\").click()\n",
    "                WebDriverWait(driver, 12).until(EC.element_to_be_clickable((By.ID, 'mi0,7')))\n",
    "                WebDriverWait(driver, 12).until(EC.element_to_be_clickable((By.ID, 'mi0,6')))\n",
    "                time.sleep(0.5)\n",
    "\n",
    "                if dataDict['異動別']==\"4\":\n",
    "                    driver.find_element_by_id(\"mi0,6\").click()#加保\n",
    "                elif dataDict['異動別']==\"2\":\n",
    "                    driver.find_element_by_id(\"mi0,7\").click()#退保\n",
    "                elif dataDict['異動別']==\"3\":\n",
    "                    driver.find_element_by_id(\"mi0,8\").click()#調保\n",
    "                time.sleep(1)\n",
    "                #########################################################加入生效日(連假後才需選擇)\n",
    "                print(excelFilePath)\n",
    "                dirName=excelFilePath.split(\"\\\\\")[-2]\n",
    "                try:\n",
    "                    dirName=dirName.split(\"/\")[1]\n",
    "                except:\n",
    "                    pass\n",
    "                print(dirName)\n",
    "                if len(dirName)==7:#民國年\n",
    "                    choice=dirName[:3]+\"/\"+dirName[3:5]+'/'+dirName[5:]\n",
    "                elif len(dirName)==8:#西元年\n",
    "                    try:\n",
    "                        choice=str(int(dirName[:4])-1911)+\"/\"+dirName[4:6]+'/'+dirName[6:]\n",
    "                    except:\n",
    "                        pass\n",
    "                elif len(dirName)==4:#只有月日\n",
    "                    try:\n",
    "                        choice=str(int(time.strftime(\"%Y\"))-1911) +\"/\"+dirName[0:2]+'/'+dirName[2:]\n",
    "                    except:\n",
    "                        pass\n",
    "\n",
    "\n",
    "                try:\n",
    "                    effDateOption=driver.find_element_by_name(\"laefDte\")\n",
    "                    effDate=[i.strip() for i in effDateOption.text.split(\"\\n\")][1:]\n",
    "                    for date in effDate:\n",
    "                        if choice in date:\n",
    "                            driver.find_element_by_xpath('//option[text()=\"{}\"]'.format(date)).click()\n",
    "                            time.sleep(0.2)\n",
    "                            print(date+\"\\n\"+'*'*50)\n",
    "                except:\n",
    "                    pass\n",
    "\n",
    "                #########################################################\n",
    "                if \"健保投保單位代碼\" in dataDict:\n",
    "                    driver.find_elements_by_xpath('//*[@id=\"type\"]')[0].click()#三合一\n",
    "                else:\n",
    "                    driver.find_elements_by_xpath('//*[@id=\"type\"]')[1].click()#二合一\n",
    "\n",
    "                driver.find_element_by_id(\"uploadFile\").send_keys(excelFilePath)#上傳檔案\n",
    "                time.sleep(0.5)\n",
    "                driver.find_element_by_xpath('//*[@id=\"pin\"]').send_keys(pinNum)#輸入pin\n",
    "                time.sleep(0.2)\n",
    "                WebDriverWait(driver, 12).until(EC.element_to_be_clickable((By.ID, 'btnSaveB')))\n",
    "                time.sleep(0.5)\n",
    "                saveNum=0\n",
    "                nnnn=0\n",
    "                while saveNum==0:\n",
    "                    try:\n",
    "                        try:\n",
    "                            driver.find_element_by_id(\"btnSaveB\").click()\n",
    "                        except:\n",
    "                            driver.find_element_by_id(\"btnSaveA\").click()\n",
    "                        saveNum = 1\n",
    "                    except:\n",
    "                        nnnn += 1\n",
    "                        time.sleep(0.3)\n",
    "                        if nnnn%20==0:\n",
    "                            saveNum=1\n",
    "\n",
    "                #睡到成功為止或過了15秒\n",
    "                def success():\n",
    "                    try:\n",
    "                        return '資料新增成功' in driver.find_element_by_xpath('//*[@id=\"ifon\"]/span[2]/font').text\n",
    "                    except:\n",
    "                        return False\n",
    "                nsec=0\n",
    "                while (not success()):\n",
    "                    try:\n",
    "                        if '失敗' in driver.find_element_by_xpath('//*[@id=\"ifon\"]/span[2]/font').text:\n",
    "                            report.append(\"上傳失敗-異動別:{}\\t證號:{}\\t位置{}\".\n",
    "                                          format(changDict[dataDict['異動別']],\n",
    "                                                 dataDict['勞工保險證號']+dataDict['勞工保險證號檢查碼'],\n",
    "                                                 excelFilePath))\n",
    "                            try:\n",
    "                                driver.find_element_by_id(\"mi0,53\").click()\n",
    "                            except:\n",
    "                                driver.find_element_by_id(\"mi0,52\").click()\n",
    "                            continue\n",
    "                        if '類型錯誤' in driver.find_element_by_xpath('//*[@id=\"ifon\"]/span[2]/font').text:\n",
    "                            report.append(\"上傳失敗(超過30筆?)-異動別:{}\\t證號:{}\\t位置{}\".\n",
    "                                          format(changDict[dataDict['異動別']],\n",
    "                                                 dataDict['勞工保險證號']+dataDict['勞工保險證號檢查碼'],\n",
    "                                                 excelFilePath))\n",
    "                            try:\n",
    "                                driver.find_element_by_id(\"mi0,53\").click()\n",
    "                            except:\n",
    "                                driver.find_element_by_id(\"mi0,52\").click()\n",
    "                            continue\n",
    "                    except:\n",
    "                        pass\n",
    "                    nsec+=0.5\n",
    "                    if nsec>15:\n",
    "                        break\n",
    "                    time.sleep(0.5)\n",
    "    #                 print(1)\n",
    "                if success():\n",
    "                    print(\"資料上傳成功-異動別:{}\\t證號:{}\\t位置{}\".format(changDict[dataDict['異動別']],dataDict['勞工保險證號']+dataDict['勞工保險證號檢查碼'],excelFilePath))\n",
    "    #                 report.append(\"資料上傳成功-異動別:{}\\t證號:{}\\t位置{}\".\n",
    "    #                                   format(changDict[dataDict['異動別']],\n",
    "    #                                          dataDict['勞工保險證號']+dataDict['勞工保險證號檢查碼'],\n",
    "    #                                          excelFilePath))\n",
    "\t\t\t\t\t\n",
    "                time.sleep(0.5)\n",
    "            except Exception as e:\n",
    "                report.append(\"上傳執行失敗-異動別:{}\\t證號:{}\\t位置{}\\n錯誤訊息:{}\\t錯誤位置:{}\".\n",
    "                              format(changDict[dataDict['異動別']],\n",
    "                                     dataDict['勞工保險證號'] + dataDict['勞工保險證號檢查碼'],\n",
    "                                     excelFilePath,e,sys.exc_info()[2].tb_lineno))\n",
    "                try:\n",
    "                    driver.find_element_by_id(\"mi0,53\").click()\n",
    "                except:\n",
    "                    pass\n",
    "                try:\n",
    "                    driver.find_element_by_id(\"mi0,53\").click()\n",
    "                except:\n",
    "                    pass\n",
    "                try:\n",
    "                    driver.get(web)\n",
    "                except:\n",
    "                    pass\n",
    "                time.sleep(0.5)\n",
    "                continue\n",
    "        #########################################################下載區!!!\n",
    "\n",
    "            try:\n",
    "                WebDriverWait(driver,12).until(EC.element_to_be_clickable((By.ID,'mi0,0')))\n",
    "                time.sleep(0.5)\n",
    "\n",
    "                successful = 0\n",
    "                sumN = 0\n",
    "                while successful == 0:\n",
    "                    try:\n",
    "                        sumN += 1\n",
    "                        if sumN > 100:\n",
    "                            break\n",
    "                        driver.find_element_by_id(\"mi0,0\").click()\n",
    "                        successful = 1\n",
    "                    except:\n",
    "                        time.sleep(0.3)\n",
    "                time.sleep(0.1)\n",
    "                driver.find_element_by_id(\"mi0,10\").click()\n",
    "                time.sleep(0.2)\n",
    "                driver.find_element_by_xpath('//*[@id=\"main\"]/form/fieldset/table/tbody/tr[7]/td[2]/input[2]').click()\n",
    "                time.sleep(0.2)\n",
    "                driver.find_element_by_name('btnQuery').click()\n",
    "                time.sleep(0.5)\n",
    "\t\t\t\t\n",
    "                downloadDict={\"4\":'https://edesk.bli.gov.tw/cpa/caApplyDataQueryDispatch.do?method=batchPayList',\n",
    "\t\t\t\t\t\t\t\"2\":'https://edesk.bli.gov.tw/cpa/caApplyDataQueryDispatch.do?method=batchStopList',\n",
    "\t\t\t\t\t\t\t\"3\":'https://edesk.bli.gov.tw/cpa/caApplyDataQueryDispatch.do?method=batchAdjList'}\n",
    "\t\t\t\t\n",
    "\n",
    "                driver.get(downloadDict[dataDict['異動別']])\n",
    "                try:\n",
    "                    time.sleep(0.2)\n",
    "                    WebDriverWait(driver,12).until(EC.element_to_be_clickable((By.NAME,'btnBackQueryForm')))\n",
    "                    time.sleep(0.2)\n",
    "                    if len(driver.find_elements_by_name('meslamIdOfPrint'))>0:\n",
    "\n",
    "                        WebDriverWait(driver, 12).until(EC.element_to_be_clickable((By.NAME, 'meslamIdOfPrint')))\n",
    "                        time.sleep(0.4)\n",
    "\n",
    "                        point=driver.find_elements_by_name('meslamIdOfPrint')[0]\n",
    "                        point.click()\n",
    "                        fileCount+=1\n",
    "                        time.sleep(0.2)\n",
    "\n",
    "                        WebDriverWait(driver, 12).until(EC.element_to_be_clickable((By.ID, 'btnPrint2')))\n",
    "                        time.sleep(0.4)\n",
    "\n",
    "                        driver.find_element_by_id('btnPrint2').click()\n",
    "\n",
    "                    time.sleep(0.6)\n",
    "                    if fileCount%50==0:\n",
    "                        renamefile(path2)\n",
    "                    time.sleep(0.8)\n",
    "                except Exception as e:\n",
    "                    time.sleep(0.5)\n",
    "                    if dataDict['異動別']=='4':\n",
    "                        doType = \"加保\"\n",
    "                    elif dataDict['異動別']=='2':\n",
    "                        doType = \"退保\"\n",
    "                    elif dataDict['異動別']=='1':\n",
    "                        doType = \"調保\"\n",
    "\n",
    "                    report.append(\"下載失敗-證號:{},種類:{},錯誤訊息:{},錯誤位置:{}\".format(unoNumber,doType, e,sys.exc_info()[2].tb_lineno))\n",
    "                time.sleep(0.4)\n",
    "                # #############################################################        \n",
    "                \n",
    "#                 report.append(\"下載成功-證號:{}\".format(uNo))\n",
    "                try:\n",
    "                    driver.find_element_by_id(\"mi0,53\").click()\n",
    "                except:\n",
    "                    driver.find_element_by_id(\"mi0,52\").click()\n",
    "                time.sleep(1)\n",
    "\n",
    "        \n",
    "            except Exception as e:\n",
    "                time.sleep(0.5)\n",
    "                report.append(\"下載失敗-證號:{},加退調保全類,錯誤訊息:{},錯誤位置:{}\".format(unoNumber,e,sys.exc_info()[2].tb_lineno))\n",
    "                try:\n",
    "                    driver.find_element_by_id(\"mi0,53\").click()\n",
    "                except:\n",
    "                    pass\n",
    "                try:\n",
    "                    driver.find_element_by_id(\"mi0,53\").click()\n",
    "                except:\n",
    "                    pass\n",
    "                try:\n",
    "                    driver.get(web)\n",
    "                except:\n",
    "                    pass\n",
    "                time.sleep(1)\n",
    "        #########################################################更名區\n",
    "        renamefile(path2)\n",
    "        \n",
    "        #########################################################\n",
    "        \n",
    "        driver.quit()\n",
    "        e=time.time()\n",
    "        costTime=round(e-b)\n",
    "        report.append(\"\\n花費時間:{}秒\\n共處理{}筆資料\".format(costTime,len(pathList)))\n",
    "        print(\"\\n\".join(report))\n",
    "        \n",
    "        mailTo('Report',\n",
    "               mails,\n",
    "               web+\"\\n\"+\"\\n\".join(report))\n",
    "\n",
    "    except Exception as e:\n",
    "        if errorMsg==\"\":\n",
    "            errorMsg=str(e)+\"\\n證號:{}\\t位置:{}\".format(unoNumber,excelFilePath)+'\\nPlease verify website connection \\n if no problem in website find andy.yuan@wowprime.com \\n 出錯位置:'+str(sys.exc_info()[2].tb_lineno)+\"\\n\"+\"\\n\".join(report)\n",
    "        \n",
    "        print('出錯了RRRRRRRRRRRR'+str(e)+'\\n')\n",
    "        #driver.quit()\n",
    "        \n",
    "        mailTo('ReportError',mails,errorMsg)\n",
    "        \n",
    "def selectPath():\n",
    "    path_ = askdirectory()\n",
    "    path.set(path_)\n",
    "def selectPath2():\n",
    "    path2_ = askdirectory()\n",
    "    path2.set(path2_)\n",
    "with open('defaultIO.txt') as f:\n",
    "    IO=f.read()\n",
    "defaultLoadDir=IO.split(\"\\n\")[0].split(\"=\")[1].replace(\"\\\\\",\"/\")\n",
    "defaultSaveDir=IO.split(\"\\n\")[1].split(\"=\")[1].replace(\"\\\\\",\"/\")\n",
    "root = Tk()\n",
    "path = StringVar()\n",
    "Label(root,text = \"讀取資料夾:\").grid(row = 0, column = 0)\n",
    "e1=Entry(root, textvariable = path)\n",
    "e1.insert(0, defaultLoadDir)\n",
    "e1.grid(row = 0, column = 1)\n",
    "Button(root, text = \"讀取資料夾\", command = selectPath).grid(row = 0, column = 2)\n",
    "\n",
    "path2 = StringVar()\n",
    "Label(root,text = \"存放資料夾:\").grid(row = 1, column = 0)\n",
    "e3=Entry(root, textvariable = path2)\n",
    "e3.insert(0, defaultSaveDir)\n",
    "e3.grid(row = 1, column = 1)\n",
    "\n",
    "Button(root, text = \"存放資料夾\", command = selectPath2).grid(row = 1, column = 2)\n",
    "\n",
    "Label(root, text=\"自然人憑證PIN碼\").grid(row=2, column = 0)\n",
    "e2 = Entry(root)\n",
    "e2.grid(row=2, column=1)\n",
    "# e1.insert(10,\"Miller\") #輸入預設值\n",
    "Button(root, text='加退調保開始', command=doAddPopChangeAssure).grid(row=3, column=1, pady=4)\n",
    "root.mainloop()"
   ]
  },
  {
   "cell_type": "code",
   "execution_count": null,
   "metadata": {
    "collapsed": true
   },
   "outputs": [],
   "source": []
  },
  {
   "cell_type": "code",
   "execution_count": null,
   "metadata": {
    "collapsed": true
   },
   "outputs": [],
   "source": []
  },
  {
   "cell_type": "code",
   "execution_count": null,
   "metadata": {
    "collapsed": true
   },
   "outputs": [],
   "source": []
  },
  {
   "cell_type": "code",
   "execution_count": 7,
   "metadata": {
    "collapsed": true
   },
   "outputs": [],
   "source": [
    "import pymongo "
   ]
  },
  {
   "cell_type": "code",
   "execution_count": 10,
   "metadata": {},
   "outputs": [],
   "source": [
    "Client=pymongo.MongoClient(\"192.168.1.113\",27017,username=\"root\",password=\"850605\")"
   ]
  },
  {
   "cell_type": "code",
   "execution_count": 11,
   "metadata": {
    "collapsed": true
   },
   "outputs": [],
   "source": [
    "db=Client.rawData"
   ]
  },
  {
   "cell_type": "code",
   "execution_count": 30,
   "metadata": {
    "scrolled": true
   },
   "outputs": [
    {
     "data": {
      "text/plain": [
       "['Watsons',\n",
       " 'pxmart',\n",
       " 'busData',\n",
       " 'HRdata104',\n",
       " 'wowprimediendata',\n",
       " 'info591',\n",
       " 'departmentStore',\n",
       " 'websites591',\n",
       " 'carrefour',\n",
       " 'taiwanInfo',\n",
       " 'smallStyleCount',\n",
       " 'addressCoordinate',\n",
       " 'Nhuman',\n",
       " 'taiwanInfoStoneTwo',\n",
       " 'ipeenWebsite',\n",
       " 'bigStyleCount',\n",
       " 'ipeenInfo',\n",
       " 'conStore',\n",
       " 'CostPower']"
      ]
     },
     "execution_count": 30,
     "metadata": {},
     "output_type": "execute_result"
    }
   ],
   "source": [
    "db.collection_names()"
   ]
  },
  {
   "cell_type": "code",
   "execution_count": 27,
   "metadata": {
    "collapsed": true
   },
   "outputs": [],
   "source": [
    "co=db.taiwanInfoStoneTwo"
   ]
  },
  {
   "cell_type": "code",
   "execution_count": 33,
   "metadata": {},
   "outputs": [
    {
     "data": {
      "text/plain": [
       "680"
      ]
     },
     "execution_count": 33,
     "metadata": {},
     "output_type": "execute_result"
    }
   ],
   "source": [
    "co.count()"
   ]
  },
  {
   "cell_type": "code",
   "execution_count": null,
   "metadata": {
    "collapsed": true
   },
   "outputs": [],
   "source": []
  }
 ],
 "metadata": {
  "kernelspec": {
   "display_name": "Python 3",
   "language": "python",
   "name": "python3"
  },
  "language_info": {
   "codemirror_mode": {
    "name": "ipython",
    "version": 3
   },
   "file_extension": ".py",
   "mimetype": "text/x-python",
   "name": "python",
   "nbconvert_exporter": "python",
   "pygments_lexer": "ipython3",
   "version": "3.6.4"
  }
 },
 "nbformat": 4,
 "nbformat_minor": 2
}
