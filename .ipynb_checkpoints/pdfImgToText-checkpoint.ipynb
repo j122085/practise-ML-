{
 "cells": [
  {
   "cell_type": "markdown",
   "metadata": {},
   "source": [
    "# PDF TO IMG\n",
    "https://medium.com/@winston.smith.spb/python-ocr-for-pdf-or-compare-textract-pytesseract-and-pyocr-acb19122f38c"
   ]
  },
  {
   "cell_type": "code",
   "execution_count": 58,
   "metadata": {
    "collapsed": true
   },
   "outputs": [],
   "source": [
    "#需安裝 http://docs.wand-py.org/en/0.4.2/guide/install.html   6.9版本\n",
    "from wand.image import Image as Img\n",
    "\n",
    "import os\n",
    "with Img(filename=r'D:\\trydata\\18010國內檢疫證.pdf[2]', resolution=300) as img:\n",
    "#     img.compression_quality = 30\n",
    "    img.save(filename=r'D:\\trydata\\image_name.jpg')"
   ]
  },
  {
   "cell_type": "markdown",
   "metadata": {},
   "source": [
    "# 辨識英文\n",
    "https://medium.com/@winston.smith.spb/python-ocr-for-pdf-or-compare-textract-pytesseract-and-pyocr-acb19122f38c"
   ]
  },
  {
   "cell_type": "code",
   "execution_count": 7,
   "metadata": {
    "collapsed": true
   },
   "outputs": [],
   "source": [
    "from PIL import Image\n",
    "# img=Image.open(r'D:\\trydata\\image_name.jpg')\n",
    "img=Image.open(r'D:\\trydata\\captcha.bmp')\n",
    "# aa = aa.convert('L')\n",
    "# aa.save(r'D:\\trydata\\image_name-0.jpg')\n",
    "\n",
    "# img = img.crop((1198, 1050, 1750, 1185))\n",
    "img=img.convert('L')\n",
    "\n",
    "\n",
    "\n",
    "\n",
    "# 需安裝 https://github.com/tesseract-ocr/tesseract/wiki\n",
    "\n",
    "import pytesseract\n",
    "#指向安裝位置+tesseract\n",
    "pytesseract.pytesseract.tesseract_cmd = r'D:\\a\\tesseract'\n",
    "# pytesseract.pytesseract.tesseract_cmd = r'\\a\\tesseract'\n",
    "# pytesseract.pytesseract.tesseract_cmd = r'C:\\Program Files (x86)\\Tesseract-OCR\\tesseract'\n",
    "text = pytesseract.image_to_string(img,lang=\"chi_tra\")\n",
    "# text = pytesseract.image_to_string(img)"
   ]
  },
  {
   "cell_type": "code",
   "execution_count": 8,
   "metadata": {
    "scrolled": true
   },
   "outputs": [
    {
     "name": "stdout",
     "output_type": "stream",
     "text": [
      "6 77$5\n"
     ]
    },
    {
     "data": {
      "image/png": "[encoded data removed]",
      "text/plain": [
       "<PIL.Image.Image image mode=L size=120x50 at 0x623A128>"
      ]
     },
     "execution_count": 8,
     "metadata": {},
     "output_type": "execute_result"
    }
   ],
   "source": [
    "print(text)\n",
    "img"
   ]
  },
  {
   "cell_type": "markdown",
   "metadata": {},
   "source": [
    "# 辨識中文\n",
    "https://blog.csdn.net/wc781708249/article/details/78559448"
   ]
  },
  {
   "cell_type": "code",
   "execution_count": 47,
   "metadata": {},
   "outputs": [
    {
     "name": "stdout",
     "output_type": "stream",
     "text": [
      "[{'words': '衛生福利部食品藥物管理署'}, {'words': '食品及相關產品輸入許可通知'}, {'words': '03S89'}, {'words': 'Food and Drug Administration, Ministry of Health and Welfare'}, {'words': 'Notification of the Food and Relevant Products Import Admitted'}, {'words': '中華民國107年03月28日FDA北字第IFBO7VK0419707號'}, {'words': '1.申請書號碼'}, {'words': 'Application No. IFBO7VK0419707'}, {'words': '2.進口日期'}, {'words': 'Import Date 107/03/26'}, {'words': '3.報驗義務人'}, {'words': 'Applicant'}, {'words': '84630426王品餐飲股份有限公司'}, {'words': '4.貨物名稱(品名)'}, {'words': 'Description of good'}, {'words': 'FROZEN BNLS BEEF SHORT PLATE S/T( VACUUM PACK)冷凉去骨牛肉'}, {'words': '5.貨品分類號列'}, {'words': '6.報單號碼及項次AA07389Z1013'}, {'words': 'c.c. C Code'}, {'words': '02023090207'}, {'words': 'Goods Declaration No& Item 1'}, {'words': '7.製造日期'}, {'words': '8.有效日期'}, {'words': 'Manufactured date'}, {'words': 'Expiration date'}, {'words': '109/02/13'}, {'words': '9.商標(牌名)'}, {'words': 'Trademark(brand )of goods'}, {'words': '628'}, {'words': '0.製造廠名稱'}, {'words': 'Manufacturing plants name 028'}, {'words': '11.製造廠代號'}, {'words': '2.製造廠州別代碼'}, {'words': 'Manu facturing plants, coded 628'}, {'words': 'Manufacturing plants slate, coded'}, {'words': '13.規格'}, {'words': '4.製造批號'}, {'words': 'Specifications'}, {'words': 'ABOUT 32. 4 KGW'}, {'words': 'Manufactured lot numbe, US1 8010'}, {'words': '15.生產國別'}, {'words': 'Country of origin'}, {'words': '美國'}, {'words': '16.數量'}, {'words': 'Quantity'}, {'words': '47,409.9LBR'}, {'words': '17.淨重'}, {'words': 'Net Weigh'}, {'words': '21,504.8KGM'}, {'words': '18.備註'}, {'words': 'Remarks'}, {'words': '書面審查」'}, {'words': '部食品粱'}, {'words': '1070329'}, {'words': '油'}, {'words': 'EFDAT'}, {'words': 'Ig AC'}, {'words': '本證書以電子文件行之,所载內容若有不符合之處,以衛生福利部食品藥物管理署資料紀口口'}, {'words': '錄為主,查詢報驗資料網址:http://ifi.fda.gov.tw/'}, {'words': 'This certificate is issued in electronically. Should the content listed above'}, {'words': \"be di fferent from the recorded in the tfda's database, the tpda's databasc\"}, {'words': 'will prevail. For on-line inquiry about the progress of applications, please'}, {'words': 'Visit TFDA s website at http: //ifi. fda. gov. tw.'}]\n"
     ]
    }
   ],
   "source": [
    "from aip import AipOcr\n",
    "\n",
    "# 定义常量  (需要有百度帳號 https://blog.csdn.net/wc781708249/article/details/78559448)\n",
    "# https://console.bce.baidu.com/ai/以下資料須由此創建\n",
    "APP_ID = '11207700'\n",
    "API_KEY = 'Xyx3uDFYhAYdADop5xuEQf4e'\n",
    "SECRET_KEY = 'Se4hKbaKsPD3bB0rpES72U25S67MBiZw'\n",
    "\n",
    "# 初始化文字识别分类器\n",
    "aipOcr=AipOcr(APP_ID, API_KEY, SECRET_KEY)\n",
    "\n",
    "# 读取图片  \n",
    "filePath = r'D:\\trydata\\image_name.jpg'\n",
    "\n",
    "def get_file_content(filePath):\n",
    "    with open(filePath, 'rb') as fp:\n",
    "        return fp.read()\n",
    "\n",
    "# 定义参数变量\n",
    "options = {\n",
    "    'detect_direction': 'true',\n",
    "    'language_type': 'CHN_ENG',\n",
    "}\n",
    "\n",
    "# 网络图片文字文字识别接口\n",
    "result = aipOcr.webImage(get_file_content(filePath),options)\n",
    "\n",
    "# 如果图片是url 调用示例如下\n",
    "# result = apiOcr.webImage('http://www.xxxxxx.com/img.jpg')\n",
    "\n",
    "print(result['words_result'])"
   ]
  },
  {
   "cell_type": "code",
   "execution_count": 48,
   "metadata": {
    "scrolled": true
   },
   "outputs": [
    {
     "data": {
      "text/plain": [
       "['衛生福利部食品藥物管理署',\n",
       " '食品及相關產品輸入許可通知',\n",
       " '03S89',\n",
       " 'Food and Drug Administration, Ministry of Health and Welfare',\n",
       " 'Notification of the Food and Relevant Products Import Admitted',\n",
       " '中華民國107年03月28日FDA北字第IFBO7VK0419707號',\n",
       " '1.申請書號碼',\n",
       " 'Application No. IFBO7VK0419707',\n",
       " '2.進口日期',\n",
       " 'Import Date 107/03/26',\n",
       " '3.報驗義務人',\n",
       " 'Applicant',\n",
       " '84630426王品餐飲股份有限公司',\n",
       " '4.貨物名稱(品名)',\n",
       " 'Description of good',\n",
       " 'FROZEN BNLS BEEF SHORT PLATE S/T( VACUUM PACK)冷凉去骨牛肉',\n",
       " '5.貨品分類號列',\n",
       " '6.報單號碼及項次AA07389Z1013',\n",
       " 'c.c. C Code',\n",
       " '02023090207',\n",
       " 'Goods Declaration No& Item 1',\n",
       " '7.製造日期',\n",
       " '8.有效日期',\n",
       " 'Manufactured date',\n",
       " 'Expiration date',\n",
       " '109/02/13',\n",
       " '9.商標(牌名)',\n",
       " 'Trademark(brand )of goods',\n",
       " '628',\n",
       " '0.製造廠名稱',\n",
       " 'Manufacturing plants name 028',\n",
       " '11.製造廠代號',\n",
       " '2.製造廠州別代碼',\n",
       " 'Manu facturing plants, coded 628',\n",
       " 'Manufacturing plants slate, coded',\n",
       " '13.規格',\n",
       " '4.製造批號',\n",
       " 'Specifications',\n",
       " 'ABOUT 32. 4 KGW',\n",
       " 'Manufactured lot numbe, US1 8010',\n",
       " '15.生產國別',\n",
       " 'Country of origin',\n",
       " '美國',\n",
       " '16.數量',\n",
       " 'Quantity',\n",
       " '47,409.9LBR',\n",
       " '17.淨重',\n",
       " 'Net Weigh',\n",
       " '21,504.8KGM',\n",
       " '18.備註',\n",
       " 'Remarks',\n",
       " '書面審查」',\n",
       " '部食品粱',\n",
       " '1070329',\n",
       " '油',\n",
       " 'EFDAT',\n",
       " 'Ig AC',\n",
       " '本證書以電子文件行之,所载內容若有不符合之處,以衛生福利部食品藥物管理署資料紀口口',\n",
       " '錄為主,查詢報驗資料網址:http://ifi.fda.gov.tw/',\n",
       " 'This certificate is issued in electronically. Should the content listed above',\n",
       " \"be di fferent from the recorded in the tfda's database, the tpda's databasc\",\n",
       " 'will prevail. For on-line inquiry about the progress of applications, please',\n",
       " 'Visit TFDA s website at http: //ifi. fda. gov. tw.']"
      ]
     },
     "execution_count": 48,
     "metadata": {},
     "output_type": "execute_result"
    }
   ],
   "source": [
    "[i['words'] for i in result['words_result']]"
   ]
  },
  {
   "cell_type": "code",
   "execution_count": null,
   "metadata": {
    "collapsed": true
   },
   "outputs": [],
   "source": []
  }
 ],
 "metadata": {
  "kernelspec": {
   "display_name": "Python 3",
   "language": "python",
   "name": "python3"
  },
  "language_info": {
   "codemirror_mode": {
    "name": "ipython",
    "version": 3
   },
   "file_extension": ".py",
   "mimetype": "text/x-python",
   "name": "python",
   "nbconvert_exporter": "python",
   "pygments_lexer": "ipython3",
   "version": "3.6.4"
  }
 },
 "nbformat": 4,
 "nbformat_minor": 2
}
