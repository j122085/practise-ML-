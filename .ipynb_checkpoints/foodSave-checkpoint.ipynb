{
 "cells": [
  {
   "cell_type": "code",
   "execution_count": 224,
   "metadata": {
    "collapsed": true
   },
   "outputs": [],
   "source": [
    "from selenium import webdriver\n",
    "from selenium.webdriver.common.keys import Keys\n",
    "from selenium.webdriver.common.by import By\n",
    "from selenium.webdriver.support.ui import Select\n",
    "from selenium.webdriver.chrome.options import Options\n",
    "from selenium.webdriver.common.action_chains import ActionChains#滑鼠套件\n",
    "from selenium.webdriver.support.ui import WebDriverWait#直到True 不斷等待\n",
    "from selenium.webdriver.support import expected_conditions as EC #判斷某物件存在，直到時間結束\n",
    "import os\n",
    "import time \n",
    "import xl2dict\n",
    "import smtplib\n",
    "from email.message import EmailMessage\n"
   ]
  },
  {
   "cell_type": "code",
   "execution_count": 225,
   "metadata": {
    "collapsed": true
   },
   "outputs": [],
   "source": [
    "chrome_options = Options()\n",
    "# chrome_options.add_argument(\"--headless\")\n",
    "# chrome_options.add_argument(\"--no-sandbox\")\n",
    "# chrome_options.add_argument(\"start-maximized\")\n",
    "# chrome_options.add_argument(\"disable-infobars\")\n",
    "# chrome_options.add_argument(\"--disable-extensions\")\n",
    "\n",
    "#crx檔要用http://crxextractor.com/ 將套件網址key入，即可產生套件檔 \n",
    "# chrome_options.add_extension(r'D:\\xxx\\extension_0_0_1_3.crx')\n",
    "#webdriver檔要在 https://sites.google.com/a/chromium.org/chromedriver/downloads下載\n",
    "#套件網址:https://chrome.google.com/webstore/detail/smartpki-%E5%A4%9A%E6%86%91%E8%AD%89%E5%AE%89%E6%8E%A7%E6%A8%A1%E7%B5%84%E6%93%B4%E5%85%85%E5%A5%97%E4%BB%B6/jhffgcfmcckgmioipfnmbannkpncfipo?utm_source=chrome-ntp-icon\n",
    "driver =webdriver.Chrome(executable_path=r'D:\\Driver\\chromedriver.exe', chrome_options=chrome_options)\n",
    "driver.get(\"https://waste.epa.gov.tw/prog/IndexFrame.asp?Func=2\")\n",
    "# driver.s\n",
    "driver.set_window_size(1050,840)\n",
    "\n",
    "driver.save_screenshot(r\"D:\\trydata\\screenshot.png\")\n",
    "driver.switch_to_default_content()\n",
    "driver.switch_to_frame(1)\n",
    "driver.page_source\n",
    "accountInput=driver.find_element_by_name(\"fac_user\")\n",
    "accountInput.send_keys(\"A45B1625\")\n",
    "\n",
    "pwInput=driver.find_element_by_name(\"fac_pwd\")\n",
    "pwInput.send_keys(\"a!0227581123\")\n",
    "\n",
    "picture=driver.find_element_by_id(\"CAPTCHA\")\n",
    "# location=picture.location\n",
    "location={'x':picture.location['x']-395,'y':picture.location['y']+206}\n",
    "# location={'x':577,\"y\":326}\n",
    "# location\n",
    "left=location['x']\n",
    "right=location['x']+picture.size['width']\n",
    "top=location['y']\n",
    "botton=location['y']+picture.size['height']\n",
    "from PIL import Image\n",
    "img=Image.open(r\"D:\\trydata\\screenshot.png\")\n",
    "img=img.crop((left,top,right,botton))\n",
    "img.save(r\"D:\\trydata\\captcha.png\")"
   ]
  },
  {
   "cell_type": "code",
   "execution_count": 226,
   "metadata": {
    "collapsed": true
   },
   "outputs": [],
   "source": []
  },
  {
   "cell_type": "markdown",
   "metadata": {},
   "source": [
    "# 大神的截圖方法"
   ]
  },
  {
   "cell_type": "code",
   "execution_count": 5,
   "metadata": {
    "scrolled": true
   },
   "outputs": [
    {
     "name": "stdout",
     "output_type": "stream",
     "text": [
      "600.0\n",
      "600.0\n",
      "600.0\n",
      "600.0\n",
      "600.0\n",
      "['xx' '7' 'D' '5' 'E']\n",
      "7D5E\n"
     ]
    }
   ],
   "source": [
    "import os\n",
    "import base64, re\n",
    "from io import BytesIO\n",
    "from PIL import Image\n",
    "from selenium import webdriver\n",
    "from selenium.webdriver.chrome.options import Options\n",
    "from selenium.webdriver.common.keys import Keys\n",
    "from selenium.webdriver.common.by import By\n",
    "from selenium.webdriver.support.ui import Select\n",
    "from selenium.webdriver.chrome.options import Options\n",
    "from selenium.webdriver.support.ui import WebDriverWait#直到True 不斷等待\n",
    "from selenium.webdriver.support import expected_conditions as EC #判斷某物件存在，直到時間結束\n",
    "import time \n",
    "import xl2dict\n",
    "import smtplib\n",
    "from email.message import EmailMessage\n",
    "\n",
    "from sklearn.externals import joblib\n",
    "from sklearn.preprocessing import StandardScaler\n",
    "import cv2\n",
    "import PIL\n",
    "import numpy\n",
    "from matplotlib import pyplot as plt\n",
    "\n",
    "chrome_options = Options()\n",
    "def base64_to_image(base64_str, image_path=None):\n",
    "    base64_data = re.sub('^data:image/.+;base64,', '', base64_str)\n",
    "    byte_data = base64.b64decode(base64_data)\n",
    "    image_data = BytesIO(byte_data)\n",
    "    img = Image.open(image_data)\n",
    "    if image_path:\n",
    "        img.save(image_path)\n",
    "\n",
    "def save_captcha():\n",
    "    driver.switch_to.default_content()\n",
    "    driver.switch_to.frame(1)\n",
    "    try:\n",
    "        driver.execute_script('''\n",
    "        img = document.getElementById(\"CAPTCHA\");\n",
    "        var imgCanvas = document.createElement(\"canvas\"),\n",
    "        imgContext = imgCanvas.getContext(\"2d\");\n",
    "        imgCanvas.width = img.width;\n",
    "        imgCanvas.height = img.height;\n",
    "        imgContext.drawImage(img, 0, 0, imgCanvas.width, imgCanvas.height);\n",
    "        imgInfom = imgCanvas.toDataURL(\"image/png\");\n",
    "        localStorage.setItem(\"imgInfo\",imgInfom);\n",
    "        ''')\n",
    "        img_data = driver.execute_script('return localStorage.getItem(\"imgInfo\")')\n",
    "        base64_to_image(img_data,\"./captchaDir/CAPTCHA.png\")\n",
    "    except Exception as e:\n",
    "        print(str(e))\n",
    "\n",
    "        \n",
    "if not os.path.exists(\"captchaDir\"):\n",
    "    os.mkdir(\"captchaDir\")\n",
    "driver_path = os.path.join(os.getcwd(), 'chromedriver')\n",
    "driver = webdriver.Chrome(executable_path=driver_path, chrome_options=chrome_options)\n",
    "driver.get(\"https://waste.epa.gov.tw/prog/IndexFrame.asp?Func=2\")\n",
    "\n",
    "\n",
    "\n",
    "\n",
    "\n",
    "success=0\n",
    "while success==0:\n",
    "    driver.switch_to.default_content()\n",
    "    driver.switch_to.frame(1)\n",
    "    driver.page_source\n",
    "    accountInput=driver.find_element_by_name(\"fac_user\")\n",
    "    accountInput.clear()\n",
    "    accountInput.send_keys(\"A45B1625\")\n",
    "    pwInput=driver.find_element_by_name(\"fac_pwd\")\n",
    "    pwInput.clear()\n",
    "    pwInput.send_keys(\"a!0227581123\")\n",
    "\n",
    "    ##########################\n",
    "\n",
    "\n",
    "    captchaText=\"\"\n",
    "    while len(captchaText)!=4:\n",
    "        save_captcha()\n",
    "        mlp=joblib.load(r'D:\\trydata\\textConsider\\model\\captcha.pkl')\n",
    "        # img=Image.open(\"./captchaDir/CAPTCHA.png\")\n",
    "\n",
    "        pil_image =PIL.Image.open(\"./captchaDir/CAPTCHA.png\").convert(\"RGB\")\n",
    "        open_cv_image=numpy.array(pil_image)\n",
    "        plt.imshow(open_cv_image)\n",
    "        imgray=cv2.cvtColor(open_cv_image,cv2.COLOR_BGR2GRAY)\n",
    "        ret, thresh=cv2.threshold(imgray,127,255,0)\n",
    "        image,contours,hierarchy=cv2.findContours(thresh,cv2.RETR_TREE,cv2.CHAIN_APPROX_SIMPLE)\n",
    "        cnts=sorted([(c,cv2.boundingRect(c)[0]) for c in contours],key=lambda x:x[1])\n",
    "        ary=[]\n",
    "        for (c,_) in cnts:\n",
    "            (x,y,w,h)=cv2.boundingRect(c)\n",
    "        #         print((x,y,w,h))\n",
    "            if w>11 and h>=7 and w!=120:\n",
    "                if x-2>0:\n",
    "                    ary.append((x-2,y-2,w+4,h+4))\n",
    "                else:\n",
    "                    ary.append((x,y,w+4,h+4))\n",
    "        n=0\n",
    "\n",
    "        if not os.path.exists(\"./captchaDir/numPic/\"):\n",
    "            os.mkdir(\"./captchaDir/numPic/\")\n",
    "\n",
    "        for i in os.listdir(\"./captchaDir/numPic/\"):\n",
    "            os.remove(\"./captchaDir/numPic/\"+i)\n",
    "\n",
    "        for (x,y,w,h) in ary:\n",
    "            fig=plt.figure(figsize=(6, 4), dpi=100) #600*400\n",
    "            roi=open_cv_image[y:y+h,x:x+w]\n",
    "            thresh=roi.copy()\n",
    "        #     ax=fig.add\n",
    "            plt.imshow(thresh)\n",
    "            plt.savefig(\"./captchaDir/numPic/aa_{}.png\".format(n),dpi=100)\n",
    "            n+=1\n",
    "\n",
    "\n",
    "        data=[]\n",
    "        basewidth=50\n",
    "        fig=plt.figure(figsize=(20,20))\n",
    "        cnt=0\n",
    "        for idx,img in enumerate(os.listdir(\"./captchaDir/numPic/\")):\n",
    "            pil_image=PIL.Image.open(\"./captchaDir/numPic/{}\".format(img)).convert('1')\n",
    "            wpercent=(basewidth/float(pil_image.size[0]))\n",
    "            hsize=int((float(pil_image.size[1])*float(wpercent)))\n",
    "            img=pil_image.resize((basewidth,hsize),PIL.Image.ANTIALIAS)\n",
    "            data.append([pixel for pixel in iter(img.getdata())])\n",
    "        scaler=StandardScaler()\n",
    "        scaler.fit(data)\n",
    "        data_scaled=scaler.transform(data)\n",
    "        print(mlp.predict(data_scaled))\n",
    "\n",
    "        captchaText=\"\".join(mlp.predict(data_scaled)).replace(\"xx\",\"\")\n",
    "        if len(captchaText)!=4:\n",
    "            driver.find_element_by_link_text(\"重新載入圖片\").click()\n",
    "            time.sleep(0.5)\n",
    "\n",
    "\n",
    "    print(captchaText)\n",
    "    captchaInput=driver.find_element_by_id(\"securityCode\")\n",
    "    captchaInput.send_keys(captchaText)\n",
    "    driver.find_element_by_name(\"Action\").click()\n",
    "    time.sleep(0.5)\n",
    "    for i in range(5):\n",
    "        try:\n",
    "            alert=driver.switch_to_alert()\n",
    "            alert.accept()\n",
    "            time.sleep(0.1)\n",
    "        except:\n",
    "            pass\n",
    "\n",
    "    try:\n",
    "        time.sleep(0.5)\n",
    "        driver.find_element_by_link_text(\"越境聯單資料錯誤說明\")\n",
    "        success=1\n",
    "    except:\n",
    "        print(\"xxxxxxxxxxxxxxxxxxxxxxxxxxx\")\n",
    "        time.sleep(0.5)"
   ]
  },
  {
   "cell_type": "markdown",
   "metadata": {},
   "source": [
    "# 廚餘"
   ]
  },
  {
   "cell_type": "code",
   "execution_count": 69,
   "metadata": {
    "collapsed": true
   },
   "outputs": [],
   "source": [
    "driver.get(\"https://waste.epa.gov.tw/massbal/restaurant.asp\")"
   ]
  },
  {
   "cell_type": "code",
   "execution_count": 70,
   "metadata": {
    "collapsed": true
   },
   "outputs": [],
   "source": [
    "driver.find_element_by_name(\"app_year\").click()\n",
    "import datetime\n",
    "now=datetime.datetime.now()\n",
    "yearTaiwan=str(now.year-1911)\n",
    "driver.find_element_by_xpath('//option[@value=\"' + yearTaiwan + '\"]').click()\n",
    "driver.find_element_by_name(\"app_year\").click()"
   ]
  },
  {
   "cell_type": "code",
   "execution_count": 71,
   "metadata": {
    "collapsed": true
   },
   "outputs": [],
   "source": [
    "driver.find_element_by_name(\"app_month\").click()\n",
    "import datetime\n",
    "now=datetime.datetime.now()\n",
    "monthTaiwan=str(now.month-1)\n",
    "if len(monthTaiwan)==1:\n",
    "    monthTaiwan=\"0\"+monthTaiwan\n",
    "driver.find_element_by_xpath('//option[@value=\"' + monthTaiwan + '\"]').click()\n",
    "driver.find_element_by_name(\"app_month\").click()"
   ]
  },
  {
   "cell_type": "code",
   "execution_count": 72,
   "metadata": {
    "collapsed": true
   },
   "outputs": [],
   "source": [
    "driver.find_elements_by_name(\"submit\")[0].click()"
   ]
  },
  {
   "cell_type": "code",
   "execution_count": 73,
   "metadata": {},
   "outputs": [
    {
     "ename": "WebDriverException",
     "evalue": "Message: chrome not reachable\n  (Session info: chrome=67.0.3396.87)\n  (Driver info: chromedriver=2.35.528161 (5b82f2d2aae0ca24b877009200ced9065a772e73),platform=Windows NT 6.1.7601 SP1 x86_64)\n",
     "output_type": "error",
     "traceback": [
      "\u001b[1;31m---------------------------------------------------------------------------\u001b[0m",
      "\u001b[1;31mWebDriverException\u001b[0m                        Traceback (most recent call last)",
      "\u001b[1;32m<ipython-input-73-01f524145317>\u001b[0m in \u001b[0;36m<module>\u001b[1;34m()\u001b[0m\n\u001b[0;32m      6\u001b[0m     \u001b[0mtime\u001b[0m\u001b[1;33m.\u001b[0m\u001b[0msleep\u001b[0m\u001b[1;33m(\u001b[0m\u001b[1;36m0.1\u001b[0m\u001b[1;33m)\u001b[0m\u001b[1;33m\u001b[0m\u001b[0m\n\u001b[0;32m      7\u001b[0m \u001b[1;32melse\u001b[0m\u001b[1;33m:\u001b[0m\u001b[1;33m\u001b[0m\u001b[0m\n\u001b[1;32m----> 8\u001b[1;33m     \u001b[0mdriver\u001b[0m\u001b[1;33m.\u001b[0m\u001b[0mfind_element_by_xpath\u001b[0m\u001b[1;33m(\u001b[0m\u001b[1;34m\"/html/body/p[4]/b[2]/font/a\"\u001b[0m\u001b[1;33m)\u001b[0m\u001b[1;33m.\u001b[0m\u001b[0mclick\u001b[0m\u001b[1;33m(\u001b[0m\u001b[1;33m)\u001b[0m\u001b[1;33m\u001b[0m\u001b[0m\n\u001b[0m\u001b[0;32m      9\u001b[0m     \u001b[0mtime\u001b[0m\u001b[1;33m.\u001b[0m\u001b[0msleep\u001b[0m\u001b[1;33m(\u001b[0m\u001b[1;36m0.5\u001b[0m\u001b[1;33m)\u001b[0m\u001b[1;33m\u001b[0m\u001b[0m\n\u001b[0;32m     10\u001b[0m     \u001b[0mproductInput\u001b[0m\u001b[1;33m=\u001b[0m\u001b[0mdriver\u001b[0m\u001b[1;33m.\u001b[0m\u001b[0mfind_element_by_id\u001b[0m\u001b[1;33m(\u001b[0m\u001b[1;34m\"mod_app_qty\"\u001b[0m\u001b[1;33m)\u001b[0m\u001b[1;33m\u001b[0m\u001b[0m\n",
      "\u001b[1;32mD:\\anaconda\\lib\\site-packages\\selenium\\webdriver\\remote\\webdriver.py\u001b[0m in \u001b[0;36mfind_element_by_xpath\u001b[1;34m(self, xpath)\u001b[0m\n\u001b[0;32m    363\u001b[0m             \u001b[0mdriver\u001b[0m\u001b[1;33m.\u001b[0m\u001b[0mfind_element_by_xpath\u001b[0m\u001b[1;33m(\u001b[0m\u001b[1;34m'//div/td[1]'\u001b[0m\u001b[1;33m)\u001b[0m\u001b[1;33m\u001b[0m\u001b[0m\n\u001b[0;32m    364\u001b[0m         \"\"\"\n\u001b[1;32m--> 365\u001b[1;33m         \u001b[1;32mreturn\u001b[0m \u001b[0mself\u001b[0m\u001b[1;33m.\u001b[0m\u001b[0mfind_element\u001b[0m\u001b[1;33m(\u001b[0m\u001b[0mby\u001b[0m\u001b[1;33m=\u001b[0m\u001b[0mBy\u001b[0m\u001b[1;33m.\u001b[0m\u001b[0mXPATH\u001b[0m\u001b[1;33m,\u001b[0m \u001b[0mvalue\u001b[0m\u001b[1;33m=\u001b[0m\u001b[0mxpath\u001b[0m\u001b[1;33m)\u001b[0m\u001b[1;33m\u001b[0m\u001b[0m\n\u001b[0m\u001b[0;32m    366\u001b[0m \u001b[1;33m\u001b[0m\u001b[0m\n\u001b[0;32m    367\u001b[0m     \u001b[1;32mdef\u001b[0m \u001b[0mfind_elements_by_xpath\u001b[0m\u001b[1;33m(\u001b[0m\u001b[0mself\u001b[0m\u001b[1;33m,\u001b[0m \u001b[0mxpath\u001b[0m\u001b[1;33m)\u001b[0m\u001b[1;33m:\u001b[0m\u001b[1;33m\u001b[0m\u001b[0m\n",
      "\u001b[1;32mD:\\anaconda\\lib\\site-packages\\selenium\\webdriver\\remote\\webdriver.py\u001b[0m in \u001b[0;36mfind_element\u001b[1;34m(self, by, value)\u001b[0m\n\u001b[0;32m    853\u001b[0m         return self.execute(Command.FIND_ELEMENT, {\n\u001b[0;32m    854\u001b[0m             \u001b[1;34m'using'\u001b[0m\u001b[1;33m:\u001b[0m \u001b[0mby\u001b[0m\u001b[1;33m,\u001b[0m\u001b[1;33m\u001b[0m\u001b[0m\n\u001b[1;32m--> 855\u001b[1;33m             'value': value})['value']\n\u001b[0m\u001b[0;32m    856\u001b[0m \u001b[1;33m\u001b[0m\u001b[0m\n\u001b[0;32m    857\u001b[0m     \u001b[1;32mdef\u001b[0m \u001b[0mfind_elements\u001b[0m\u001b[1;33m(\u001b[0m\u001b[0mself\u001b[0m\u001b[1;33m,\u001b[0m \u001b[0mby\u001b[0m\u001b[1;33m=\u001b[0m\u001b[0mBy\u001b[0m\u001b[1;33m.\u001b[0m\u001b[0mID\u001b[0m\u001b[1;33m,\u001b[0m \u001b[0mvalue\u001b[0m\u001b[1;33m=\u001b[0m\u001b[1;32mNone\u001b[0m\u001b[1;33m)\u001b[0m\u001b[1;33m:\u001b[0m\u001b[1;33m\u001b[0m\u001b[0m\n",
      "\u001b[1;32mD:\\anaconda\\lib\\site-packages\\selenium\\webdriver\\remote\\webdriver.py\u001b[0m in \u001b[0;36mexecute\u001b[1;34m(self, driver_command, params)\u001b[0m\n\u001b[0;32m    306\u001b[0m         \u001b[0mresponse\u001b[0m \u001b[1;33m=\u001b[0m \u001b[0mself\u001b[0m\u001b[1;33m.\u001b[0m\u001b[0mcommand_executor\u001b[0m\u001b[1;33m.\u001b[0m\u001b[0mexecute\u001b[0m\u001b[1;33m(\u001b[0m\u001b[0mdriver_command\u001b[0m\u001b[1;33m,\u001b[0m \u001b[0mparams\u001b[0m\u001b[1;33m)\u001b[0m\u001b[1;33m\u001b[0m\u001b[0m\n\u001b[0;32m    307\u001b[0m         \u001b[1;32mif\u001b[0m \u001b[0mresponse\u001b[0m\u001b[1;33m:\u001b[0m\u001b[1;33m\u001b[0m\u001b[0m\n\u001b[1;32m--> 308\u001b[1;33m             \u001b[0mself\u001b[0m\u001b[1;33m.\u001b[0m\u001b[0merror_handler\u001b[0m\u001b[1;33m.\u001b[0m\u001b[0mcheck_response\u001b[0m\u001b[1;33m(\u001b[0m\u001b[0mresponse\u001b[0m\u001b[1;33m)\u001b[0m\u001b[1;33m\u001b[0m\u001b[0m\n\u001b[0m\u001b[0;32m    309\u001b[0m             response['value'] = self._unwrap_value(\n\u001b[0;32m    310\u001b[0m                 response.get('value', None))\n",
      "\u001b[1;32mD:\\anaconda\\lib\\site-packages\\selenium\\webdriver\\remote\\errorhandler.py\u001b[0m in \u001b[0;36mcheck_response\u001b[1;34m(self, response)\u001b[0m\n\u001b[0;32m    192\u001b[0m         \u001b[1;32melif\u001b[0m \u001b[0mexception_class\u001b[0m \u001b[1;33m==\u001b[0m \u001b[0mUnexpectedAlertPresentException\u001b[0m \u001b[1;32mand\u001b[0m \u001b[1;34m'alert'\u001b[0m \u001b[1;32min\u001b[0m \u001b[0mvalue\u001b[0m\u001b[1;33m:\u001b[0m\u001b[1;33m\u001b[0m\u001b[0m\n\u001b[0;32m    193\u001b[0m             \u001b[1;32mraise\u001b[0m \u001b[0mexception_class\u001b[0m\u001b[1;33m(\u001b[0m\u001b[0mmessage\u001b[0m\u001b[1;33m,\u001b[0m \u001b[0mscreen\u001b[0m\u001b[1;33m,\u001b[0m \u001b[0mstacktrace\u001b[0m\u001b[1;33m,\u001b[0m \u001b[0mvalue\u001b[0m\u001b[1;33m[\u001b[0m\u001b[1;34m'alert'\u001b[0m\u001b[1;33m]\u001b[0m\u001b[1;33m.\u001b[0m\u001b[0mget\u001b[0m\u001b[1;33m(\u001b[0m\u001b[1;34m'text'\u001b[0m\u001b[1;33m)\u001b[0m\u001b[1;33m)\u001b[0m\u001b[1;33m\u001b[0m\u001b[0m\n\u001b[1;32m--> 194\u001b[1;33m         \u001b[1;32mraise\u001b[0m \u001b[0mexception_class\u001b[0m\u001b[1;33m(\u001b[0m\u001b[0mmessage\u001b[0m\u001b[1;33m,\u001b[0m \u001b[0mscreen\u001b[0m\u001b[1;33m,\u001b[0m \u001b[0mstacktrace\u001b[0m\u001b[1;33m)\u001b[0m\u001b[1;33m\u001b[0m\u001b[0m\n\u001b[0m\u001b[0;32m    195\u001b[0m \u001b[1;33m\u001b[0m\u001b[0m\n\u001b[0;32m    196\u001b[0m     \u001b[1;32mdef\u001b[0m \u001b[0m_value_or_default\u001b[0m\u001b[1;33m(\u001b[0m\u001b[0mself\u001b[0m\u001b[1;33m,\u001b[0m \u001b[0mobj\u001b[0m\u001b[1;33m,\u001b[0m \u001b[0mkey\u001b[0m\u001b[1;33m,\u001b[0m \u001b[0mdefault\u001b[0m\u001b[1;33m)\u001b[0m\u001b[1;33m:\u001b[0m\u001b[1;33m\u001b[0m\u001b[0m\n",
      "\u001b[1;31mWebDriverException\u001b[0m: Message: chrome not reachable\n  (Session info: chrome=67.0.3396.87)\n  (Driver info: chromedriver=2.35.528161 (5b82f2d2aae0ca24b877009200ced9065a772e73),platform=Windows NT 6.1.7601 SP1 x86_64)\n"
     ]
    }
   ],
   "source": [
    "xxxx=100 #廚餘\n",
    "if xxxx==0:\n",
    "    driver.find_element_by_xpath(\"/html/body/p[5]/b[2]/font/a\").click()\n",
    "    alert=driver.switch_to_alert()\n",
    "    alert.accept()\n",
    "    time.sleep(0.1)\n",
    "else:\n",
    "    driver.find_element_by_xpath(\"/html/body/p[4]/b[2]/font/a\").click()\n",
    "    time.sleep(0.5)\n",
    "    productInput=driver.find_element_by_id(\"mod_app_qty\")\n",
    "    productInput.clear()\n",
    "    productInput.send_keys(str(xxxx))\n",
    "    includeWaterInput=driver.find_element_by_id(\"mod_inwater\")\n",
    "    includeWaterInput.clear()\n",
    "    includeWaterInput.send_keys(\"0\")\n",
    "    # driver.find_element_by_name(\"B3\").click()\n",
    "#     alert=driver.switch_to_alert()\n",
    "#     alert.accept()\n",
    "#     time.sleep(0.1)"
   ]
  },
  {
   "cell_type": "code",
   "execution_count": null,
   "metadata": {
    "collapsed": true
   },
   "outputs": [],
   "source": []
  },
  {
   "cell_type": "code",
   "execution_count": null,
   "metadata": {
    "collapsed": true
   },
   "outputs": [],
   "source": []
  },
  {
   "cell_type": "code",
   "execution_count": null,
   "metadata": {
    "collapsed": true
   },
   "outputs": [],
   "source": []
  },
  {
   "cell_type": "code",
   "execution_count": null,
   "metadata": {
    "collapsed": true
   },
   "outputs": [],
   "source": []
  }
 ],
 "metadata": {
  "kernelspec": {
   "display_name": "Python 3",
   "language": "python",
   "name": "python3"
  },
  "language_info": {
   "codemirror_mode": {
    "name": "ipython",
    "version": 3
   },
   "file_extension": ".py",
   "mimetype": "text/x-python",
   "name": "python",
   "nbconvert_exporter": "python",
   "pygments_lexer": "ipython3",
   "version": "3.6.4"
  }
 },
 "nbformat": 4,
 "nbformat_minor": 2
}
