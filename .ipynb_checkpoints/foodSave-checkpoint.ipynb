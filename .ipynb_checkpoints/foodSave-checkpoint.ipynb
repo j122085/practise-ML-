{
 "cells": [
  {
   "cell_type": "code",
   "execution_count": 164,
   "metadata": {
    "collapsed": true
   },
   "outputs": [],
   "source": [
    "from selenium import webdriver\n",
    "from selenium.webdriver.common.keys import Keys\n",
    "from selenium.webdriver.common.by import By\n",
    "from selenium.webdriver.support.ui import Select\n",
    "from selenium.webdriver.chrome.options import Options\n",
    "from selenium.webdriver.common.action_chains import ActionChains#滑鼠套件\n",
    "from selenium.webdriver.support.ui import WebDriverWait#直到True 不斷等待\n",
    "from selenium.webdriver.support import expected_conditions as EC #判斷某物件存在，直到時間結束\n",
    "import os\n",
    "import time \n",
    "import xl2dict\n",
    "import smtplib\n",
    "from email.message import EmailMessage\n"
   ]
  },
  {
   "cell_type": "code",
   "execution_count": 165,
   "metadata": {
    "collapsed": true
   },
   "outputs": [],
   "source": [
    "chrome_options = Options()\n",
    "# chrome_options.add_argument(\"--headless\")\n",
    "# chrome_options.add_argument(\"--no-sandbox\")\n",
    "# chrome_options.add_argument(\"start-maximized\")\n",
    "# chrome_options.add_argument(\"disable-infobars\")\n",
    "# chrome_options.add_argument(\"--disable-extensions\")\n",
    "\n",
    "#crx檔要用http://crxextractor.com/ 將套件網址key入，即可產生套件檔 \n",
    "# chrome_options.add_extension(r'D:\\xxx\\extension_0_0_1_3.crx')\n",
    "#webdriver檔要在 https://sites.google.com/a/chromium.org/chromedriver/downloads下載\n",
    "#套件網址:https://chrome.google.com/webstore/detail/smartpki-%E5%A4%9A%E6%86%91%E8%AD%89%E5%AE%89%E6%8E%A7%E6%A8%A1%E7%B5%84%E6%93%B4%E5%85%85%E5%A5%97%E4%BB%B6/jhffgcfmcckgmioipfnmbannkpncfipo?utm_source=chrome-ntp-icon\n",
    "driver =webdriver.Chrome(executable_path=r'D:\\Driver\\chromedriver.exe', chrome_options=chrome_options)\n",
    "driver.get(\"https://waste.epa.gov.tw/prog/IndexFrame.asp?Func=2\")\n",
    "# driver.s\n",
    "driver.set_window_size(1050,840)\n",
    "\n",
    "driver.save_screenshot(r\"D:\\trydata\\screenshot.png\")\n",
    "driver.switch_to_default_content()\n",
    "driver.switch_to_frame(1)\n",
    "driver.page_source\n",
    "accountInput=driver.find_element_by_name(\"fac_user\")\n",
    "accountInput.send_keys(\"A45B1625\")\n",
    "\n",
    "pwInput=driver.find_element_by_name(\"fac_pwd\")\n",
    "pwInput.send_keys(\"a!0227581123\")\n",
    "\n",
    "picture=driver.find_element_by_id(\"CAPTCHA\")\n",
    "# location=picture.location\n",
    "location={'x':picture.location['x']-395,'y':picture.location['y']+206}\n",
    "# location={'x':577,\"y\":326}\n",
    "# location\n",
    "left=location['x']\n",
    "right=location['x']+picture.size['width']\n",
    "top=location['y']\n",
    "botton=location['y']+picture.size['height']\n",
    "from PIL import Image\n",
    "img=Image.open(r\"D:\\trydata\\screenshot.png\")\n",
    "img=img.crop((left,top,right,botton))\n",
    "img.save(r\"D:\\trydata\\captcha.png\")"
   ]
  },
  {
   "cell_type": "code",
   "execution_count": null,
   "metadata": {
    "collapsed": true
   },
   "outputs": [],
   "source": []
  },
  {
   "cell_type": "markdown",
   "metadata": {},
   "source": [
    "# 大神的截圖方法"
   ]
  },
  {
   "cell_type": "code",
   "execution_count": 166,
   "metadata": {
    "scrolled": false
   },
   "outputs": [
    {
     "name": "stderr",
     "output_type": "stream",
     "text": [
      "D:\\anaconda\\lib\\site-packages\\matplotlib\\pyplot.py:524: RuntimeWarning: More than 20 figures have been opened. Figures created through the pyplot interface (`matplotlib.pyplot.figure`) are retained until explicitly closed and may consume too much memory. (To control this warning, see the rcParam `figure.max_open_warning`).\n",
      "  max_open_warning, RuntimeWarning)\n"
     ]
    },
    {
     "name": "stdout",
     "output_type": "stream",
     "text": [
      "['6' 'E' 'C' 'C']\n",
      "6ECC\n"
     ]
    }
   ],
   "source": [
    "import os\n",
    "import base64, re\n",
    "from io import BytesIO\n",
    "from PIL import Image\n",
    "from selenium import webdriver\n",
    "from selenium.webdriver.chrome.options import Options\n",
    "from selenium.webdriver.common.keys import Keys\n",
    "from selenium.webdriver.common.by import By\n",
    "from selenium.webdriver.support.ui import Select\n",
    "from selenium.webdriver.chrome.options import Options\n",
    "from selenium.webdriver.support.ui import WebDriverWait#直到True 不斷等待\n",
    "from selenium.webdriver.support import expected_conditions as EC #判斷某物件存在，直到時間結束\n",
    "import time \n",
    "import xl2dict\n",
    "import smtplib\n",
    "from email.message import EmailMessage\n",
    "\n",
    "from sklearn.externals import joblib\n",
    "from sklearn.preprocessing import StandardScaler\n",
    "import cv2\n",
    "import PIL\n",
    "import numpy\n",
    "from matplotlib import pyplot as plt\n",
    "\n",
    "chrome_options = Options()\n",
    "def base64_to_image(base64_str, image_path=None):\n",
    "    base64_data = re.sub('^data:image/.+;base64,', '', base64_str)\n",
    "    byte_data = base64.b64decode(base64_data)\n",
    "    image_data = BytesIO(byte_data)\n",
    "    img = Image.open(image_data)\n",
    "    if image_path:\n",
    "        img.save(image_path)\n",
    "\n",
    "def save_captcha():\n",
    "    driver.switch_to.default_content()\n",
    "    driver.switch_to.frame(1)\n",
    "    try:\n",
    "        driver.execute_script('''\n",
    "        img = document.getElementById(\"CAPTCHA\");\n",
    "        var imgCanvas = document.createElement(\"canvas\"),\n",
    "        imgContext = imgCanvas.getContext(\"2d\");\n",
    "        imgCanvas.width = img.width;\n",
    "        imgCanvas.height = img.height;\n",
    "        imgContext.drawImage(img, 0, 0, imgCanvas.width, imgCanvas.height);\n",
    "        imgInfom = imgCanvas.toDataURL(\"image/png\");\n",
    "        localStorage.setItem(\"imgInfo\",imgInfom);\n",
    "        ''')\n",
    "        img_data = driver.execute_script('return localStorage.getItem(\"imgInfo\")')\n",
    "        base64_to_image(img_data,\"./captchaDir/CAPTCHA.png\")\n",
    "    except Exception as e:\n",
    "        print(str(e))\n",
    "\n",
    "        \n",
    "if not os.path.exists(\"captchaDir\"):\n",
    "    os.mkdir(\"captchaDir\")\n",
    "driver_path = os.path.join(os.getcwd(), 'chromedriver')\n",
    "driver = webdriver.Chrome(executable_path=driver_path, chrome_options=chrome_options)\n",
    "driver.get(\"https://waste.epa.gov.tw/prog/IndexFrame.asp?Func=2\")\n",
    "\n",
    "\n",
    "\n",
    "\n",
    "\n",
    "success=0\n",
    "while success==0:\n",
    "    driver.switch_to.default_content()\n",
    "    driver.switch_to.frame(1)\n",
    "    driver.page_source\n",
    "    accountInput=driver.find_element_by_name(\"fac_user\")\n",
    "    accountInput.clear()\n",
    "    accountInput.send_keys(\"J55B6752\")\n",
    "    pwInput=driver.find_element_by_name(\"fac_pwd\")\n",
    "    pwInput.clear()\n",
    "    pwInput.send_keys(\"1121@PINNADA\")\n",
    "\n",
    "    #J55B6752 1121@PINNADA\n",
    "    #A45B1625 a!0227581123\n",
    "    ##########################\n",
    "\n",
    "\n",
    "    captchaText=\"\"\n",
    "    while len(captchaText)!=4:\n",
    "        save_captcha()\n",
    "        mlp=joblib.load(r'D:\\trydata\\textConsider\\model\\captcha.pkl')\n",
    "        # img=Image.open(\"./captchaDir/CAPTCHA.png\")\n",
    "\n",
    "        pil_image =PIL.Image.open(\"./captchaDir/CAPTCHA.png\").convert(\"RGB\")\n",
    "        open_cv_image=numpy.array(pil_image)\n",
    "        plt.imshow(open_cv_image)\n",
    "        imgray=cv2.cvtColor(open_cv_image,cv2.COLOR_BGR2GRAY)\n",
    "        ret, thresh=cv2.threshold(imgray,127,255,0)\n",
    "        image,contours,hierarchy=cv2.findContours(thresh,cv2.RETR_TREE,cv2.CHAIN_APPROX_SIMPLE)\n",
    "        cnts=sorted([(c,cv2.boundingRect(c)[0]) for c in contours],key=lambda x:x[1])\n",
    "        ary=[]\n",
    "        for (c,_) in cnts:\n",
    "            (x,y,w,h)=cv2.boundingRect(c)\n",
    "        #         print((x,y,w,h))\n",
    "            if w>11 and h>=7 and w!=120:\n",
    "                if x-2>0:\n",
    "                    ary.append((x-2,y-2,w+4,h+4))\n",
    "                else:\n",
    "                    ary.append((x,y,w+4,h+4))\n",
    "        n=0\n",
    "\n",
    "        if not os.path.exists(\"./captchaDir/numPic/\"):\n",
    "            os.mkdir(\"./captchaDir/numPic/\")\n",
    "\n",
    "        for i in os.listdir(\"./captchaDir/numPic/\"):\n",
    "            os.remove(\"./captchaDir/numPic/\"+i)\n",
    "\n",
    "        for (x,y,w,h) in ary:\n",
    "            fig=plt.figure(figsize=(6, 4), dpi=100) #600*400\n",
    "            roi=open_cv_image[y:y+h,x:x+w]\n",
    "            thresh=roi.copy()\n",
    "        #     ax=fig.add\n",
    "            plt.imshow(thresh)\n",
    "            plt.savefig(\"./captchaDir/numPic/aa_{}.png\".format(n),dpi=100)\n",
    "            n+=1\n",
    "\n",
    "\n",
    "        data=[]\n",
    "        basewidth=50\n",
    "        fig=plt.figure(figsize=(20,20))\n",
    "        cnt=0\n",
    "        for idx,img in enumerate(os.listdir(\"./captchaDir/numPic/\")):\n",
    "            pil_image=PIL.Image.open(\"./captchaDir/numPic/{}\".format(img)).convert('1')\n",
    "            wpercent=(basewidth/float(pil_image.size[0]))\n",
    "            hsize=int((float(pil_image.size[1])*float(wpercent)))\n",
    "            img=pil_image.resize((basewidth,hsize),PIL.Image.ANTIALIAS)\n",
    "            data.append([pixel for pixel in iter(img.getdata())])\n",
    "        scaler=StandardScaler()\n",
    "        scaler.fit(data)\n",
    "        data_scaled=scaler.transform(data)\n",
    "        print(mlp.predict(data_scaled))\n",
    "\n",
    "        captchaText=\"\".join(mlp.predict(data_scaled)).replace(\"xx\",\"\")\n",
    "        if len(captchaText)!=4:\n",
    "            driver.find_element_by_link_text(\"重新載入圖片\").click()\n",
    "            time.sleep(0.5)\n",
    "\n",
    "\n",
    "    print(captchaText)\n",
    "    captchaInput=driver.find_element_by_id(\"securityCode\")\n",
    "    captchaInput.send_keys(captchaText)\n",
    "    driver.find_element_by_name(\"Action\").click()\n",
    "    time.sleep(0.5)\n",
    "    for i in range(5):\n",
    "        try:\n",
    "            alert=driver.switch_to_alert()\n",
    "            alert.accept()\n",
    "            time.sleep(0.1)\n",
    "        except:\n",
    "            pass\n",
    "\n",
    "    try:\n",
    "        time.sleep(0.5)\n",
    "        driver.find_element_by_link_text(\"越境聯單資料錯誤說明\")\n",
    "        success=1\n",
    "    except:\n",
    "        print(\"xxxxxxxxxxxxxxxxxxxxxxxxxxx\")\n",
    "        time.sleep(0.5)"
   ]
  },
  {
   "cell_type": "code",
   "execution_count": 167,
   "metadata": {},
   "outputs": [],
   "source": [
    "driver.get(\"https://waste.epa.gov.tw/prog/stastic.asp?EPC=FAC\")\n",
    "# table=driver.find_element_by_id(\"table23\")\n",
    "# # table\n",
    "\n",
    "# for i in table.find_elements_by_css_selector(\"tr\"):\n",
    "#     if \"申報量統計查詢\" in i.text:\n",
    "#         i.find_element_by_css_selector(\"a\").click()\n",
    "#         break"
   ]
  },
  {
   "cell_type": "code",
   "execution_count": 168,
   "metadata": {},
   "outputs": [
    {
     "name": "stdout",
     "output_type": "stream",
     "text": [
      "再利用 0 --- 1 1 0.825\n",
      "0.825\n"
     ]
    }
   ],
   "source": [
    "import datetime\n",
    "from datetime import timedelta\n",
    "from selenium.webdriver.support.ui import Select\n",
    "\n",
    "today = datetime.date.today()\n",
    "first = datetime.date(day=1, month=today.month, year=today.year)\n",
    "lastMonthFinal = first - datetime.timedelta(days=1)\n",
    "lastMonthBegan = datetime.date(day=1,month=lastMonthFinal.month, year=today.year)\n",
    "yearTaiwan=str(lastMonthFinal.year-1911)\n",
    "\n",
    "if lastMonthBegan.month>=10:\n",
    "    lastMonth=str(lastMonthBegan.month)\n",
    "else:\n",
    "    lastMonth=\"0\"+str(lastMonthBegan.month)\n",
    "\n",
    "time.sleep(0.5)\n",
    "    \n",
    "yb=Select(driver.find_element_by_name(\"T3\"))\n",
    "yb.select_by_value(yearTaiwan)\n",
    "\n",
    "mb=Select(driver.find_element_by_name(\"T4\"))\n",
    "mb.select_by_value(lastMonth)\n",
    "\n",
    "db=Select(driver.find_element_by_name(\"T5\"))\n",
    "db.select_by_value(\"0\"+str(lastMonthBegan.day))\n",
    "\n",
    "\n",
    "ye=Select(driver.find_element_by_name(\"T6\"))\n",
    "ye.select_by_value(yearTaiwan)\n",
    "\n",
    "me=Select(driver.find_element_by_name(\"T7\"))\n",
    "me.select_by_value(lastMonth)\n",
    "\n",
    "de=Select(driver.find_element_by_name(\"T8\"))\n",
    "de.select_by_value(str(lastMonthFinal.day))\n",
    "\n",
    "driver.find_element_by_name(\"B1\").click()\n",
    "time.sleep(0.5)\n",
    "\n",
    "for i in driver.find_elements_by_css_selector(\"table\"):\n",
    "    for row in i.text.split(\"\\n\"):\n",
    "        if \"再利用\" in row.split(\" \"):\n",
    "            DrownVolume=row.split(\" \")[-1]\n",
    "            print(row)\n",
    "            print(DrownVolume)#"
   ]
  },
  {
   "cell_type": "code",
   "execution_count": 169,
   "metadata": {},
   "outputs": [],
   "source": [
    "driver.back()\n",
    "driver.back()"
   ]
  },
  {
   "cell_type": "code",
   "execution_count": 170,
   "metadata": {
    "collapsed": true
   },
   "outputs": [],
   "source": [
    "# driver.find_element_by_xpath(\"/html/body/center/table/tbody/tr/td/table[2]/tbody/tr[2]/td[2]/img\")\n",
    "driver.get(\"https://waste.epa.gov.tw/prog/stastic.asp?EPC=OilF\")\n",
    "time.sleep(0.5)"
   ]
  },
  {
   "cell_type": "code",
   "execution_count": 171,
   "metadata": {},
   "outputs": [
    {
     "name": "stdout",
     "output_type": "stream",
     "text": [
      "廢食用油遞送聯單 1 0 1 0 0 1 0.054\n",
      "0.054\n"
     ]
    }
   ],
   "source": [
    "yb=Select(driver.find_element_by_name(\"T3\"))\n",
    "yb.select_by_value(yearTaiwan)\n",
    "\n",
    "mb=Select(driver.find_element_by_name(\"T4\"))\n",
    "mb.select_by_value(lastMonth)\n",
    "\n",
    "db=Select(driver.find_element_by_name(\"T5\"))\n",
    "db.select_by_value(\"0\"+str(lastMonthBegan.day))\n",
    "\n",
    "\n",
    "ye=Select(driver.find_element_by_name(\"T6\"))\n",
    "ye.select_by_value(yearTaiwan)\n",
    "\n",
    "me=Select(driver.find_element_by_name(\"T7\"))\n",
    "me.select_by_value(lastMonth)\n",
    "\n",
    "de=Select(driver.find_element_by_name(\"T8\"))\n",
    "de.select_by_value(str(lastMonthFinal.day))\n",
    "\n",
    "driver.find_element_by_name(\"B1\").click()\n",
    "time.sleep(0.5)\n",
    "\n",
    "for i in driver.find_elements_by_css_selector(\"table\"):\n",
    "    for row in i.text.split(\"\\n\"):\n",
    "        if \"廢食用油遞送聯單\" in row.split(\" \"):\n",
    "            oilVolume=row.split(\" \")[-1]\n",
    "            print(row)\n",
    "            print(oilVolume)#"
   ]
  },
  {
   "cell_type": "code",
   "execution_count": 172,
   "metadata": {
    "collapsed": true
   },
   "outputs": [],
   "source": [
    "driver.back()\n",
    "driver.back()"
   ]
  },
  {
   "cell_type": "code",
   "execution_count": null,
   "metadata": {
    "collapsed": true
   },
   "outputs": [],
   "source": []
  },
  {
   "cell_type": "code",
   "execution_count": 173,
   "metadata": {
    "collapsed": true
   },
   "outputs": [],
   "source": [
    "# driver.switch_to.window(driver.window_handles[0])\n",
    "# driver.switch_to_default_content()\n",
    "# driver.switch_to_frame(0)\n",
    "# driver.find_element_by_link_text(\"基線資料\").click()\n",
    "\n",
    "# driver.switch_to_default_content()\n",
    "# driver.switch_to_frame(1)\n",
    "# time.sleep(0.3)\n",
    "# driver.find_element_by_link_text(\"廢棄物整體管制號碼設定\").click()\n",
    "\n",
    "# # #這裡部分可能不一樣＊＊＊＊＊＊＊＊＊＊＊＊＊＊＊＊＊＊＊＊＊＊＊＊＊＊＊＊＊＊＊＊＊\n",
    "# time.sleep(1)\n",
    "# driver.find_element_by_name(\"ctl00$ctl00$ContentPlaceHolder1$ContentPlaceHolderMain$BtnIns\").click()\n",
    "# #這裡部分可能不一樣＊＊＊＊＊＊＊＊＊＊＊＊＊＊＊＊＊＊＊＊＊＊＊＊＊＊＊＊＊＊＊＊＊\n",
    "\n",
    "# time.sleep(0.5)\n",
    "\n",
    "\n",
    "# #製造程序\n",
    "# driver.find_element_by_id(\"ProduceCode\").click()\n",
    "# driver.switch_to.window(driver.window_handles[len(driver.window_handles)-1]) #driver.window_handles可以列出目前開啟的頁面\n",
    "# numInput=driver.find_element_by_id(\"QueryWords\")\n",
    "# numInput.clear()\n",
    "# numInput.send_keys(str(560001))\n",
    "# button=driver.find_element_by_xpath(\"/html/body/div[1]/div[7]/div[2]/input[2]\")\n",
    "# if button.text==\"\":\n",
    "#     button.click()\n",
    "# time.sleep(0.5)\n",
    "# select=driver.find_element_by_xpath('//*[@id=\"ResultTable\"]/tbody/tr/td[2]')\n",
    "# if select.text==\"餐飲服務作業程序\":\n",
    "#     select.click()\n",
    "# driver.switch_to.window(driver.window_handles[0])\n",
    "# driver.switch_to_frame(1)\n",
    "\n",
    "# #廢棄物代碼\n",
    "# driver.find_element_by_id(\"Waste_no\").click()\n",
    "# driver.switch_to.window(driver.window_handles[len(driver.window_handles)-1])\n",
    "# numInput=driver.find_element_by_id(\"QueryWords\")\n",
    "# numInput.clear()\n",
    "# numInput.send_keys(\"R-0106\")\n",
    "# button=driver.find_element_by_xpath(\"/html/body/div[1]/div[7]/div[2]/input[2]\")\n",
    "# if button.text==\"\":\n",
    "#     button.click()\n",
    "# time.sleep(0.5)\n",
    "# select=driver.find_element_by_xpath('//*[@id=\"ResultTable\"]/tbody/tr/td[2]')\n",
    "# if select.text==\"廚餘\":\n",
    "#     select.click()\n",
    "# driver.switch_to.window(driver.window_handles[0])\n",
    "# driver.switch_to_frame(1)\n",
    "\n",
    "\n",
    "# #物種\n",
    "# driver.find_element_by_id(\"SpeciesCode\").click()\n",
    "# driver.switch_to.window(driver.window_handles[len(driver.window_handles)-1])\n",
    "# numInput=driver.find_element_by_id(\"QueryWords\")\n",
    "# numInput.clear()\n",
    "# numInput.send_keys(\"1804\")\n",
    "# button=driver.find_element_by_xpath(\"/html/body/div[1]/div[7]/div[2]/input[2]\")\n",
    "# if button.text==\"\":\n",
    "#     button.click()\n",
    "# time.sleep(0.5)\n",
    "# select=driver.find_element_by_xpath('//*[@id=\"ResultTable\"]/tbody/tr/td[2]')\n",
    "# if select.text==\"廚餘\":\n",
    "#     select.click()\n",
    "# driver.switch_to.window(driver.window_handles[0])\n",
    "# driver.switch_to_frame(1)\n",
    "\n",
    "# #物理性質\n",
    "# driver.find_element_by_id(\"PhysicalTypeCode\").click()\n",
    "# driver.find_element_by_xpath('//option[@value=\"P\"]').click()\n",
    "# driver.find_element_by_id(\"PhysicalTypeCode\").click()\n",
    "\n",
    "# #有害特性\n",
    "# driver.find_element_by_id(\"HazardousCharacterCode\").click()\n",
    "# driver.switch_to.window(driver.window_handles[len(driver.window_handles)-1])\n",
    "# driver.find_element_by_xpath(\"/html/body/div[1]/div[7]/div[2]/input[2]\").click()\n",
    "# driver.switch_to.window(driver.window_handles[0])\n",
    "# driver.switch_to_frame(1)\n",
    "\n",
    "# #主要(有害)成分\n",
    "# driver.find_element_by_id(\"HazardousIngredientCode\").click()\n",
    "# driver.switch_to.window(driver.window_handles[len(driver.window_handles)-1])\n",
    "# driver.find_element_by_xpath(\"/html/body/div[1]/div[7]/div[2]/input[4]\").click()\n",
    "# driver.switch_to.window(driver.window_handles[0])\n",
    "# driver.switch_to_frame(1)\n",
    "\n",
    "# #清理方式\n",
    "# driver.find_element_by_id(\"CleanWayCode\").click()\n",
    "# driver.switch_to.window(driver.window_handles[len(driver.window_handles)-1])\n",
    "# driver.find_element_by_xpath(\"/html/body/div[1]/div[7]/div[2]/a[2]\").click()\n",
    "# time.sleep(0.5)\n",
    "# select=driver.find_element_by_xpath('//*[@id=\"ResultTable\"]/tbody/tr[5]/td[2]')\n",
    "# if select.text=='將廢棄物作為再利用之飼料':\n",
    "#     select.click()\n",
    "# driver.switch_to.window(driver.window_handles[0])\n",
    "# driver.switch_to_frame(1)\n",
    "\n",
    "# #廢棄物顏色\n",
    "# driver.find_element_by_id(\"WColor\").send_keys(\"褐色\")\n",
    "\n",
    "# #平均產生量\n",
    "# avgQty=0.93 #需改為變數\n",
    "# avg=driver.find_element_by_id(\"Avg_Qty\")\n",
    "# avg.clear()\n",
    "# avg.send_keys(str(avgQty)) \n",
    "\n",
    "# #最大產出量\n",
    "# MaxQty=1 #需改為變數\n",
    "# Max=driver.find_element_by_id(\"Max_Qty\")\n",
    "# Max.clear()\n",
    "# Max.send_keys(str(MaxQty))\n",
    "\n",
    "# # driver.find_element_by_id(\"ContentPlaceHolder1_ContentPlaceHolderMain_BtnSave\").click() 正式之前不能解開"
   ]
  },
  {
   "cell_type": "markdown",
   "metadata": {},
   "source": [
    "# 廢油"
   ]
  },
  {
   "cell_type": "code",
   "execution_count": 174,
   "metadata": {
    "collapsed": true
   },
   "outputs": [],
   "source": [
    "driver.get(\"https://waste.epa.gov.tw/massbal/restaurant.asp\")"
   ]
  },
  {
   "cell_type": "code",
   "execution_count": 175,
   "metadata": {
    "collapsed": true
   },
   "outputs": [],
   "source": [
    "driver.find_element_by_name(\"app_year\").click()\n",
    "import datetime\n",
    "today = datetime.date.today()\n",
    "first = datetime.date(day=1, month=today.month, year=today.year)\n",
    "lastMonthFinal = first - datetime.timedelta(days=1)\n",
    "yearTaiwan=str(lastMonthFinal.year-1911)\n",
    "driver.find_element_by_xpath('//option[@value=\"' + yearTaiwan + '\"]').click()\n",
    "driver.find_element_by_name(\"app_year\").click()"
   ]
  },
  {
   "cell_type": "code",
   "execution_count": 176,
   "metadata": {
    "collapsed": true
   },
   "outputs": [],
   "source": [
    "driver.find_element_by_name(\"app_month\").click()\n",
    "import datetime\n",
    "now=datetime.datetime.now()\n",
    "monthTaiwan=str(now.month-1)\n",
    "if len(monthTaiwan)==1:\n",
    "    monthTaiwan=\"0\"+monthTaiwan\n",
    "driver.find_element_by_xpath('//option[@value=\"' + lastMonth + '\"]').click()\n",
    "driver.find_element_by_name(\"app_month\").click()"
   ]
  },
  {
   "cell_type": "code",
   "execution_count": 177,
   "metadata": {
    "collapsed": true
   },
   "outputs": [],
   "source": [
    "driver.find_elements_by_name(\"submit\")[0].click()"
   ]
  },
  {
   "cell_type": "code",
   "execution_count": null,
   "metadata": {},
   "outputs": [],
   "source": [
    "\n"
   ]
  },
  {
   "cell_type": "code",
   "execution_count": 178,
   "metadata": {},
   "outputs": [],
   "source": [
    "xxxx=100 #廚餘\n",
    "yyyy=200 #廢油\n",
    "if xxxx==0 and yyyy==0:\n",
    "    driver.find_element_by_link_text(\"本月無產出廢棄物(新設事業亦適用)\").click()\n",
    "    alert=driver.switch_to_alert()\n",
    "    alert.accept()\n",
    "    time.sleep(0.1)\n",
    "else:\n",
    "    driver.find_element_by_link_text(\"事業廢棄物產出種類、數量\").click()\n",
    "    time.sleep(0.5)\n",
    "    \n",
    "    \n",
    "    #這裡部分可能不一樣************************\n",
    "    for i in driver.find_elements_by_css_selector(\"tbody\"):\n",
    "        for j in i.find_elements_by_css_selector(\"tr\"):\n",
    "            if \"泥狀\" in j.text:\n",
    "                productInput=j.find_element_by_id(\"app_qty\")\n",
    "                productInput.clear()\n",
    "                productInput.send_keys(str(xxxx))\n",
    "                includeWaterInput=j.find_element_by_id(\"inwater\")\n",
    "                includeWaterInput.clear()\n",
    "                includeWaterInput.send_keys(\"0\")\n",
    "                j.find_element_by_id(\"chkWasteItem\").click()\n",
    "            if \"液狀\" in j.text:\n",
    "                productInput=j.find_element_by_id(\"app_qty\")\n",
    "                productInput.clear()\n",
    "                productInput.send_keys(str(yyyy))\n",
    "                includeWaterInput=j.find_element_by_id(\"inwater\")\n",
    "                includeWaterInput.clear()\n",
    "                includeWaterInput.send_keys(\"0\")\n",
    "                j.find_element_by_id(\"chkWasteItem\").click()\n",
    "    #這裡部分可能不一樣************************\n",
    "    # driver.find_element_by_name(\"B1\").click()\n",
    "#     alert=driver.switch_to_alert()\n",
    "#     alert.accept()\n",
    "#     time.sleep(0.1)"
   ]
  },
  {
   "cell_type": "code",
   "execution_count": null,
   "metadata": {
    "collapsed": true
   },
   "outputs": [],
   "source": []
  },
  {
   "cell_type": "code",
   "execution_count": 8,
   "metadata": {
    "collapsed": true
   },
   "outputs": [],
   "source": [
    "# import pandas as pd"
   ]
  },
  {
   "cell_type": "code",
   "execution_count": 9,
   "metadata": {
    "collapsed": true
   },
   "outputs": [],
   "source": [
    "# import sys\n",
    "# df=pd.read_excel(r\"C:\\Users\\andy.yuan\\Desktop\\食安自動化\\需要產出的資料格式.xlsx\", encoding=sys.getfilesystemencoding())"
   ]
  },
  {
   "cell_type": "code",
   "execution_count": 10,
   "metadata": {},
   "outputs": [
    {
     "name": "stdout",
     "output_type": "stream",
     "text": [
      "123.0\n",
      "223.0\n",
      "0.040000000000000036\n",
      "==================================================\n",
      "223.0\n",
      "123.0\n",
      "0.18\n",
      "==================================================\n",
      "321.0\n",
      "321.0\n",
      "0.81\n",
      "==================================================\n"
     ]
    }
   ],
   "source": [
    "# data=df.T.to_dict()\n",
    "# for i in range(len(df)-1):\n",
    "#     print(data[i][\"帳號\"])\n",
    "#     print(data[i][\"密碼\"])\n",
    "#     print(data[i][\"本月廢油產出量\"])\n",
    "#     print(\"=\"*50)"
   ]
  },
  {
   "cell_type": "code",
   "execution_count": null,
   "metadata": {
    "collapsed": true
   },
   "outputs": [],
   "source": []
  }
 ],
 "metadata": {
  "kernelspec": {
   "display_name": "Python 3",
   "language": "python",
   "name": "python3"
  },
  "language_info": {
   "codemirror_mode": {
    "name": "ipython",
    "version": 3
   },
   "file_extension": ".py",
   "mimetype": "text/x-python",
   "name": "python",
   "nbconvert_exporter": "python",
   "pygments_lexer": "ipython3",
   "version": "3.6.4"
  }
 },
 "nbformat": 4,
 "nbformat_minor": 2
}
