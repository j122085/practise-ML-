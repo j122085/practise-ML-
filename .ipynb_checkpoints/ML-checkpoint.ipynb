{
 "cells": [
  {
   "cell_type": "code",
   "execution_count": null,
   "metadata": {
    "collapsed": true
   },
   "outputs": [],
   "source": [
    "!pip install Theano"
   ]
  },
  {
   "cell_type": "code",
   "execution_count": null,
   "metadata": {
    "collapsed": true
   },
   "outputs": [],
   "source": [
    "!pip install keras"
   ]
  },
  {
   "cell_type": "code",
   "execution_count": null,
   "metadata": {
    "collapsed": true
   },
   "outputs": [],
   "source": [
    "!pip install H2O"
   ]
  },
  {
   "cell_type": "code",
   "execution_count": null,
   "metadata": {
    "collapsed": true
   },
   "outputs": [],
   "source": [
    "!pip install scikit-learn"
   ]
  },
  {
   "cell_type": "markdown",
   "metadata": {},
   "source": [
    "# 類神經 深度學習Ｐ２９　３０　３１"
   ]
  },
  {
   "cell_type": "code",
   "execution_count": null,
   "metadata": {
    "collapsed": true
   },
   "outputs": [],
   "source": [
    "from sklearn.neural_network.multilayer_perceptron import MLPClassifier"
   ]
  },
  {
   "cell_type": "code",
   "execution_count": null,
   "metadata": {
    "collapsed": true
   },
   "outputs": [],
   "source": [
    "from sklearn import datasets\n",
    "import numpy as np"
   ]
  },
  {
   "cell_type": "code",
   "execution_count": null,
   "metadata": {
    "collapsed": true
   },
   "outputs": [],
   "source": [
    "iris = datasets.load_iris()\n",
    "data=iris.data\n",
    "iris.data"
   ]
  },
  {
   "cell_type": "code",
   "execution_count": null,
   "metadata": {
    "collapsed": true,
    "scrolled": true
   },
   "outputs": [],
   "source": [
    "labels=iris.target\n",
    "labels"
   ]
  },
  {
   "cell_type": "code",
   "execution_count": null,
   "metadata": {
    "collapsed": true
   },
   "outputs": [],
   "source": [
    "mlp=MLPClassifier(random_state=1)\n",
    "mlp.fit(data,labels)"
   ]
  },
  {
   "cell_type": "code",
   "execution_count": null,
   "metadata": {
    "collapsed": true
   },
   "outputs": [],
   "source": [
    "#預測項目是哪類\n",
    "mlp.predict(np.array([[1,3,4,6],[4,3,1,2]]))"
   ]
  },
  {
   "cell_type": "code",
   "execution_count": null,
   "metadata": {
    "collapsed": true
   },
   "outputs": [],
   "source": [
    "#預測每個項目是哪類的機率 \n",
    "mlp.predict_proba(data)[1]"
   ]
  },
  {
   "cell_type": "code",
   "execution_count": null,
   "metadata": {
    "collapsed": true
   },
   "outputs": [],
   "source": [
    "pred=mlp.predict(data)\n",
    "#用accuracy_score計算與真實數據的正確率\n",
    "from sklearn.metrics import accuracy_score\n",
    "print(\"Accuracy: {}\".format(accuracy_score(labels,pred)))"
   ]
  },
  {
   "cell_type": "code",
   "execution_count": null,
   "metadata": {
    "collapsed": true
   },
   "outputs": [],
   "source": [
    "from sklearn.cross_validation import train_test_split\n",
    "from sklearn.preprocessing import StandardScaler"
   ]
  },
  {
   "cell_type": "code",
   "execution_count": null,
   "metadata": {
    "collapsed": true
   },
   "outputs": [],
   "source": [
    "#將資料分成訓練、測試集 其中測試集佔三成\n",
    "data_train, data_test, labels_train, labels_test =train_test_split(data,labels,test_size=0.3,random_state=1)"
   ]
  },
  {
   "cell_type": "code",
   "execution_count": null,
   "metadata": {
    "collapsed": true,
    "scrolled": true
   },
   "outputs": [],
   "source": [
    "len(data_train)"
   ]
  },
  {
   "cell_type": "code",
   "execution_count": null,
   "metadata": {
    "collapsed": true,
    "scrolled": true
   },
   "outputs": [],
   "source": [
    "len(data_test)"
   ]
  },
  {
   "cell_type": "code",
   "execution_count": null,
   "metadata": {
    "collapsed": true
   },
   "outputs": [],
   "source": [
    "#對數據做正規化的動作(減去平均值、縮放成一單位)，可以改進效能!!!\n",
    "scarler=StandardScaler()\n",
    "scarler.fit(data)\n",
    "data_train_std=scarler.transform(data_train)\n",
    "data_test_std=scarler.transform(data_test)"
   ]
  },
  {
   "cell_type": "code",
   "execution_count": null,
   "metadata": {
    "collapsed": true
   },
   "outputs": [],
   "source": [
    "#多層類神經網路分類器 ()\n",
    "    #random_state=1初始亂數值設定永遠相同 \n",
    "    #hidden_layer_sizes=(200,100)有兩層隱藏層，分別有200跟100個神經元 預設單層100\n",
    "    #activation='identity', 'logistic', 'tanh', 'relu' 啟動函數有四種 預設為'relu'\n",
    "        #'relu'預設，f(x)=max(0,x) 95%\n",
    "        #'logistic'f(x)=1/(1+exp(x)) 對事件的機率有興趣時使用 31%\n",
    "        #'identity'f(x)=x 97% \n",
    "        #'tanh'??? 97%\n",
    "    #max_iter=500跌代次數，重複訓練的次數 預設為200\n",
    "mlp=MLPClassifier(random_state=1,hidden_layer_sizes=(200,100,),activation=\"tanh\",max_iter=500)\n",
    "#訓練\n",
    "mlp.fit(data_train_std,labels_train)"
   ]
  },
  {
   "cell_type": "code",
   "execution_count": null,
   "metadata": {
    "collapsed": true
   },
   "outputs": [],
   "source": [
    "#預測\n",
    "pred=mlp.predict(data_test_std)\n",
    "print(\"Misclassified samples: {}\".format((labels_test != pred).sum()))\n",
    "print(\"Accuracy: {}\".format(accuracy_score(labels_test,pred)))"
   ]
  },
  {
   "cell_type": "code",
   "execution_count": null,
   "metadata": {
    "collapsed": true
   },
   "outputs": [],
   "source": [
    "#numpy_array可比較多項\n",
    "np.array([1,2,3])!=np.array([1,3,4])"
   ]
  },
  {
   "cell_type": "code",
   "execution_count": null,
   "metadata": {
    "collapsed": true
   },
   "outputs": [],
   "source": [
    "#可直接計算True數量\n",
    "(np.array([1,2,3])!=np.array([1,3,4])).sum()"
   ]
  },
  {
   "cell_type": "code",
   "execution_count": null,
   "metadata": {
    "collapsed": true
   },
   "outputs": [],
   "source": [
    "#array資料有兩維度，因此中括號內  逗號左邊是選擇外層的維度,右邊是內層維度，但如果該層不做篩選，要加上 : 而不能全部空白\n",
    "test=np.array([[1,2,3],[4,5,6],[7,8,9]])\n",
    "test"
   ]
  },
  {
   "cell_type": "code",
   "execution_count": null,
   "metadata": {
    "collapsed": true
   },
   "outputs": [],
   "source": [
    "test[0]"
   ]
  },
  {
   "cell_type": "code",
   "execution_count": null,
   "metadata": {
    "collapsed": true
   },
   "outputs": [],
   "source": [
    "test[:,0:2]"
   ]
  },
  {
   "cell_type": "code",
   "execution_count": null,
   "metadata": {
    "collapsed": true
   },
   "outputs": [],
   "source": [
    "test[0:2,0:2]"
   ]
  },
  {
   "cell_type": "code",
   "execution_count": null,
   "metadata": {
    "collapsed": true
   },
   "outputs": [],
   "source": [
    "import numpy\n",
    "import matplotlib.pyplot as plt\n",
    "weightValue=1000\n",
    "biasValue1=5000\n",
    "biasValue2=-5000\n",
    "x=np.array(range(-10,11))\n",
    "plt.axis([-10,10,-1,10])\n",
    "print(\"The step function starts at {} and ends at {}\".format(-biasValue1/weightValue,-biasValue2/weightValue))\n",
    "y1=1.0/(1.0+numpy.exp(-weightValue*x - biasValue1))\n",
    "y2=1.0/(1.0+numpy.exp(-weightValue*x - biasValue2))\n",
    "w=5\n",
    "y=y1*w-y2*w\n",
    "plt.plot(x,y,lw=2,color='black')\n",
    "plt.show()"
   ]
  },
  {
   "cell_type": "markdown",
   "metadata": {
    "collapsed": true
   },
   "source": [
    "# P66"
   ]
  },
  {
   "cell_type": "code",
   "execution_count": 3,
   "metadata": {
    "scrolled": true
   },
   "outputs": [
    {
     "name": "stdout",
     "output_type": "stream",
     "text": [
      "epochs: 0.0\n",
      "[0 0] -0.6642964316373768\n",
      "[0 1] -0.6320647770520225\n",
      "[1 0] -0.5590736880665277\n",
      "[1 1] -0.5990110776035805\n",
      "epochs: 1.0\n",
      "[0 0] -0.022337504624273665\n",
      "[0 1] 0.9812513297857843\n",
      "[1 0] 0.9722225841985531\n",
      "[1 1] 0.05387087432423936\n",
      "epochs: 2.0\n",
      "[0 0] -0.007275857449135356\n",
      "[0 1] 0.9917412453465713\n",
      "[1 0] 0.9880140216320502\n",
      "[1 1] -0.03021530769349236\n",
      "epochs: 3.0\n",
      "[0 0] 0.053952935537995274\n",
      "[0 1] 0.9954596590629602\n",
      "[1 0] 0.9938501871605775\n",
      "[1 1] 0.04457924894508775\n",
      "epochs: 4.0\n",
      "[0 0] -0.026529181640959576\n",
      "[0 1] 0.9963333122257487\n",
      "[1 0] 0.995294992204663\n",
      "[1 1] -0.038153061818120615\n",
      "epochs: 5.0\n",
      "[0 0] 0.000601546918552428\n",
      "[0 1] 0.997513370960284\n",
      "[1 0] 0.9963096660482478\n",
      "[1 1] -0.009529802176047176\n",
      "epochs: 6.0\n",
      "[0 0] 0.001212454027050221\n",
      "[0 1] 0.9979524323968508\n",
      "[1 0] 0.9970917431801261\n",
      "[1 1] 0.0010791419082502177\n",
      "epochs: 7.0\n",
      "[0 0] 0.0043477646630936655\n",
      "[0 1] 0.9984692222800945\n",
      "[1 0] 0.9975435902294911\n",
      "[1 1] 0.03874457018473771\n",
      "epochs: 8.0\n",
      "[0 0] 0.02919437752296852\n",
      "[0 1] 0.9986002263351588\n",
      "[1 0] 0.9978513196861025\n",
      "[1 1] -0.0014372863718893555\n",
      "epochs: 9.0\n",
      "[0 0] 0.06782810405707229\n",
      "[0 1] 0.9988784184606396\n",
      "[1 0] 0.9982320047527674\n",
      "[1 1] 0.09850245002145995\n",
      "Final prediction\n",
      "[0 0] 0.03647251096645274\n",
      "[0 1] 0.998912462912205\n",
      "[1 0] 0.9983911794450611\n",
      "[1 1] 0.03819196033419136\n"
     ]
    },
    {
     "data": {
      "image/png": "[encoded data removed]",
      "text/plain": [
       "<matplotlib.figure.Figure at 0x8f514e0>"
      ]
     },
     "metadata": {},
     "output_type": "display_data"
    }
   ],
   "source": [
    "import numpy\n",
    "from matplotlib.colors import ListedColormap\n",
    "import matplotlib.pyplot as plt\n",
    "\n",
    "def tanh(x):     \n",
    "    return (1.0 - numpy.exp(-2*x))/(1.0 + numpy.exp(-2*x))\n",
    "\n",
    "def tanh_derivative(x):     \n",
    "    return (1 + tanh(x))*(1 - tanh(x))\n",
    "    \n",
    "class NeuralNetwork:\n",
    "    #network consists of a list of integers, indicating \n",
    "    #the number of neurons in each layer\n",
    "    def __init__(self, net_arch): \n",
    "        numpy.random.seed(0)                  \n",
    "        self.activity = tanh         \n",
    "        self.activity_derivative = tanh_derivative \n",
    "        self.layers = len(net_arch)         \n",
    "        self.steps_per_epoch = 1200\n",
    "        self.arch = net_arch        \n",
    "\n",
    "        self.weights = []         \n",
    "        #range of weight values (-1,1)         \n",
    "        for layer in range(len(net_arch) - 1):             \n",
    "            w = 2*numpy.random.rand(net_arch[layer] + 1, net_arch[layer+1]) - 1           \n",
    "            self.weights.append(w)\n",
    "\n",
    "    def fit(self, data, labels, learning_rate=0.1, epochs=10):         \n",
    "        #Add bias units to the input layer         \n",
    "        ones = numpy.ones((1, data.shape[0]))        \n",
    "        Z = numpy.concatenate((ones.T, data), axis=1)\n",
    "        training = epochs*self.steps_per_epoch\n",
    "\n",
    "\n",
    "        for k in range(training):             \n",
    "            if k % self.steps_per_epoch == 0:                  \n",
    "                #print ('epochs:', k/self.steps_per_epoch)    \n",
    "                print('epochs: {}'.format(k/self.steps_per_epoch))              \n",
    "                for s in data:                     \n",
    "                    print(s, nn.predict(s))\n",
    "\n",
    "            sample = numpy.random.randint(data.shape[0])            \n",
    "            y = [Z[sample]] \n",
    "\n",
    "            for i in range(len(self.weights)-1):                     \n",
    "                activation = numpy.dot(y[i], self.weights[i])                         \n",
    "                activity = self.activity(activation)  \n",
    "                #add the bias for the next layer                     \n",
    "                activity = numpy.concatenate((numpy.ones(1), numpy.array(activity)))                      \n",
    "                y.append(activity)   \n",
    "             \n",
    "            #last layer              \n",
    "            activation = numpy.dot(y[-1], self.weights[-1])             \n",
    "            activity = self.activity(activation)             \n",
    "            y.append(activity)\n",
    "                    \n",
    "            #error for the output layer             \n",
    "            error = labels[sample] - y[-1]             \n",
    "            delta_vec = [error * self.activity_derivative(y[-1])] \n",
    "\n",
    "            #we need to begin from the back from the next to last layer\n",
    "            for i in range(self.layers-2, 0, -1):  \n",
    "                #delta_vec [1].dot(self.weights[i][1:].T)                \n",
    "                error = delta_vec[-1].dot(self.weights[i][1:].T) \n",
    "                error = error*self.activity_derivative(y[i][1:])               \n",
    "                delta_vec.append(error)\n",
    "\n",
    "            # reverse\n",
    "            # [level3(output)->level2(hidden)]  => [level2(hidden)->level3(output)]\n",
    "            delta_vec.reverse()\n",
    "\n",
    "            # backpropagation\n",
    "            # 1. Multiply its output delta and input activation \n",
    "            #    to get the gradient of the weight.\n",
    "            # 2. Subtract a ratio (percentage) of the gradient from the weight\n",
    "            for i in range(len(self.weights)):\n",
    "                layer = y[i].reshape(1, nn.arch[i]+1) \n",
    " \n",
    "                delta = delta_vec[i].reshape(1, nn.arch[i+1])\n",
    "                self.weights[i] += learning_rate * layer.T.dot(delta)\n",
    "\n",
    "    def predict(self, x): \n",
    "        val = numpy.concatenate((numpy.ones(1).T, numpy.array(x)))      \n",
    "        for i in range(0, len(self.weights)):\n",
    "            val = self.activity(numpy.dot(val, self.weights[i]))\n",
    "            val = numpy.concatenate((numpy.ones(1).T, numpy.array(val)))\n",
    "            \n",
    "        return val[1]\n",
    "\n",
    "    def plot_decision_regions(self, X, y, points=200):\n",
    "        markers = ('o', '^')\n",
    "        colors = ('red', 'blue')\n",
    "        cmap = ListedColormap(colors)\n",
    "        # plot the decision surface\n",
    "        x1_min, x1_max = X[:, 0].min() - 1, X[:, 0].max() + 1\n",
    "        x2_min, x2_max = X[:, 1].min() - 1, X[:, 1].max() + 1\n",
    "        \n",
    "        resolution = max(x1_max - x1_min, x2_max - x2_min)/float(points)\n",
    "        #resolution = 0.01\n",
    "     \n",
    "        xx1, xx2 = numpy.meshgrid(numpy.arange(x1_min, x1_max, resolution), numpy.arange(x2_min, x2_max, resolution))\n",
    "        input = numpy.array([xx1.ravel(), xx2.ravel()]).T \n",
    "        Z = numpy.empty(0)\n",
    "        for i in range(input.shape[0]):\n",
    "            val = nn.predict(numpy.array(input[i]))\n",
    "            if val < 0.5: val = 0 \n",
    "            if val >= 0.5: val = 1\n",
    "            Z = numpy.append(Z, val)\n",
    "\n",
    "        Z = Z.reshape(xx1.shape)\n",
    "        \n",
    "        plt.pcolormesh(xx1, xx2, Z, cmap=cmap)\n",
    "        plt.xlim(xx1.min(), xx1.max())\n",
    "        plt.ylim(xx2.min(), xx2.max())\n",
    "        # plot all samples\n",
    "\n",
    "        classes = [\"False\", \"True\"]\n",
    "        for idx, cl in enumerate(numpy.unique(y)):\n",
    "            plt.scatter(x=X[y == cl, 0], y=X[y == cl, 1], alpha=1.0, c=cmap(idx), marker=markers[idx], s=80, label=classes[idx])\n",
    "            \n",
    "        plt.xlabel('x-axis')            \n",
    "        plt.ylabel('y-axis')\n",
    "        plt.legend(loc='upper left')\n",
    "        plt.show()            \n",
    "\n",
    "if __name__ == '__main__':\n",
    "\n",
    "    nn = NeuralNetwork([2,4,2,1])\n",
    "\n",
    "    X = numpy.array([[0, 0],\n",
    "                     [0, 1],\n",
    "                     [1, 0],\n",
    "                     [1, 1]])\n",
    "\n",
    "    y = numpy.array([0, 1, 1, 0])\n",
    "\n",
    "    nn.fit(X, y, epochs=10)\n",
    "\n",
    "    print (\"Final prediction\")\n",
    "    for s in X:\n",
    "        print(s, nn.predict(s))\n",
    "        \n",
    "    nn.plot_decision_regions(X, y)"
   ]
  },
  {
   "cell_type": "markdown",
   "metadata": {
    "collapsed": true
   },
   "source": [
    "# 圖像辨識"
   ]
  },
  {
   "cell_type": "code",
   "execution_count": 27,
   "metadata": {
    "collapsed": true
   },
   "outputs": [],
   "source": [
    "from keras.datasets import mnist\n",
    "from keras.models import Sequential\n",
    "from keras.layers.core import Dense,Activation\n",
    "from keras.utils import np_utils"
   ]
  },
  {
   "cell_type": "code",
   "execution_count": 28,
   "metadata": {
    "collapsed": true,
    "scrolled": true
   },
   "outputs": [],
   "source": [
    "#數字圖資料集\n",
    "(X_train,Y_train),(X_test,Y_test)=mnist.load_data()"
   ]
  },
  {
   "cell_type": "code",
   "execution_count": 29,
   "metadata": {
    "scrolled": true
   },
   "outputs": [
    {
     "data": {
      "text/plain": [
       "array([  0,   0,   0,   0,   0,   0,   0,   0,   0,   0,   0,   0,   0,\n",
       "         0,   0,   0,   0,   0,   0,   0,   0,   0,   0,   0,   0,   0,\n",
       "         0,   0,   0,   0,   0,   0,   0,   0,   0,   0,   0,   0,   0,\n",
       "         0,   0,   0,   0,   0,   0,   0,   0,   0,   0,   0,   0,   0,\n",
       "         0,   0,   0,   0,   0,   0,   0,   0,   0,   0,   0,   0,   0,\n",
       "         0,   0,   0,   0,   0,   0,   0,   0,   0,   0,   0,   0,   0,\n",
       "         0,   0,   0,   0,   0,   0,   0,   0,   0,   0,   0,   0,   0,\n",
       "         0,   0,   0,   0,   0,   0,   0,   0,   0,   0,   0,   0,   0,\n",
       "         0,   0,   0,   0,   0,   0,   0,   0,   0,   0,   0,   0,   0,\n",
       "         0,   0,   0,   0,   0,   0,   0,   0,   0,   0,   0,   0,   0,\n",
       "         0,   0,   0,   0,   0,   0,   0,   0,   0,   0,   0,   0,   0,\n",
       "         0,   0,   0,   0,   0,   0,   0,   0,   0,   3,  18,  18,  18,\n",
       "       126, 136, 175,  26, 166, 255, 247, 127,   0,   0,   0,   0,   0,\n",
       "         0,   0,   0,   0,   0,   0,   0,  30,  36,  94, 154, 170, 253,\n",
       "       253, 253, 253, 253, 225, 172, 253, 242, 195,  64,   0,   0,   0,\n",
       "         0,   0,   0,   0,   0,   0,   0,   0,  49, 238, 253, 253, 253,\n",
       "       253, 253, 253, 253, 253, 251,  93,  82,  82,  56,  39,   0,   0,\n",
       "         0,   0,   0,   0,   0,   0,   0,   0,   0,   0,  18, 219, 253,\n",
       "       253, 253, 253, 253, 198, 182, 247, 241,   0,   0,   0,   0,   0,\n",
       "         0,   0,   0,   0,   0,   0,   0,   0,   0,   0,   0,   0,   0,\n",
       "        80, 156, 107, 253, 253, 205,  11,   0,  43, 154,   0,   0,   0,\n",
       "         0,   0,   0,   0,   0,   0,   0,   0,   0,   0,   0,   0,   0,\n",
       "         0,   0,   0,  14,   1, 154, 253,  90,   0,   0,   0,   0,   0,\n",
       "         0,   0,   0,   0,   0,   0,   0,   0,   0,   0,   0,   0,   0,\n",
       "         0,   0,   0,   0,   0,   0,   0, 139, 253, 190,   2,   0,   0,\n",
       "         0,   0,   0,   0,   0,   0,   0,   0,   0,   0,   0,   0,   0,\n",
       "         0,   0,   0,   0,   0,   0,   0,   0,   0,  11, 190, 253,  70,\n",
       "         0,   0,   0,   0,   0,   0,   0,   0,   0,   0,   0,   0,   0,\n",
       "         0,   0,   0,   0,   0,   0,   0,   0,   0,   0,   0,   0,  35,\n",
       "       241, 225, 160, 108,   1,   0,   0,   0,   0,   0,   0,   0,   0,\n",
       "         0,   0,   0,   0,   0,   0,   0,   0,   0,   0,   0,   0,   0,\n",
       "         0,   0,  81, 240, 253, 253, 119,  25,   0,   0,   0,   0,   0,\n",
       "         0,   0,   0,   0,   0,   0,   0,   0,   0,   0,   0,   0,   0,\n",
       "         0,   0,   0,   0,   0,  45, 186, 253, 253, 150,  27,   0,   0,\n",
       "         0,   0,   0,   0,   0,   0,   0,   0,   0,   0,   0,   0,   0,\n",
       "         0,   0,   0,   0,   0,   0,   0,   0,  16,  93, 252, 253, 187,\n",
       "         0,   0,   0,   0,   0,   0,   0,   0,   0,   0,   0,   0,   0,\n",
       "         0,   0,   0,   0,   0,   0,   0,   0,   0,   0,   0,   0, 249,\n",
       "       253, 249,  64,   0,   0,   0,   0,   0,   0,   0,   0,   0,   0,\n",
       "         0,   0,   0,   0,   0,   0,   0,   0,   0,   0,   0,  46, 130,\n",
       "       183, 253, 253, 207,   2,   0,   0,   0,   0,   0,   0,   0,   0,\n",
       "         0,   0,   0,   0,   0,   0,   0,   0,   0,   0,   0,  39, 148,\n",
       "       229, 253, 253, 253, 250, 182,   0,   0,   0,   0,   0,   0,   0,\n",
       "         0,   0,   0,   0,   0,   0,   0,   0,   0,   0,   0,  24, 114,\n",
       "       221, 253, 253, 253, 253, 201,  78,   0,   0,   0,   0,   0,   0,\n",
       "         0,   0,   0,   0,   0,   0,   0,   0,   0,   0,   0,  23,  66,\n",
       "       213, 253, 253, 253, 253, 198,  81,   2,   0,   0,   0,   0,   0,\n",
       "         0,   0,   0,   0,   0,   0,   0,   0,   0,   0,   0,  18, 171,\n",
       "       219, 253, 253, 253, 253, 195,  80,   9,   0,   0,   0,   0,   0,\n",
       "         0,   0,   0,   0,   0,   0,   0,   0,   0,   0,   0,  55, 172,\n",
       "       226, 253, 253, 253, 253, 244, 133,  11,   0,   0,   0,   0,   0,\n",
       "         0,   0,   0,   0,   0,   0,   0,   0,   0,   0,   0,   0,   0,\n",
       "       136, 253, 253, 253, 212, 135, 132,  16,   0,   0,   0,   0,   0,\n",
       "         0,   0,   0,   0,   0,   0,   0,   0,   0,   0,   0,   0,   0,\n",
       "         0,   0,   0,   0,   0,   0,   0,   0,   0,   0,   0,   0,   0,\n",
       "         0,   0,   0,   0,   0,   0,   0,   0,   0,   0,   0,   0,   0,\n",
       "         0,   0,   0,   0,   0,   0,   0,   0,   0,   0,   0,   0,   0,\n",
       "         0,   0,   0,   0,   0,   0,   0,   0,   0,   0,   0,   0,   0,\n",
       "         0,   0,   0,   0,   0,   0,   0,   0,   0,   0,   0,   0,   0,\n",
       "         0,   0,   0,   0,   0,   0,   0,   0,   0,   0,   0,   0,   0,\n",
       "         0,   0,   0,   0], dtype=uint8)"
      ]
     },
     "execution_count": 29,
     "metadata": {},
     "output_type": "execute_result"
    }
   ],
   "source": [
    "#將60000*28*28矩陣轉成60000*784\n",
    "X_train=X_train.reshape(60000,784)\n",
    "X_test=X_test.reshape(10000,784)\n",
    "X_train[0]"
   ]
  },
  {
   "cell_type": "code",
   "execution_count": 30,
   "metadata": {},
   "outputs": [
    {
     "data": {
      "text/plain": [
       "array([0., 0., 0., 0., 0., 1., 0., 0., 0., 0.])"
      ]
     },
     "execution_count": 30,
     "metadata": {},
     "output_type": "execute_result"
    }
   ],
   "source": [
    "#數字答案為0-9 轉換成0與1的元素向量  如4>[0,0,0,0,1,0,0,0,0,0] 、2>[0,0,1,0,0,0,0,0,0,0]\n",
    "classes=10\n",
    "Y_train=np_utils.to_categorical(Y_train,classes)\n",
    "Y_test=np_utils.to_categorical(Y_test,classes)\n",
    "Y_train[0]"
   ]
  },
  {
   "cell_type": "code",
   "execution_count": 43,
   "metadata": {
    "collapsed": true
   },
   "outputs": [],
   "source": [
    "input_size=784#像速\n",
    "batch_size=100#每批樣本大小\n",
    "hidden_neurons=50#隱藏層神經元\n",
    "epochs=300#處理幾輪\n",
    "# main(X_train,X_test,Y_train,Y_test)"
   ]
  },
  {
   "cell_type": "code",
   "execution_count": 44,
   "metadata": {
    "collapsed": true
   },
   "outputs": [],
   "source": [
    "model=Sequential()  #定義model\n",
    "model.add(Dense(hidden_neurons,input_dim=input_size)) #加入層(緊密層) 產出個數100. 輸入個數784 次元\n",
    "model.add(Activation('sigmoid')) #啟動函數\n",
    "model.add(Dense(classes,input_dim=hidden_neurons))  #加入層(緊密層) 產出個數10.輸入個數100 次元\n",
    "model.add(Activation(\"softmax\"))"
   ]
  },
  {
   "cell_type": "code",
   "execution_count": 45,
   "metadata": {
    "collapsed": true
   },
   "outputs": [],
   "source": [
    "#成本函數categorical_crossentropy(交叉熵)  最佳化工具sgd(梯度下降)\n",
    "model.compile(loss=\"categorical_crossentropy\",metrics=['accuracy'],optimizer='sgd')"
   ]
  },
  {
   "cell_type": "code",
   "execution_count": 46,
   "metadata": {
    "scrolled": true
   },
   "outputs": [
    {
     "name": "stderr",
     "output_type": "stream",
     "text": [
      "D:\\anaconda\\lib\\site-packages\\keras\\models.py:939: UserWarning: The `nb_epoch` argument in `fit` has been renamed `epochs`.\n",
      "  warnings.warn('The `nb_epoch` argument in `fit` '\n"
     ]
    },
    {
     "name": "stdout",
     "output_type": "stream",
     "text": [
      "Train on 48000 samples, validate on 12000 samples\n",
      "Epoch 1/300\n",
      "48000/48000 [==============================] - 2s 33us/step - loss: 1.1968 - acc: 0.6915 - val_loss: 0.7663 - val_acc: 0.8380\n",
      "Epoch 2/300\n",
      "48000/48000 [==============================] - 1s 26us/step - loss: 0.6804 - acc: 0.8481 - val_loss: 0.5631 - val_acc: 0.8776\n",
      "Epoch 3/300\n",
      "48000/48000 [==============================] - 1s 26us/step - loss: 0.5362 - acc: 0.8743 - val_loss: 0.4738 - val_acc: 0.8897\n",
      "Epoch 4/300\n",
      "48000/48000 [==============================] - 1s 27us/step - loss: 0.4650 - acc: 0.8861 - val_loss: 0.4127 - val_acc: 0.9000\n",
      "Epoch 5/300\n",
      "48000/48000 [==============================] - 1s 27us/step - loss: 0.4198 - acc: 0.8955 - val_loss: 0.3778 - val_acc: 0.9058\n",
      "Epoch 6/300\n",
      "48000/48000 [==============================] - 1s 25us/step - loss: 0.3877 - acc: 0.9020 - val_loss: 0.3649 - val_acc: 0.9091\n",
      "Epoch 7/300\n",
      "48000/48000 [==============================] - 1s 26us/step - loss: 0.3631 - acc: 0.9064 - val_loss: 0.3420 - val_acc: 0.9113\n",
      "Epoch 8/300\n",
      "48000/48000 [==============================] - 1s 26us/step - loss: 0.3483 - acc: 0.9094 - val_loss: 0.3317 - val_acc: 0.9144\n",
      "Epoch 9/300\n",
      "48000/48000 [==============================] - 1s 27us/step - loss: 0.3334 - acc: 0.9119 - val_loss: 0.3170 - val_acc: 0.9159\n",
      "Epoch 10/300\n",
      "48000/48000 [==============================] - 1s 27us/step - loss: 0.3188 - acc: 0.9144 - val_loss: 0.3007 - val_acc: 0.9183\n",
      "Epoch 11/300\n",
      "48000/48000 [==============================] - 1s 26us/step - loss: 0.3107 - acc: 0.9161 - val_loss: 0.3074 - val_acc: 0.9141\n",
      "Epoch 12/300\n",
      "48000/48000 [==============================] - 1s 27us/step - loss: 0.3024 - acc: 0.9189 - val_loss: 0.2868 - val_acc: 0.9219\n",
      "Epoch 13/300\n",
      "48000/48000 [==============================] - 1s 27us/step - loss: 0.2961 - acc: 0.9200 - val_loss: 0.2865 - val_acc: 0.9218\n",
      "Epoch 14/300\n",
      "48000/48000 [==============================] - 1s 27us/step - loss: 0.2903 - acc: 0.9211 - val_loss: 0.2794 - val_acc: 0.9238\n",
      "Epoch 15/300\n",
      "48000/48000 [==============================] - 1s 26us/step - loss: 0.2789 - acc: 0.9229 - val_loss: 0.2776 - val_acc: 0.9233\n",
      "Epoch 16/300\n",
      "48000/48000 [==============================] - 1s 26us/step - loss: 0.2745 - acc: 0.9251 - val_loss: 0.2684 - val_acc: 0.9263\n",
      "Epoch 17/300\n",
      "48000/48000 [==============================] - 1s 26us/step - loss: 0.2691 - acc: 0.9247 - val_loss: 0.2692 - val_acc: 0.9268\n",
      "Epoch 18/300\n",
      "48000/48000 [==============================] - 1s 27us/step - loss: 0.2625 - acc: 0.9264 - val_loss: 0.2638 - val_acc: 0.9267\n",
      "Epoch 19/300\n",
      "48000/48000 [==============================] - 1s 27us/step - loss: 0.2582 - acc: 0.9283 - val_loss: 0.2661 - val_acc: 0.9281\n",
      "Epoch 20/300\n",
      "48000/48000 [==============================] - 1s 27us/step - loss: 0.2576 - acc: 0.9281 - val_loss: 0.2593 - val_acc: 0.9283\n",
      "Epoch 21/300\n",
      "48000/48000 [==============================] - 1s 26us/step - loss: 0.2486 - acc: 0.9315 - val_loss: 0.2535 - val_acc: 0.9303\n",
      "Epoch 22/300\n",
      "48000/48000 [==============================] - 1s 26us/step - loss: 0.2450 - acc: 0.9319 - val_loss: 0.2543 - val_acc: 0.9268\n",
      "Epoch 23/300\n",
      "48000/48000 [==============================] - 1s 27us/step - loss: 0.2415 - acc: 0.9330 - val_loss: 0.2463 - val_acc: 0.9323\n",
      "Epoch 24/300\n",
      "48000/48000 [==============================] - 1s 27us/step - loss: 0.2409 - acc: 0.9321 - val_loss: 0.2456 - val_acc: 0.9322\n",
      "Epoch 25/300\n",
      "48000/48000 [==============================] - 1s 27us/step - loss: 0.2378 - acc: 0.9347 - val_loss: 0.2408 - val_acc: 0.9339\n",
      "Epoch 26/300\n",
      "48000/48000 [==============================] - 1s 27us/step - loss: 0.2357 - acc: 0.9340 - val_loss: 0.2441 - val_acc: 0.9332\n",
      "Epoch 27/300\n",
      "48000/48000 [==============================] - 1s 26us/step - loss: 0.2313 - acc: 0.9351 - val_loss: 0.2366 - val_acc: 0.9324\n",
      "Epoch 28/300\n",
      "48000/48000 [==============================] - 1s 27us/step - loss: 0.2298 - acc: 0.9350 - val_loss: 0.2355 - val_acc: 0.9323\n",
      "Epoch 29/300\n",
      "48000/48000 [==============================] - 1s 27us/step - loss: 0.2271 - acc: 0.9364 - val_loss: 0.2337 - val_acc: 0.9352\n",
      "Epoch 30/300\n",
      "48000/48000 [==============================] - 1s 27us/step - loss: 0.2245 - acc: 0.9367 - val_loss: 0.2386 - val_acc: 0.9322\n",
      "Epoch 31/300\n",
      "48000/48000 [==============================] - 1s 27us/step - loss: 0.2193 - acc: 0.9381 - val_loss: 0.2333 - val_acc: 0.9324\n",
      "Epoch 32/300\n",
      "48000/48000 [==============================] - 1s 26us/step - loss: 0.2168 - acc: 0.9396 - val_loss: 0.2287 - val_acc: 0.9348\n",
      "Epoch 33/300\n",
      "48000/48000 [==============================] - 1s 27us/step - loss: 0.2151 - acc: 0.9388 - val_loss: 0.2302 - val_acc: 0.9327\n",
      "Epoch 34/300\n",
      "48000/48000 [==============================] - 1s 27us/step - loss: 0.2121 - acc: 0.9396 - val_loss: 0.2255 - val_acc: 0.9358\n",
      "Epoch 35/300\n",
      "48000/48000 [==============================] - 1s 28us/step - loss: 0.2094 - acc: 0.9409 - val_loss: 0.2261 - val_acc: 0.9348\n",
      "Epoch 36/300\n",
      "48000/48000 [==============================] - 1s 27us/step - loss: 0.2092 - acc: 0.9415 - val_loss: 0.2287 - val_acc: 0.9334\n",
      "Epoch 37/300\n",
      "48000/48000 [==============================] - 1s 26us/step - loss: 0.2095 - acc: 0.9417 - val_loss: 0.2281 - val_acc: 0.9353\n",
      "Epoch 38/300\n",
      "48000/48000 [==============================] - 1s 26us/step - loss: 0.2091 - acc: 0.9414 - val_loss: 0.2187 - val_acc: 0.9365\n",
      "Epoch 39/300\n",
      "48000/48000 [==============================] - 1s 27us/step - loss: 0.2042 - acc: 0.9426 - val_loss: 0.2181 - val_acc: 0.9378\n",
      "Epoch 40/300\n",
      "48000/48000 [==============================] - 1s 27us/step - loss: 0.2005 - acc: 0.9430 - val_loss: 0.2146 - val_acc: 0.9376\n",
      "Epoch 41/300\n",
      "48000/48000 [==============================] - 1s 27us/step - loss: 0.1993 - acc: 0.9431 - val_loss: 0.2140 - val_acc: 0.9373\n",
      "Epoch 42/300\n",
      "48000/48000 [==============================] - 1s 26us/step - loss: 0.1960 - acc: 0.9438 - val_loss: 0.2118 - val_acc: 0.9366\n",
      "Epoch 43/300\n",
      "48000/48000 [==============================] - 1s 26us/step - loss: 0.1930 - acc: 0.9454 - val_loss: 0.2097 - val_acc: 0.9401\n",
      "Epoch 44/300\n",
      "48000/48000 [==============================] - 1s 27us/step - loss: 0.1971 - acc: 0.9439 - val_loss: 0.2082 - val_acc: 0.9398\n",
      "Epoch 45/300\n",
      "48000/48000 [==============================] - 1s 27us/step - loss: 0.1932 - acc: 0.9451 - val_loss: 0.2051 - val_acc: 0.9414\n",
      "Epoch 46/300\n",
      "48000/48000 [==============================] - 1s 27us/step - loss: 0.1902 - acc: 0.9464 - val_loss: 0.2107 - val_acc: 0.9394\n",
      "Epoch 47/300\n",
      "48000/48000 [==============================] - 1s 27us/step - loss: 0.1864 - acc: 0.9472 - val_loss: 0.2079 - val_acc: 0.9401\n",
      "Epoch 48/300\n",
      "48000/48000 [==============================] - 1s 27us/step - loss: 0.1852 - acc: 0.9473 - val_loss: 0.2086 - val_acc: 0.9393\n",
      "Epoch 49/300\n",
      "48000/48000 [==============================] - 1s 27us/step - loss: 0.1894 - acc: 0.9454 - val_loss: 0.2080 - val_acc: 0.9395\n",
      "Epoch 50/300\n",
      "48000/48000 [==============================] - 1s 28us/step - loss: 0.1847 - acc: 0.9482 - val_loss: 0.1997 - val_acc: 0.9428\n",
      "Epoch 51/300\n",
      "48000/48000 [==============================] - 1s 27us/step - loss: 0.1870 - acc: 0.9469 - val_loss: 0.2043 - val_acc: 0.9414\n",
      "Epoch 52/300\n",
      "48000/48000 [==============================] - 1s 27us/step - loss: 0.1817 - acc: 0.9485 - val_loss: 0.2050 - val_acc: 0.9408\n",
      "Epoch 53/300\n",
      "48000/48000 [==============================] - 1s 26us/step - loss: 0.1860 - acc: 0.9469 - val_loss: 0.2060 - val_acc: 0.9408\n",
      "Epoch 54/300\n",
      "48000/48000 [==============================] - 1s 27us/step - loss: 0.1811 - acc: 0.9489 - val_loss: 0.2038 - val_acc: 0.9400\n",
      "Epoch 55/300\n",
      "48000/48000 [==============================] - 1s 27us/step - loss: 0.1837 - acc: 0.9476 - val_loss: 0.2023 - val_acc: 0.9398\n",
      "Epoch 56/300\n",
      "48000/48000 [==============================] - 1s 28us/step - loss: 0.1818 - acc: 0.9475 - val_loss: 0.2021 - val_acc: 0.9393\n",
      "Epoch 57/300\n",
      "48000/48000 [==============================] - 1s 28us/step - loss: 0.1796 - acc: 0.9483 - val_loss: 0.1970 - val_acc: 0.9422\n",
      "Epoch 58/300\n",
      "48000/48000 [==============================] - 1s 28us/step - loss: 0.1803 - acc: 0.9479 - val_loss: 0.1970 - val_acc: 0.9442\n",
      "Epoch 59/300\n",
      "48000/48000 [==============================] - 1s 26us/step - loss: 0.1734 - acc: 0.9501 - val_loss: 0.1939 - val_acc: 0.9437\n",
      "Epoch 60/300\n",
      "48000/48000 [==============================] - 1s 26us/step - loss: 0.1728 - acc: 0.9500 - val_loss: 0.1953 - val_acc: 0.9418\n",
      "Epoch 61/300\n",
      "48000/48000 [==============================] - 1s 26us/step - loss: 0.1761 - acc: 0.9484 - val_loss: 0.1949 - val_acc: 0.9438\n",
      "Epoch 62/300\n",
      "48000/48000 [==============================] - 1s 25us/step - loss: 0.1732 - acc: 0.9500 - val_loss: 0.1995 - val_acc: 0.9419\n",
      "Epoch 63/300\n",
      "48000/48000 [==============================] - 1s 25us/step - loss: 0.1700 - acc: 0.9510 - val_loss: 0.1940 - val_acc: 0.9429\n",
      "Epoch 64/300\n",
      "48000/48000 [==============================] - 1s 25us/step - loss: 0.1677 - acc: 0.9511 - val_loss: 0.1905 - val_acc: 0.9451\n",
      "Epoch 65/300\n",
      "48000/48000 [==============================] - 1s 26us/step - loss: 0.1696 - acc: 0.9511 - val_loss: 0.1926 - val_acc: 0.9430\n",
      "Epoch 66/300\n",
      "48000/48000 [==============================] - 1s 26us/step - loss: 0.1716 - acc: 0.9509 - val_loss: 0.2001 - val_acc: 0.9428\n",
      "Epoch 67/300\n",
      "48000/48000 [==============================] - 1s 25us/step - loss: 0.1689 - acc: 0.9503 - val_loss: 0.1882 - val_acc: 0.9466\n",
      "Epoch 68/300\n",
      "48000/48000 [==============================] - 1s 25us/step - loss: 0.1665 - acc: 0.9521 - val_loss: 0.1947 - val_acc: 0.9423\n",
      "Epoch 69/300\n",
      "48000/48000 [==============================] - 1s 26us/step - loss: 0.1596 - acc: 0.9535 - val_loss: 0.1855 - val_acc: 0.9469\n",
      "Epoch 70/300\n",
      "48000/48000 [==============================] - 1s 25us/step - loss: 0.1624 - acc: 0.9530 - val_loss: 0.1866 - val_acc: 0.9462\n",
      "Epoch 71/300\n",
      "48000/48000 [==============================] - 1s 25us/step - loss: 0.1634 - acc: 0.9534 - val_loss: 0.1840 - val_acc: 0.9461\n",
      "Epoch 72/300\n",
      "48000/48000 [==============================] - 1s 25us/step - loss: 0.1589 - acc: 0.9540 - val_loss: 0.1849 - val_acc: 0.9465\n",
      "Epoch 73/300\n",
      "48000/48000 [==============================] - 1s 26us/step - loss: 0.1594 - acc: 0.9536 - val_loss: 0.1875 - val_acc: 0.9454\n",
      "Epoch 74/300\n",
      "48000/48000 [==============================] - 1s 26us/step - loss: 0.1590 - acc: 0.9544 - val_loss: 0.1917 - val_acc: 0.9434\n",
      "Epoch 75/300\n",
      "48000/48000 [==============================] - 1s 25us/step - loss: 0.1615 - acc: 0.9529 - val_loss: 0.1859 - val_acc: 0.9447\n",
      "Epoch 76/300\n",
      "48000/48000 [==============================] - 1s 25us/step - loss: 0.1566 - acc: 0.9546 - val_loss: 0.1854 - val_acc: 0.9456\n",
      "Epoch 77/300\n",
      "48000/48000 [==============================] - 1s 25us/step - loss: 0.1616 - acc: 0.9524 - val_loss: 0.1843 - val_acc: 0.9459\n",
      "Epoch 78/300\n",
      "48000/48000 [==============================] - 1s 26us/step - loss: 0.1546 - acc: 0.9555 - val_loss: 0.1861 - val_acc: 0.9457\n",
      "Epoch 79/300\n",
      "48000/48000 [==============================] - 1s 26us/step - loss: 0.1595 - acc: 0.9538 - val_loss: 0.1935 - val_acc: 0.9429\n",
      "Epoch 80/300\n",
      "48000/48000 [==============================] - 1s 25us/step - loss: 0.1568 - acc: 0.9548 - val_loss: 0.1834 - val_acc: 0.9477\n",
      "Epoch 81/300\n",
      "48000/48000 [==============================] - 1s 25us/step - loss: 0.1526 - acc: 0.9562 - val_loss: 0.1834 - val_acc: 0.9478\n",
      "Epoch 82/300\n",
      "48000/48000 [==============================] - 1s 26us/step - loss: 0.1533 - acc: 0.9555 - val_loss: 0.1799 - val_acc: 0.9484\n",
      "Epoch 83/300\n",
      "48000/48000 [==============================] - 1s 26us/step - loss: 0.1564 - acc: 0.9536 - val_loss: 0.1829 - val_acc: 0.9458\n",
      "Epoch 84/300\n",
      "48000/48000 [==============================] - 1s 26us/step - loss: 0.1569 - acc: 0.9538 - val_loss: 0.1857 - val_acc: 0.9450\n",
      "Epoch 85/300\n",
      "48000/48000 [==============================] - 1s 24us/step - loss: 0.1503 - acc: 0.9557 - val_loss: 0.1864 - val_acc: 0.9446\n",
      "Epoch 86/300\n",
      "48000/48000 [==============================] - 1s 25us/step - loss: 0.1510 - acc: 0.9557 - val_loss: 0.1828 - val_acc: 0.9452\n",
      "Epoch 87/300\n",
      "48000/48000 [==============================] - 1s 26us/step - loss: 0.1463 - acc: 0.9579 - val_loss: 0.1826 - val_acc: 0.9438\n",
      "Epoch 88/300\n",
      "48000/48000 [==============================] - 1s 28us/step - loss: 0.1462 - acc: 0.9571 - val_loss: 0.1811 - val_acc: 0.9454\n",
      "Epoch 89/300\n",
      "48000/48000 [==============================] - 1s 26us/step - loss: 0.1481 - acc: 0.9568 - val_loss: 0.1807 - val_acc: 0.9457\n",
      "Epoch 90/300\n",
      "48000/48000 [==============================] - 1s 26us/step - loss: 0.1472 - acc: 0.9570 - val_loss: 0.1814 - val_acc: 0.9457\n",
      "Epoch 91/300\n",
      "48000/48000 [==============================] - 1s 27us/step - loss: 0.1450 - acc: 0.9579 - val_loss: 0.1817 - val_acc: 0.9464\n",
      "Epoch 92/300\n",
      "48000/48000 [==============================] - 1s 27us/step - loss: 0.1453 - acc: 0.9578 - val_loss: 0.1776 - val_acc: 0.9457\n",
      "Epoch 93/300\n",
      "48000/48000 [==============================] - 1s 27us/step - loss: 0.1434 - acc: 0.9583 - val_loss: 0.1790 - val_acc: 0.9468\n",
      "Epoch 94/300\n",
      "48000/48000 [==============================] - 1s 27us/step - loss: 0.1438 - acc: 0.9577 - val_loss: 0.1825 - val_acc: 0.9459\n",
      "Epoch 95/300\n",
      "48000/48000 [==============================] - 1s 27us/step - loss: 0.1453 - acc: 0.9574 - val_loss: 0.1836 - val_acc: 0.9452\n",
      "Epoch 96/300\n",
      "48000/48000 [==============================] - 1s 26us/step - loss: 0.1442 - acc: 0.9585 - val_loss: 0.1833 - val_acc: 0.9422\n",
      "Epoch 97/300\n",
      "48000/48000 [==============================] - 1s 27us/step - loss: 0.1430 - acc: 0.9579 - val_loss: 0.1828 - val_acc: 0.9458\n",
      "Epoch 98/300\n",
      "48000/48000 [==============================] - 1s 27us/step - loss: 0.1454 - acc: 0.9568 - val_loss: 0.1753 - val_acc: 0.9473\n",
      "Epoch 99/300\n",
      "48000/48000 [==============================] - 1s 27us/step - loss: 0.1439 - acc: 0.9568 - val_loss: 0.1783 - val_acc: 0.9469\n",
      "Epoch 100/300\n",
      "48000/48000 [==============================] - 1s 27us/step - loss: 0.1389 - acc: 0.9595 - val_loss: 0.1786 - val_acc: 0.9466\n",
      "Epoch 101/300\n",
      "48000/48000 [==============================] - 1s 26us/step - loss: 0.1417 - acc: 0.9587 - val_loss: 0.1808 - val_acc: 0.9465\n",
      "Epoch 102/300\n",
      "48000/48000 [==============================] - 1s 27us/step - loss: 0.1394 - acc: 0.9599 - val_loss: 0.1768 - val_acc: 0.9480\n",
      "Epoch 103/300\n",
      "48000/48000 [==============================] - 1s 27us/step - loss: 0.1407 - acc: 0.9593 - val_loss: 0.1720 - val_acc: 0.9492\n",
      "Epoch 104/300\n",
      "48000/48000 [==============================] - 1s 27us/step - loss: 0.1361 - acc: 0.9609 - val_loss: 0.1761 - val_acc: 0.9466\n",
      "Epoch 105/300\n",
      "48000/48000 [==============================] - 1s 27us/step - loss: 0.1336 - acc: 0.9610 - val_loss: 0.1720 - val_acc: 0.9485\n",
      "Epoch 106/300\n",
      "48000/48000 [==============================] - 1s 26us/step - loss: 0.1354 - acc: 0.9610 - val_loss: 0.1733 - val_acc: 0.9484\n",
      "Epoch 107/300\n",
      "48000/48000 [==============================] - 1s 26us/step - loss: 0.1372 - acc: 0.9601 - val_loss: 0.1770 - val_acc: 0.9466\n",
      "Epoch 108/300\n",
      "48000/48000 [==============================] - 1s 27us/step - loss: 0.1389 - acc: 0.9585 - val_loss: 0.1682 - val_acc: 0.9499\n",
      "Epoch 109/300\n",
      "48000/48000 [==============================] - 1s 27us/step - loss: 0.1368 - acc: 0.9605 - val_loss: 0.1727 - val_acc: 0.9461\n",
      "Epoch 110/300\n",
      "48000/48000 [==============================] - 1s 27us/step - loss: 0.1326 - acc: 0.9608 - val_loss: 0.1712 - val_acc: 0.9492\n",
      "Epoch 111/300\n",
      "48000/48000 [==============================] - 1s 27us/step - loss: 0.1347 - acc: 0.9613 - val_loss: 0.1816 - val_acc: 0.9466\n",
      "Epoch 112/300\n",
      "48000/48000 [==============================] - 1s 26us/step - loss: 0.1314 - acc: 0.9621 - val_loss: 0.1690 - val_acc: 0.9500\n",
      "Epoch 113/300\n",
      "48000/48000 [==============================] - 1s 27us/step - loss: 0.1351 - acc: 0.9609 - val_loss: 0.1740 - val_acc: 0.9477\n",
      "Epoch 114/300\n",
      "48000/48000 [==============================] - 1s 27us/step - loss: 0.1334 - acc: 0.9605 - val_loss: 0.1684 - val_acc: 0.9498\n",
      "Epoch 115/300\n",
      "48000/48000 [==============================] - 1s 27us/step - loss: 0.1366 - acc: 0.9599 - val_loss: 0.1734 - val_acc: 0.9482\n",
      "Epoch 116/300\n",
      "48000/48000 [==============================] - 1s 27us/step - loss: 0.1367 - acc: 0.9594 - val_loss: 0.1764 - val_acc: 0.9493\n",
      "Epoch 117/300\n",
      "48000/48000 [==============================] - 1s 27us/step - loss: 0.1312 - acc: 0.9619 - val_loss: 0.1737 - val_acc: 0.9493\n"
     ]
    },
    {
     "name": "stdout",
     "output_type": "stream",
     "text": [
      "Epoch 118/300\n",
      "48000/48000 [==============================] - 1s 26us/step - loss: 0.1280 - acc: 0.9639 - val_loss: 0.1685 - val_acc: 0.9508\n",
      "Epoch 119/300\n",
      "48000/48000 [==============================] - 1s 26us/step - loss: 0.1288 - acc: 0.9630 - val_loss: 0.1661 - val_acc: 0.9515\n",
      "Epoch 120/300\n",
      "48000/48000 [==============================] - 1s 25us/step - loss: 0.1264 - acc: 0.9626 - val_loss: 0.1666 - val_acc: 0.9516\n",
      "Epoch 121/300\n",
      "48000/48000 [==============================] - 1s 25us/step - loss: 0.1279 - acc: 0.9626 - val_loss: 0.1707 - val_acc: 0.9481\n",
      "Epoch 122/300\n",
      "48000/48000 [==============================] - 1s 25us/step - loss: 0.1260 - acc: 0.9630 - val_loss: 0.1710 - val_acc: 0.9492\n",
      "Epoch 123/300\n",
      "48000/48000 [==============================] - 1s 26us/step - loss: 0.1290 - acc: 0.9624 - val_loss: 0.1669 - val_acc: 0.9503\n",
      "Epoch 124/300\n",
      "48000/48000 [==============================] - 1s 25us/step - loss: 0.1230 - acc: 0.9645 - val_loss: 0.1703 - val_acc: 0.9489\n",
      "Epoch 125/300\n",
      "48000/48000 [==============================] - 1s 27us/step - loss: 0.1266 - acc: 0.9635 - val_loss: 0.1737 - val_acc: 0.9478\n",
      "Epoch 126/300\n",
      "48000/48000 [==============================] - 1s 25us/step - loss: 0.1293 - acc: 0.9629 - val_loss: 0.1711 - val_acc: 0.9488\n",
      "Epoch 127/300\n",
      "48000/48000 [==============================] - 1s 25us/step - loss: 0.1279 - acc: 0.9619 - val_loss: 0.1647 - val_acc: 0.9504\n",
      "Epoch 128/300\n",
      "48000/48000 [==============================] - 1s 25us/step - loss: 0.1284 - acc: 0.9628 - val_loss: 0.1777 - val_acc: 0.9465\n",
      "Epoch 129/300\n",
      "48000/48000 [==============================] - 1s 26us/step - loss: 0.1317 - acc: 0.9618 - val_loss: 0.1682 - val_acc: 0.9505\n",
      "Epoch 130/300\n",
      "48000/48000 [==============================] - 1s 25us/step - loss: 0.1261 - acc: 0.9632 - val_loss: 0.1694 - val_acc: 0.9508\n",
      "Epoch 131/300\n",
      "48000/48000 [==============================] - 1s 27us/step - loss: 0.1244 - acc: 0.9629 - val_loss: 0.1732 - val_acc: 0.9490\n",
      "Epoch 132/300\n",
      "48000/48000 [==============================] - 1s 27us/step - loss: 0.1270 - acc: 0.9625 - val_loss: 0.1686 - val_acc: 0.9475\n",
      "Epoch 133/300\n",
      "48000/48000 [==============================] - 1s 29us/step - loss: 0.1219 - acc: 0.9647 - val_loss: 0.1662 - val_acc: 0.9498\n",
      "Epoch 134/300\n",
      "48000/48000 [==============================] - 1s 27us/step - loss: 0.1202 - acc: 0.9646 - val_loss: 0.1694 - val_acc: 0.9486\n",
      "Epoch 135/300\n",
      "48000/48000 [==============================] - 1s 26us/step - loss: 0.1253 - acc: 0.9636 - val_loss: 0.1678 - val_acc: 0.9493\n",
      "Epoch 136/300\n",
      "48000/48000 [==============================] - 1s 26us/step - loss: 0.1273 - acc: 0.9628 - val_loss: 0.1712 - val_acc: 0.9483\n",
      "Epoch 137/300\n",
      "48000/48000 [==============================] - 1s 27us/step - loss: 0.1215 - acc: 0.9646 - val_loss: 0.1665 - val_acc: 0.9483\n",
      "Epoch 138/300\n",
      "48000/48000 [==============================] - 1s 27us/step - loss: 0.1203 - acc: 0.9658 - val_loss: 0.1655 - val_acc: 0.9508\n",
      "Epoch 139/300\n",
      "48000/48000 [==============================] - 1s 27us/step - loss: 0.1225 - acc: 0.9640 - val_loss: 0.1672 - val_acc: 0.9498\n",
      "Epoch 140/300\n",
      "48000/48000 [==============================] - 1s 27us/step - loss: 0.1222 - acc: 0.9646 - val_loss: 0.1674 - val_acc: 0.9510\n",
      "Epoch 141/300\n",
      "48000/48000 [==============================] - 1s 26us/step - loss: 0.1212 - acc: 0.9651 - val_loss: 0.1692 - val_acc: 0.9500\n",
      "Epoch 142/300\n",
      "48000/48000 [==============================] - 1s 27us/step - loss: 0.1170 - acc: 0.9663 - val_loss: 0.1660 - val_acc: 0.9508\n",
      "Epoch 143/300\n",
      "48000/48000 [==============================] - 1s 27us/step - loss: 0.1155 - acc: 0.9669 - val_loss: 0.1633 - val_acc: 0.9501\n",
      "Epoch 144/300\n",
      "48000/48000 [==============================] - 1s 28us/step - loss: 0.1183 - acc: 0.9653 - val_loss: 0.1675 - val_acc: 0.9505\n",
      "Epoch 145/300\n",
      "48000/48000 [==============================] - 1s 27us/step - loss: 0.1191 - acc: 0.9651 - val_loss: 0.1668 - val_acc: 0.9502\n",
      "Epoch 146/300\n",
      "48000/48000 [==============================] - 1s 26us/step - loss: 0.1142 - acc: 0.9658 - val_loss: 0.1639 - val_acc: 0.9527\n",
      "Epoch 147/300\n",
      "48000/48000 [==============================] - 1s 27us/step - loss: 0.1134 - acc: 0.9668 - val_loss: 0.1659 - val_acc: 0.9503\n",
      "Epoch 148/300\n",
      "48000/48000 [==============================] - 1s 27us/step - loss: 0.1178 - acc: 0.9662 - val_loss: 0.1693 - val_acc: 0.9497\n",
      "Epoch 149/300\n",
      "48000/48000 [==============================] - 1s 27us/step - loss: 0.1151 - acc: 0.9668 - val_loss: 0.1674 - val_acc: 0.9502\n",
      "Epoch 150/300\n",
      "48000/48000 [==============================] - 1s 27us/step - loss: 0.1171 - acc: 0.9654 - val_loss: 0.1706 - val_acc: 0.9488\n",
      "Epoch 151/300\n",
      "48000/48000 [==============================] - 1s 26us/step - loss: 0.1157 - acc: 0.9663 - val_loss: 0.1671 - val_acc: 0.9484\n",
      "Epoch 152/300\n",
      "48000/48000 [==============================] - 1s 26us/step - loss: 0.1158 - acc: 0.9664 - val_loss: 0.1685 - val_acc: 0.9497\n",
      "Epoch 153/300\n",
      "48000/48000 [==============================] - 1s 27us/step - loss: 0.1134 - acc: 0.9678 - val_loss: 0.1661 - val_acc: 0.9529\n",
      "Epoch 154/300\n",
      "48000/48000 [==============================] - 1s 27us/step - loss: 0.1140 - acc: 0.9669 - val_loss: 0.1703 - val_acc: 0.9499\n",
      "Epoch 155/300\n",
      "48000/48000 [==============================] - 1s 26us/step - loss: 0.1170 - acc: 0.9654 - val_loss: 0.1698 - val_acc: 0.9488\n",
      "Epoch 156/300\n",
      "48000/48000 [==============================] - 1s 26us/step - loss: 0.1216 - acc: 0.9639 - val_loss: 0.1727 - val_acc: 0.9494\n",
      "Epoch 157/300\n",
      "48000/48000 [==============================] - 1s 26us/step - loss: 0.1183 - acc: 0.9651 - val_loss: 0.1691 - val_acc: 0.9502\n",
      "Epoch 158/300\n",
      "48000/48000 [==============================] - 1s 27us/step - loss: 0.1134 - acc: 0.9670 - val_loss: 0.1727 - val_acc: 0.9494\n",
      "Epoch 159/300\n",
      "48000/48000 [==============================] - 1s 27us/step - loss: 0.1144 - acc: 0.9663 - val_loss: 0.1666 - val_acc: 0.9480\n",
      "Epoch 160/300\n",
      "48000/48000 [==============================] - 1s 27us/step - loss: 0.1159 - acc: 0.9657 - val_loss: 0.1671 - val_acc: 0.9492\n",
      "Epoch 161/300\n",
      "48000/48000 [==============================] - 1s 27us/step - loss: 0.1179 - acc: 0.9647 - val_loss: 0.1680 - val_acc: 0.9487\n",
      "Epoch 162/300\n",
      "48000/48000 [==============================] - 1s 27us/step - loss: 0.1179 - acc: 0.9646 - val_loss: 0.1681 - val_acc: 0.9489\n",
      "Epoch 163/300\n",
      "48000/48000 [==============================] - 1s 27us/step - loss: 0.1175 - acc: 0.9656 - val_loss: 0.1704 - val_acc: 0.9478\n",
      "Epoch 164/300\n",
      "48000/48000 [==============================] - 1s 27us/step - loss: 0.1133 - acc: 0.9669 - val_loss: 0.1657 - val_acc: 0.9486\n",
      "Epoch 165/300\n",
      "48000/48000 [==============================] - 1s 28us/step - loss: 0.1093 - acc: 0.9674 - val_loss: 0.1688 - val_acc: 0.9482\n",
      "Epoch 166/300\n",
      "48000/48000 [==============================] - 1s 28us/step - loss: 0.1123 - acc: 0.9672 - val_loss: 0.1645 - val_acc: 0.9511\n",
      "Epoch 167/300\n",
      "48000/48000 [==============================] - 1s 27us/step - loss: 0.1107 - acc: 0.9674 - val_loss: 0.1663 - val_acc: 0.9496\n",
      "Epoch 168/300\n",
      "48000/48000 [==============================] - 1s 27us/step - loss: 0.1124 - acc: 0.9668 - val_loss: 0.1621 - val_acc: 0.9506\n",
      "Epoch 169/300\n",
      "48000/48000 [==============================] - 1s 28us/step - loss: 0.1095 - acc: 0.9681 - val_loss: 0.1667 - val_acc: 0.9496\n",
      "Epoch 170/300\n",
      "48000/48000 [==============================] - 1s 28us/step - loss: 0.1063 - acc: 0.9697 - val_loss: 0.1607 - val_acc: 0.9518\n",
      "Epoch 171/300\n",
      "48000/48000 [==============================] - 1s 28us/step - loss: 0.1107 - acc: 0.9674 - val_loss: 0.1700 - val_acc: 0.9483\n",
      "Epoch 172/300\n",
      "48000/48000 [==============================] - 1s 28us/step - loss: 0.1071 - acc: 0.9687 - val_loss: 0.1666 - val_acc: 0.9500\n",
      "Epoch 173/300\n",
      "48000/48000 [==============================] - 1s 27us/step - loss: 0.1115 - acc: 0.9673 - val_loss: 0.1651 - val_acc: 0.9498\n",
      "Epoch 174/300\n",
      "48000/48000 [==============================] - 1s 27us/step - loss: 0.1041 - acc: 0.9698 - val_loss: 0.1603 - val_acc: 0.9518\n",
      "Epoch 175/300\n",
      "48000/48000 [==============================] - 1s 28us/step - loss: 0.1047 - acc: 0.9687 - val_loss: 0.1645 - val_acc: 0.9506\n",
      "Epoch 176/300\n",
      "48000/48000 [==============================] - 1s 26us/step - loss: 0.1065 - acc: 0.9683 - val_loss: 0.1626 - val_acc: 0.9533\n",
      "Epoch 177/300\n",
      "48000/48000 [==============================] - 1s 25us/step - loss: 0.1077 - acc: 0.9689 - val_loss: 0.1656 - val_acc: 0.9503\n",
      "Epoch 178/300\n",
      "48000/48000 [==============================] - 1s 25us/step - loss: 0.1073 - acc: 0.9685 - val_loss: 0.1630 - val_acc: 0.9518\n",
      "Epoch 179/300\n",
      "48000/48000 [==============================] - 1s 25us/step - loss: 0.1092 - acc: 0.9679 - val_loss: 0.1633 - val_acc: 0.9508\n",
      "Epoch 180/300\n",
      "48000/48000 [==============================] - 1s 26us/step - loss: 0.1091 - acc: 0.9674 - val_loss: 0.1655 - val_acc: 0.9503\n",
      "Epoch 181/300\n",
      "48000/48000 [==============================] - 1s 25us/step - loss: 0.1093 - acc: 0.9673 - val_loss: 0.1670 - val_acc: 0.9512\n",
      "Epoch 182/300\n",
      "48000/48000 [==============================] - 1s 25us/step - loss: 0.1082 - acc: 0.9677 - val_loss: 0.1649 - val_acc: 0.9511\n",
      "Epoch 183/300\n",
      "48000/48000 [==============================] - 1s 26us/step - loss: 0.1023 - acc: 0.9701 - val_loss: 0.1628 - val_acc: 0.9514\n",
      "Epoch 184/300\n",
      "48000/48000 [==============================] - 1s 27us/step - loss: 0.1024 - acc: 0.9703 - val_loss: 0.1661 - val_acc: 0.9497\n",
      "Epoch 185/300\n",
      "48000/48000 [==============================] - 1s 27us/step - loss: 0.1086 - acc: 0.9679 - val_loss: 0.1656 - val_acc: 0.9510\n",
      "Epoch 186/300\n",
      "48000/48000 [==============================] - 1s 25us/step - loss: 0.1075 - acc: 0.9682 - val_loss: 0.1614 - val_acc: 0.9526\n",
      "Epoch 187/300\n",
      "48000/48000 [==============================] - 1s 25us/step - loss: 0.1002 - acc: 0.9710 - val_loss: 0.1576 - val_acc: 0.9538\n",
      "Epoch 188/300\n",
      "48000/48000 [==============================] - 1s 26us/step - loss: 0.0996 - acc: 0.9707 - val_loss: 0.1607 - val_acc: 0.9520\n",
      "Epoch 189/300\n",
      "48000/48000 [==============================] - 1s 26us/step - loss: 0.0997 - acc: 0.9710 - val_loss: 0.1621 - val_acc: 0.9515\n",
      "Epoch 190/300\n",
      "48000/48000 [==============================] - 1s 26us/step - loss: 0.1002 - acc: 0.9712 - val_loss: 0.1616 - val_acc: 0.9531\n",
      "Epoch 191/300\n",
      "48000/48000 [==============================] - 1s 27us/step - loss: 0.1001 - acc: 0.9708 - val_loss: 0.1631 - val_acc: 0.9520\n",
      "Epoch 192/300\n",
      "48000/48000 [==============================] - 1s 26us/step - loss: 0.1009 - acc: 0.9711 - val_loss: 0.1608 - val_acc: 0.9523\n",
      "Epoch 193/300\n",
      "48000/48000 [==============================] - 1s 25us/step - loss: 0.1015 - acc: 0.9715 - val_loss: 0.1633 - val_acc: 0.9518\n",
      "Epoch 194/300\n",
      "48000/48000 [==============================] - 1s 26us/step - loss: 0.1026 - acc: 0.9698 - val_loss: 0.1625 - val_acc: 0.9523\n",
      "Epoch 195/300\n",
      "48000/48000 [==============================] - 1s 26us/step - loss: 0.1064 - acc: 0.9680 - val_loss: 0.1631 - val_acc: 0.9512\n",
      "Epoch 196/300\n",
      "48000/48000 [==============================] - 1s 26us/step - loss: 0.1006 - acc: 0.9710 - val_loss: 0.1637 - val_acc: 0.9505\n",
      "Epoch 197/300\n",
      "48000/48000 [==============================] - 1s 25us/step - loss: 0.1028 - acc: 0.9702 - val_loss: 0.1580 - val_acc: 0.9518\n",
      "Epoch 198/300\n",
      "48000/48000 [==============================] - 1s 26us/step - loss: 0.0985 - acc: 0.9711 - val_loss: 0.1571 - val_acc: 0.9539\n",
      "Epoch 199/300\n",
      "48000/48000 [==============================] - 1s 26us/step - loss: 0.0997 - acc: 0.9710 - val_loss: 0.1593 - val_acc: 0.9523\n",
      "Epoch 200/300\n",
      "48000/48000 [==============================] - 1s 25us/step - loss: 0.0987 - acc: 0.9708 - val_loss: 0.1537 - val_acc: 0.9548\n",
      "Epoch 201/300\n",
      "48000/48000 [==============================] - 1s 25us/step - loss: 0.0959 - acc: 0.9720 - val_loss: 0.1576 - val_acc: 0.9516\n",
      "Epoch 202/300\n",
      "48000/48000 [==============================] - 1s 25us/step - loss: 0.0969 - acc: 0.9715 - val_loss: 0.1629 - val_acc: 0.9516\n",
      "Epoch 203/300\n",
      "48000/48000 [==============================] - 1s 26us/step - loss: 0.0992 - acc: 0.9712 - val_loss: 0.1600 - val_acc: 0.9528\n",
      "Epoch 204/300\n",
      "48000/48000 [==============================] - 1s 26us/step - loss: 0.0989 - acc: 0.9714 - val_loss: 0.1536 - val_acc: 0.9553\n",
      "Epoch 205/300\n",
      "48000/48000 [==============================] - 1s 25us/step - loss: 0.0978 - acc: 0.9717 - val_loss: 0.1589 - val_acc: 0.9524\n",
      "Epoch 206/300\n",
      "48000/48000 [==============================] - 1s 25us/step - loss: 0.0955 - acc: 0.9721 - val_loss: 0.1506 - val_acc: 0.9540\n",
      "Epoch 207/300\n",
      "48000/48000 [==============================] - 1s 26us/step - loss: 0.0947 - acc: 0.9723 - val_loss: 0.1583 - val_acc: 0.9517\n",
      "Epoch 208/300\n",
      "48000/48000 [==============================] - 1s 26us/step - loss: 0.0949 - acc: 0.9732 - val_loss: 0.1566 - val_acc: 0.9542\n",
      "Epoch 209/300\n",
      "48000/48000 [==============================] - 1s 25us/step - loss: 0.0952 - acc: 0.9728 - val_loss: 0.1574 - val_acc: 0.9518\n",
      "Epoch 210/300\n",
      "48000/48000 [==============================] - 1s 25us/step - loss: 0.0951 - acc: 0.9718 - val_loss: 0.1576 - val_acc: 0.9548\n",
      "Epoch 211/300\n",
      "48000/48000 [==============================] - 1s 26us/step - loss: 0.0961 - acc: 0.9721 - val_loss: 0.1593 - val_acc: 0.9535\n",
      "Epoch 212/300\n",
      "48000/48000 [==============================] - 1s 26us/step - loss: 0.0966 - acc: 0.9715 - val_loss: 0.1594 - val_acc: 0.9534\n",
      "Epoch 213/300\n",
      "48000/48000 [==============================] - 1s 26us/step - loss: 0.0989 - acc: 0.9713 - val_loss: 0.1591 - val_acc: 0.9520\n",
      "Epoch 214/300\n",
      "48000/48000 [==============================] - 1s 25us/step - loss: 0.0964 - acc: 0.9718 - val_loss: 0.1614 - val_acc: 0.9520\n",
      "Epoch 215/300\n",
      "48000/48000 [==============================] - 1s 25us/step - loss: 0.0968 - acc: 0.9711 - val_loss: 0.1600 - val_acc: 0.9531\n",
      "Epoch 216/300\n",
      "48000/48000 [==============================] - 1s 27us/step - loss: 0.0957 - acc: 0.9724 - val_loss: 0.1586 - val_acc: 0.9528\n",
      "Epoch 217/300\n",
      "48000/48000 [==============================] - 1s 26us/step - loss: 0.0946 - acc: 0.9727 - val_loss: 0.1559 - val_acc: 0.9532\n",
      "Epoch 218/300\n",
      "48000/48000 [==============================] - 1s 27us/step - loss: 0.0948 - acc: 0.9729 - val_loss: 0.1590 - val_acc: 0.9523\n",
      "Epoch 219/300\n",
      "48000/48000 [==============================] - 1s 26us/step - loss: 0.0921 - acc: 0.9726 - val_loss: 0.1550 - val_acc: 0.9549\n",
      "Epoch 220/300\n",
      "48000/48000 [==============================] - 1s 25us/step - loss: 0.0886 - acc: 0.9745 - val_loss: 0.1575 - val_acc: 0.9538\n",
      "Epoch 221/300\n",
      "48000/48000 [==============================] - 1s 26us/step - loss: 0.0917 - acc: 0.9740 - val_loss: 0.1593 - val_acc: 0.9517\n",
      "Epoch 222/300\n",
      "48000/48000 [==============================] - 1s 26us/step - loss: 0.0910 - acc: 0.9736 - val_loss: 0.1584 - val_acc: 0.9533\n",
      "Epoch 223/300\n",
      "48000/48000 [==============================] - 1s 26us/step - loss: 0.0893 - acc: 0.9739 - val_loss: 0.1587 - val_acc: 0.9531\n",
      "Epoch 224/300\n",
      "48000/48000 [==============================] - 1s 26us/step - loss: 0.0894 - acc: 0.9741 - val_loss: 0.1567 - val_acc: 0.9530\n",
      "Epoch 225/300\n",
      "48000/48000 [==============================] - 1s 25us/step - loss: 0.0930 - acc: 0.9722 - val_loss: 0.1565 - val_acc: 0.9539\n",
      "Epoch 226/300\n",
      "48000/48000 [==============================] - 1s 26us/step - loss: 0.0897 - acc: 0.9744 - val_loss: 0.1595 - val_acc: 0.9512\n",
      "Epoch 227/300\n",
      "48000/48000 [==============================] - 1s 26us/step - loss: 0.0900 - acc: 0.9740 - val_loss: 0.1604 - val_acc: 0.9538\n",
      "Epoch 228/300\n",
      "48000/48000 [==============================] - 1s 26us/step - loss: 0.0889 - acc: 0.9739 - val_loss: 0.1554 - val_acc: 0.9520\n",
      "Epoch 229/300\n",
      "48000/48000 [==============================] - 1s 27us/step - loss: 0.0874 - acc: 0.9744 - val_loss: 0.1594 - val_acc: 0.9531\n",
      "Epoch 230/300\n",
      "48000/48000 [==============================] - 1s 27us/step - loss: 0.0877 - acc: 0.9745 - val_loss: 0.1590 - val_acc: 0.9530\n",
      "Epoch 231/300\n",
      "48000/48000 [==============================] - 1s 27us/step - loss: 0.0871 - acc: 0.9747 - val_loss: 0.1574 - val_acc: 0.9534\n",
      "Epoch 232/300\n",
      "48000/48000 [==============================] - 1s 27us/step - loss: 0.0869 - acc: 0.9750 - val_loss: 0.1579 - val_acc: 0.9540\n",
      "Epoch 233/300\n",
      "48000/48000 [==============================] - 1s 27us/step - loss: 0.0870 - acc: 0.9750 - val_loss: 0.1569 - val_acc: 0.9534\n",
      "Epoch 234/300\n"
     ]
    },
    {
     "name": "stdout",
     "output_type": "stream",
     "text": [
      "48000/48000 [==============================] - 1s 29us/step - loss: 0.0894 - acc: 0.9739 - val_loss: 0.1603 - val_acc: 0.9533\n",
      "Epoch 235/300\n",
      "48000/48000 [==============================] - 1s 28us/step - loss: 0.0907 - acc: 0.9741 - val_loss: 0.1588 - val_acc: 0.9518\n",
      "Epoch 236/300\n",
      "48000/48000 [==============================] - 1s 27us/step - loss: 0.0887 - acc: 0.9741 - val_loss: 0.1524 - val_acc: 0.9529\n",
      "Epoch 237/300\n",
      "48000/48000 [==============================] - 1s 26us/step - loss: 0.0868 - acc: 0.9748 - val_loss: 0.1550 - val_acc: 0.9538\n",
      "Epoch 238/300\n",
      "48000/48000 [==============================] - 1s 26us/step - loss: 0.0889 - acc: 0.9738 - val_loss: 0.1619 - val_acc: 0.9515\n",
      "Epoch 239/300\n",
      "48000/48000 [==============================] - 1s 27us/step - loss: 0.0929 - acc: 0.9726 - val_loss: 0.1569 - val_acc: 0.9543\n",
      "Epoch 240/300\n",
      "48000/48000 [==============================] - 1s 26us/step - loss: 0.0896 - acc: 0.9744 - val_loss: 0.1528 - val_acc: 0.9538\n",
      "Epoch 241/300\n",
      "48000/48000 [==============================] - 1s 26us/step - loss: 0.0893 - acc: 0.9740 - val_loss: 0.1573 - val_acc: 0.9538\n",
      "Epoch 242/300\n",
      "48000/48000 [==============================] - 1s 26us/step - loss: 0.0867 - acc: 0.9748 - val_loss: 0.1561 - val_acc: 0.9545\n",
      "Epoch 243/300\n",
      "48000/48000 [==============================] - 1s 27us/step - loss: 0.0876 - acc: 0.9745 - val_loss: 0.1553 - val_acc: 0.9538\n",
      "Epoch 244/300\n",
      "48000/48000 [==============================] - 1s 26us/step - loss: 0.0890 - acc: 0.9736 - val_loss: 0.1567 - val_acc: 0.9538\n",
      "Epoch 245/300\n",
      "48000/48000 [==============================] - 1s 26us/step - loss: 0.0878 - acc: 0.9741 - val_loss: 0.1530 - val_acc: 0.9541\n",
      "Epoch 246/300\n",
      "48000/48000 [==============================] - 1s 26us/step - loss: 0.0834 - acc: 0.9762 - val_loss: 0.1583 - val_acc: 0.9542\n",
      "Epoch 247/300\n",
      "48000/48000 [==============================] - 1s 27us/step - loss: 0.0860 - acc: 0.9752 - val_loss: 0.1565 - val_acc: 0.9553\n",
      "Epoch 248/300\n",
      "48000/48000 [==============================] - 1s 27us/step - loss: 0.0881 - acc: 0.9747 - val_loss: 0.1643 - val_acc: 0.9507\n",
      "Epoch 249/300\n",
      "48000/48000 [==============================] - 1s 26us/step - loss: 0.0852 - acc: 0.9756 - val_loss: 0.1586 - val_acc: 0.9539\n",
      "Epoch 250/300\n",
      "48000/48000 [==============================] - 1s 26us/step - loss: 0.0848 - acc: 0.9753 - val_loss: 0.1531 - val_acc: 0.9555\n",
      "Epoch 251/300\n",
      "48000/48000 [==============================] - 1s 26us/step - loss: 0.0845 - acc: 0.9760 - val_loss: 0.1575 - val_acc: 0.9554\n",
      "Epoch 252/300\n",
      "48000/48000 [==============================] - 1s 26us/step - loss: 0.0827 - acc: 0.9766 - val_loss: 0.1541 - val_acc: 0.9558\n",
      "Epoch 253/300\n",
      "48000/48000 [==============================] - 1s 27us/step - loss: 0.0831 - acc: 0.9759 - val_loss: 0.1580 - val_acc: 0.9533\n",
      "Epoch 254/300\n",
      "48000/48000 [==============================] - 1s 26us/step - loss: 0.0799 - acc: 0.9777 - val_loss: 0.1578 - val_acc: 0.9546\n",
      "Epoch 255/300\n",
      "48000/48000 [==============================] - 1s 26us/step - loss: 0.0801 - acc: 0.9778 - val_loss: 0.1543 - val_acc: 0.9548\n",
      "Epoch 256/300\n",
      "48000/48000 [==============================] - 1s 26us/step - loss: 0.0811 - acc: 0.9770 - val_loss: 0.1593 - val_acc: 0.9532\n",
      "Epoch 257/300\n",
      "48000/48000 [==============================] - 1s 26us/step - loss: 0.0820 - acc: 0.9763 - val_loss: 0.1584 - val_acc: 0.9538\n",
      "Epoch 258/300\n",
      "48000/48000 [==============================] - 1s 27us/step - loss: 0.0816 - acc: 0.9766 - val_loss: 0.1608 - val_acc: 0.9531\n",
      "Epoch 259/300\n",
      "48000/48000 [==============================] - 1s 26us/step - loss: 0.0804 - acc: 0.9773 - val_loss: 0.1564 - val_acc: 0.9535\n",
      "Epoch 260/300\n",
      "48000/48000 [==============================] - 1s 26us/step - loss: 0.0782 - acc: 0.9784 - val_loss: 0.1578 - val_acc: 0.9528\n",
      "Epoch 261/300\n",
      "48000/48000 [==============================] - 1s 27us/step - loss: 0.0814 - acc: 0.9764 - val_loss: 0.1535 - val_acc: 0.9547\n",
      "Epoch 262/300\n",
      "48000/48000 [==============================] - 1s 27us/step - loss: 0.0800 - acc: 0.9781 - val_loss: 0.1532 - val_acc: 0.9538\n",
      "Epoch 263/300\n",
      "48000/48000 [==============================] - 1s 27us/step - loss: 0.0802 - acc: 0.9778 - val_loss: 0.1544 - val_acc: 0.9558\n",
      "Epoch 264/300\n",
      "48000/48000 [==============================] - 1s 26us/step - loss: 0.0820 - acc: 0.9765 - val_loss: 0.1596 - val_acc: 0.9535\n",
      "Epoch 265/300\n",
      "48000/48000 [==============================] - 1s 26us/step - loss: 0.0858 - acc: 0.9754 - val_loss: 0.1595 - val_acc: 0.9525\n",
      "Epoch 266/300\n",
      "48000/48000 [==============================] - 1s 26us/step - loss: 0.0849 - acc: 0.9757 - val_loss: 0.1572 - val_acc: 0.9536\n",
      "Epoch 267/300\n",
      "48000/48000 [==============================] - 1s 27us/step - loss: 0.0864 - acc: 0.9744 - val_loss: 0.1629 - val_acc: 0.9508\n",
      "Epoch 268/300\n",
      "48000/48000 [==============================] - 1s 27us/step - loss: 0.0823 - acc: 0.9765 - val_loss: 0.1558 - val_acc: 0.9543\n",
      "Epoch 269/300\n",
      "48000/48000 [==============================] - 1s 27us/step - loss: 0.0797 - acc: 0.9776 - val_loss: 0.1562 - val_acc: 0.9553\n",
      "Epoch 270/300\n",
      "48000/48000 [==============================] - 1s 26us/step - loss: 0.0785 - acc: 0.9775 - val_loss: 0.1554 - val_acc: 0.9553\n",
      "Epoch 271/300\n",
      "48000/48000 [==============================] - 1s 26us/step - loss: 0.0803 - acc: 0.9775 - val_loss: 0.1625 - val_acc: 0.9519\n",
      "Epoch 272/300\n",
      "48000/48000 [==============================] - 1s 26us/step - loss: 0.0813 - acc: 0.9768 - val_loss: 0.1601 - val_acc: 0.9523\n",
      "Epoch 273/300\n",
      "48000/48000 [==============================] - 1s 27us/step - loss: 0.0818 - acc: 0.9764 - val_loss: 0.1587 - val_acc: 0.9523\n",
      "Epoch 274/300\n",
      "48000/48000 [==============================] - 1s 27us/step - loss: 0.0832 - acc: 0.9763 - val_loss: 0.1534 - val_acc: 0.9567\n",
      "Epoch 275/300\n",
      "48000/48000 [==============================] - 1s 26us/step - loss: 0.0791 - acc: 0.9778 - val_loss: 0.1543 - val_acc: 0.9563\n",
      "Epoch 276/300\n",
      "48000/48000 [==============================] - 1s 26us/step - loss: 0.0794 - acc: 0.9771 - val_loss: 0.1572 - val_acc: 0.9534\n",
      "Epoch 277/300\n",
      "48000/48000 [==============================] - ETA: 0s - loss: 0.0777 - acc: 0.978 - 1s 26us/step - loss: 0.0780 - acc: 0.9782 - val_loss: 0.1557 - val_acc: 0.9545\n",
      "Epoch 278/300\n",
      "48000/48000 [==============================] - 1s 27us/step - loss: 0.0769 - acc: 0.9783 - val_loss: 0.1508 - val_acc: 0.9554\n",
      "Epoch 279/300\n",
      "48000/48000 [==============================] - 1s 27us/step - loss: 0.0792 - acc: 0.9775 - val_loss: 0.1588 - val_acc: 0.9535\n",
      "Epoch 280/300\n",
      "48000/48000 [==============================] - 1s 26us/step - loss: 0.0776 - acc: 0.9782 - val_loss: 0.1552 - val_acc: 0.9545\n",
      "Epoch 281/300\n",
      "48000/48000 [==============================] - 1s 26us/step - loss: 0.0794 - acc: 0.9772 - val_loss: 0.1550 - val_acc: 0.9548\n",
      "Epoch 282/300\n",
      "48000/48000 [==============================] - 1s 27us/step - loss: 0.0816 - acc: 0.9766 - val_loss: 0.1575 - val_acc: 0.9543\n",
      "Epoch 283/300\n",
      "48000/48000 [==============================] - 1s 27us/step - loss: 0.0851 - acc: 0.9755 - val_loss: 0.1564 - val_acc: 0.9532\n",
      "Epoch 284/300\n",
      "48000/48000 [==============================] - 1s 27us/step - loss: 0.0801 - acc: 0.9770 - val_loss: 0.1567 - val_acc: 0.9535\n",
      "Epoch 285/300\n",
      "48000/48000 [==============================] - 1s 26us/step - loss: 0.0819 - acc: 0.9763 - val_loss: 0.1540 - val_acc: 0.9541\n",
      "Epoch 286/300\n",
      "48000/48000 [==============================] - 1s 27us/step - loss: 0.0775 - acc: 0.9777 - val_loss: 0.1546 - val_acc: 0.9546\n",
      "Epoch 287/300\n",
      "48000/48000 [==============================] - 1s 27us/step - loss: 0.0778 - acc: 0.9779 - val_loss: 0.1542 - val_acc: 0.9539\n",
      "Epoch 288/300\n",
      "48000/48000 [==============================] - 1s 27us/step - loss: 0.0795 - acc: 0.9776 - val_loss: 0.1546 - val_acc: 0.9551\n",
      "Epoch 289/300\n",
      "48000/48000 [==============================] - 1s 26us/step - loss: 0.0805 - acc: 0.9773 - val_loss: 0.1538 - val_acc: 0.9553\n",
      "Epoch 290/300\n",
      "48000/48000 [==============================] - 1s 26us/step - loss: 0.0787 - acc: 0.9778 - val_loss: 0.1559 - val_acc: 0.9546\n",
      "Epoch 291/300\n",
      "48000/48000 [==============================] - 1s 28us/step - loss: 0.0812 - acc: 0.9763 - val_loss: 0.1626 - val_acc: 0.9528\n",
      "Epoch 292/300\n",
      "48000/48000 [==============================] - 1s 29us/step - loss: 0.0813 - acc: 0.9766 - val_loss: 0.1559 - val_acc: 0.9533\n",
      "Epoch 293/300\n",
      "48000/48000 [==============================] - 1s 27us/step - loss: 0.0743 - acc: 0.9788 - val_loss: 0.1595 - val_acc: 0.9531\n",
      "Epoch 294/300\n",
      "48000/48000 [==============================] - 1s 27us/step - loss: 0.0779 - acc: 0.9775 - val_loss: 0.1568 - val_acc: 0.9551\n",
      "Epoch 295/300\n",
      "48000/48000 [==============================] - 1s 26us/step - loss: 0.0793 - acc: 0.9775 - val_loss: 0.1569 - val_acc: 0.9545\n",
      "Epoch 296/300\n",
      "48000/48000 [==============================] - 1s 26us/step - loss: 0.0768 - acc: 0.9780 - val_loss: 0.1554 - val_acc: 0.9538\n",
      "Epoch 297/300\n",
      "48000/48000 [==============================] - 1s 26us/step - loss: 0.0778 - acc: 0.9776 - val_loss: 0.1549 - val_acc: 0.9542\n",
      "Epoch 298/300\n",
      "48000/48000 [==============================] - 1s 28us/step - loss: 0.0812 - acc: 0.9760 - val_loss: 0.1580 - val_acc: 0.9528\n",
      "Epoch 299/300\n",
      "48000/48000 [==============================] - 1s 28us/step - loss: 0.0761 - acc: 0.9782 - val_loss: 0.1555 - val_acc: 0.9544\n",
      "Epoch 300/300\n",
      "48000/48000 [==============================] - 1s 27us/step - loss: 0.0749 - acc: 0.9785 - val_loss: 0.1542 - val_acc: 0.9548\n"
     ]
    }
   ],
   "source": [
    "#訓練、batch_size=每批用多少資料、nb_epoch處理幾次 、verbose=1(每個步驟都印出)、validation_split=0.2(20%資料用來驗證)\n",
    "train_history=model.fit(X_train,Y_train,batch_size=batch_size,validation_split=0.2,nb_epoch=epochs,verbose=1)"
   ]
  },
  {
   "cell_type": "code",
   "execution_count": 47,
   "metadata": {},
   "outputs": [
    {
     "data": {
      "image/png": "[encoded data removed]",
      "text/plain": [
       "<matplotlib.figure.Figure at 0x2e131f98>"
      ]
     },
     "metadata": {},
     "output_type": "display_data"
    }
   ],
   "source": [
    "\n",
    "#劃出準確度歷程\n",
    "import matplotlib.pyplot as plt\n",
    "def show_tarin_history(train_history,train,validation):\n",
    "    plt.plot(train_history.history[train])\n",
    "    plt.plot(train_history.history[validation])\n",
    "    plt.title(\"Train History\")\n",
    "    plt.ylabel(train)\n",
    "    plt.xlabel(\"Epoch\")\n",
    "    plt.legend(['train','validation'],loc=\"upper left\")\n",
    "    plt.show()\n",
    "show_tarin_history(train_history,'acc','val_acc')"
   ]
  },
  {
   "cell_type": "code",
   "execution_count": 48,
   "metadata": {},
   "outputs": [
    {
     "data": {
      "image/png": "[encoded data removed]",
      "text/plain": [
       "<matplotlib.figure.Figure at 0x2d4a7208>"
      ]
     },
     "metadata": {},
     "output_type": "display_data"
    }
   ],
   "source": [
    "#劃出loss\n",
    "show_tarin_history(train_history,'loss','val_loss')"
   ]
  },
  {
   "cell_type": "code",
   "execution_count": 49,
   "metadata": {},
   "outputs": [
    {
     "name": "stdout",
     "output_type": "stream",
     "text": [
      "10000/10000 [==============================] - 0s 32us/step\n",
      "Test accuracy: 0.9517\n"
     ]
    }
   ],
   "source": [
    "score=model.evaluate(X_test,Y_test,verbose=1)\n",
    "print('Test accuracy:',score[1])"
   ]
  },
  {
   "cell_type": "code",
   "execution_count": 38,
   "metadata": {
    "collapsed": true
   },
   "outputs": [],
   "source": [
    "#取得加權矩陣 (取得784(像素)*50(隱藏層數) +  50的矩陣)\n",
    "weights=model.layers[0].get_weights()"
   ]
  },
  {
   "cell_type": "code",
   "execution_count": 39,
   "metadata": {},
   "outputs": [
    {
     "data": {
      "image/png": "[encoded data removed]",
      "text/plain": [
       "<matplotlib.figure.Figure at 0x28410518>"
      ]
     },
     "metadata": {},
     "output_type": "display_data"
    }
   ],
   "source": [
    "import matplotlib.pyplot as plt\n",
    "import matplotlib.cm as cm #圖形種類\n",
    "import numpy\n",
    "w=weights[0].T #變成50*784\n",
    "\n",
    "# for neuron in range(hidden_neurons):\n",
    "#     plt.imshow(numpy.reshape(w[neuron],(28,28)),\n",
    "#     cmap=cm.Greys_r)\n",
    "#     plt.show()\n",
    "    \n",
    "    \n",
    "fig = plt.figure() \n",
    "for neuron in range(hidden_neurons):         \n",
    "    ax = fig.add_subplot(10, 10, neuron+1) #給予50個空間\n",
    "    ax.axis(\"off\")#軸取消\n",
    "    ax.imshow(numpy.reshape(w[neuron], (28, 28)), cmap = cm.Greys_r)#取得第n個784轉換成28*28 cm,Greys_r灰階\n",
    "\n",
    "plt.savefig(\"neuron_images.png\", dpi=300)    \n",
    "plt.show()  "
   ]
  },
  {
   "cell_type": "markdown",
   "metadata": {
    "collapsed": true
   },
   "source": [
    "# 較複雜的圖(有色彩)"
   ]
  },
  {
   "cell_type": "code",
   "execution_count": null,
   "metadata": {
    "collapsed": true
   },
   "outputs": [],
   "source": [
    "from keras.datasets import mnist\n",
    "from keras.datasets import cifar10\n",
    "from keras.models import Sequential\n",
    "from keras.layers.core import Dense,Activation\n",
    "from keras.utils import np_utils"
   ]
  },
  {
   "cell_type": "code",
   "execution_count": null,
   "metadata": {
    "collapsed": true,
    "scrolled": true
   },
   "outputs": [],
   "source": [
    "#數字圖資料集\n",
    "(X_train,Y_train),(X_test,Y_test)=cifar10.load_data()"
   ]
  },
  {
   "cell_type": "code",
   "execution_count": null,
   "metadata": {
    "collapsed": true,
    "scrolled": true
   },
   "outputs": [],
   "source": [
    "#將60000*28*28矩陣轉成60000*784\n",
    "X_train=X_train.reshape(50000,3072)\n",
    "X_test=X_test.reshape(10000,3072)\n",
    "X_train[0]"
   ]
  },
  {
   "cell_type": "code",
   "execution_count": null,
   "metadata": {
    "collapsed": true,
    "scrolled": false
   },
   "outputs": [],
   "source": [
    "# import numpy\n",
    "# import matplotlib.pyplot as plt\n",
    "# plt.imshow(numpy.reshape(X_train[100],(32,32,3)))\n",
    "# plt.show()\n"
   ]
  },
  {
   "cell_type": "code",
   "execution_count": null,
   "metadata": {
    "collapsed": true
   },
   "outputs": [],
   "source": [
    "#數字答案為0-9 轉換成0與1的元素向量  如4>[0,0,0,0,1,0,0,0,0,0] 、2>[0,0,1,0,0,0,0,0,0,0]\n",
    "classes=10\n",
    "Y_train=np_utils.to_categorical(Y_train,classes)\n",
    "Y_test=np_utils.to_categorical(Y_test,classes)\n",
    "Y_train[0]"
   ]
  },
  {
   "cell_type": "code",
   "execution_count": null,
   "metadata": {
    "collapsed": true
   },
   "outputs": [],
   "source": [
    "input_size=3072#像速\n",
    "batch_size=100#每批樣本大小\n",
    "hidden_neurons=100#隱藏層神經元\n",
    "epochs=10#處理幾輪\n",
    "# main(X_train,X_test,Y_train,Y_test)"
   ]
  },
  {
   "cell_type": "code",
   "execution_count": null,
   "metadata": {
    "collapsed": true
   },
   "outputs": [],
   "source": [
    "model=Sequential()  #定義model\n",
    "model.add(Dense(3000,input_dim=input_size)) #加入層(緊密層) 產出個數3000(神經元). 輸入個數3072 次元\n",
    "model.add(Activation('sigmoid')) #啟動函數\n",
    "model.add(Dense(2000,input_dim=2000)) #加入層(緊密層) 產出個數2000(神經元). 輸入個數3000 次元\n",
    "model.add(Activation('sigmoid')) #啟動函數\n",
    "model.add(Dense(classes,input_dim=2000))  #加入層(緊密層) 產出個數10(神經元). 輸入個數2000 次元\n",
    "model.add(Activation(\"softmax\"))"
   ]
  },
  {
   "cell_type": "code",
   "execution_count": null,
   "metadata": {
    "collapsed": true
   },
   "outputs": [],
   "source": [
    "#成本函數categorical_crossentropy  最佳化工具sgd(梯度下降)\n",
    "model.compile(loss=\"categorical_crossentropy\",metrics=['accuracy'],optimizer='sgd')"
   ]
  },
  {
   "cell_type": "code",
   "execution_count": null,
   "metadata": {
    "collapsed": true,
    "scrolled": true
   },
   "outputs": [],
   "source": [
    "#訓練、batch_size=每批用多少資料、nb_epoch處理幾次 、verbose=1(每個步驟都印出) validation_split=0.1(訓練90% 驗證10%)\n",
    "model.fit(X_train,Y_train,batch_size=batch_size,nb_epoch=epochs,validation_split=0.1,verbose=1)"
   ]
  },
  {
   "cell_type": "code",
   "execution_count": null,
   "metadata": {
    "collapsed": true
   },
   "outputs": [],
   "source": [
    "score=model.evaluate(X_test,Y_test,verbose=1)\n",
    "print('Test accuracy:',score[1])"
   ]
  },
  {
   "cell_type": "code",
   "execution_count": null,
   "metadata": {
    "collapsed": true
   },
   "outputs": [],
   "source": [
    "#取得加權矩陣 (取得784(像素)*50(隱藏層數) +  50的矩陣)\n",
    "weights=model.layers[0].get_weights()"
   ]
  },
  {
   "cell_type": "code",
   "execution_count": null,
   "metadata": {
    "collapsed": true
   },
   "outputs": [],
   "source": []
  },
  {
   "cell_type": "markdown",
   "metadata": {},
   "source": [
    "# 受限波茲曼"
   ]
  },
  {
   "cell_type": "code",
   "execution_count": 4,
   "metadata": {},
   "outputs": [
    {
     "name": "stderr",
     "output_type": "stream",
     "text": [
      "D:\\anaconda\\lib\\site-packages\\h5py\\__init__.py:34: FutureWarning: Conversion of the second argument of issubdtype from `float` to `np.floating` is deprecated. In future, it will be treated as `np.float64 == np.dtype(float).type`.\n",
      "  from ._conv import register_converters as _register_converters\n"
     ]
    },
    {
     "name": "stdout",
     "output_type": "stream",
     "text": [
      "Extracting MNIST_data/train-images-idx3-ubyte.gz\n",
      "Extracting MNIST_data/train-labels-idx1-ubyte.gz\n",
      "Extracting MNIST_data/t10k-images-idx3-ubyte.gz\n",
      "Extracting MNIST_data/t10k-labels-idx1-ubyte.gz\n",
      "WARNING:tensorflow:From D:\\anaconda\\lib\\site-packages\\tensorflow\\python\\util\\tf_should_use.py:170: initialize_all_variables (from tensorflow.python.ops.variables) is deprecated and will be removed after 2017-03-02.\n",
      "Instructions for updating:\n",
      "Use `tf.global_variables_initializer` instead.\n",
      "epochs 0 loss 1040.1115\n",
      "epochs 1 loss 770.8037\n",
      "epochs 2 loss 623.31177\n",
      "epochs 3 loss 472.73065\n",
      "epochs 4 loss 457.10953\n",
      "epochs 5 loss 434.89972\n",
      "epochs 6 loss 449.74036\n",
      "epochs 7 loss 374.82495\n",
      "epochs 8 loss 368.8288\n",
      "epochs 9 loss 395.31927\n",
      "epochs 10 loss 330.52017\n",
      "epochs 11 loss 318.34503\n",
      "epochs 12 loss 281.6629\n",
      "epochs 13 loss 307.01276\n",
      "epochs 14 loss 332.56964\n",
      "epochs 15 loss 289.92148\n",
      "epochs 16 loss 354.0438\n",
      "epochs 17 loss 294.05896\n",
      "epochs 18 loss 324.6273\n",
      "epochs 19 loss 289.0886\n"
     ]
    }
   ],
   "source": [
    "import tensorflow as tf\n",
    "from tensorflow.examples.tutorials.mnist import input_data\n",
    "\n",
    "VISIBLE_NODES = 784\n",
    "HIDDEN_NODES = 400\n",
    "LEARNING_RATE = 0.01\n",
    "\n",
    "mnist = input_data.read_data_sets(\"MNIST_data/\")\n",
    "\n",
    "input_placeholder = tf.placeholder(\"float\", shape=(None, VISIBLE_NODES))\n",
    "\n",
    "weights = tf.Variable(tf.random_normal((VISIBLE_NODES, HIDDEN_NODES), mean=0.0, stddev=1. / VISIBLE_NODES))\n",
    "hidden_bias = tf.Variable(tf.zeros([HIDDEN_NODES]))\n",
    "visible_bias = tf.Variable(tf.zeros([VISIBLE_NODES]))\n",
    "\n",
    "hidden_activation = tf.nn.sigmoid(tf.matmul(input_placeholder, weights) + hidden_bias)\n",
    "visible_reconstruction = tf.nn.sigmoid(tf.matmul(hidden_activation, tf.transpose(weights)) + visible_bias)\n",
    "\n",
    "final_hidden_activation = tf.nn.sigmoid(tf.matmul(visible_reconstruction, weights) + hidden_bias)\n",
    "\n",
    "positive_phase = tf.matmul(tf.transpose(input_placeholder), hidden_activation)\n",
    "negative_phase = tf.matmul(tf.transpose(visible_reconstruction), final_hidden_activation)\n",
    "\n",
    "weight_update = weights.assign_add(LEARNING_RATE * (positive_phase - negative_phase))\n",
    "visible_bias_update = visible_bias.assign_add(LEARNING_RATE *\n",
    "                                              tf.reduce_mean(input_placeholder - visible_reconstruction, 0))\n",
    "hidden_bias_update = hidden_bias.assign_add(LEARNING_RATE *\n",
    "                                            tf.reduce_mean(hidden_activation - final_hidden_activation, 0))\n",
    "\n",
    "train_op = tf.group(weight_update, visible_bias_update, hidden_bias_update)\n",
    "\n",
    "loss_op = tf.reduce_sum(tf.square(input_placeholder - visible_reconstruction))\n",
    "\n",
    "session = tf.Session()\n",
    "\n",
    "session.run(tf.initialize_all_variables())\n",
    "\n",
    "current_epochs = 0\n",
    "\n",
    "for i in range(20):\n",
    "    total_loss = 0\n",
    "    while mnist.train.epochs_completed == current_epochs:\n",
    "        batch_inputs, batch_labels = mnist.train.next_batch(100)\n",
    "        _, reconstruction_loss = session.run([train_op, loss_op], feed_dict={input_placeholder: batch_inputs})\n",
    "        total_loss += reconstruction_loss\n",
    "\n",
    "    print(\"epochs %s loss %s\" % (current_epochs, reconstruction_loss))\n",
    "    current_epochs = mnist.train.epochs_completed"
   ]
  },
  {
   "cell_type": "code",
   "execution_count": 5,
   "metadata": {
    "collapsed": true
   },
   "outputs": [],
   "source": [
    "reconstruction=session.run(visible_reconstruction,feed_dict={input_placeholder:[mnist.train.images[0]]})"
   ]
  },
  {
   "cell_type": "markdown",
   "metadata": {},
   "source": [
    "# 卷積概念"
   ]
  },
  {
   "cell_type": "code",
   "execution_count": null,
   "metadata": {
    "collapsed": true
   },
   "outputs": [],
   "source": [
    "import numpy\n",
    "from keras.datasets import mnist\n",
    "import matplotlib.pyplot as plt\n",
    "import matplotlib.cm as cm\n",
    "#image為int(數字圖片編號)\n",
    "def main(image,im_filter):\n",
    "    im=X_train[image]\n",
    "    #定義新圖形、大小為圖片數據 寬-2*高-2\n",
    "    width=im.shape[0]\n",
    "    height=im.shape[1]\n",
    "    imC=numpy.zeros((width-2,height-2))\n",
    "    \n",
    "    \n",
    "    #進行卷積\n",
    "    for row in range(1,width-1):\n",
    "        for col in range(1,height-1):\n",
    "            for i in range(len(im_filter[0])):\n",
    "                for j in range(len(im_filter)):\n",
    "                    imC[row-1][col-1]+=im[row-1+i][col-1+j]*im_filter[i][j]\n",
    "#             #數字不大於255(灰皆色範圍)\n",
    "            if imC[row-1][col-1]>255:\n",
    "                imC[row-1][col-1]=255\n",
    "            elif imC[row-1][col-1]<0:\n",
    "                imC[row-1][col-1]=0\n",
    "    plt.imshow(im,cmap=cm.Greys_r)\n",
    "    plt.show()\n",
    "    plt.imshow(imC/255,cmap=cm.Greys_r)\n",
    "    plt.show()  \n",
    "    \n",
    "\n",
    "\n",
    "if __name__==\"__main__\":\n",
    "    #載入資料\n",
    "    (X_train,Y_train),(X_test,Y_test)=mnist.load_data()\n",
    "    \n",
    "    #建立filter\n",
    "    blur=[[1./9,1./9,1./9],[1./9,1./9,1./9],[1./9,1./9,1./9]]\n",
    "    edges=[[1,1,1],[0,-8,0],[1,1,1]]\n",
    "    \n",
    "    #跑卷積\n",
    "    main(1,edges)\n",
    "    main(1,blur)\n",
    "    "
   ]
  },
  {
   "cell_type": "code",
   "execution_count": null,
   "metadata": {
    "collapsed": true,
    "scrolled": true
   },
   "outputs": [],
   "source": [
    "import numpy\n",
    "import theano\n",
    "import matplotlib.pyplot as plt\n",
    "import theano.tensor as T\n",
    "from theano.tensor.nnet import conv\n",
    "import skimage.data\n",
    "import matplotlib.cm as cm"
   ]
  },
  {
   "cell_type": "code",
   "execution_count": null,
   "metadata": {
    "collapsed": true
   },
   "outputs": [],
   "source": [
    "!conda update --all"
   ]
  },
  {
   "cell_type": "code",
   "execution_count": null,
   "metadata": {
    "collapsed": true
   },
   "outputs": [],
   "source": [
    "!pip install --ignore-installed scikit-image"
   ]
  },
  {
   "cell_type": "code",
   "execution_count": null,
   "metadata": {
    "collapsed": true
   },
   "outputs": [],
   "source": [
    "x=scipy.imag"
   ]
  },
  {
   "cell_type": "code",
   "execution_count": null,
   "metadata": {
    "collapsed": true
   },
   "outputs": [],
   "source": [
    "x"
   ]
  },
  {
   "cell_type": "code",
   "execution_count": null,
   "metadata": {
    "collapsed": true
   },
   "outputs": [],
   "source": []
  },
  {
   "cell_type": "code",
   "execution_count": 50,
   "metadata": {
    "collapsed": true
   },
   "outputs": [],
   "source": [
    "from keras.datasets import mnist\n",
    "from keras.models import Sequential\n",
    "from keras.layers.core import Dense,Activation\n",
    "from keras.utils import np_utils\n",
    "from keras.layers import Convolution2D,MaxPooling2D,Flatten"
   ]
  },
  {
   "cell_type": "code",
   "execution_count": 51,
   "metadata": {
    "collapsed": true,
    "scrolled": true
   },
   "outputs": [],
   "source": [
    "#數字圖資料集\n",
    "(X_train,Y_train),(X_test,Y_test)=mnist.load_data()"
   ]
  },
  {
   "cell_type": "code",
   "execution_count": 52,
   "metadata": {
    "collapsed": true,
    "scrolled": true
   },
   "outputs": [],
   "source": [
    "#將60000*28*28矩陣轉成60000*784\n",
    "X_train=X_train.reshape(60000,28,28,1)\n",
    "X_test=X_test.reshape(10000,28,28,1)"
   ]
  },
  {
   "cell_type": "code",
   "execution_count": 53,
   "metadata": {},
   "outputs": [
    {
     "data": {
      "text/plain": [
       "array([0., 0., 0., 0., 0., 1., 0., 0., 0., 0.])"
      ]
     },
     "execution_count": 53,
     "metadata": {},
     "output_type": "execute_result"
    }
   ],
   "source": [
    "#數字答案為0-9 轉換成0與1的元素向量  如4>[0,0,0,0,1,0,0,0,0,0] 、2>[0,0,1,0,0,0,0,0,0,0]\n",
    "classes=10\n",
    "Y_train=np_utils.to_categorical(Y_train,classes)\n",
    "Y_test=np_utils.to_categorical(Y_test,classes)\n",
    "Y_train[0]"
   ]
  },
  {
   "cell_type": "code",
   "execution_count": 54,
   "metadata": {
    "collapsed": true
   },
   "outputs": [],
   "source": [
    "input_size=784#像速\n",
    "batch_size=100#每批樣本大小\n",
    "hidden_neurons=200#隱藏層神經元\n",
    "epochs=30#處理幾輪\n",
    "# main(X_train,X_test,Y_train,Y_test)"
   ]
  },
  {
   "cell_type": "code",
   "execution_count": 55,
   "metadata": {
    "collapsed": true
   },
   "outputs": [],
   "source": [
    "X_train=X_train.astype('float32')\n",
    "X_test=X_test.astype('float32')\n",
    "X_train/=255\n",
    "X_test/=255"
   ]
  },
  {
   "cell_type": "code",
   "execution_count": 56,
   "metadata": {
    "collapsed": true
   },
   "outputs": [],
   "source": [
    "model=Sequential()  #定義model\n",
    "model.add(Convolution2D(32,(3,3),input_shape=(28,28,1))) #加入層(緊密層) 產出個數100. 輸入個數784 次元\n",
    "model.add(Activation('relu')) #啟動函數\n",
    "model.add(Convolution2D(32,(3,3))) #加入層(緊密層) 產出個數100. 輸入個數784 次元\n",
    "model.add(Activation('relu')) #啟動函數\n",
    "model.add(MaxPooling2D(pool_size=(2,2)))  #加入層(緊密層) 產出個數10.輸入個數100 次元\n",
    "model.add(Flatten())\n",
    "\n",
    "model.add(Dense(hidden_neurons)) \n",
    "model.add(Activation('relu'))      \n",
    "model.add(Dense(classes)) \n",
    "model.add(Activation('softmax'))"
   ]
  },
  {
   "cell_type": "code",
   "execution_count": 57,
   "metadata": {
    "collapsed": true
   },
   "outputs": [],
   "source": [
    "#成本函數categorical_crossentropy  最佳化工具sgd(梯度下降)\n",
    "model.compile(loss=\"categorical_crossentropy\",metrics=['accuracy'],optimizer='adadelta')"
   ]
  },
  {
   "cell_type": "code",
   "execution_count": 59,
   "metadata": {},
   "outputs": [
    {
     "name": "stdout",
     "output_type": "stream",
     "text": [
      "_________________________________________________________________\n",
      "Layer (type)                 Output Shape              Param #   \n",
      "=================================================================\n",
      "conv2d_1 (Conv2D)            (None, 26, 26, 32)        320       \n",
      "_________________________________________________________________\n",
      "activation_11 (Activation)   (None, 26, 26, 32)        0         \n",
      "_________________________________________________________________\n",
      "conv2d_2 (Conv2D)            (None, 24, 24, 32)        9248      \n",
      "_________________________________________________________________\n",
      "activation_12 (Activation)   (None, 24, 24, 32)        0         \n",
      "_________________________________________________________________\n",
      "max_pooling2d_1 (MaxPooling2 (None, 12, 12, 32)        0         \n",
      "_________________________________________________________________\n",
      "flatten_1 (Flatten)          (None, 4608)              0         \n",
      "_________________________________________________________________\n",
      "dense_11 (Dense)             (None, 200)               921800    \n",
      "_________________________________________________________________\n",
      "activation_13 (Activation)   (None, 200)               0         \n",
      "_________________________________________________________________\n",
      "dense_12 (Dense)             (None, 10)                2010      \n",
      "_________________________________________________________________\n",
      "activation_14 (Activation)   (None, 10)                0         \n",
      "=================================================================\n",
      "Total params: 933,378\n",
      "Trainable params: 933,378\n",
      "Non-trainable params: 0\n",
      "_________________________________________________________________\n"
     ]
    }
   ],
   "source": [
    "model.summary()"
   ]
  },
  {
   "cell_type": "code",
   "execution_count": 116,
   "metadata": {
    "scrolled": true
   },
   "outputs": [
    {
     "name": "stderr",
     "output_type": "stream",
     "text": [
      "D:\\anaconda\\lib\\site-packages\\keras\\models.py:939: UserWarning: The `nb_epoch` argument in `fit` has been renamed `epochs`.\n",
      "  warnings.warn('The `nb_epoch` argument in `fit` '\n"
     ]
    },
    {
     "name": "stdout",
     "output_type": "stream",
     "text": [
      "Epoch 1/8\n",
      "60000/60000 [==============================] - 100s 2ms/step - loss: 0.2244 - acc: 0.9322\n",
      "Epoch 2/8\n",
      "60000/60000 [==============================] - 99s 2ms/step - loss: 0.0556 - acc: 0.9831\n",
      "Epoch 3/8\n",
      "60000/60000 [==============================] - 101s 2ms/step - loss: 0.0378 - acc: 0.9885\n",
      "Epoch 4/8\n",
      "60000/60000 [==============================] - 99s 2ms/step - loss: 0.0286 - acc: 0.9915\n",
      "Epoch 5/8\n",
      "60000/60000 [==============================] - 101s 2ms/step - loss: 0.0219 - acc: 0.9936\n",
      "Epoch 6/8\n",
      "60000/60000 [==============================] - 100s 2ms/step - loss: 0.0170 - acc: 0.9951\n",
      "Epoch 7/8\n",
      "60000/60000 [==============================] - 100s 2ms/step - loss: 0.0136 - acc: 0.9960\n",
      "Epoch 8/8\n",
      "60000/60000 [==============================] - 100s 2ms/step - loss: 0.0106 - acc: 0.9971\n"
     ]
    },
    {
     "data": {
      "text/plain": [
       "<keras.callbacks.History at 0x6a66e1d0>"
      ]
     },
     "execution_count": 116,
     "metadata": {},
     "output_type": "execute_result"
    }
   ],
   "source": [
    "#訓練、batch_size=每批用多少資料、nb_epoch處理幾次 、verbose=1(每個步驟都印出)\n",
    "model.fit(X_train,Y_train,batch_size=batch_size,nb_epoch=epochs,verbose=1)"
   ]
  },
  {
   "cell_type": "code",
   "execution_count": 117,
   "metadata": {
    "scrolled": true
   },
   "outputs": [
    {
     "name": "stdout",
     "output_type": "stream",
     "text": [
      "10000/10000 [==============================] - 6s 567us/step\n",
      "Test accuracy: 0.9889\n"
     ]
    }
   ],
   "source": [
    "score=model.evaluate(X_test,Y_test,verbose=1)\n",
    "print('Test accuracy:',score[1])"
   ]
  },
  {
   "cell_type": "code",
   "execution_count": 118,
   "metadata": {
    "collapsed": true
   },
   "outputs": [],
   "source": [
    "#取得加權矩陣 (取得784(像素)*50(隱藏層數) +  50的矩陣)\n",
    "weights=model.layers[0].get_weights()"
   ]
  },
  {
   "cell_type": "code",
   "execution_count": 120,
   "metadata": {},
   "outputs": [
    {
     "ename": "ValueError",
     "evalue": "cannot reshape array of size 9 into shape (28,28,1)",
     "output_type": "error",
     "traceback": [
      "\u001b[1;31m---------------------------------------------------------------------------\u001b[0m",
      "\u001b[1;31mValueError\u001b[0m                                Traceback (most recent call last)",
      "\u001b[1;32m<ipython-input-120-bb86a57f07be>\u001b[0m in \u001b[0;36m<module>\u001b[1;34m()\u001b[0m\n\u001b[0;32m     14\u001b[0m     \u001b[0max\u001b[0m \u001b[1;33m=\u001b[0m \u001b[0mfig\u001b[0m\u001b[1;33m.\u001b[0m\u001b[0madd_subplot\u001b[0m\u001b[1;33m(\u001b[0m\u001b[1;36m20\u001b[0m\u001b[1;33m,\u001b[0m \u001b[1;36m20\u001b[0m\u001b[1;33m,\u001b[0m \u001b[0mneuron\u001b[0m\u001b[1;33m+\u001b[0m\u001b[1;36m1\u001b[0m\u001b[1;33m)\u001b[0m \u001b[1;31m#給予50個空間\u001b[0m\u001b[1;33m\u001b[0m\u001b[0m\n\u001b[0;32m     15\u001b[0m     \u001b[0max\u001b[0m\u001b[1;33m.\u001b[0m\u001b[0maxis\u001b[0m\u001b[1;33m(\u001b[0m\u001b[1;34m\"off\"\u001b[0m\u001b[1;33m)\u001b[0m\u001b[1;31m#軸取消\u001b[0m\u001b[1;33m\u001b[0m\u001b[0m\n\u001b[1;32m---> 16\u001b[1;33m     \u001b[0max\u001b[0m\u001b[1;33m.\u001b[0m\u001b[0mimshow\u001b[0m\u001b[1;33m(\u001b[0m\u001b[0mnumpy\u001b[0m\u001b[1;33m.\u001b[0m\u001b[0mreshape\u001b[0m\u001b[1;33m(\u001b[0m\u001b[0mw\u001b[0m\u001b[1;33m[\u001b[0m\u001b[0mneuron\u001b[0m\u001b[1;33m]\u001b[0m\u001b[1;33m,\u001b[0m \u001b[1;33m(\u001b[0m\u001b[1;36m28\u001b[0m\u001b[1;33m,\u001b[0m \u001b[1;36m28\u001b[0m\u001b[1;33m,\u001b[0m\u001b[1;36m1\u001b[0m\u001b[1;33m)\u001b[0m\u001b[1;33m)\u001b[0m\u001b[1;33m,\u001b[0m \u001b[0mcmap\u001b[0m \u001b[1;33m=\u001b[0m \u001b[0mcm\u001b[0m\u001b[1;33m.\u001b[0m\u001b[0mGreys_r\u001b[0m\u001b[1;33m)\u001b[0m\u001b[1;31m#取得第n個784轉換成28*28 cm,Greys_r灰階\u001b[0m\u001b[1;33m\u001b[0m\u001b[0m\n\u001b[0m\u001b[0;32m     17\u001b[0m \u001b[1;33m\u001b[0m\u001b[0m\n\u001b[0;32m     18\u001b[0m \u001b[0mplt\u001b[0m\u001b[1;33m.\u001b[0m\u001b[0msavefig\u001b[0m\u001b[1;33m(\u001b[0m\u001b[1;34m\"neuron_images.png\"\u001b[0m\u001b[1;33m,\u001b[0m \u001b[0mdpi\u001b[0m\u001b[1;33m=\u001b[0m\u001b[1;36m300\u001b[0m\u001b[1;33m)\u001b[0m\u001b[1;33m\u001b[0m\u001b[0m\n",
      "\u001b[1;32mD:\\anaconda\\lib\\site-packages\\numpy\\core\\fromnumeric.py\u001b[0m in \u001b[0;36mreshape\u001b[1;34m(a, newshape, order)\u001b[0m\n\u001b[0;32m    255\u001b[0m     \u001b[1;33m*\u001b[0m \u001b[1;32mif\u001b[0m\u001b[0;31m \u001b[0m\u001b[0;31m`\u001b[0m\u001b[0;31m`\u001b[0m\u001b[0mmode\u001b[0m\u001b[1;33m=\u001b[0m\u001b[1;32mraise\u001b[0m\u001b[0;31m`\u001b[0m\u001b[0;31m`\u001b[0m \u001b[1;33m(\u001b[0m\u001b[0mthe\u001b[0m \u001b[0mdefault\u001b[0m\u001b[1;33m)\u001b[0m\u001b[1;33m,\u001b[0m \u001b[0mthen\u001b[0m\u001b[1;33m,\u001b[0m \u001b[0mfirst\u001b[0m \u001b[0mof\u001b[0m \u001b[0mall\u001b[0m\u001b[1;33m,\u001b[0m \u001b[0meach\u001b[0m \u001b[0melement\u001b[0m \u001b[0mof\u001b[0m\u001b[1;33m\u001b[0m\u001b[0m\n\u001b[0;32m    256\u001b[0m       \u001b[0;31m`\u001b[0m\u001b[0ma\u001b[0m\u001b[0;31m`\u001b[0m \u001b[1;33m(\u001b[0m\u001b[1;32mand\u001b[0m \u001b[0mthus\u001b[0m\u001b[0;31m \u001b[0m\u001b[0;31m`\u001b[0m\u001b[0mBa\u001b[0m\u001b[0;31m`\u001b[0m\u001b[1;33m)\u001b[0m \u001b[0mmust\u001b[0m \u001b[0mbe\u001b[0m \u001b[1;32min\u001b[0m \u001b[0mthe\u001b[0m \u001b[0mrange\u001b[0m\u001b[0;31m \u001b[0m\u001b[0;31m`\u001b[0m\u001b[1;33m[\u001b[0m\u001b[1;36m0\u001b[0m\u001b[1;33m,\u001b[0m \u001b[0mn\u001b[0m\u001b[1;33m-\u001b[0m\u001b[1;36m1\u001b[0m\u001b[1;33m]\u001b[0m\u001b[0;31m`\u001b[0m\u001b[1;33m;\u001b[0m \u001b[0mnow\u001b[0m\u001b[1;33m,\u001b[0m \u001b[0msuppose\u001b[0m \u001b[0mthat\u001b[0m\u001b[1;33m\u001b[0m\u001b[0m\n\u001b[1;32m--> 257\u001b[1;33m       \u001b[0;31m`\u001b[0m\u001b[0mi\u001b[0m\u001b[0;31m`\u001b[0m \u001b[1;33m(\u001b[0m\u001b[1;32min\u001b[0m \u001b[0mthat\u001b[0m \u001b[0mrange\u001b[0m\u001b[1;33m)\u001b[0m \u001b[1;32mis\u001b[0m \u001b[0mthe\u001b[0m \u001b[0mvalue\u001b[0m \u001b[0mat\u001b[0m \u001b[0mthe\u001b[0m\u001b[0;31m \u001b[0m\u001b[0;31m`\u001b[0m\u001b[1;33m(\u001b[0m\u001b[0mj0\u001b[0m\u001b[1;33m,\u001b[0m \u001b[0mj1\u001b[0m\u001b[1;33m,\u001b[0m \u001b[1;33m...\u001b[0m\u001b[1;33m,\u001b[0m \u001b[0mjm\u001b[0m\u001b[1;33m)\u001b[0m\u001b[0;31m`\u001b[0m \u001b[0mposition\u001b[0m\u001b[1;33m\u001b[0m\u001b[0m\n\u001b[0m\u001b[0;32m    258\u001b[0m       \u001b[1;32min\u001b[0m\u001b[0;31m \u001b[0m\u001b[0;31m`\u001b[0m\u001b[0mBa\u001b[0m\u001b[0;31m`\u001b[0m \u001b[1;33m-\u001b[0m \u001b[0mthen\u001b[0m \u001b[0mthe\u001b[0m \u001b[0mvalue\u001b[0m \u001b[0mat\u001b[0m \u001b[0mthe\u001b[0m \u001b[0msame\u001b[0m \u001b[0mposition\u001b[0m \u001b[1;32min\u001b[0m \u001b[0mthe\u001b[0m \u001b[0mnew\u001b[0m \u001b[0marray\u001b[0m \u001b[1;32mis\u001b[0m \u001b[0mthe\u001b[0m\u001b[1;33m\u001b[0m\u001b[0m\n\u001b[0;32m    259\u001b[0m       \u001b[0mvalue\u001b[0m \u001b[1;32min\u001b[0m\u001b[0;31m \u001b[0m\u001b[0;31m`\u001b[0m\u001b[0mBchoices\u001b[0m\u001b[1;33m[\u001b[0m\u001b[0mi\u001b[0m\u001b[1;33m]\u001b[0m\u001b[0;31m`\u001b[0m \u001b[0mat\u001b[0m \u001b[0mthat\u001b[0m \u001b[0msame\u001b[0m \u001b[0mposition\u001b[0m\u001b[1;33m;\u001b[0m\u001b[1;33m\u001b[0m\u001b[0m\n",
      "\u001b[1;32mD:\\anaconda\\lib\\site-packages\\numpy\\core\\fromnumeric.py\u001b[0m in \u001b[0;36m_wrapfunc\u001b[1;34m(obj, method, *args, **kwds)\u001b[0m\n\u001b[0;32m     50\u001b[0m             \u001b[0mresult\u001b[0m \u001b[1;33m=\u001b[0m \u001b[0masarray\u001b[0m\u001b[1;33m(\u001b[0m\u001b[0mresult\u001b[0m\u001b[1;33m)\u001b[0m\u001b[1;33m\u001b[0m\u001b[0m\n\u001b[0;32m     51\u001b[0m         \u001b[0mresult\u001b[0m \u001b[1;33m=\u001b[0m \u001b[0mwrap\u001b[0m\u001b[1;33m(\u001b[0m\u001b[0mresult\u001b[0m\u001b[1;33m)\u001b[0m\u001b[1;33m\u001b[0m\u001b[0m\n\u001b[1;32m---> 52\u001b[1;33m     \u001b[1;32mreturn\u001b[0m \u001b[0mresult\u001b[0m\u001b[1;33m\u001b[0m\u001b[0m\n\u001b[0m\u001b[0;32m     53\u001b[0m \u001b[1;33m\u001b[0m\u001b[0m\n\u001b[0;32m     54\u001b[0m \u001b[1;33m\u001b[0m\u001b[0m\n",
      "\u001b[1;31mValueError\u001b[0m: cannot reshape array of size 9 into shape (28,28,1)"
     ]
    }
   ],
   "source": [
    "import matplotlib.pyplot as plt\n",
    "import matplotlib.cm as cm #圖形種類\n",
    "import numpy\n",
    "w=weights[0].T #變成50*784\n",
    "\n",
    "# for neuron in range(hidden_neurons):\n",
    "#     plt.imshow(numpy.reshape(w[neuron],(28,28)),\n",
    "#     cmap=cm.Greys_r)\n",
    "#     plt.show()\n",
    "    \n",
    "    \n",
    "fig = plt.figure() \n",
    "for neuron in range(hidden_neurons):         \n",
    "    ax = fig.add_subplot(20, 20, neuron+1) #給予50個空間\n",
    "    ax.axis(\"off\")#軸取消\n",
    "    ax.imshow(numpy.reshape(w[neuron], (28, 28)), cmap = cm.Greys_r)#取得第n個784轉換成28*28 cm,Greys_r灰階\n",
    "\n",
    "plt.savefig(\"neuron_images.png\", dpi=300)    \n",
    "plt.show()  "
   ]
  },
  {
   "cell_type": "code",
   "execution_count": null,
   "metadata": {
    "collapsed": true
   },
   "outputs": [],
   "source": []
  },
  {
   "cell_type": "code",
   "execution_count": null,
   "metadata": {
    "collapsed": true
   },
   "outputs": [],
   "source": []
  },
  {
   "cell_type": "code",
   "execution_count": 145,
   "metadata": {
    "scrolled": true
   },
   "outputs": [
    {
     "name": "stdout",
     "output_type": "stream",
     "text": [
      "Train on 54000 samples, validate on 6000 samples\n",
      "Epoch 1/8\n",
      " 1700/54000 [..............................] - ETA: 1:58 - loss: 1.7324 - acc: 0.5006"
     ]
    },
    {
     "ename": "KeyboardInterrupt",
     "evalue": "",
     "output_type": "error",
     "traceback": [
      "\u001b[1;31m---------------------------------------------------------------------------\u001b[0m",
      "\u001b[1;31mKeyboardInterrupt\u001b[0m                         Traceback (most recent call last)",
      "\u001b[1;32m<ipython-input-145-c8bac6cb89f9>\u001b[0m in \u001b[0;36m<module>\u001b[1;34m()\u001b[0m\n\u001b[0;32m     47\u001b[0m \u001b[0mmodel\u001b[0m\u001b[1;33m.\u001b[0m\u001b[0mcompile\u001b[0m\u001b[1;33m(\u001b[0m\u001b[0mloss\u001b[0m\u001b[1;33m=\u001b[0m\u001b[1;34m'categorical_crossentropy'\u001b[0m\u001b[1;33m,\u001b[0m \u001b[0mmetrics\u001b[0m\u001b[1;33m=\u001b[0m\u001b[1;33m[\u001b[0m\u001b[1;34m'accuracy'\u001b[0m\u001b[1;33m]\u001b[0m\u001b[1;33m,\u001b[0m \u001b[0moptimizer\u001b[0m\u001b[1;33m=\u001b[0m\u001b[1;34m'adadelta'\u001b[0m\u001b[1;33m)\u001b[0m\u001b[1;33m\u001b[0m\u001b[0m\n\u001b[0;32m     48\u001b[0m \u001b[1;33m\u001b[0m\u001b[0m\n\u001b[1;32m---> 49\u001b[1;33m \u001b[0mmodel\u001b[0m\u001b[1;33m.\u001b[0m\u001b[0mfit\u001b[0m\u001b[1;33m(\u001b[0m\u001b[0mX_train\u001b[0m\u001b[1;33m,\u001b[0m \u001b[0mY_train\u001b[0m\u001b[1;33m,\u001b[0m \u001b[0mbatch_size\u001b[0m\u001b[1;33m=\u001b[0m\u001b[0mbatch_size\u001b[0m\u001b[1;33m,\u001b[0m \u001b[0mepochs\u001b[0m\u001b[1;33m=\u001b[0m\u001b[0mepochs\u001b[0m\u001b[1;33m,\u001b[0m \u001b[0mvalidation_split\u001b[0m \u001b[1;33m=\u001b[0m \u001b[1;36m0.1\u001b[0m\u001b[1;33m,\u001b[0m \u001b[0mverbose\u001b[0m\u001b[1;33m=\u001b[0m\u001b[1;36m1\u001b[0m\u001b[1;33m)\u001b[0m\u001b[1;33m\u001b[0m\u001b[0m\n\u001b[0m\u001b[0;32m     50\u001b[0m \u001b[1;33m\u001b[0m\u001b[0m\n\u001b[0;32m     51\u001b[0m \u001b[0mscore\u001b[0m \u001b[1;33m=\u001b[0m \u001b[0mmodel\u001b[0m\u001b[1;33m.\u001b[0m\u001b[0mevaluate\u001b[0m\u001b[1;33m(\u001b[0m\u001b[0mX_test\u001b[0m\u001b[1;33m,\u001b[0m \u001b[0mY_test\u001b[0m\u001b[1;33m,\u001b[0m \u001b[0mverbose\u001b[0m\u001b[1;33m=\u001b[0m\u001b[1;36m1\u001b[0m\u001b[1;33m)\u001b[0m\u001b[1;33m\u001b[0m\u001b[0m\n",
      "\u001b[1;32mD:\\anaconda\\lib\\site-packages\\keras\\models.py\u001b[0m in \u001b[0;36mfit\u001b[1;34m(self, x, y, batch_size, epochs, verbose, callbacks, validation_split, validation_data, shuffle, class_weight, sample_weight, initial_epoch, steps_per_epoch, validation_steps, **kwargs)\u001b[0m\n\u001b[0;32m    958\u001b[0m                               \u001b[0minitial_epoch\u001b[0m\u001b[1;33m=\u001b[0m\u001b[0minitial_epoch\u001b[0m\u001b[1;33m,\u001b[0m\u001b[1;33m\u001b[0m\u001b[0m\n\u001b[0;32m    959\u001b[0m                               \u001b[0msteps_per_epoch\u001b[0m\u001b[1;33m=\u001b[0m\u001b[0msteps_per_epoch\u001b[0m\u001b[1;33m,\u001b[0m\u001b[1;33m\u001b[0m\u001b[0m\n\u001b[1;32m--> 960\u001b[1;33m                               validation_steps=validation_steps)\n\u001b[0m\u001b[0;32m    961\u001b[0m \u001b[1;33m\u001b[0m\u001b[0m\n\u001b[0;32m    962\u001b[0m     def evaluate(self, x, y, batch_size=32, verbose=1,\n",
      "\u001b[1;32mD:\\anaconda\\lib\\site-packages\\keras\\engine\\training.py\u001b[0m in \u001b[0;36mfit\u001b[1;34m(self, x, y, batch_size, epochs, verbose, callbacks, validation_split, validation_data, shuffle, class_weight, sample_weight, initial_epoch, steps_per_epoch, validation_steps, **kwargs)\u001b[0m\n\u001b[0;32m   1648\u001b[0m                               \u001b[0minitial_epoch\u001b[0m\u001b[1;33m=\u001b[0m\u001b[0minitial_epoch\u001b[0m\u001b[1;33m,\u001b[0m\u001b[1;33m\u001b[0m\u001b[0m\n\u001b[0;32m   1649\u001b[0m                               \u001b[0msteps_per_epoch\u001b[0m\u001b[1;33m=\u001b[0m\u001b[0msteps_per_epoch\u001b[0m\u001b[1;33m,\u001b[0m\u001b[1;33m\u001b[0m\u001b[0m\n\u001b[1;32m-> 1650\u001b[1;33m                               validation_steps=validation_steps)\n\u001b[0m\u001b[0;32m   1651\u001b[0m \u001b[1;33m\u001b[0m\u001b[0m\n\u001b[0;32m   1652\u001b[0m     def evaluate(self, x=None, y=None,\n",
      "\u001b[1;32mD:\\anaconda\\lib\\site-packages\\keras\\engine\\training.py\u001b[0m in \u001b[0;36m_fit_loop\u001b[1;34m(self, f, ins, out_labels, batch_size, epochs, verbose, callbacks, val_f, val_ins, shuffle, callback_metrics, initial_epoch, steps_per_epoch, validation_steps)\u001b[0m\n\u001b[0;32m   1211\u001b[0m                     \u001b[0mbatch_logs\u001b[0m\u001b[1;33m[\u001b[0m\u001b[1;34m'size'\u001b[0m\u001b[1;33m]\u001b[0m \u001b[1;33m=\u001b[0m \u001b[0mlen\u001b[0m\u001b[1;33m(\u001b[0m\u001b[0mbatch_ids\u001b[0m\u001b[1;33m)\u001b[0m\u001b[1;33m\u001b[0m\u001b[0m\n\u001b[0;32m   1212\u001b[0m                     \u001b[0mcallbacks\u001b[0m\u001b[1;33m.\u001b[0m\u001b[0mon_batch_begin\u001b[0m\u001b[1;33m(\u001b[0m\u001b[0mbatch_index\u001b[0m\u001b[1;33m,\u001b[0m \u001b[0mbatch_logs\u001b[0m\u001b[1;33m)\u001b[0m\u001b[1;33m\u001b[0m\u001b[0m\n\u001b[1;32m-> 1213\u001b[1;33m                     \u001b[0mouts\u001b[0m \u001b[1;33m=\u001b[0m \u001b[0mf\u001b[0m\u001b[1;33m(\u001b[0m\u001b[0mins_batch\u001b[0m\u001b[1;33m)\u001b[0m\u001b[1;33m\u001b[0m\u001b[0m\n\u001b[0m\u001b[0;32m   1214\u001b[0m                     \u001b[1;32mif\u001b[0m \u001b[1;32mnot\u001b[0m \u001b[0misinstance\u001b[0m\u001b[1;33m(\u001b[0m\u001b[0mouts\u001b[0m\u001b[1;33m,\u001b[0m \u001b[0mlist\u001b[0m\u001b[1;33m)\u001b[0m\u001b[1;33m:\u001b[0m\u001b[1;33m\u001b[0m\u001b[0m\n\u001b[0;32m   1215\u001b[0m                         \u001b[0mouts\u001b[0m \u001b[1;33m=\u001b[0m \u001b[1;33m[\u001b[0m\u001b[0mouts\u001b[0m\u001b[1;33m]\u001b[0m\u001b[1;33m\u001b[0m\u001b[0m\n",
      "\u001b[1;32mD:\\anaconda\\lib\\site-packages\\keras\\backend\\tensorflow_backend.py\u001b[0m in \u001b[0;36m__call__\u001b[1;34m(self, inputs)\u001b[0m\n\u001b[0;32m   2350\u001b[0m         \u001b[0msession\u001b[0m \u001b[1;33m=\u001b[0m \u001b[0mget_session\u001b[0m\u001b[1;33m(\u001b[0m\u001b[1;33m)\u001b[0m\u001b[1;33m\u001b[0m\u001b[0m\n\u001b[0;32m   2351\u001b[0m         updated = session.run(fetches=fetches, feed_dict=feed_dict,\n\u001b[1;32m-> 2352\u001b[1;33m                               **self.session_kwargs)\n\u001b[0m\u001b[0;32m   2353\u001b[0m         \u001b[1;32mreturn\u001b[0m \u001b[0mupdated\u001b[0m\u001b[1;33m[\u001b[0m\u001b[1;33m:\u001b[0m\u001b[0mlen\u001b[0m\u001b[1;33m(\u001b[0m\u001b[0mself\u001b[0m\u001b[1;33m.\u001b[0m\u001b[0moutputs\u001b[0m\u001b[1;33m)\u001b[0m\u001b[1;33m]\u001b[0m\u001b[1;33m\u001b[0m\u001b[0m\n\u001b[0;32m   2354\u001b[0m \u001b[1;33m\u001b[0m\u001b[0m\n",
      "\u001b[1;32mD:\\anaconda\\lib\\site-packages\\tensorflow\\python\\client\\session.py\u001b[0m in \u001b[0;36mrun\u001b[1;34m(self, fetches, feed_dict, options, run_metadata)\u001b[0m\n\u001b[0;32m    787\u001b[0m     \u001b[1;32mtry\u001b[0m\u001b[1;33m:\u001b[0m\u001b[1;33m\u001b[0m\u001b[0m\n\u001b[0;32m    788\u001b[0m       result = self._run(None, fetches, feed_dict, options_ptr,\n\u001b[1;32m--> 789\u001b[1;33m                          run_metadata_ptr)\n\u001b[0m\u001b[0;32m    790\u001b[0m       \u001b[1;32mif\u001b[0m \u001b[0mrun_metadata\u001b[0m\u001b[1;33m:\u001b[0m\u001b[1;33m\u001b[0m\u001b[0m\n\u001b[0;32m    791\u001b[0m         \u001b[0mproto_data\u001b[0m \u001b[1;33m=\u001b[0m \u001b[0mtf_session\u001b[0m\u001b[1;33m.\u001b[0m\u001b[0mTF_GetBuffer\u001b[0m\u001b[1;33m(\u001b[0m\u001b[0mrun_metadata_ptr\u001b[0m\u001b[1;33m)\u001b[0m\u001b[1;33m\u001b[0m\u001b[0m\n",
      "\u001b[1;32mD:\\anaconda\\lib\\site-packages\\tensorflow\\python\\client\\session.py\u001b[0m in \u001b[0;36m_run\u001b[1;34m(self, handle, fetches, feed_dict, options, run_metadata)\u001b[0m\n\u001b[0;32m    995\u001b[0m     \u001b[1;32mif\u001b[0m \u001b[0mfinal_fetches\u001b[0m \u001b[1;32mor\u001b[0m \u001b[0mfinal_targets\u001b[0m\u001b[1;33m:\u001b[0m\u001b[1;33m\u001b[0m\u001b[0m\n\u001b[0;32m    996\u001b[0m       results = self._do_run(handle, final_targets, final_fetches,\n\u001b[1;32m--> 997\u001b[1;33m                              feed_dict_string, options, run_metadata)\n\u001b[0m\u001b[0;32m    998\u001b[0m     \u001b[1;32melse\u001b[0m\u001b[1;33m:\u001b[0m\u001b[1;33m\u001b[0m\u001b[0m\n\u001b[0;32m    999\u001b[0m       \u001b[0mresults\u001b[0m \u001b[1;33m=\u001b[0m \u001b[1;33m[\u001b[0m\u001b[1;33m]\u001b[0m\u001b[1;33m\u001b[0m\u001b[0m\n",
      "\u001b[1;32mD:\\anaconda\\lib\\site-packages\\tensorflow\\python\\client\\session.py\u001b[0m in \u001b[0;36m_do_run\u001b[1;34m(self, handle, target_list, fetch_list, feed_dict, options, run_metadata)\u001b[0m\n\u001b[0;32m   1130\u001b[0m     \u001b[1;32mif\u001b[0m \u001b[0mhandle\u001b[0m \u001b[1;32mis\u001b[0m \u001b[1;32mNone\u001b[0m\u001b[1;33m:\u001b[0m\u001b[1;33m\u001b[0m\u001b[0m\n\u001b[0;32m   1131\u001b[0m       return self._do_call(_run_fn, self._session, feed_dict, fetch_list,\n\u001b[1;32m-> 1132\u001b[1;33m                            target_list, options, run_metadata)\n\u001b[0m\u001b[0;32m   1133\u001b[0m     \u001b[1;32melse\u001b[0m\u001b[1;33m:\u001b[0m\u001b[1;33m\u001b[0m\u001b[0m\n\u001b[0;32m   1134\u001b[0m       return self._do_call(_prun_fn, self._session, handle, feed_dict,\n",
      "\u001b[1;32mD:\\anaconda\\lib\\site-packages\\tensorflow\\python\\client\\session.py\u001b[0m in \u001b[0;36m_do_call\u001b[1;34m(self, fn, *args)\u001b[0m\n\u001b[0;32m   1137\u001b[0m   \u001b[1;32mdef\u001b[0m \u001b[0m_do_call\u001b[0m\u001b[1;33m(\u001b[0m\u001b[0mself\u001b[0m\u001b[1;33m,\u001b[0m \u001b[0mfn\u001b[0m\u001b[1;33m,\u001b[0m \u001b[1;33m*\u001b[0m\u001b[0margs\u001b[0m\u001b[1;33m)\u001b[0m\u001b[1;33m:\u001b[0m\u001b[1;33m\u001b[0m\u001b[0m\n\u001b[0;32m   1138\u001b[0m     \u001b[1;32mtry\u001b[0m\u001b[1;33m:\u001b[0m\u001b[1;33m\u001b[0m\u001b[0m\n\u001b[1;32m-> 1139\u001b[1;33m       \u001b[1;32mreturn\u001b[0m \u001b[0mfn\u001b[0m\u001b[1;33m(\u001b[0m\u001b[1;33m*\u001b[0m\u001b[0margs\u001b[0m\u001b[1;33m)\u001b[0m\u001b[1;33m\u001b[0m\u001b[0m\n\u001b[0m\u001b[0;32m   1140\u001b[0m     \u001b[1;32mexcept\u001b[0m \u001b[0merrors\u001b[0m\u001b[1;33m.\u001b[0m\u001b[0mOpError\u001b[0m \u001b[1;32mas\u001b[0m \u001b[0me\u001b[0m\u001b[1;33m:\u001b[0m\u001b[1;33m\u001b[0m\u001b[0m\n\u001b[0;32m   1141\u001b[0m       \u001b[0mmessage\u001b[0m \u001b[1;33m=\u001b[0m \u001b[0mcompat\u001b[0m\u001b[1;33m.\u001b[0m\u001b[0mas_text\u001b[0m\u001b[1;33m(\u001b[0m\u001b[0me\u001b[0m\u001b[1;33m.\u001b[0m\u001b[0mmessage\u001b[0m\u001b[1;33m)\u001b[0m\u001b[1;33m\u001b[0m\u001b[0m\n",
      "\u001b[1;32mD:\\anaconda\\lib\\site-packages\\tensorflow\\python\\client\\session.py\u001b[0m in \u001b[0;36m_run_fn\u001b[1;34m(session, feed_dict, fetch_list, target_list, options, run_metadata)\u001b[0m\n\u001b[0;32m   1119\u001b[0m         return tf_session.TF_Run(session, options,\n\u001b[0;32m   1120\u001b[0m                                  \u001b[0mfeed_dict\u001b[0m\u001b[1;33m,\u001b[0m \u001b[0mfetch_list\u001b[0m\u001b[1;33m,\u001b[0m \u001b[0mtarget_list\u001b[0m\u001b[1;33m,\u001b[0m\u001b[1;33m\u001b[0m\u001b[0m\n\u001b[1;32m-> 1121\u001b[1;33m                                  status, run_metadata)\n\u001b[0m\u001b[0;32m   1122\u001b[0m \u001b[1;33m\u001b[0m\u001b[0m\n\u001b[0;32m   1123\u001b[0m     \u001b[1;32mdef\u001b[0m \u001b[0m_prun_fn\u001b[0m\u001b[1;33m(\u001b[0m\u001b[0msession\u001b[0m\u001b[1;33m,\u001b[0m \u001b[0mhandle\u001b[0m\u001b[1;33m,\u001b[0m \u001b[0mfeed_dict\u001b[0m\u001b[1;33m,\u001b[0m \u001b[0mfetch_list\u001b[0m\u001b[1;33m)\u001b[0m\u001b[1;33m:\u001b[0m\u001b[1;33m\u001b[0m\u001b[0m\n",
      "\u001b[1;31mKeyboardInterrupt\u001b[0m: "
     ]
    }
   ],
   "source": [
    "import numpy as np     \n",
    "# np.random.seed(0)  #for reproducibility            \n",
    "\n",
    "from keras.datasets import mnist\n",
    "from keras.models import Sequential #model\n",
    "from keras.layers import Dense, Activation #緊密層、啟動函數\n",
    "from keras.layers import Convolution2D, MaxPooling2D# 卷積、池化\n",
    "from keras.layers import Dropout, Flatten #隨機神經元退出 、平坦化\n",
    "\n",
    "from keras.utils import np_utils\n",
    "\n",
    "batch_size = 100     \n",
    "hidden_neurons = 200\n",
    "classes = 10     \n",
    "epochs = 8\n",
    "\n",
    "(X_train, Y_train), (X_test, Y_test) = mnist.load_data()\n",
    "\n",
    "X_train = X_train.reshape(60000, 28, 28, 1)     \n",
    "X_test = X_test.reshape(10000, 28, 28, 1)\n",
    "\n",
    "\n",
    "X_train = X_train.astype('float32')     \n",
    "X_test = X_test.astype('float32')     \n",
    "X_train /= 255     \n",
    "X_test /= 255\n",
    "\n",
    "Y_train = np_utils.to_categorical(Y_train, classes)     \n",
    "Y_test = np_utils.to_categorical(Y_test, classes)\n",
    "\n",
    "model = Sequential() \n",
    "model.add(Convolution2D(32, (3, 3), input_shape=(28, 28, 1))) #32種3*3的filters \n",
    "model.add(Activation('relu'))\n",
    "model.add(Convolution2D(32, (3, 3)))  \n",
    "model.add(Activation('relu'))\n",
    "model.add(MaxPooling2D(pool_size=(2, 2))) \n",
    "model.add(Dropout(0.25))  \n",
    "               \n",
    "model.add(Flatten())\n",
    " \n",
    "model.add(Dense(hidden_neurons)) \n",
    "model.add(Activation('relu'))      \n",
    "model.add(Dense(classes)) \n",
    "model.add(Activation('softmax'))\n",
    "     \n",
    "\n",
    "model.compile(loss='categorical_crossentropy', metrics=['accuracy'], optimizer='adadelta')\n",
    "\n",
    "model.fit(X_train, Y_train, batch_size=batch_size, epochs=epochs, validation_split = 0.1, verbose=1)\n",
    "\n",
    "score = model.evaluate(X_test, Y_test, verbose=1)\n",
    "print('Test accuracy:', score[1]) "
   ]
  },
  {
   "cell_type": "code",
   "execution_count": 184,
   "metadata": {
    "scrolled": true
   },
   "outputs": [
    {
     "name": "stdout",
     "output_type": "stream",
     "text": [
      "Epoch 1/1\n",
      "60000/60000 [==============================] - 5s 78us/step - loss: 6.0131 - acc: 0.6197\n"
     ]
    },
    {
     "data": {
      "text/plain": [
       "<keras.callbacks.History at 0x346ce160>"
      ]
     },
     "execution_count": 184,
     "metadata": {},
     "output_type": "execute_result"
    }
   ],
   "source": [
    "from keras.datasets import mnist\n",
    "from keras.layers import Input, Dense\n",
    "from keras.models import Model\n",
    "from keras import utils\n",
    "\n",
    "(data, labels), (X_test, Y_test) = mnist.load_data()\n",
    "X_test=X_test.reshape(10000,784)\n",
    "data=data.reshape(60000,784)\n",
    "labels = utils.to_categorical(labels, num_classes=10)\n",
    "# 这部分返回一个张量\n",
    "inputs = Input(shape=(784,))\n",
    "\n",
    "# 层的实例是可调用的，它以张量为参数，并且返回一个张量\n",
    "x = Dense(64, activation='relu')(inputs)\n",
    "x = Dense(64, activation='relu')(x)\n",
    "predictions = Dense(10, activation='softmax')(x)\n",
    "\n",
    "# 这部分创建了一个包含输入层和三个全连接层的模型\n",
    "model = Model(inputs=inputs, outputs=predictions)\n",
    "model.compile(optimizer='rmsprop',\n",
    "              loss='categorical_crossentropy',\n",
    "              metrics=['accuracy'])\n",
    "model.fit(data, labels)  # 开始训练"
   ]
  },
  {
   "cell_type": "code",
   "execution_count": 185,
   "metadata": {
    "scrolled": true
   },
   "outputs": [
    {
     "name": "stdout",
     "output_type": "stream",
     "text": [
      "_________________________________________________________________\n",
      "Layer (type)                 Output Shape              Param #   \n",
      "=================================================================\n",
      "input_13 (InputLayer)        (None, 784)               0         \n",
      "_________________________________________________________________\n",
      "dense_73 (Dense)             (None, 64)                50240     \n",
      "_________________________________________________________________\n",
      "dense_74 (Dense)             (None, 64)                4160      \n",
      "_________________________________________________________________\n",
      "dense_75 (Dense)             (None, 10)                650       \n",
      "=================================================================\n",
      "Total params: 55,050\n",
      "Trainable params: 55,050\n",
      "Non-trainable params: 0\n",
      "_________________________________________________________________\n"
     ]
    }
   ],
   "source": [
    "model.summary()"
   ]
  },
  {
   "cell_type": "code",
   "execution_count": 1,
   "metadata": {},
   "outputs": [
    {
     "name": "stderr",
     "output_type": "stream",
     "text": [
      "D:\\anaconda\\lib\\site-packages\\h5py\\__init__.py:34: FutureWarning: Conversion of the second argument of issubdtype from `float` to `np.floating` is deprecated. In future, it will be treated as `np.float64 == np.dtype(float).type`.\n",
      "  from ._conv import register_converters as _register_converters\n",
      "Using TensorFlow backend.\n"
     ]
    },
    {
     "ename": "NameError",
     "evalue": "name 'model' is not defined",
     "output_type": "error",
     "traceback": [
      "\u001b[1;31m---------------------------------------------------------------------------\u001b[0m",
      "\u001b[1;31mNameError\u001b[0m                                 Traceback (most recent call last)",
      "\u001b[1;32m<ipython-input-1-b25a08dfd5ec>\u001b[0m in \u001b[0;36m<module>\u001b[1;34m()\u001b[0m\n\u001b[0;32m      1\u001b[0m \u001b[1;32mfrom\u001b[0m \u001b[0mkeras\u001b[0m\u001b[1;33m.\u001b[0m\u001b[0mmodels\u001b[0m \u001b[1;32mimport\u001b[0m \u001b[0mmodel_from_json\u001b[0m\u001b[1;33m\u001b[0m\u001b[0m\n\u001b[1;32m----> 2\u001b[1;33m \u001b[0mjson_string\u001b[0m \u001b[1;33m=\u001b[0m \u001b[0mmodel\u001b[0m\u001b[1;33m.\u001b[0m\u001b[0mto_json\u001b[0m\u001b[1;33m(\u001b[0m\u001b[1;33m)\u001b[0m \u001b[1;31m#將模型變json字串 可存放為文字檔\u001b[0m\u001b[1;33m\u001b[0m\u001b[0m\n\u001b[0m\u001b[0;32m      3\u001b[0m \u001b[0mmodel\u001b[0m \u001b[1;33m=\u001b[0m \u001b[0mmodel_from_json\u001b[0m\u001b[1;33m(\u001b[0m\u001b[0mjson_string\u001b[0m\u001b[1;33m)\u001b[0m \u001b[1;31m#將json字串變成model\u001b[0m\u001b[1;33m\u001b[0m\u001b[0m\n\u001b[0;32m      4\u001b[0m \u001b[1;33m\u001b[0m\u001b[0m\n\u001b[0;32m      5\u001b[0m \u001b[1;33m\u001b[0m\u001b[0m\n",
      "\u001b[1;31mNameError\u001b[0m: name 'model' is not defined"
     ]
    }
   ],
   "source": [
    "from keras.models import model_from_json\n",
    "json_string = model.to_json() #將模型變json字串 可存放為文字檔\n",
    "model = model_from_json(json_string) #將json字串變成model\n",
    "\n",
    "\n"
   ]
  },
  {
   "cell_type": "markdown",
   "metadata": {},
   "source": [
    "# RNN"
   ]
  },
  {
   "cell_type": "code",
   "execution_count": 11,
   "metadata": {},
   "outputs": [
    {
     "ename": "NameError",
     "evalue": "name 'number_iterations' is not defined",
     "output_type": "error",
     "traceback": [
      "\u001b[1;31m---------------------------------------------------------------------------\u001b[0m",
      "\u001b[1;31mNameError\u001b[0m                                 Traceback (most recent call last)",
      "\u001b[1;32m<ipython-input-11-b06a9523ece6>\u001b[0m in \u001b[0;36m<module>\u001b[1;34m()\u001b[0m\n\u001b[0;32m     25\u001b[0m \u001b[0mlearning_rate\u001b[0m\u001b[1;33m=\u001b[0m\u001b[1;36m0.0005\u001b[0m\u001b[1;33m\u001b[0m\u001b[0m\n\u001b[0;32m     26\u001b[0m \u001b[0mparameters\u001b[0m\u001b[1;33m=\u001b[0m\u001b[1;33m(\u001b[0m\u001b[1;33m-\u001b[0m\u001b[1;36m2\u001b[0m\u001b[1;33m,\u001b[0m\u001b[1;36m0\u001b[0m\u001b[1;33m)\u001b[0m\u001b[1;33m\u001b[0m\u001b[0m\n\u001b[1;32m---> 27\u001b[1;33m \u001b[1;32mfor\u001b[0m \u001b[0mi\u001b[0m \u001b[1;32min\u001b[0m \u001b[0mrange\u001b[0m\u001b[1;33m(\u001b[0m\u001b[0mnumber_iterations\u001b[0m\u001b[1;33m)\u001b[0m\u001b[1;33m:\u001b[0m\u001b[1;33m\u001b[0m\u001b[0m\n\u001b[0m\u001b[0;32m     28\u001b[0m     \u001b[0mS\u001b[0m\u001b[1;33m=\u001b[0m\u001b[0mforward\u001b[0m\u001b[1;33m(\u001b[0m\u001b[0mX\u001b[0m\u001b[1;33m,\u001b[0m\u001b[0mparameters\u001b[0m\u001b[1;33m(\u001b[0m\u001b[1;36m0\u001b[0m\u001b[1;33m)\u001b[0m\u001b[1;33m,\u001b[0m\u001b[0mparameters\u001b[0m\u001b[1;33m(\u001b[0m\u001b[1;36m1\u001b[0m\u001b[1;33m)\u001b[0m\u001b[1;33m)\u001b[0m\u001b[1;33m\u001b[0m\u001b[0m\n\u001b[0;32m     29\u001b[0m     \u001b[0mgradients\u001b[0m\u001b[1;33m=\u001b[0m\u001b[0mbackward\u001b[0m\u001b[1;33m(\u001b[0m\u001b[0mX\u001b[0m\u001b[1;33m,\u001b[0m\u001b[0mS\u001b[0m\u001b[1;33m,\u001b[0m\u001b[0mtargets\u001b[0m\u001b[1;33m,\u001b[0m\u001b[0mparameters\u001b[0m\u001b[1;33m(\u001b[0m\u001b[1;36m1\u001b[0m\u001b[1;33m)\u001b[0m\u001b[1;33m)\u001b[0m\u001b[1;33m\u001b[0m\u001b[0m\n",
      "\u001b[1;31mNameError\u001b[0m: name 'number_iterations' is not defined"
     ]
    }
   ],
   "source": [
    "targets=3\n",
    "\n",
    "#每走一步輸入得到的數值\n",
    "def step(s,x,U,W):\n",
    "    return x*U+s*W\n",
    "\n",
    "#向後傳遞\n",
    "def forward(X,U,W):\n",
    "    S=np.zeros((number_of_samples,sequence_length+1))\n",
    "    for t in range(0,sequence_length):\n",
    "        S[:,t+1]=step(S[:,t],X[:,t],U,W)\n",
    "    return S\n",
    "#成本函數(均方誤差)\n",
    "# cost=np.sum((targets-y)**2)\n",
    "def bacjward(X,S,targets,W):\n",
    "    y=S[:,-1]\n",
    "    gS=2.0*(y-targets)\n",
    "    gU,gW=0,0\n",
    "    for k in range(sequence_len,0,-1):\n",
    "        gU+=np.sum(gS*X[:,k-1])\n",
    "        gW+=np.sum(gS*S[:,k-1])\n",
    "        gS=gS*W\n",
    "    return gU,gW\n",
    "\n",
    "learning_rate=0.0005\n",
    "parameters=(-2,0)\n",
    "for i in range(number_iterations):\n",
    "    S=forward(X,parameters(0),parameters(1))\n",
    "    gradients=backward(X,S,targets,parameters(1))\n",
    "    parameters=((p-gp*learning_rate) for p,gp in zip(parameters,gradients))\n",
    "    "
   ]
  },
  {
   "cell_type": "code",
   "execution_count": 136,
   "metadata": {
    "collapsed": true
   },
   "outputs": [],
   "source": [
    "parameters=(-2,0)"
   ]
  },
  {
   "cell_type": "code",
   "execution_count": 137,
   "metadata": {},
   "outputs": [
    {
     "ename": "TypeError",
     "evalue": "'tuple' object is not callable",
     "output_type": "error",
     "traceback": [
      "\u001b[1;31m---------------------------------------------------------------------------\u001b[0m",
      "\u001b[1;31mTypeError\u001b[0m                                 Traceback (most recent call last)",
      "\u001b[1;32m<ipython-input-137-188555973c63>\u001b[0m in \u001b[0;36m<module>\u001b[1;34m()\u001b[0m\n\u001b[1;32m----> 1\u001b[1;33m \u001b[0mparameters\u001b[0m\u001b[1;33m(\u001b[0m\u001b[1;36m1\u001b[0m\u001b[1;33m)\u001b[0m\u001b[1;33m\u001b[0m\u001b[0m\n\u001b[0m",
      "\u001b[1;31mTypeError\u001b[0m: 'tuple' object is not callable"
     ]
    }
   ],
   "source": [
    "parameters(1)"
   ]
  },
  {
   "cell_type": "code",
   "execution_count": null,
   "metadata": {
    "collapsed": true
   },
   "outputs": [],
   "source": []
  },
  {
   "cell_type": "markdown",
   "metadata": {},
   "source": [
    "# RNN\n",
    "https://www.slideshare.net/yenlung/recurrent-neural-network-89538572\n",
    "89"
   ]
  },
  {
   "cell_type": "code",
   "execution_count": 12,
   "metadata": {},
   "outputs": [
    {
     "name": "stderr",
     "output_type": "stream",
     "text": [
      "Using TensorFlow backend.\n"
     ]
    }
   ],
   "source": [
    "from keras.datasets import imdb"
   ]
  },
  {
   "cell_type": "code",
   "execution_count": 14,
   "metadata": {},
   "outputs": [
    {
     "name": "stdout",
     "output_type": "stream",
     "text": [
      "Downloading data from https://s3.amazonaws.com/text-datasets/imdb.npz\n",
      "17465344/17464789 [==============================] - 4s 0us/step\n"
     ]
    }
   ],
   "source": [
    "(x_train, y_train), (x_test, y_test) = imdb.load_data(num_words=10000)"
   ]
  },
  {
   "cell_type": "code",
   "execution_count": 22,
   "metadata": {},
   "outputs": [
    {
     "name": "stdout",
     "output_type": "stream",
     "text": [
      "218, 189, 141, 550, 147, 43, 123, 562, 233, 130, "
     ]
    }
   ],
   "source": [
    "for i in range(10):\n",
    "    print(len(x_train[i]), end=', ')"
   ]
  },
  {
   "cell_type": "code",
   "execution_count": 23,
   "metadata": {
    "collapsed": true
   },
   "outputs": [],
   "source": [
    "from keras.preprocessing import sequence"
   ]
  },
  {
   "cell_type": "code",
   "execution_count": null,
   "metadata": {
    "collapsed": true
   },
   "outputs": [],
   "source": []
  }
 ],
 "metadata": {
  "kernelspec": {
   "display_name": "Python 3",
   "language": "python",
   "name": "python3"
  },
  "language_info": {
   "codemirror_mode": {
    "name": "ipython",
    "version": 3
   },
   "file_extension": ".py",
   "mimetype": "text/x-python",
   "name": "python",
   "nbconvert_exporter": "python",
   "pygments_lexer": "ipython3",
   "version": "3.6.4"
  }
 },
 "nbformat": 4,
 "nbformat_minor": 2
}
