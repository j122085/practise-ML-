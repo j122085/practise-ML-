{
 "cells": [
  {
   "cell_type": "markdown",
   "metadata": {},
   "source": [
    "# Gradient Descent Demo"
   ]
  },
  {
   "cell_type": "code",
   "execution_count": 2,
   "metadata": {
    "collapsed": true
   },
   "outputs": [],
   "source": [
    "import matplotlib\n",
    "import matplotlib.pyplot as plt\n",
    "# matplotlib.use('Agg')\n",
    "# %matplotlib inline\n",
    "import random as random\n",
    "import numpy as np\n",
    "import csv"
   ]
  },
  {
   "cell_type": "code",
   "execution_count": 40,
   "metadata": {
    "collapsed": true
   },
   "outputs": [],
   "source": [
    "x_data = [ 338.,  333.,  328. , 207. , 226.  , 25. , 179. ,  60. , 208.,  606.]\n",
    "y_data = [  640.  , 633. ,  619.  , 393.  , 428. ,   27.  , 193.  ,  66. ,  226. , 1591.]\n",
    "# y_data = np.array(x_data)*3.3+-144.5\n",
    "# ydata=b+w*xdata"
   ]
  },
  {
   "cell_type": "code",
   "execution_count": null,
   "metadata": {},
   "outputs": [],
   "source": []
  },
  {
   "cell_type": "code",
   "execution_count": 41,
   "metadata": {
    "collapsed": true
   },
   "outputs": [],
   "source": [
    "#計算每個bias跟weight的loss\n",
    "x=np.arange(-200,-100,1) #bias\n",
    "y=np.arange(-5,5,0.1) #weight\n",
    "Z=np.zeros((len(x),len(y))) #給每個位置的loss一個位置放(array)\n",
    "X,Y=np.meshgrid(x,y) \n",
    "for i in range(len(x)):\n",
    "    for j in range(len(y)):\n",
    "        b=x[i]\n",
    "        w=y[j]\n",
    "        Z[j][i]=0\n",
    "        for n in range(len(x_data)):\n",
    "            Z[j][i]=Z[j][i]+(y_data[n]-b-w*x_data[n])**2 #計算每個數值的loss  (y-(b+w*xn))^2的平均值\n",
    "        Z[j][i]=Z[j][i]/len(x_data)"
   ]
  },
  {
   "cell_type": "code",
   "execution_count": 42,
   "metadata": {},
   "outputs": [
    {
     "data": {
      "image/png": "[encoded data removed]",
      "text/plain": [
       "<matplotlib.figure.Figure at 0x1bed5978>"
      ]
     },
     "metadata": {},
     "output_type": "display_data"
    }
   ],
   "source": [
    "# ydata=b+w*xdata\n",
    "b=-120 #initial b(隨意給初始bias)\n",
    "w=-5 #initial w(隨意給初始weight)\n",
    "lr=1 #learning rate學習效率\n",
    "iteration=100000 #學習次數\n",
    "\n",
    "#store initial values for plotting.  每次紀錄新的b跟w並將他們畫上圖\n",
    "b_history=[b]\n",
    "w_history=[w]\n",
    "\n",
    "\n",
    "lr_b=0 ##客製化learning rate\n",
    "lr_w=0 ##客製化learning rate\n",
    "\n",
    "#Iterations \n",
    "for i in range(iteration):\n",
    "    b_grad=0.0 \n",
    "    w_grad=0.0\n",
    "    for n in range(len(x_data)):\n",
    "        b_grad=b_grad - 2.0*(y_data[n]-b-w*x_data[n])*1.0  #b的偏微分產生梯度(外維*內維) (y-b+w*xdata)^2 >>2*(y-b+w*xdata)*1\n",
    "        w_grad=w_grad - 2.0*(y_data[n]-b-w*x_data[n])*x_data[n]  #w的偏微分(y-b+w*xdata)^2>>2*(y-b+w*xdata)*xdata\n",
    "        \n",
    "    lr_b=lr_b+b_grad**2 ##客製化learning rate\n",
    "    lr_w=lr_w+w_grad**2##客製化learning rate\n",
    "        \n",
    "        \n",
    "#     b=b-lr*b_grad #依據微分結果看出斜率正或負方向，並給予b移動\n",
    "#     w=w-lr*w_grad #依據微分結果看出斜率正或負方向，並給予w移動\n",
    "    \n",
    "    b=b-lr/np.sqrt(lr_b)*b_grad ##客製化learning rate #np.sqrt=開根號\n",
    "    w=w-lr/np.sqrt(lr_w)*w_grad ##客製化learning rate\n",
    "    \n",
    "    \n",
    "    b_history.append(b)\n",
    "    w_history.append(w)\n",
    "    \n",
    "# x值\n",
    "plt.contourf(x,y,Z,50,alpha=0.5,cmap=plt.get_cmap(\"jet\"))\n",
    "plt.plot([-188.4],[2.67],\"x\",ms=12,markeredgewidth=3,color='orange')\n",
    "plt.plot(b_history,w_history,\"o-\",ms=3,lw=1.5,color=\"black\")\n",
    "plt.xlim(-200,-100)\n",
    "plt.ylim(-5,5)\n",
    "plt.xlabel(r'$b$',fontsize=16)\n",
    "plt.ylabel(r'$w$',fontsize=16)\n",
    "plt.show()"
   ]
  },
  {
   "cell_type": "code",
   "execution_count": 43,
   "metadata": {},
   "outputs": [
    {
     "data": {
      "text/plain": [
       "-188.14538573060386"
      ]
     },
     "execution_count": 43,
     "metadata": {},
     "output_type": "execute_result"
    }
   ],
   "source": [
    "b_history[-1]"
   ]
  },
  {
   "cell_type": "code",
   "execution_count": 23,
   "metadata": {},
   "outputs": [
    {
     "data": {
      "text/plain": [
       "2.669151057358923"
      ]
     },
     "execution_count": 23,
     "metadata": {},
     "output_type": "execute_result"
    }
   ],
   "source": [
    "w_history[-1]"
   ]
  },
  {
   "cell_type": "code",
   "execution_count": null,
   "metadata": {
    "collapsed": true
   },
   "outputs": [],
   "source": []
  }
 ],
 "metadata": {
  "kernelspec": {
   "display_name": "Python 3",
   "language": "python",
   "name": "python3"
  },
  "language_info": {
   "codemirror_mode": {
    "name": "ipython",
    "version": 3
   },
   "file_extension": ".py",
   "mimetype": "text/x-python",
   "name": "python",
   "nbconvert_exporter": "python",
   "pygments_lexer": "ipython3",
   "version": "3.6.4"
  }
 },
 "nbformat": 4,
 "nbformat_minor": 2
}
