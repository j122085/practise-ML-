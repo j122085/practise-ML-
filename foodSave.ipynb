{
 "cells": [
  {
   "cell_type": "markdown",
   "metadata": {},
   "source": [
    "# 進入DRRIVER，確認一些function-進入主要處理頁面"
   ]
  },
  {
   "cell_type": "code",
   "execution_count": 31,
   "metadata": {
    "collapsed": true
   },
   "outputs": [],
   "source": [
    "import os\n",
    "import base64, re\n",
    "from io import BytesIO\n",
    "from PIL import Image\n",
    "from selenium import webdriver\n",
    "from selenium.webdriver.support.ui import Select\n",
    "import time\n",
    "import smtplib\n",
    "from email.message import EmailMessage\n",
    "from sklearn.externals import joblib\n",
    "from sklearn.preprocessing import StandardScaler\n",
    "import cv2\n",
    "import numpy\n",
    "from matplotlib import pyplot as plt\n",
    "import datetime\n",
    "from datetime import timedelta\n",
    "from email.mime.multipart import MIMEMultipart\n",
    "from email.mime.text import MIMEText\n",
    "import sys\n",
    "b=time.time()\n",
    "# from selenium.webdriver.chrome.options import Options\n",
    "# from selenium.webdriver.common.keys import Keys\n",
    "# from selenium.webdriver.common.by import By\n",
    "# from selenium.webdriver.chrome.options import Options\n",
    "# from selenium.webdriver.support.ui import WebDriverWait#直到True 不斷等待\n",
    "# from selenium.webdriver.support import expected_conditions as EC #判斷某物件存在，直到時間結束\n",
    "# import xl2dict\n",
    "\n",
    "\n",
    "\n",
    "###Date\n",
    "today = datetime.date.today()\n",
    "first = datetime.date(day=1, month=today.month, year=today.year)\n",
    "lastMonthFinal = first - datetime.timedelta(days=1)\n",
    "lastMonthBegan = datetime.date(day=1,month=lastMonthFinal.month, year=today.year)\n",
    "yearTaiwan=str(lastMonthFinal.year-1911)\n",
    "if lastMonthBegan.month>=10:\n",
    "    lastMonth=str(lastMonthBegan.month)\n",
    "else:\n",
    "    lastMonth=\"0\"+str(lastMonthBegan.month)\n",
    "###Date\n",
    "    \n",
    "# chrome_options = Options()\n",
    "def base64_to_image(base64_str, image_path=None):\n",
    "    base64_data = re.sub('^data:image/.+;base64,', '', base64_str)\n",
    "    byte_data = base64.b64decode(base64_data)\n",
    "    image_data = BytesIO(byte_data)\n",
    "    img = Image.open(image_data)\n",
    "    if image_path:\n",
    "        img.save(image_path)\n",
    "\n",
    "def save_captcha():\n",
    "    driver.switch_to.default_content()\n",
    "    driver.switch_to.frame(1)\n",
    "    try:\n",
    "        driver.execute_script('''\n",
    "        img = document.getElementById(\"CAPTCHA\");\n",
    "        var imgCanvas = document.createElement(\"canvas\"),\n",
    "        imgContext = imgCanvas.getContext(\"2d\");\n",
    "        imgCanvas.width = img.width;\n",
    "        imgCanvas.height = img.height;\n",
    "        imgContext.drawImage(img, 0, 0, imgCanvas.width, imgCanvas.height);\n",
    "        imgInfom = imgCanvas.toDataURL(\"image/png\");\n",
    "        localStorage.setItem(\"imgInfo\",imgInfom);\n",
    "        ''')\n",
    "        img_data = driver.execute_script('return localStorage.getItem(\"imgInfo\")')\n",
    "        base64_to_image(img_data,\"./captchaDir/CAPTCHA.png\")\n",
    "    except Exception as e:\n",
    "        print(str(e))\n",
    "\n",
    "        \n",
    "if not os.path.exists(\"captchaDir\"):\n",
    "    os.mkdir(\"captchaDir\")\n",
    "driver_path = os.path.join(os.getcwd(), 'chromedriver')\n",
    "# driver = webdriver.Chrome(executable_path=driver_path, chrome_options=chrome_options)\n",
    "driver = webdriver.Chrome(executable_path=driver_path)\n",
    "driver.get(\"https://waste.epa.gov.tw/prog/IndexFrame.asp?Func=2\")\n"
   ]
  },
  {
   "cell_type": "markdown",
   "metadata": {},
   "source": [
    "# email"
   ]
  },
  {
   "cell_type": "code",
   "execution_count": 32,
   "metadata": {
    "collapsed": true
   },
   "outputs": [],
   "source": [
    "\n",
    "with open('Email.txt') as f:\n",
    "    mails = f.read().split('\\n')\n",
    "while \"\" in mails:\n",
    "    mails.remove(\"\")\n",
    "mails = set(mails)\n",
    "\n",
    "def mailTo(title, mailAdds, message, whoSend='foodSaveAutoApply'):\n",
    "    msg = MIMEMultipart()\n",
    "    sender = whoSend\n",
    "    subject = title\n",
    "    body = message\n",
    "    msg['From'] = sender\n",
    "    msg['To'] = ','.join(mailAdds)\n",
    "    msg['Subject'] = subject\n",
    "    msg.attach(MIMEText(body, 'plain'))\n",
    "    text = msg.as_string()\n",
    "    # print text\n",
    "    # Send the message via our SMTP server\n",
    "    s = smtplib.SMTP('192.168.2.1', 25)\n",
    "    s.sendmail(sender, mailAdds, text)\n",
    "    s.quit()\n",
    "    \n",
    "    "
   ]
  },
  {
   "cell_type": "markdown",
   "metadata": {
    "collapsed": true
   },
   "source": [
    "# 須申報店家資料-給食安維護用資料"
   ]
  },
  {
   "cell_type": "code",
   "execution_count": 33,
   "metadata": {
    "collapsed": true
   },
   "outputs": [],
   "source": [
    "import pandas as pd\n",
    "import sys\n",
    "df=pd.read_excel(r\"D:\\trydata\\foodSave\\DienData.xlsx\", encoding=sys.getfilesystemencoding())\n",
    "data=df.T.to_dict()\n",
    "needData=[{\"店碼\":str(data[i]['門店代碼']),\n",
    "  \"帳\":data[i]['管制編號'],\n",
    "  \"密\":data[i]['IWR&MS密碼'],\n",
    "  \"報廚餘\":data[i]['需申報廚餘'],\n",
    "  \"報廢油\":data[i]['需申報廢油']} for i in data]"
   ]
  },
  {
   "cell_type": "code",
   "execution_count": 34,
   "metadata": {},
   "outputs": [
    {
     "data": {
      "text/plain": [
       "{'報廚餘': 'V', '報廢油': 'V', '密': 'BB47610094##', '帳': 'B20A7339', '店碼': '11702'}"
      ]
     },
     "execution_count": 34,
     "metadata": {},
     "output_type": "execute_result"
    }
   ],
   "source": [
    "needData[0]"
   ]
  },
  {
   "cell_type": "markdown",
   "metadata": {},
   "source": [
    "# 店家申報數值(之後改成資料庫)"
   ]
  },
  {
   "cell_type": "code",
   "execution_count": 35,
   "metadata": {
    "collapsed": true,
    "scrolled": true
   },
   "outputs": [],
   "source": [
    "##資料庫版本\n",
    "# from pymongo import MongoClient,UpdateOne\n",
    "# client=MongoClient('localhost',27017,username='j122085',password='850605')\n",
    "# db=client.rawData.foodSave\n",
    "# # data=list(db.find({'資料月份':{\"$ne\":\"06\"}},{\"_id\":False}))\n",
    "# data=list(db.find({'資料月份':{\"$ne\":lastMonth}},{\"_id\":False}))#抓取非這個月得資料\n",
    "\n",
    "# valueData={}\n",
    "# for i in data:\n",
    "#     dataOne={}\n",
    "#     dataOne[i['店碼']]={}\n",
    "#     dataOne[i['店碼']]['月初廚餘']=i.get('月底剩餘廚餘',\"x\") #非該月的月底底的廚餘 就是 這個該月初的廚餘\n",
    "#     dataOne[i['店碼']]['月初廢油']=i.get('月底剩餘廢油',\"x\")#非該月的月底底的廢油 就是 這個該月初的廢油\n",
    "    \n",
    "#     dataOne[i['店碼']]['該月產出廚餘']=i.get('該月產出廚餘',\"x\")#門店key進資料庫\n",
    "#     dataOne[i['店碼']]['該月產出廢油']=i.get('該月產出廢油',\"x\")#門店key進資料庫\n",
    "    \n",
    "#     valueData.update(dataOne)\n",
    "\n",
    "# valueData"
   ]
  },
  {
   "cell_type": "code",
   "execution_count": 36,
   "metadata": {
    "collapsed": true
   },
   "outputs": [],
   "source": [
    "df=pd.read_excel(r\"D:\\trydata\\foodSave\\WasteData.xlsx\", encoding=sys.getfilesystemencoding())\n",
    "data=df.T.to_dict()\n",
    "valueData={str(data[i]['門店代碼']):{\n",
    "  \"月初廚餘\":data[i]['廚餘-月初庫存'],\n",
    "  \"該月產出廚餘\":data[i]['廚餘-該月產出量'],\n",
    "  \"月初廢油\":data[i]['廢油-月初庫存'],\n",
    "  \"該月產出廢油\":data[i]['廢油-該月產出量']} for i in data}"
   ]
  },
  {
   "cell_type": "code",
   "execution_count": 37,
   "metadata": {},
   "outputs": [
    {
     "data": {
      "text/plain": [
       "{'11229': {'月初廚餘': 13.2, '月初廢油': 'x', '該月產出廚餘': 0.7, '該月產出廢油': 'x'},\n",
       " '11231': {'月初廚餘': 6.6, '月初廢油': 'x', '該月產出廚餘': 0.7, '該月產出廢油': 'x'},\n",
       " '11246': {'月初廚餘': 6.6, '月初廢油': 'x', '該月產出廚餘': 0.7, '該月產出廢油': 'x'},\n",
       " '11252': {'月初廚餘': 13.2, '月初廢油': 'x', '該月產出廚餘': 0.7, '該月產出廢油': 'x'},\n",
       " '11255': {'月初廚餘': 9.6, '月初廢油': 'x', '該月產出廚餘': 0.7, '該月產出廢油': 'x'},\n",
       " '11702': {'月初廚餘': 0, '月初廢油': 0, '該月產出廚餘': 2, '該月產出廢油': 0.036},\n",
       " '11801': {'月初廚餘': 0, '月初廢油': 0, '該月產出廚餘': 1.07, '該月產出廢油': 0.054},\n",
       " '11802': {'月初廚餘': 0, '月初廢油': 0, '該月產出廚餘': 1.1, '該月產出廢油': 0.051},\n",
       " '11803': {'月初廚餘': 'x', '月初廢油': 0, '該月產出廚餘': 'x', '該月產出廢油': 0.11},\n",
       " '11804': {'月初廚餘': 'x', '月初廢油': 0, '該月產出廚餘': 'x', '該月產出廢油': 0.054}}"
      ]
     },
     "execution_count": 37,
     "metadata": {},
     "output_type": "execute_result"
    }
   ],
   "source": [
    "valueData"
   ]
  },
  {
   "cell_type": "markdown",
   "metadata": {
    "collapsed": true
   },
   "source": [
    "# 結合兩邊資料 用來做for loop"
   ]
  },
  {
   "cell_type": "code",
   "execution_count": 38,
   "metadata": {
    "collapsed": true
   },
   "outputs": [],
   "source": [
    "for i in needData:\n",
    "    joinData=valueData[i['店碼']]\n",
    "    if i['報廚餘']==\"V\":\n",
    "        i['月初廚餘']=joinData['月初廚餘']\n",
    "        i['該月產出廚餘']=joinData['該月產出廚餘']\n",
    "    if i['報廢油']==\"V\":\n",
    "        i['月初廢油']=joinData['月初廢油']\n",
    "        i['該月產出廢油']=joinData['該月產出廢油']"
   ]
  },
  {
   "cell_type": "code",
   "execution_count": 39,
   "metadata": {
    "scrolled": true
   },
   "outputs": [
    {
     "data": {
      "text/plain": [
       "{'報廚餘': 'V',\n",
       " '報廢油': 'V',\n",
       " '密': 'BB47610094##',\n",
       " '帳': 'B20A7339',\n",
       " '店碼': '11702',\n",
       " '月初廚餘': 0,\n",
       " '月初廢油': 0,\n",
       " '該月產出廚餘': 2,\n",
       " '該月產出廢油': 0.036}"
      ]
     },
     "execution_count": 39,
     "metadata": {},
     "output_type": "execute_result"
    }
   ],
   "source": [
    "needData[0]"
   ]
  },
  {
   "cell_type": "markdown",
   "metadata": {},
   "source": [
    "# 登入(含辨識captcha)-需改成帳密變數--由這裡開始for迴圈"
   ]
  },
  {
   "cell_type": "code",
   "execution_count": 40,
   "metadata": {
    "collapsed": true,
    "scrolled": true
   },
   "outputs": [],
   "source": [
    "def login(account,password):\n",
    "    try:\n",
    "        success=0\n",
    "        while success==0:\n",
    "            try:\n",
    "                driver.switch_to.default_content()\n",
    "            except:\n",
    "                pass\n",
    "            driver.switch_to.frame(1)\n",
    "            driver.page_source\n",
    "            accountInput=driver.find_element_by_name(\"fac_user\")\n",
    "            accountInput.clear()\n",
    "            accountInput.send_keys(account) #帳號\n",
    "            pwInput=driver.find_element_by_name(\"fac_pwd\")\n",
    "            pwInput.clear()\n",
    "            pwInput.send_keys(password) #密碼\n",
    "\n",
    "            #J55B6752 1121@PINNADA\n",
    "            #A45B1625 a!0227581123\n",
    "            ##########################\n",
    "\n",
    "\n",
    "            captchaText=\"\"\n",
    "            while len(captchaText)!=4:\n",
    "                save_captcha()\n",
    "                mlp=joblib.load(r'D:\\trydata\\textConsider\\model\\captcha.pkl') #captcha辨識模型\n",
    "                # img=Image.open(\"./captchaDir/CAPTCHA.png\")\n",
    "\n",
    "                pil_image =Image.open(\"./captchaDir/CAPTCHA.png\").convert(\"RGB\")\n",
    "                open_cv_image=numpy.array(pil_image)\n",
    "                plt.imshow(open_cv_image)\n",
    "                imgray=cv2.cvtColor(open_cv_image,cv2.COLOR_BGR2GRAY)\n",
    "                ret, thresh=cv2.threshold(imgray,127,255,0)\n",
    "                image,contours,hierarchy=cv2.findContours(thresh,cv2.RETR_TREE,cv2.CHAIN_APPROX_SIMPLE)\n",
    "                cnts=sorted([(c,cv2.boundingRect(c)[0]) for c in contours],key=lambda x:x[1])\n",
    "                ary=[]\n",
    "                for (c,_) in cnts:\n",
    "                    (x,y,w,h)=cv2.boundingRect(c)\n",
    "                #         print((x,y,w,h))\n",
    "                    if w>11 and h>=7 and w!=120:\n",
    "                        if x-2>0:\n",
    "                            ary.append((x-2,y-2,w+4,h+4))\n",
    "                        else:\n",
    "                            ary.append((x,y,w+4,h+4))\n",
    "                n=0\n",
    "\n",
    "                if not os.path.exists(\"./captchaDir/numPic/\"):\n",
    "                    os.mkdir(\"./captchaDir/numPic/\")\n",
    "\n",
    "                for i in os.listdir(\"./captchaDir/numPic/\"):\n",
    "                    os.remove(\"./captchaDir/numPic/\"+i)\n",
    "\n",
    "                for (x,y,w,h) in ary:\n",
    "                    fig=plt.figure(figsize=(6, 4), dpi=100) #600*400\n",
    "                    roi=open_cv_image[y:y+h,x:x+w]\n",
    "                    thresh=roi.copy()\n",
    "                #     ax=fig.add\n",
    "                    plt.imshow(thresh)\n",
    "                    plt.savefig(\"./captchaDir/numPic/aa_{}.png\".format(n),dpi=100)\n",
    "                    n+=1\n",
    "\n",
    "\n",
    "                data=[]\n",
    "                basewidth=50\n",
    "                fig=plt.figure(figsize=(20,20))\n",
    "                cnt=0\n",
    "                for idx,img in enumerate(os.listdir(\"./captchaDir/numPic/\")):\n",
    "                    pil_image=Image.open(\"./captchaDir/numPic/{}\".format(img)).convert('1')\n",
    "                    wpercent=(basewidth/float(pil_image.size[0]))\n",
    "                    hsize=int((float(pil_image.size[1])*float(wpercent)))\n",
    "                    img=pil_image.resize((basewidth,hsize),Image.ANTIALIAS)\n",
    "                    data.append([pixel for pixel in iter(img.getdata())])\n",
    "                scaler=StandardScaler()\n",
    "                scaler.fit(data)\n",
    "                data_scaled=scaler.transform(data)\n",
    "    #             print(mlp.predict(data_scaled))\n",
    "\n",
    "                captchaText=\"\".join(mlp.predict(data_scaled)).replace(\"xx\",\"\")\n",
    "                if len(captchaText)!=4:\n",
    "                    driver.find_element_by_link_text(\"重新載入圖片\").click()\n",
    "                    time.sleep(0.5)\n",
    "\n",
    "\n",
    "            print(\"驗證碼\",captchaText)\n",
    "            captchaInput=driver.find_element_by_id(\"securityCode\")\n",
    "            captchaInput.send_keys(captchaText)\n",
    "            driver.find_element_by_name(\"Action\").click()\n",
    "            time.sleep(0.5)\n",
    "            for i in range(10):\n",
    "                try:\n",
    "                    alert=driver.switch_to_alert()\n",
    "                    alert.accept()\n",
    "                    time.sleep(0.15)\n",
    "                except:\n",
    "                    time.sleep(0.3)\n",
    "\n",
    "            try:\n",
    "                time.sleep(1)\n",
    "                driver.find_element_by_link_text(\"越境聯單資料錯誤說明\")\n",
    "                success=1\n",
    "            except:\n",
    "                print(\"登入失敗，重試中\")\n",
    "                time.sleep(0.5)\n",
    "    except:\n",
    "        report.append(\"門店:{}登入失敗,錯誤訊息:{},錯誤位置:{}\".format(i['店碼'], e, sys.exc_info()[2].tb_lineno))"
   ]
  },
  {
   "cell_type": "markdown",
   "metadata": {},
   "source": [
    "# 查詢廢廚餘清運量"
   ]
  },
  {
   "cell_type": "code",
   "execution_count": 41,
   "metadata": {
    "collapsed": true
   },
   "outputs": [],
   "source": [
    "def getSellDrown():\n",
    "    driver.get(\"https://waste.epa.gov.tw/prog/stastic.asp?EPC=FAC\")\n",
    "    \n",
    "\n",
    "    time.sleep(0.5)\n",
    "\n",
    "    yb=Select(driver.find_element_by_name(\"T3\"))\n",
    "    yb.select_by_value(yearTaiwan)\n",
    "\n",
    "    mb=Select(driver.find_element_by_name(\"T4\"))\n",
    "    mb.select_by_value(lastMonth)\n",
    "\n",
    "    db=Select(driver.find_element_by_name(\"T5\"))\n",
    "    db.select_by_value(\"0\"+str(lastMonthBegan.day))\n",
    "\n",
    "\n",
    "    ye=Select(driver.find_element_by_name(\"T6\"))\n",
    "    ye.select_by_value(yearTaiwan)\n",
    "\n",
    "    me=Select(driver.find_element_by_name(\"T7\"))\n",
    "    me.select_by_value(lastMonth)\n",
    "\n",
    "    de=Select(driver.find_element_by_name(\"T8\"))\n",
    "    de.select_by_value(str(lastMonthFinal.day))\n",
    "\n",
    "    driver.find_element_by_name(\"B1\").click()\n",
    "    time.sleep(0.5)\n",
    "\n",
    "    for i in driver.find_elements_by_css_selector(\"table\"):\n",
    "        for row in i.text.split(\"\\n\"):\n",
    "            if \"再利用\" in row.split(\" \"):\n",
    "                DrownVolume=row.split(\" \")[-1]\n",
    "#                 print(row)\n",
    "                print(\"廢廚餘清運量\",DrownVolume)#\n",
    "                \n",
    "    return DrownVolume"
   ]
  },
  {
   "cell_type": "markdown",
   "metadata": {
    "collapsed": true
   },
   "source": [
    "# 查詢廢食用油清運量"
   ]
  },
  {
   "cell_type": "code",
   "execution_count": 42,
   "metadata": {
    "collapsed": true
   },
   "outputs": [],
   "source": [
    "# driver.find_element_by_xpath(\"/html/body/center/table/tbody/tr/td/table[2]/tbody/tr[2]/td[2]/img\")\n",
    "def getSellOil():\n",
    "    driver.get(\"https://waste.epa.gov.tw/prog/stastic.asp?EPC=OilF\")\n",
    "    time.sleep(0.5)\n",
    "    yb=Select(driver.find_element_by_name(\"T3\"))\n",
    "    yb.select_by_value(yearTaiwan)\n",
    "\n",
    "    mb=Select(driver.find_element_by_name(\"T4\"))\n",
    "    mb.select_by_value(lastMonth)\n",
    "\n",
    "    db=Select(driver.find_element_by_name(\"T5\"))\n",
    "    db.select_by_value(\"0\"+str(lastMonthBegan.day))\n",
    "\n",
    "\n",
    "    ye=Select(driver.find_element_by_name(\"T6\"))\n",
    "    ye.select_by_value(yearTaiwan)\n",
    "\n",
    "    me=Select(driver.find_element_by_name(\"T7\"))\n",
    "    me.select_by_value(lastMonth)\n",
    "\n",
    "    de=Select(driver.find_element_by_name(\"T8\"))\n",
    "    de.select_by_value(str(lastMonthFinal.day))\n",
    "\n",
    "    driver.find_element_by_name(\"B1\").click()\n",
    "    time.sleep(0.5)\n",
    "\n",
    "    for i in driver.find_elements_by_css_selector(\"table\"):\n",
    "        for row in i.text.split(\"\\n\"):\n",
    "            if \"廢食用油遞送聯單\" in row.split(\" \"):\n",
    "                oilVolume=row.split(\" \")[-1]\n",
    "#                 print(row)\n",
    "                print(\"廢油清運量\",oilVolume)#\n",
    "    return oilVolume"
   ]
  },
  {
   "cell_type": "markdown",
   "metadata": {},
   "source": [
    "# 庫存登記"
   ]
  },
  {
   "cell_type": "code",
   "execution_count": 43,
   "metadata": {
    "collapsed": true
   },
   "outputs": [],
   "source": [
    "# i=needData[9]\n",
    "# print(i)\n",
    "# acc=i['帳']\n",
    "# pw=i['密']\n",
    "# oD=i.get('該月產出廚餘',0)\n",
    "# oO=i.get('該月產出廢油',0)\n",
    "# logout()\n",
    "# login(acc,pw)"
   ]
  },
  {
   "cell_type": "code",
   "execution_count": 44,
   "metadata": {
    "collapsed": true
   },
   "outputs": [],
   "source": [
    "def storage(surplusOil=0,surplusDrown=0):\n",
    "    try:\n",
    "        driver.get(\"https://waste.epa.gov.tw/prog/Storage/Storage.asp?FacType=F&Role=F\")\n",
    "        time.sleep(0.5)\n",
    "        driver.find_element_by_name(\"app_yy\").click()\n",
    "        driver.find_element_by_xpath('//option[@value=\"' + str(lastMonthFinal.year) + '\"]').click()\n",
    "        driver.find_element_by_name(\"app_yy\").click()\n",
    "        driver.find_element_by_name(\"app_mm\").click()\n",
    "        driver.find_element_by_xpath('//option[@value=\"' + str(lastMonthBegan.month) + '\"]').click()\n",
    "        driver.find_element_by_name(\"app_mm\").click()\n",
    "        driver.find_elements_by_name(\"app_submit\")[0].click()\n",
    "        if \"您已完成申報上月份貯存情形，如進行修改\" in driver.page_source:\n",
    "            print(\"該店已申報庫存\")\n",
    "        else:\n",
    "            driver.find_element_by_link_text(\"自動帶入\").click()\n",
    "            x=driver.switch_to_alert()\n",
    "            x.accept()\n",
    "            for i in driver.find_elements_by_css_selector(\"tr\"):\n",
    "                if \"R-0106\" in i.text:\n",
    "                    print('月底廚餘申報:',str(surplusDrown))\n",
    "                    brownInput=i.find_element_by_xpath('//input[@id=\"App_Qty1\"]')\n",
    "                    brownInput.clear()\n",
    "                    brownInput.send_keys(str(surplusDrown))\n",
    "                    i.find_element_by_xpath('//input[@name=\"do_not_save_it_1\"]').click()\n",
    "                if \"R-1702\" in i.text:\n",
    "                    print('月底廢油申報:',str(surplusOil))\n",
    "                    brownInput=i.find_element_by_xpath('//input[@id=\"App_Qty2\"]')\n",
    "                    brownInput.clear()\n",
    "                    brownInput.send_keys(str(surplusOil))\n",
    "                    i.find_element_by_xpath('//input[@name=\"do_not_save_it_2\"]').click()\n",
    "\n",
    "            driver.find_element_by_xpath('//input[@value=\"新增\"]').click()\n",
    "            for i in range(5):\n",
    "                try:\n",
    "                    time.sleep(0.1)\n",
    "                    x=driver.switch_to_alert()\n",
    "                    x.accept()\n",
    "                except:\n",
    "                    time.sleep(0.2)\n",
    "            driver.find_element_by_xpath('//input[@value=\"正式申報\"]').click()\n",
    "    except:\n",
    "        report.append(\"門店:{}報庫存失敗,錯誤訊息:{},錯誤位置:{}\".format(i['店碼'], e, sys.exc_info()[2].tb_lineno))"
   ]
  },
  {
   "cell_type": "markdown",
   "metadata": {},
   "source": [
    "# 廢油、廚餘產出登記"
   ]
  },
  {
   "cell_type": "code",
   "execution_count": 45,
   "metadata": {
    "collapsed": true
   },
   "outputs": [],
   "source": [
    "def oilDrownCeclare(outputDrown,outputOil):\n",
    "    try:\n",
    "        driver.get(\"https://waste.epa.gov.tw/massbal/restaurant.asp\")\n",
    "\n",
    "        driver.find_element_by_name(\"app_year\").click()\n",
    "    #     today = datetime.date.today()\n",
    "    #     first = datetime.date(day=1, month=today.month, year=today.year)\n",
    "    #     lastMonthFinal = first - datetime.timedelta(days=1)\n",
    "    #     yearTaiwan=str(lastMonthFinal.year-1911)\n",
    "        driver.find_element_by_xpath('//option[@value=\"' + yearTaiwan + '\"]').click()\n",
    "        driver.find_element_by_name(\"app_year\").click()\n",
    "\n",
    "        driver.find_element_by_name(\"app_month\").click()\n",
    "        now=datetime.datetime.now()\n",
    "        monthTaiwan=str(now.month-1)\n",
    "        if len(monthTaiwan)==1:\n",
    "            monthTaiwan=\"0\"+monthTaiwan\n",
    "        driver.find_element_by_xpath('//option[@value=\"' + lastMonth + '\"]').click()\n",
    "        driver.find_element_by_name(\"app_month\").click()\n",
    "\n",
    "        driver.find_elements_by_name(\"submit\")[0].click()\n",
    "\n",
    "    #     outputDrown=100 #廚餘\n",
    "    #     outputOil=200 #廢油\n",
    "        if outputDrown==0 and outputOil==0:\n",
    "            try:\n",
    "                driver.find_element_by_link_text(\"本月無產出廢棄物(新設事業亦適用)\").click()\n",
    "                alert=driver.switch_to_alert()\n",
    "                alert.accept()\n",
    "                time.sleep(0.1)\n",
    "                print(\"產出量申報量無\")\n",
    "            except:\n",
    "                driver.find_element_by_link_text(\"本月無產出廢棄物(新設事業亦適用)(已申報)\").click()\n",
    "                print(\"無量、系統顯示之前已申報產出量\")\n",
    "        else:\n",
    "            try:\n",
    "                driver.find_element_by_link_text(\"事業廢棄物產出種類、數量\").click()\n",
    "                time.sleep(0.5)\n",
    "                #這裡部分可能不一樣************************\n",
    "                for i in driver.find_elements_by_css_selector(\"tbody\"):\n",
    "                    for j in i.find_elements_by_css_selector(\"tr\"):\n",
    "                        if \"泥狀\" in j.text or \"固狀\" in j.text:\n",
    "                            productInput=j.find_element_by_id(\"app_qty\")\n",
    "                            productInput.clear()\n",
    "                            productInput.send_keys(str(outputDrown))\n",
    "                            includeWaterInput=j.find_element_by_id(\"inwater\")\n",
    "                            includeWaterInput.clear()\n",
    "                            includeWaterInput.send_keys(\"0\")\n",
    "                            if str(outputDrown)!=\"0\":\n",
    "                                j.find_element_by_id(\"chkWasteItem\").click()\n",
    "                                print(\"申報廚餘\",outputDrown)\n",
    "                            else:\n",
    "                                print(\"廚餘量為0不申報\")\n",
    "\n",
    "                        if \"液狀\" in j.text:\n",
    "                            productInput=j.find_element_by_id(\"app_qty\")\n",
    "                            productInput.clear()\n",
    "                            productInput.send_keys(str(outputOil))\n",
    "                            includeWaterInput=j.find_element_by_id(\"inwater\")\n",
    "                            includeWaterInput.clear()\n",
    "                            includeWaterInput.send_keys(\"0\")\n",
    "                            if str(outputOil)!=\"0\":\n",
    "                                j.find_element_by_id(\"chkWasteItem\").click()\n",
    "                                print(\"申報廢油\",outputDrown)\n",
    "                            else:\n",
    "                                print(\"廚餘量為0不申報\")\n",
    "                driver.find_element_by_xpath('//input[@value=\"傳送資料\"]').click()\n",
    "                driver.find_element_by_xpath('//input[@value=\"正式申報\"]').click()\n",
    "                alert=driver.switch_to_alert()\n",
    "                alert.accept()\n",
    "                time.sleep(0.1)\n",
    "                print(\"產出量申報完畢\")\n",
    "            except:\n",
    "                driver.find_element_by_link_text(\"事業廢棄物產生種類、數量(已申報)\").click()\n",
    "                time.sleep(0.5)\n",
    "                print(\"系統顯示之前已申報產出量\")\n",
    "            #這裡部分可能不一樣************************\n",
    "            # driver.find_element_by_name(\"B1\").click()\n",
    "        #     alert=driver.switch_to_alert()\n",
    "        #     alert.accept()\n",
    "        #     time.sleep(0.1)\n",
    "    except:\n",
    "        report.append(\"門店:{}報產出失敗,錯誤訊息:{},錯誤位置:{}\".format(i['店碼'], e, sys.exc_info()[2].tb_lineno))"
   ]
  },
  {
   "cell_type": "markdown",
   "metadata": {},
   "source": [
    "# 回主頁"
   ]
  },
  {
   "cell_type": "code",
   "execution_count": 46,
   "metadata": {
    "collapsed": true
   },
   "outputs": [],
   "source": [
    "def logout():\n",
    "    x=0\n",
    "    while x==0:\n",
    "        driver.get(\"https://waste.epa.gov.tw/prog/IndexFrame.asp?Func=2\")\n",
    "        driver.switch_to_default_content()\n",
    "        driver.switch_to_frame(0)\n",
    "        try:\n",
    "            driver.find_element_by_link_text(\"登出申報區\").click()\n",
    "            x=1\n",
    "        except:\n",
    "            pass"
   ]
  },
  {
   "cell_type": "code",
   "execution_count": 48,
   "metadata": {},
   "outputs": [
    {
     "data": {
      "text/plain": [
       "{'報廚餘': 'V',\n",
       " '報廢油': 'V',\n",
       " '密': 'BB47610094##',\n",
       " '帳': 'B20A7339',\n",
       " '店碼': '11702',\n",
       " '月初廚餘': 0,\n",
       " '月初廢油': 0,\n",
       " '該月產出廚餘': 2,\n",
       " '該月產出廢油': 0.036}"
      ]
     },
     "execution_count": 48,
     "metadata": {},
     "output_type": "execute_result"
    }
   ],
   "source": [
    "i"
   ]
  },
  {
   "cell_type": "code",
   "execution_count": 49,
   "metadata": {
    "scrolled": true
   },
   "outputs": [
    {
     "name": "stdout",
     "output_type": "stream",
     "text": [
      "{'店碼': '11702', '帳': 'B20A7339', '密': 'BB47610094##', '報廚餘': 'V', '報廢油': 'V', '月初廚餘': 0, '該月產出廚餘': 2, '月初廢油': 0, '該月產出廢油': 0.036}\n"
     ]
    },
    {
     "name": "stderr",
     "output_type": "stream",
     "text": [
      "D:\\anaconda\\lib\\site-packages\\matplotlib\\pyplot.py:524: RuntimeWarning: More than 20 figures have been opened. Figures created through the pyplot interface (`matplotlib.pyplot.figure`) are retained until explicitly closed and may consume too much memory. (To control this warning, see the rcParam `figure.max_open_warning`).\n",
      "  max_open_warning, RuntimeWarning)\n"
     ]
    },
    {
     "name": "stdout",
     "output_type": "stream",
     "text": [
      "驗證碼 NHBC\n",
      "門店11702登入成功\n",
      "{'店碼': '11229', '帳': 'H42B4328', '密': 'H42B4328818@', '報廚餘': 'V', '報廢油': nan, '月初廚餘': 13.2, '該月產出廚餘': 0.7}\n",
      "{'店碼': '11231', '帳': 'H42B4338', '密': 'H42B4338818@', '報廚餘': 'V', '報廢油': nan, '月初廚餘': 6.6, '該月產出廚餘': 0.7}\n",
      "{'店碼': '11246', '帳': 'H43C5021', '密': 'H43C5021818@', '報廚餘': 'V', '報廢油': nan, '月初廚餘': 6.6, '該月產出廚餘': 0.7}\n",
      "{'店碼': '11252', '帳': 'H43D1591', '密': 'H43D1591818@', '報廚餘': 'V', '報廢油': nan, '月初廚餘': 13.2, '該月產出廚餘': 0.7}\n",
      "{'店碼': '11255', '帳': 'H49B2595', '密': 'H49B2595818@', '報廚餘': 'V', '報廢油': nan, '月初廚餘': 9.6, '該月產出廚餘': 0.7}\n",
      "{'店碼': '11801', '帳': 'A45B2663', '密': '1180100000@c', '報廚餘': 'V', '報廢油': 'V', '月初廚餘': 0, '該月產出廚餘': 1.07, '月初廢油': 0, '該月產出廢油': 0.054}\n",
      "{'店碼': '11802', '帳': 'A36B8404', '密': '6876D7FB674@', '報廚餘': 'V', '報廢油': 'V', '月初廚餘': 0, '該月產出廚餘': 1.1, '月初廢油': 0, '該月產出廢油': 0.051}\n",
      "{'店碼': '11803', '帳': 'O17L8651', '密': '083DE3D136D@', '報廚餘': nan, '報廢油': 'V', '月初廢油': 0, '該月產出廢油': 0.11}\n",
      "{'店碼': '11804', '帳': 'B22A8298', '密': 'FC69F7C582A@', '報廚餘': nan, '報廢油': 'V', '月初廢油': 0, '該月產出廢油': 0.054}\n"
     ]
    },
    {
     "ename": "WebDriverException",
     "evalue": "Message: chrome not reachable\n  (Session info: chrome=67.0.3396.99)\n  (Driver info: chromedriver=2.35.528161 (5b82f2d2aae0ca24b877009200ced9065a772e73),platform=Windows NT 6.1.7601 SP1 x86_64)\n",
     "output_type": "error",
     "traceback": [
      "\u001b[1;31m---------------------------------------------------------------------------\u001b[0m",
      "\u001b[1;31mWebDriverException\u001b[0m                        Traceback (most recent call last)",
      "\u001b[1;32m<ipython-input-49-e3b6952e6512>\u001b[0m in \u001b[0;36m<module>\u001b[1;34m()\u001b[0m\n\u001b[0;32m     57\u001b[0m \u001b[1;33m\u001b[0m\u001b[0m\n\u001b[0;32m     58\u001b[0m \u001b[1;31m#############################################################以下不認真\u001b[0m\u001b[1;33m\u001b[0m\u001b[1;33m\u001b[0m\u001b[0m\n\u001b[1;32m---> 59\u001b[1;33m \u001b[0mdriver\u001b[0m\u001b[1;33m.\u001b[0m\u001b[0mswitch_to_default_content\u001b[0m\u001b[1;33m(\u001b[0m\u001b[1;33m)\u001b[0m\u001b[1;33m\u001b[0m\u001b[0m\n\u001b[0m\u001b[0;32m     60\u001b[0m \u001b[0mdriver\u001b[0m\u001b[1;33m.\u001b[0m\u001b[0mswitch_to_frame\u001b[0m\u001b[1;33m(\u001b[0m\u001b[1;36m0\u001b[0m\u001b[1;33m)\u001b[0m\u001b[1;33m\u001b[0m\u001b[0m\n\u001b[0;32m     61\u001b[0m driver.execute_script(\"\"\"d=document;\n",
      "\u001b[1;32mD:\\anaconda\\lib\\site-packages\\selenium\\webdriver\\remote\\webdriver.py\u001b[0m in \u001b[0;36mswitch_to_default_content\u001b[1;34m(self)\u001b[0m\n\u001b[0;32m    679\u001b[0m         \"\"\"\n\u001b[0;32m    680\u001b[0m         \u001b[0mwarnings\u001b[0m\u001b[1;33m.\u001b[0m\u001b[0mwarn\u001b[0m\u001b[1;33m(\u001b[0m\u001b[1;34m\"use driver.switch_to.default_content instead\"\u001b[0m\u001b[1;33m,\u001b[0m \u001b[0mDeprecationWarning\u001b[0m\u001b[1;33m)\u001b[0m\u001b[1;33m\u001b[0m\u001b[0m\n\u001b[1;32m--> 681\u001b[1;33m         \u001b[0mself\u001b[0m\u001b[1;33m.\u001b[0m\u001b[0m_switch_to\u001b[0m\u001b[1;33m.\u001b[0m\u001b[0mdefault_content\u001b[0m\u001b[1;33m(\u001b[0m\u001b[1;33m)\u001b[0m\u001b[1;33m\u001b[0m\u001b[0m\n\u001b[0m\u001b[0;32m    682\u001b[0m \u001b[1;33m\u001b[0m\u001b[0m\n\u001b[0;32m    683\u001b[0m     \u001b[1;32mdef\u001b[0m \u001b[0mswitch_to_alert\u001b[0m\u001b[1;33m(\u001b[0m\u001b[0mself\u001b[0m\u001b[1;33m)\u001b[0m\u001b[1;33m:\u001b[0m\u001b[1;33m\u001b[0m\u001b[0m\n",
      "\u001b[1;32mD:\\anaconda\\lib\\site-packages\\selenium\\webdriver\\remote\\switch_to.py\u001b[0m in \u001b[0;36mdefault_content\u001b[1;34m(self)\u001b[0m\n\u001b[0;32m     61\u001b[0m             \u001b[0mdriver\u001b[0m\u001b[1;33m.\u001b[0m\u001b[0mswitch_to\u001b[0m\u001b[1;33m.\u001b[0m\u001b[0mdefault_content\u001b[0m\u001b[1;33m(\u001b[0m\u001b[1;33m)\u001b[0m\u001b[1;33m\u001b[0m\u001b[0m\n\u001b[0;32m     62\u001b[0m         \"\"\"\n\u001b[1;32m---> 63\u001b[1;33m         \u001b[0mself\u001b[0m\u001b[1;33m.\u001b[0m\u001b[0m_driver\u001b[0m\u001b[1;33m.\u001b[0m\u001b[0mexecute\u001b[0m\u001b[1;33m(\u001b[0m\u001b[0mCommand\u001b[0m\u001b[1;33m.\u001b[0m\u001b[0mSWITCH_TO_FRAME\u001b[0m\u001b[1;33m,\u001b[0m \u001b[1;33m{\u001b[0m\u001b[1;34m'id'\u001b[0m\u001b[1;33m:\u001b[0m \u001b[1;32mNone\u001b[0m\u001b[1;33m}\u001b[0m\u001b[1;33m)\u001b[0m\u001b[1;33m\u001b[0m\u001b[0m\n\u001b[0m\u001b[0;32m     64\u001b[0m \u001b[1;33m\u001b[0m\u001b[0m\n\u001b[0;32m     65\u001b[0m     \u001b[1;32mdef\u001b[0m \u001b[0mframe\u001b[0m\u001b[1;33m(\u001b[0m\u001b[0mself\u001b[0m\u001b[1;33m,\u001b[0m \u001b[0mframe_reference\u001b[0m\u001b[1;33m)\u001b[0m\u001b[1;33m:\u001b[0m\u001b[1;33m\u001b[0m\u001b[0m\n",
      "\u001b[1;32mD:\\anaconda\\lib\\site-packages\\selenium\\webdriver\\remote\\webdriver.py\u001b[0m in \u001b[0;36mexecute\u001b[1;34m(self, driver_command, params)\u001b[0m\n\u001b[0;32m    306\u001b[0m         \u001b[0mresponse\u001b[0m \u001b[1;33m=\u001b[0m \u001b[0mself\u001b[0m\u001b[1;33m.\u001b[0m\u001b[0mcommand_executor\u001b[0m\u001b[1;33m.\u001b[0m\u001b[0mexecute\u001b[0m\u001b[1;33m(\u001b[0m\u001b[0mdriver_command\u001b[0m\u001b[1;33m,\u001b[0m \u001b[0mparams\u001b[0m\u001b[1;33m)\u001b[0m\u001b[1;33m\u001b[0m\u001b[0m\n\u001b[0;32m    307\u001b[0m         \u001b[1;32mif\u001b[0m \u001b[0mresponse\u001b[0m\u001b[1;33m:\u001b[0m\u001b[1;33m\u001b[0m\u001b[0m\n\u001b[1;32m--> 308\u001b[1;33m             \u001b[0mself\u001b[0m\u001b[1;33m.\u001b[0m\u001b[0merror_handler\u001b[0m\u001b[1;33m.\u001b[0m\u001b[0mcheck_response\u001b[0m\u001b[1;33m(\u001b[0m\u001b[0mresponse\u001b[0m\u001b[1;33m)\u001b[0m\u001b[1;33m\u001b[0m\u001b[0m\n\u001b[0m\u001b[0;32m    309\u001b[0m             response['value'] = self._unwrap_value(\n\u001b[0;32m    310\u001b[0m                 response.get('value', None))\n",
      "\u001b[1;32mD:\\anaconda\\lib\\site-packages\\selenium\\webdriver\\remote\\errorhandler.py\u001b[0m in \u001b[0;36mcheck_response\u001b[1;34m(self, response)\u001b[0m\n\u001b[0;32m    192\u001b[0m         \u001b[1;32melif\u001b[0m \u001b[0mexception_class\u001b[0m \u001b[1;33m==\u001b[0m \u001b[0mUnexpectedAlertPresentException\u001b[0m \u001b[1;32mand\u001b[0m \u001b[1;34m'alert'\u001b[0m \u001b[1;32min\u001b[0m \u001b[0mvalue\u001b[0m\u001b[1;33m:\u001b[0m\u001b[1;33m\u001b[0m\u001b[0m\n\u001b[0;32m    193\u001b[0m             \u001b[1;32mraise\u001b[0m \u001b[0mexception_class\u001b[0m\u001b[1;33m(\u001b[0m\u001b[0mmessage\u001b[0m\u001b[1;33m,\u001b[0m \u001b[0mscreen\u001b[0m\u001b[1;33m,\u001b[0m \u001b[0mstacktrace\u001b[0m\u001b[1;33m,\u001b[0m \u001b[0mvalue\u001b[0m\u001b[1;33m[\u001b[0m\u001b[1;34m'alert'\u001b[0m\u001b[1;33m]\u001b[0m\u001b[1;33m.\u001b[0m\u001b[0mget\u001b[0m\u001b[1;33m(\u001b[0m\u001b[1;34m'text'\u001b[0m\u001b[1;33m)\u001b[0m\u001b[1;33m)\u001b[0m\u001b[1;33m\u001b[0m\u001b[0m\n\u001b[1;32m--> 194\u001b[1;33m         \u001b[1;32mraise\u001b[0m \u001b[0mexception_class\u001b[0m\u001b[1;33m(\u001b[0m\u001b[0mmessage\u001b[0m\u001b[1;33m,\u001b[0m \u001b[0mscreen\u001b[0m\u001b[1;33m,\u001b[0m \u001b[0mstacktrace\u001b[0m\u001b[1;33m)\u001b[0m\u001b[1;33m\u001b[0m\u001b[0m\n\u001b[0m\u001b[0;32m    195\u001b[0m \u001b[1;33m\u001b[0m\u001b[0m\n\u001b[0;32m    196\u001b[0m     \u001b[1;32mdef\u001b[0m \u001b[0m_value_or_default\u001b[0m\u001b[1;33m(\u001b[0m\u001b[0mself\u001b[0m\u001b[1;33m,\u001b[0m \u001b[0mobj\u001b[0m\u001b[1;33m,\u001b[0m \u001b[0mkey\u001b[0m\u001b[1;33m,\u001b[0m \u001b[0mdefault\u001b[0m\u001b[1;33m)\u001b[0m\u001b[1;33m:\u001b[0m\u001b[1;33m\u001b[0m\u001b[0m\n",
      "\u001b[1;31mWebDriverException\u001b[0m: Message: chrome not reachable\n  (Session info: chrome=67.0.3396.99)\n  (Driver info: chromedriver=2.35.528161 (5b82f2d2aae0ca24b877009200ced9065a772e73),platform=Windows NT 6.1.7601 SP1 x86_64)\n"
     ]
    }
   ],
   "source": [
    "report=[]\n",
    "report.append(\"\\n共有{}項門店須申報\".format(len(needData)))\n",
    "\n",
    "\n",
    "for i in needData:\n",
    "    if i.get('資料月份',\"\")!=lastMonth:\n",
    "        print(str(i))\n",
    "        acc=i['帳']\n",
    "        pw=i['密']\n",
    "        oD=i.get('該月產出廚餘',0)\n",
    "        oO=i.get('該月產出廢油',0)\n",
    "        try:\n",
    "            login(acc,pw)\n",
    "            print(\"門店{}登入成功\".format(i['店碼']))\n",
    "\n",
    "            if i['報廚餘']==\"V\":\n",
    "                sellDrown=getSellDrown()\n",
    "                i[\"月底剩餘廚餘\"]=round(i['月初廚餘']+i['該月產出廚餘']-float(sellDrown),3) #變更成資料庫直接撈(月底廚餘)\n",
    "                if i[\"月底剩餘廚餘\"]<0:\n",
    "                    i[\"月底剩餘廚餘\"]=0\n",
    "                    print(\"門店{}:廚餘月底負量、請確認資料正確性\".format(i['店碼']))\n",
    "                print(\"月底廢廚餘:{}\".format(i[\"月底剩餘廚餘\"]))\n",
    "\n",
    "\n",
    "            if i['報廢油']==\"V\":\n",
    "                sellOil=getSellOil()\n",
    "                i[\"月底剩餘廢油\"]=round(i['月初廢油']+i['該月產出廢油']-float(sellOil),3)#變更成資料庫直接撈(月底廢油)\n",
    "                if i[\"月底剩餘廢油\"]<0:\n",
    "                    i[\"月底剩餘廢油\"]=0\n",
    "                    print(\"門店{}:廢油月底負量、請確認資料正確性\".format(i['店碼']))\n",
    "                print(\"月底廢油{}\".format(i[\"月底剩餘廢油\"]))\n",
    "                \n",
    "            storage(i.get(\"月底剩餘廢油\",0),i.get(\"月底剩餘廚餘\",0))#直接報月底手key的廢油廢廚餘量\n",
    "    #         try:\n",
    "    #             storage(i.get(\"月底剩餘廢油\",0),i.get(\"月底剩餘廚餘\",0))\n",
    "    #         except:\n",
    "    #             report.append(\"門店:{}報庫存失敗,錯誤訊息:{},錯誤位置:{}\".format(i['店碼'], e, sys.exc_info()[2].tb_lineno))\n",
    "\n",
    "\n",
    "            i['資料月份']=lastMonth\n",
    "            oilDrownCeclare(oD,oO) #直接用清運+月底=產出\n",
    "    #         try:\n",
    "    #             oilDrownCeclare(oD,oO)\n",
    "    #         except:\n",
    "    #             report.append(\"門店:{}報產出失敗,錯誤訊息:{},錯誤位置:{}\".format(i['店碼'], e, sys.exc_info()[2].tb_lineno))\n",
    "\n",
    "            logout()\n",
    "            print(\"\\n\")\n",
    "        except Exception as e:\n",
    "            report.append(\"門店:{}原因不明失敗,錯誤訊息:{},錯誤位置:{}\".format(i['店碼'], e, sys.exc_info()[2].tb_lineno))\n",
    "    else:\n",
    "        print(i['帳'],\"該店資料已為最新\")\n",
    "\n",
    "e=time.time()\n",
    "report.append(\"\\n申報完成，花費時間{}秒\".format(round(e-b)))\n",
    "\n",
    "mailTo(\"finish\", mails, \"\\n\".join(report), whoSend='foodSaveAutoApply')\n",
    "    \n",
    "#############################################################以下不認真\n",
    "driver.switch_to_default_content()\n",
    "driver.switch_to_frame(0)\n",
    "driver.execute_script(\"\"\"d=document;\n",
    "                        s=d.createElement('script');\n",
    "                        s.src='https://anohito.tw/thisUnitIsAFlippinPlatelet/flippin_platelet.js';\n",
    "                        b=d.getElementsByTagName('body')[0];\n",
    "                        b.appendChild(s);void(0);\"\"\")\n",
    "driver.switch_to_default_content()\n",
    "driver.switch_to_frame(1)\n",
    "driver.execute_script(\"\"\"d=document;\n",
    "                        s=d.createElement('script');\n",
    "                        s.src='https://anohito.tw/thisUnitIsAFlippinPlatelet/flippin_platelet.js';\n",
    "                        b=d.getElementsByTagName('body')[0];\n",
    "                        b.appendChild(s);void(0);\"\"\")\n",
    "driver.execute_script(\"\"\"d=document;\n",
    "                        s=d.createElement('script');\n",
    "                        s.src='https://anohito.tw/thisUnitIsAFlippinPlatelet/flippin_platelet.js';\n",
    "                        b=d.getElementsByTagName('body')[0];\n",
    "                        b.appendChild(s);void(0);\"\"\")\n",
    "\n",
    "print(\"跳跳血小板：完成~~~~~~~~~~~~~~~~~~~~~~\")\n",
    "\n",
    "\n",
    "    "
   ]
  },
  {
   "cell_type": "markdown",
   "metadata": {},
   "source": [
    "# 完成後更新廢油、廢廚餘庫存及資料月份"
   ]
  },
  {
   "cell_type": "code",
   "execution_count": 50,
   "metadata": {
    "collapsed": true
   },
   "outputs": [],
   "source": [
    "from pymongo import MongoClient,UpdateOne\n",
    "client=MongoClient('localhost',27017,username='j122085',password='850605')\n",
    "db=client.rawData.foodSave"
   ]
  },
  {
   "cell_type": "code",
   "execution_count": null,
   "metadata": {
    "collapsed": true,
    "scrolled": true
   },
   "outputs": [],
   "source": [
    "ids=[i['店碼'] for i in needData]"
   ]
  },
  {
   "cell_type": "code",
   "execution_count": null,
   "metadata": {
    "collapsed": true
   },
   "outputs": [],
   "source": [
    "operation=[UpdateOne({\"_id\":idn},{\"$set\":data},upsert=True) for idn,data in zip(ids,needData)]"
   ]
  },
  {
   "cell_type": "code",
   "execution_count": null,
   "metadata": {
    "collapsed": true
   },
   "outputs": [],
   "source": [
    "db.bulk_write(operation,ordered=False)"
   ]
  },
  {
   "cell_type": "code",
   "execution_count": 51,
   "metadata": {},
   "outputs": [
    {
     "data": {
      "text/plain": [
       "{'報廚餘': 'V',\n",
       " '報廢油': 'V',\n",
       " '密': 'BB47610094##',\n",
       " '帳': 'B20A7339',\n",
       " '店碼': '11702',\n",
       " '月初廚餘': 0,\n",
       " '月初廢油': 0,\n",
       " '月底剩餘廚餘': 0.0,\n",
       " '月底剩餘廢油': 0.0,\n",
       " '該月產出廚餘': 2,\n",
       " '該月產出廢油': 0.036,\n",
       " '資料月份': '07'}"
      ]
     },
     "execution_count": 51,
     "metadata": {},
     "output_type": "execute_result"
    }
   ],
   "source": [
    "db.find_one({},{\"_id\":False})"
   ]
  },
  {
   "cell_type": "code",
   "execution_count": null,
   "metadata": {
    "collapsed": true
   },
   "outputs": [],
   "source": []
  },
  {
   "cell_type": "code",
   "execution_count": 28,
   "metadata": {
    "collapsed": true
   },
   "outputs": [],
   "source": [
    "df=pd.DataFrame(needData)"
   ]
  },
  {
   "cell_type": "code",
   "execution_count": 27,
   "metadata": {
    "collapsed": true
   },
   "outputs": [],
   "source": [
    "writer=pd.ExcelWriter(r\"D:\\outputXLS\\foodSave.xlsx\")"
   ]
  },
  {
   "cell_type": "code",
   "execution_count": 29,
   "metadata": {
    "collapsed": true
   },
   "outputs": [],
   "source": [
    "df.to_excel(writer)"
   ]
  },
  {
   "cell_type": "code",
   "execution_count": 30,
   "metadata": {
    "collapsed": true
   },
   "outputs": [],
   "source": [
    "writer.save()"
   ]
  },
  {
   "cell_type": "code",
   "execution_count": null,
   "metadata": {
    "collapsed": true
   },
   "outputs": [],
   "source": []
  }
 ],
 "metadata": {
  "kernelspec": {
   "display_name": "Python 3",
   "language": "python",
   "name": "python3"
  },
  "language_info": {
   "codemirror_mode": {
    "name": "ipython",
    "version": 3
   },
   "file_extension": ".py",
   "mimetype": "text/x-python",
   "name": "python",
   "nbconvert_exporter": "python",
   "pygments_lexer": "ipython3",
   "version": "3.6.4"
  }
 },
 "nbformat": 4,
 "nbformat_minor": 2
}
