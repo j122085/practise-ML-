{
 "cells": [
  {
   "cell_type": "code",
   "execution_count": 81,
   "metadata": {
    "collapsed": true
   },
   "outputs": [],
   "source": [
    "from selenium import webdriver\n",
    "from selenium.webdriver.common.keys import Keys\n",
    "from selenium.webdriver.common.by import By\n",
    "from selenium.webdriver.support.ui import Select\n",
    "from selenium.webdriver.chrome.options import Options\n",
    "from selenium.webdriver.common.action_chains import ActionChains#滑鼠套件\n",
    "from selenium.webdriver.support.ui import WebDriverWait#直到True 不斷等待\n",
    "from selenium.webdriver.support import expected_conditions as EC #判斷某物件存在，直到時間結束\n",
    "import os\n",
    "import time \n",
    "import xl2dict\n",
    "import smtplib\n",
    "from email.message import EmailMessage\n"
   ]
  },
  {
   "cell_type": "code",
   "execution_count": 82,
   "metadata": {
    "collapsed": true
   },
   "outputs": [],
   "source": [
    "chrome_options = Options()\n",
    "# chrome_options.add_argument(\"--headless\")\n",
    "# chrome_options.add_argument(\"--no-sandbox\")\n",
    "# chrome_options.add_argument(\"start-maximized\")\n",
    "# chrome_options.add_argument(\"disable-infobars\")\n",
    "# chrome_options.add_argument(\"--disable-extensions\")\n",
    "\n",
    "#crx檔要用http://crxextractor.com/ 將套件網址key入，即可產生套件檔 \n",
    "# chrome_options.add_extension(r'D:\\xxx\\extension_0_0_1_3.crx')\n",
    "#webdriver檔要在 https://sites.google.com/a/chromium.org/chromedriver/downloads下載\n",
    "#套件網址:https://chrome.google.com/webstore/detail/smartpki-%E5%A4%9A%E6%86%91%E8%AD%89%E5%AE%89%E6%8E%A7%E6%A8%A1%E7%B5%84%E6%93%B4%E5%85%85%E5%A5%97%E4%BB%B6/jhffgcfmcckgmioipfnmbannkpncfipo?utm_source=chrome-ntp-icon\n",
    "driver =webdriver.Chrome(executable_path=r'D:\\Driver\\chromedriver.exe', chrome_options=chrome_options)\n",
    "driver.get(\"https://waste.epa.gov.tw/prog/IndexFrame.asp?Func=2\")\n",
    "# driver.s\n",
    "driver.set_window_size(1050,840)\n",
    "\n",
    "driver.save_screenshot(r\"D:\\trydata\\screenshot.png\")\n",
    "driver.switch_to_default_content()\n",
    "driver.switch_to_frame(1)\n",
    "driver.page_source\n",
    "accountInput=driver.find_element_by_name(\"fac_user\")\n",
    "accountInput.send_keys(\"A45B1625\")\n",
    "\n",
    "pwInput=driver.find_element_by_name(\"fac_pwd\")\n",
    "pwInput.send_keys(\"a!0227581123\")\n",
    "\n",
    "picture=driver.find_element_by_id(\"CAPTCHA\")\n",
    "# location=picture.location\n",
    "location={'x':picture.location['x']-395,'y':picture.location['y']+206}\n",
    "# location={'x':577,\"y\":326}\n",
    "# location\n",
    "left=location['x']\n",
    "right=location['x']+picture.size['width']\n",
    "top=location['y']\n",
    "botton=location['y']+picture.size['height']\n",
    "from PIL import Image\n",
    "img=Image.open(r\"D:\\trydata\\screenshot.png\")\n",
    "img=img.crop((left,top,right,botton))\n",
    "img.save(r\"D:\\trydata\\captcha.png\")"
   ]
  },
  {
   "cell_type": "code",
   "execution_count": null,
   "metadata": {
    "collapsed": true
   },
   "outputs": [],
   "source": []
  },
  {
   "cell_type": "markdown",
   "metadata": {},
   "source": [
    "# 大神的截圖方法"
   ]
  },
  {
   "cell_type": "code",
   "execution_count": 89,
   "metadata": {
    "scrolled": true
   },
   "outputs": [
    {
     "name": "stderr",
     "output_type": "stream",
     "text": [
      "D:\\anaconda\\lib\\site-packages\\matplotlib\\pyplot.py:524: RuntimeWarning: More than 20 figures have been opened. Figures created through the pyplot interface (`matplotlib.pyplot.figure`) are retained until explicitly closed and may consume too much memory. (To control this warning, see the rcParam `figure.max_open_warning`).\n",
      "  max_open_warning, RuntimeWarning)\n"
     ]
    },
    {
     "name": "stdout",
     "output_type": "stream",
     "text": [
      "['C' 'C' 'N' 'xx' '7']\n",
      "CCN7\n"
     ]
    }
   ],
   "source": [
    "import os\n",
    "import base64, re\n",
    "from io import BytesIO\n",
    "from PIL import Image\n",
    "from selenium import webdriver\n",
    "from selenium.webdriver.chrome.options import Options\n",
    "from selenium.webdriver.common.keys import Keys\n",
    "from selenium.webdriver.common.by import By\n",
    "from selenium.webdriver.support.ui import Select\n",
    "from selenium.webdriver.chrome.options import Options\n",
    "from selenium.webdriver.support.ui import WebDriverWait#直到True 不斷等待\n",
    "from selenium.webdriver.support import expected_conditions as EC #判斷某物件存在，直到時間結束\n",
    "import time \n",
    "import xl2dict\n",
    "import smtplib\n",
    "from email.message import EmailMessage\n",
    "\n",
    "from sklearn.externals import joblib\n",
    "from sklearn.preprocessing import StandardScaler\n",
    "import cv2\n",
    "import PIL\n",
    "import numpy\n",
    "from matplotlib import pyplot as plt\n",
    "\n",
    "chrome_options = Options()\n",
    "def base64_to_image(base64_str, image_path=None):\n",
    "    base64_data = re.sub('^data:image/.+;base64,', '', base64_str)\n",
    "    byte_data = base64.b64decode(base64_data)\n",
    "    image_data = BytesIO(byte_data)\n",
    "    img = Image.open(image_data)\n",
    "    if image_path:\n",
    "        img.save(image_path)\n",
    "\n",
    "def save_captcha():\n",
    "    driver.switch_to.default_content()\n",
    "    driver.switch_to.frame(1)\n",
    "    try:\n",
    "        driver.execute_script('''\n",
    "        img = document.getElementById(\"CAPTCHA\");\n",
    "        var imgCanvas = document.createElement(\"canvas\"),\n",
    "        imgContext = imgCanvas.getContext(\"2d\");\n",
    "        imgCanvas.width = img.width;\n",
    "        imgCanvas.height = img.height;\n",
    "        imgContext.drawImage(img, 0, 0, imgCanvas.width, imgCanvas.height);\n",
    "        imgInfom = imgCanvas.toDataURL(\"image/png\");\n",
    "        localStorage.setItem(\"imgInfo\",imgInfom);\n",
    "        ''')\n",
    "        img_data = driver.execute_script('return localStorage.getItem(\"imgInfo\")')\n",
    "        base64_to_image(img_data,\"./captchaDir/CAPTCHA.png\")\n",
    "    except Exception as e:\n",
    "        print(str(e))\n",
    "\n",
    "        \n",
    "if not os.path.exists(\"captchaDir\"):\n",
    "    os.mkdir(\"captchaDir\")\n",
    "driver_path = os.path.join(os.getcwd(), 'chromedriver')\n",
    "driver = webdriver.Chrome(executable_path=driver_path, chrome_options=chrome_options)\n",
    "driver.get(\"https://waste.epa.gov.tw/prog/IndexFrame.asp?Func=2\")\n",
    "\n",
    "\n",
    "\n",
    "\n",
    "\n",
    "success=0\n",
    "while success==0:\n",
    "    driver.switch_to.default_content()\n",
    "    driver.switch_to.frame(1)\n",
    "    driver.page_source\n",
    "    accountInput=driver.find_element_by_name(\"fac_user\")\n",
    "    accountInput.clear()\n",
    "    accountInput.send_keys(\"A45B1625\")\n",
    "    pwInput=driver.find_element_by_name(\"fac_pwd\")\n",
    "    pwInput.clear()\n",
    "    pwInput.send_keys(\"a!0227581123\")\n",
    "\n",
    "    ##########################\n",
    "\n",
    "\n",
    "    captchaText=\"\"\n",
    "    while len(captchaText)!=4:\n",
    "        save_captcha()\n",
    "        mlp=joblib.load(r'D:\\trydata\\textConsider\\model\\captcha.pkl')\n",
    "        # img=Image.open(\"./captchaDir/CAPTCHA.png\")\n",
    "\n",
    "        pil_image =PIL.Image.open(\"./captchaDir/CAPTCHA.png\").convert(\"RGB\")\n",
    "        open_cv_image=numpy.array(pil_image)\n",
    "        plt.imshow(open_cv_image)\n",
    "        imgray=cv2.cvtColor(open_cv_image,cv2.COLOR_BGR2GRAY)\n",
    "        ret, thresh=cv2.threshold(imgray,127,255,0)\n",
    "        image,contours,hierarchy=cv2.findContours(thresh,cv2.RETR_TREE,cv2.CHAIN_APPROX_SIMPLE)\n",
    "        cnts=sorted([(c,cv2.boundingRect(c)[0]) for c in contours],key=lambda x:x[1])\n",
    "        ary=[]\n",
    "        for (c,_) in cnts:\n",
    "            (x,y,w,h)=cv2.boundingRect(c)\n",
    "        #         print((x,y,w,h))\n",
    "            if w>11 and h>=7 and w!=120:\n",
    "                if x-2>0:\n",
    "                    ary.append((x-2,y-2,w+4,h+4))\n",
    "                else:\n",
    "                    ary.append((x,y,w+4,h+4))\n",
    "        n=0\n",
    "\n",
    "        if not os.path.exists(\"./captchaDir/numPic/\"):\n",
    "            os.mkdir(\"./captchaDir/numPic/\")\n",
    "\n",
    "        for i in os.listdir(\"./captchaDir/numPic/\"):\n",
    "            os.remove(\"./captchaDir/numPic/\"+i)\n",
    "\n",
    "        for (x,y,w,h) in ary:\n",
    "            fig=plt.figure(figsize=(6, 4), dpi=100) #600*400\n",
    "            roi=open_cv_image[y:y+h,x:x+w]\n",
    "            thresh=roi.copy()\n",
    "        #     ax=fig.add\n",
    "            plt.imshow(thresh)\n",
    "            plt.savefig(\"./captchaDir/numPic/aa_{}.png\".format(n),dpi=100)\n",
    "            n+=1\n",
    "\n",
    "\n",
    "        data=[]\n",
    "        basewidth=50\n",
    "        fig=plt.figure(figsize=(20,20))\n",
    "        cnt=0\n",
    "        for idx,img in enumerate(os.listdir(\"./captchaDir/numPic/\")):\n",
    "            pil_image=PIL.Image.open(\"./captchaDir/numPic/{}\".format(img)).convert('1')\n",
    "            wpercent=(basewidth/float(pil_image.size[0]))\n",
    "            hsize=int((float(pil_image.size[1])*float(wpercent)))\n",
    "            img=pil_image.resize((basewidth,hsize),PIL.Image.ANTIALIAS)\n",
    "            data.append([pixel for pixel in iter(img.getdata())])\n",
    "        scaler=StandardScaler()\n",
    "        scaler.fit(data)\n",
    "        data_scaled=scaler.transform(data)\n",
    "        print(mlp.predict(data_scaled))\n",
    "\n",
    "        captchaText=\"\".join(mlp.predict(data_scaled)).replace(\"xx\",\"\")\n",
    "        if len(captchaText)!=4:\n",
    "            driver.find_element_by_link_text(\"重新載入圖片\").click()\n",
    "            time.sleep(0.5)\n",
    "\n",
    "\n",
    "    print(captchaText)\n",
    "    captchaInput=driver.find_element_by_id(\"securityCode\")\n",
    "    captchaInput.send_keys(captchaText)\n",
    "    driver.find_element_by_name(\"Action\").click()\n",
    "    time.sleep(0.5)\n",
    "    for i in range(5):\n",
    "        try:\n",
    "            alert=driver.switch_to_alert()\n",
    "            alert.accept()\n",
    "            time.sleep(0.1)\n",
    "        except:\n",
    "            pass\n",
    "\n",
    "    try:\n",
    "        time.sleep(0.5)\n",
    "        driver.find_element_by_link_text(\"越境聯單資料錯誤說明\")\n",
    "        success=1\n",
    "    except:\n",
    "        print(\"xxxxxxxxxxxxxxxxxxxxxxxxxxx\")\n",
    "        time.sleep(0.5)"
   ]
  },
  {
   "cell_type": "markdown",
   "metadata": {},
   "source": [
    "# 廚餘"
   ]
  },
  {
   "cell_type": "code",
   "execution_count": 90,
   "metadata": {
    "collapsed": true
   },
   "outputs": [],
   "source": [
    "driver.get(\"https://waste.epa.gov.tw/massbal/restaurant.asp\")"
   ]
  },
  {
   "cell_type": "code",
   "execution_count": 91,
   "metadata": {
    "collapsed": true
   },
   "outputs": [],
   "source": [
    "driver.find_element_by_name(\"app_year\").click()\n",
    "import datetime\n",
    "now=datetime.datetime.now()\n",
    "yearTaiwan=str(now.year-1911)\n",
    "driver.find_element_by_xpath('//option[@value=\"' + yearTaiwan + '\"]').click()\n",
    "driver.find_element_by_name(\"app_year\").click()"
   ]
  },
  {
   "cell_type": "code",
   "execution_count": 92,
   "metadata": {
    "collapsed": true
   },
   "outputs": [],
   "source": [
    "driver.find_element_by_name(\"app_month\").click()\n",
    "import datetime\n",
    "now=datetime.datetime.now()\n",
    "monthTaiwan=str(now.month-1)\n",
    "if len(monthTaiwan)==1:\n",
    "    monthTaiwan=\"0\"+monthTaiwan\n",
    "driver.find_element_by_xpath('//option[@value=\"' + monthTaiwan + '\"]').click()\n",
    "driver.find_element_by_name(\"app_month\").click()"
   ]
  },
  {
   "cell_type": "code",
   "execution_count": 93,
   "metadata": {
    "collapsed": true
   },
   "outputs": [],
   "source": [
    "driver.find_elements_by_name(\"submit\")[0].click()"
   ]
  },
  {
   "cell_type": "code",
   "execution_count": 94,
   "metadata": {},
   "outputs": [],
   "source": [
    "xxxx=100 #廚餘\n",
    "if xxxx==0:\n",
    "    driver.find_element_by_xpath(\"/html/body/p[5]/b[2]/font/a\").click()\n",
    "    alert=driver.switch_to_alert()\n",
    "    alert.accept()\n",
    "    time.sleep(0.1)\n",
    "else:\n",
    "    driver.find_element_by_xpath(\"/html/body/p[4]/b[2]/font/a\").click()\n",
    "    time.sleep(0.5)\n",
    "    productInput=driver.find_element_by_id(\"mod_app_qty\")\n",
    "    productInput.clear()\n",
    "    productInput.send_keys(str(xxxx))\n",
    "    includeWaterInput=driver.find_element_by_id(\"mod_inwater\")\n",
    "    includeWaterInput.clear()\n",
    "    includeWaterInput.send_keys(\"0\")\n",
    "    # driver.find_element_by_name(\"B3\").click()\n",
    "#     alert=driver.switch_to_alert()\n",
    "#     alert.accept()\n",
    "#     time.sleep(0.1)"
   ]
  },
  {
   "cell_type": "code",
   "execution_count": null,
   "metadata": {
    "collapsed": true
   },
   "outputs": [],
   "source": []
  },
  {
   "cell_type": "code",
   "execution_count": 95,
   "metadata": {
    "collapsed": true
   },
   "outputs": [],
   "source": [
    "import pandas as pd"
   ]
  },
  {
   "cell_type": "code",
   "execution_count": 96,
   "metadata": {},
   "outputs": [],
   "source": [
    "import sys\n",
    "df=pd.read_excel(r\"C:\\Users\\andy.yuan\\Desktop\\食安自動化\\需要產出的資料格式.xlsx\", encoding=sys.getfilesystemencoding())"
   ]
  },
  {
   "cell_type": "code",
   "execution_count": 97,
   "metadata": {},
   "outputs": [
    {
     "name": "stdout",
     "output_type": "stream",
     "text": [
      "123.0\n",
      "223.0\n",
      "0.040000000000000036\n",
      "==================================================\n",
      "223.0\n",
      "123.0\n",
      "0.18\n",
      "==================================================\n",
      "321.0\n",
      "321.0\n",
      "0.81\n",
      "==================================================\n"
     ]
    }
   ],
   "source": [
    "data=df.T.to_dict()\n",
    "for i in range(len(df)-1):\n",
    "    print(data[i][\"帳號\"])\n",
    "    print(data[i][\"密碼\"])\n",
    "    print(data[i][\"本月廢油產出量\"])\n",
    "    print(\"=\"*50)"
   ]
  },
  {
   "cell_type": "code",
   "execution_count": 98,
   "metadata": {},
   "outputs": [
    {
     "data": {
      "text/html": [
       "<div>\n",
       "<style>\n",
       "    .dataframe thead tr:only-child th {\n",
       "        text-align: right;\n",
       "    }\n",
       "\n",
       "    .dataframe thead th {\n",
       "        text-align: left;\n",
       "    }\n",
       "\n",
       "    .dataframe tbody tr th {\n",
       "        vertical-align: top;\n",
       "    }\n",
       "</style>\n",
       "<table border=\"1\" class=\"dataframe\">\n",
       "  <thead>\n",
       "    <tr style=\"text-align: right;\">\n",
       "      <th></th>\n",
       "      <th>店家</th>\n",
       "      <th>月份</th>\n",
       "      <th>帳號</th>\n",
       "      <th>密碼</th>\n",
       "      <th>上個月存放的廢油(期初廢油)</th>\n",
       "      <th>清運遞送(消耗的廢油))</th>\n",
       "      <th>貯存(期末廢油)</th>\n",
       "      <th>本月廢油產出量</th>\n",
       "    </tr>\n",
       "  </thead>\n",
       "  <tbody>\n",
       "    <tr>\n",
       "      <th>0</th>\n",
       "      <td>10105</td>\n",
       "      <td>10706</td>\n",
       "      <td>123</td>\n",
       "      <td>223</td>\n",
       "      <td>0.50</td>\n",
       "      <td>0.36</td>\n",
       "      <td>0.18</td>\n",
       "      <td>0.04</td>\n",
       "    </tr>\n",
       "    <tr>\n",
       "      <th>1</th>\n",
       "      <td>10299</td>\n",
       "      <td>10706</td>\n",
       "      <td>223</td>\n",
       "      <td>123</td>\n",
       "      <td>0.18</td>\n",
       "      <td>0.00</td>\n",
       "      <td>0.36</td>\n",
       "      <td>0.18</td>\n",
       "    </tr>\n",
       "    <tr>\n",
       "      <th>2</th>\n",
       "      <td>13362</td>\n",
       "      <td>10706</td>\n",
       "      <td>321</td>\n",
       "      <td>321</td>\n",
       "      <td>0.36</td>\n",
       "      <td>0.81</td>\n",
       "      <td>0.00</td>\n",
       "      <td>0.81</td>\n",
       "    </tr>\n",
       "    <tr>\n",
       "      <th>3</th>\n",
       "      <td>11211</td>\n",
       "      <td>10706</td>\n",
       "      <td>555</td>\n",
       "      <td>666</td>\n",
       "      <td>0.00</td>\n",
       "      <td>0.00</td>\n",
       "      <td>0.27</td>\n",
       "      <td>0.27</td>\n",
       "    </tr>\n",
       "  </tbody>\n",
       "</table>\n",
       "</div>"
      ],
      "text/plain": [
       "      店家     月份   帳號   密碼  上個月存放的廢油(期初廢油)  清運遞送(消耗的廢油))  貯存(期末廢油)  本月廢油產出量\n",
       "0  10105  10706  123  223            0.50          0.36      0.18     0.04\n",
       "1  10299  10706  223  123            0.18          0.00      0.36     0.18\n",
       "2  13362  10706  321  321            0.36          0.81      0.00     0.81\n",
       "3  11211  10706  555  666            0.00          0.00      0.27     0.27"
      ]
     },
     "execution_count": 98,
     "metadata": {},
     "output_type": "execute_result"
    }
   ],
   "source": [
    "df."
   ]
  },
  {
   "cell_type": "code",
   "execution_count": null,
   "metadata": {
    "collapsed": true
   },
   "outputs": [],
   "source": []
  }
 ],
 "metadata": {
  "kernelspec": {
   "display_name": "Python 3",
   "language": "python",
   "name": "python3"
  },
  "language_info": {
   "codemirror_mode": {
    "name": "ipython",
    "version": 3
   },
   "file_extension": ".py",
   "mimetype": "text/x-python",
   "name": "python",
   "nbconvert_exporter": "python",
   "pygments_lexer": "ipython3",
   "version": "3.6.4"
  }
 },
 "nbformat": 4,
 "nbformat_minor": 2
}
