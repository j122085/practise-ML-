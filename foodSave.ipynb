{
 "cells": [
  {
   "cell_type": "markdown",
   "metadata": {},
   "source": [
    "# 進入DRRIVER，確認一些function-進入主要處理頁面"
   ]
  },
  {
   "cell_type": "code",
   "execution_count": 370,
   "metadata": {
    "collapsed": true
   },
   "outputs": [],
   "source": [
    "import os\n",
    "import base64, re\n",
    "from io import BytesIO\n",
    "from PIL import Image\n",
    "from selenium import webdriver\n",
    "from selenium.webdriver.support.ui import Select\n",
    "import time\n",
    "import smtplib\n",
    "from email.message import EmailMessage\n",
    "from sklearn.externals import joblib\n",
    "from sklearn.preprocessing import StandardScaler\n",
    "import cv2\n",
    "import numpy\n",
    "from matplotlib import pyplot as plt\n",
    "import datetime\n",
    "from datetime import timedelta\n",
    "# from selenium.webdriver.chrome.options import Options\n",
    "# from selenium.webdriver.common.keys import Keys\n",
    "# from selenium.webdriver.common.by import By\n",
    "# from selenium.webdriver.chrome.options import Options\n",
    "# from selenium.webdriver.support.ui import WebDriverWait#直到True 不斷等待\n",
    "# from selenium.webdriver.support import expected_conditions as EC #判斷某物件存在，直到時間結束\n",
    "# import xl2dict\n",
    "\n",
    "\n",
    "\n",
    "###Date\n",
    "today = datetime.date.today()\n",
    "first = datetime.date(day=1, month=today.month, year=today.year)\n",
    "lastMonthFinal = first - datetime.timedelta(days=1)\n",
    "lastMonthBegan = datetime.date(day=1,month=lastMonthFinal.month, year=today.year)\n",
    "yearTaiwan=str(lastMonthFinal.year-1911)\n",
    "if lastMonthBegan.month>=10:\n",
    "    lastMonth=str(lastMonthBegan.month)\n",
    "else:\n",
    "    lastMonth=\"0\"+str(lastMonthBegan.month)\n",
    "###Date\n",
    "    \n",
    "# chrome_options = Options()\n",
    "def base64_to_image(base64_str, image_path=None):\n",
    "    base64_data = re.sub('^data:image/.+;base64,', '', base64_str)\n",
    "    byte_data = base64.b64decode(base64_data)\n",
    "    image_data = BytesIO(byte_data)\n",
    "    img = Image.open(image_data)\n",
    "    if image_path:\n",
    "        img.save(image_path)\n",
    "\n",
    "def save_captcha():\n",
    "    driver.switch_to.default_content()\n",
    "    driver.switch_to.frame(1)\n",
    "    try:\n",
    "        driver.execute_script('''\n",
    "        img = document.getElementById(\"CAPTCHA\");\n",
    "        var imgCanvas = document.createElement(\"canvas\"),\n",
    "        imgContext = imgCanvas.getContext(\"2d\");\n",
    "        imgCanvas.width = img.width;\n",
    "        imgCanvas.height = img.height;\n",
    "        imgContext.drawImage(img, 0, 0, imgCanvas.width, imgCanvas.height);\n",
    "        imgInfom = imgCanvas.toDataURL(\"image/png\");\n",
    "        localStorage.setItem(\"imgInfo\",imgInfom);\n",
    "        ''')\n",
    "        img_data = driver.execute_script('return localStorage.getItem(\"imgInfo\")')\n",
    "        base64_to_image(img_data,\"./captchaDir/CAPTCHA.png\")\n",
    "    except Exception as e:\n",
    "        print(str(e))\n",
    "\n",
    "        \n",
    "if not os.path.exists(\"captchaDir\"):\n",
    "    os.mkdir(\"captchaDir\")\n",
    "driver_path = os.path.join(os.getcwd(), 'chromedriver')\n",
    "# driver = webdriver.Chrome(executable_path=driver_path, chrome_options=chrome_options)\n",
    "driver = webdriver.Chrome(executable_path=driver_path)\n",
    "driver.get(\"https://waste.epa.gov.tw/prog/IndexFrame.asp?Func=2\")\n"
   ]
  },
  {
   "cell_type": "markdown",
   "metadata": {
    "collapsed": true
   },
   "source": [
    "# 須申報店家資料-給食安維護用資料"
   ]
  },
  {
   "cell_type": "code",
   "execution_count": 371,
   "metadata": {
    "collapsed": true
   },
   "outputs": [],
   "source": [
    "import pandas as pd\n",
    "import sys\n",
    "df=pd.read_excel(r\"D:\\trydata\\foodSave\\DienData.xlsx\", encoding=sys.getfilesystemencoding())\n",
    "data=df.T.to_dict()\n",
    "needData=[{\"店碼\":str(data[i]['門店代碼']),\n",
    "  \"帳\":data[i]['管制編號'],\n",
    "  \"密\":data[i]['IWR&MS密碼'],\n",
    "  \"報廚餘\":data[i]['需申報廚餘'],\n",
    "  \"報廢油\":data[i]['需申報廢油']} for i in data]"
   ]
  },
  {
   "cell_type": "code",
   "execution_count": 372,
   "metadata": {},
   "outputs": [
    {
     "data": {
      "text/plain": [
       "{'報廚餘': 'V', '報廢油': 'V', '密': 'BB47610094##', '帳': 'B20A7339', '店碼': '11702'}"
      ]
     },
     "execution_count": 372,
     "metadata": {},
     "output_type": "execute_result"
    }
   ],
   "source": [
    "needData[0]"
   ]
  },
  {
   "cell_type": "markdown",
   "metadata": {},
   "source": [
    "# 店家申報數值(之後改成資料庫)"
   ]
  },
  {
   "cell_type": "code",
   "execution_count": 373,
   "metadata": {
    "scrolled": true
   },
   "outputs": [],
   "source": [
    "##資料庫版本\n",
    "# from pymongo import MongoClient,UpdateOne\n",
    "# client=MongoClient('localhost',27017,username='j122085',password='850605')\n",
    "# db=client.rawData.foodSave\n",
    "# # data=list(db.find({'資料月份':{\"$ne\":\"06\"}},{\"_id\":False}))\n",
    "# data=list(db.find({'資料月份':{\"$ne\":lastMonth}},{\"_id\":False}))#抓取非這個月得資料\n",
    "\n",
    "# valueData={}\n",
    "# for i in data:\n",
    "#     dataOne={}\n",
    "#     dataOne[i['店碼']]={}\n",
    "#     dataOne[i['店碼']]['月初廚餘']=i.get('月底剩餘廚餘',\"x\") #非該月的月底底的廚餘 就是 這個該月初的廚餘\n",
    "#     dataOne[i['店碼']]['月初廢油']=i.get('月底剩餘廢油',\"x\")#非該月的月底底的廢油 就是 這個該月初的廢油\n",
    "    \n",
    "#     dataOne[i['店碼']]['該月產出廚餘']=i.get('該月產出廚餘',\"x\")#門店key進資料庫\n",
    "#     dataOne[i['店碼']]['該月產出廢油']=i.get('該月產出廢油',\"x\")#門店key進資料庫\n",
    "    \n",
    "#     valueData.update(dataOne)\n",
    "\n",
    "# valueData"
   ]
  },
  {
   "cell_type": "code",
   "execution_count": 374,
   "metadata": {
    "collapsed": true
   },
   "outputs": [],
   "source": [
    "df=pd.read_excel(r\"D:\\trydata\\foodSave\\WasteData.xlsx\", encoding=sys.getfilesystemencoding())\n",
    "data=df.T.to_dict()\n",
    "valueData={str(data[i]['門店代碼']):{\n",
    "  \"月初廚餘\":data[i]['廚餘-月初庫存'],\n",
    "  \"該月產出廚餘\":data[i]['廚餘-該月產出量'],\n",
    "  \"月初廢油\":data[i]['廢油-月初庫存'],\n",
    "  \"該月產出廢油\":data[i]['廢油-該月產出量']} for i in data}"
   ]
  },
  {
   "cell_type": "code",
   "execution_count": 375,
   "metadata": {},
   "outputs": [
    {
     "data": {
      "text/plain": [
       "{'11229': {'月初廚餘': 13.2, '月初廢油': 'x', '該月產出廚餘': 0.7, '該月產出廢油': 'x'},\n",
       " '11231': {'月初廚餘': 6.6, '月初廢油': 'x', '該月產出廚餘': 0.7, '該月產出廢油': 'x'},\n",
       " '11246': {'月初廚餘': 6.6, '月初廢油': 'x', '該月產出廚餘': 0.7, '該月產出廢油': 'x'},\n",
       " '11252': {'月初廚餘': 13.2, '月初廢油': 'x', '該月產出廚餘': 0.7, '該月產出廢油': 'x'},\n",
       " '11255': {'月初廚餘': 9.6, '月初廢油': 'x', '該月產出廚餘': 0.7, '該月產出廢油': 'x'},\n",
       " '11702': {'月初廚餘': 0, '月初廢油': 0, '該月產出廚餘': 2, '該月產出廢油': 0.036},\n",
       " '11801': {'月初廚餘': 0, '月初廢油': 0, '該月產出廚餘': 1.07, '該月產出廢油': 0.054},\n",
       " '11802': {'月初廚餘': 0, '月初廢油': 0, '該月產出廚餘': 1.1, '該月產出廢油': 0.051},\n",
       " '11803': {'月初廚餘': 'x', '月初廢油': 0, '該月產出廚餘': 'x', '該月產出廢油': 0.11},\n",
       " '11804': {'月初廚餘': 'x', '月初廢油': 0, '該月產出廚餘': 'x', '該月產出廢油': 0.054}}"
      ]
     },
     "execution_count": 375,
     "metadata": {},
     "output_type": "execute_result"
    }
   ],
   "source": [
    "valueData"
   ]
  },
  {
   "cell_type": "markdown",
   "metadata": {
    "collapsed": true
   },
   "source": [
    "# 結合兩邊資料 用來做for loop"
   ]
  },
  {
   "cell_type": "code",
   "execution_count": 376,
   "metadata": {
    "collapsed": true
   },
   "outputs": [],
   "source": [
    "for i in needData:\n",
    "    joinData=valueData[i['店碼']]\n",
    "    if i['報廚餘']==\"V\":\n",
    "        i['月初廚餘']=joinData['月初廚餘']\n",
    "        i['該月產出廚餘']=joinData['該月產出廚餘']\n",
    "    if i['報廢油']==\"V\":\n",
    "        i['月初廢油']=joinData['月初廢油']\n",
    "        i['該月產出廢油']=joinData['該月產出廢油']"
   ]
  },
  {
   "cell_type": "code",
   "execution_count": 377,
   "metadata": {
    "scrolled": true
   },
   "outputs": [
    {
     "data": {
      "text/plain": [
       "{'報廚餘': 'V',\n",
       " '報廢油': 'V',\n",
       " '密': 'BB47610094##',\n",
       " '帳': 'B20A7339',\n",
       " '店碼': '11702',\n",
       " '月初廚餘': 0,\n",
       " '月初廢油': 0,\n",
       " '該月產出廚餘': 2,\n",
       " '該月產出廢油': 0.036}"
      ]
     },
     "execution_count": 377,
     "metadata": {},
     "output_type": "execute_result"
    }
   ],
   "source": [
    "needData[0]"
   ]
  },
  {
   "cell_type": "markdown",
   "metadata": {},
   "source": [
    "# 登入(含辨識captcha)-需改成帳密變數--由這裡開始for迴圈"
   ]
  },
  {
   "cell_type": "code",
   "execution_count": 378,
   "metadata": {
    "scrolled": true
   },
   "outputs": [],
   "source": [
    "def login(account,password):\n",
    "    success=0\n",
    "    while success==0:\n",
    "        try:\n",
    "            driver.switch_to.default_content()\n",
    "        except:\n",
    "            pass\n",
    "        driver.switch_to.frame(1)\n",
    "        driver.page_source\n",
    "        accountInput=driver.find_element_by_name(\"fac_user\")\n",
    "        accountInput.clear()\n",
    "        accountInput.send_keys(account) #帳號\n",
    "        pwInput=driver.find_element_by_name(\"fac_pwd\")\n",
    "        pwInput.clear()\n",
    "        pwInput.send_keys(password) #密碼\n",
    "\n",
    "        #J55B6752 1121@PINNADA\n",
    "        #A45B1625 a!0227581123\n",
    "        ##########################\n",
    "\n",
    "\n",
    "        captchaText=\"\"\n",
    "        while len(captchaText)!=4:\n",
    "            save_captcha()\n",
    "            mlp=joblib.load(r'D:\\trydata\\textConsider\\model\\captcha.pkl') #captcha辨識模型\n",
    "            # img=Image.open(\"./captchaDir/CAPTCHA.png\")\n",
    "\n",
    "            pil_image =Image.open(\"./captchaDir/CAPTCHA.png\").convert(\"RGB\")\n",
    "            open_cv_image=numpy.array(pil_image)\n",
    "            plt.imshow(open_cv_image)\n",
    "            imgray=cv2.cvtColor(open_cv_image,cv2.COLOR_BGR2GRAY)\n",
    "            ret, thresh=cv2.threshold(imgray,127,255,0)\n",
    "            image,contours,hierarchy=cv2.findContours(thresh,cv2.RETR_TREE,cv2.CHAIN_APPROX_SIMPLE)\n",
    "            cnts=sorted([(c,cv2.boundingRect(c)[0]) for c in contours],key=lambda x:x[1])\n",
    "            ary=[]\n",
    "            for (c,_) in cnts:\n",
    "                (x,y,w,h)=cv2.boundingRect(c)\n",
    "            #         print((x,y,w,h))\n",
    "                if w>11 and h>=7 and w!=120:\n",
    "                    if x-2>0:\n",
    "                        ary.append((x-2,y-2,w+4,h+4))\n",
    "                    else:\n",
    "                        ary.append((x,y,w+4,h+4))\n",
    "            n=0\n",
    "\n",
    "            if not os.path.exists(\"./captchaDir/numPic/\"):\n",
    "                os.mkdir(\"./captchaDir/numPic/\")\n",
    "\n",
    "            for i in os.listdir(\"./captchaDir/numPic/\"):\n",
    "                os.remove(\"./captchaDir/numPic/\"+i)\n",
    "\n",
    "            for (x,y,w,h) in ary:\n",
    "                fig=plt.figure(figsize=(6, 4), dpi=100) #600*400\n",
    "                roi=open_cv_image[y:y+h,x:x+w]\n",
    "                thresh=roi.copy()\n",
    "            #     ax=fig.add\n",
    "                plt.imshow(thresh)\n",
    "                plt.savefig(\"./captchaDir/numPic/aa_{}.png\".format(n),dpi=100)\n",
    "                n+=1\n",
    "\n",
    "\n",
    "            data=[]\n",
    "            basewidth=50\n",
    "            fig=plt.figure(figsize=(20,20))\n",
    "            cnt=0\n",
    "            for idx,img in enumerate(os.listdir(\"./captchaDir/numPic/\")):\n",
    "                pil_image=Image.open(\"./captchaDir/numPic/{}\".format(img)).convert('1')\n",
    "                wpercent=(basewidth/float(pil_image.size[0]))\n",
    "                hsize=int((float(pil_image.size[1])*float(wpercent)))\n",
    "                img=pil_image.resize((basewidth,hsize),Image.ANTIALIAS)\n",
    "                data.append([pixel for pixel in iter(img.getdata())])\n",
    "            scaler=StandardScaler()\n",
    "            scaler.fit(data)\n",
    "            data_scaled=scaler.transform(data)\n",
    "#             print(mlp.predict(data_scaled))\n",
    "\n",
    "            captchaText=\"\".join(mlp.predict(data_scaled)).replace(\"xx\",\"\")\n",
    "            if len(captchaText)!=4:\n",
    "                driver.find_element_by_link_text(\"重新載入圖片\").click()\n",
    "                time.sleep(0.5)\n",
    "\n",
    "\n",
    "        print(\"驗證碼\",captchaText)\n",
    "        captchaInput=driver.find_element_by_id(\"securityCode\")\n",
    "        captchaInput.send_keys(captchaText)\n",
    "        driver.find_element_by_name(\"Action\").click()\n",
    "        time.sleep(0.5)\n",
    "        for i in range(10):\n",
    "            try:\n",
    "                alert=driver.switch_to_alert()\n",
    "                alert.accept()\n",
    "                time.sleep(0.15)\n",
    "            except:\n",
    "                time.sleep(0.3)\n",
    "\n",
    "        try:\n",
    "            time.sleep(1)\n",
    "            driver.find_element_by_link_text(\"越境聯單資料錯誤說明\")\n",
    "            success=1\n",
    "        except:\n",
    "            print(\"登入失敗，重試中\")\n",
    "            time.sleep(0.5)\n",
    "                        "
   ]
  },
  {
   "cell_type": "markdown",
   "metadata": {},
   "source": [
    "# 查詢廢廚餘清運量"
   ]
  },
  {
   "cell_type": "code",
   "execution_count": 379,
   "metadata": {},
   "outputs": [],
   "source": [
    "def getSellDrown():\n",
    "    driver.get(\"https://waste.epa.gov.tw/prog/stastic.asp?EPC=FAC\")\n",
    "    \n",
    "\n",
    "    \n",
    "\n",
    "    time.sleep(0.5)\n",
    "\n",
    "    yb=Select(driver.find_element_by_name(\"T3\"))\n",
    "    yb.select_by_value(yearTaiwan)\n",
    "\n",
    "    mb=Select(driver.find_element_by_name(\"T4\"))\n",
    "    mb.select_by_value(lastMonth)\n",
    "\n",
    "    db=Select(driver.find_element_by_name(\"T5\"))\n",
    "    db.select_by_value(\"0\"+str(lastMonthBegan.day))\n",
    "\n",
    "\n",
    "    ye=Select(driver.find_element_by_name(\"T6\"))\n",
    "    ye.select_by_value(yearTaiwan)\n",
    "\n",
    "    me=Select(driver.find_element_by_name(\"T7\"))\n",
    "    me.select_by_value(lastMonth)\n",
    "\n",
    "    de=Select(driver.find_element_by_name(\"T8\"))\n",
    "    de.select_by_value(str(lastMonthFinal.day))\n",
    "\n",
    "    driver.find_element_by_name(\"B1\").click()\n",
    "    time.sleep(0.5)\n",
    "\n",
    "    for i in driver.find_elements_by_css_selector(\"table\"):\n",
    "        for row in i.text.split(\"\\n\"):\n",
    "            if \"再利用\" in row.split(\" \"):\n",
    "                DrownVolume=row.split(\" \")[-1]\n",
    "#                 print(row)\n",
    "                print(\"廢廚餘清運量\",DrownVolume)#\n",
    "                \n",
    "    return DrownVolume"
   ]
  },
  {
   "cell_type": "markdown",
   "metadata": {
    "collapsed": true
   },
   "source": [
    "# 查詢廢食用油清運量"
   ]
  },
  {
   "cell_type": "code",
   "execution_count": 380,
   "metadata": {},
   "outputs": [],
   "source": [
    "# driver.find_element_by_xpath(\"/html/body/center/table/tbody/tr/td/table[2]/tbody/tr[2]/td[2]/img\")\n",
    "def getSellOil():\n",
    "    driver.get(\"https://waste.epa.gov.tw/prog/stastic.asp?EPC=OilF\")\n",
    "    time.sleep(0.5)\n",
    "    yb=Select(driver.find_element_by_name(\"T3\"))\n",
    "    yb.select_by_value(yearTaiwan)\n",
    "\n",
    "    mb=Select(driver.find_element_by_name(\"T4\"))\n",
    "    mb.select_by_value(lastMonth)\n",
    "\n",
    "    db=Select(driver.find_element_by_name(\"T5\"))\n",
    "    db.select_by_value(\"0\"+str(lastMonthBegan.day))\n",
    "\n",
    "\n",
    "    ye=Select(driver.find_element_by_name(\"T6\"))\n",
    "    ye.select_by_value(yearTaiwan)\n",
    "\n",
    "    me=Select(driver.find_element_by_name(\"T7\"))\n",
    "    me.select_by_value(lastMonth)\n",
    "\n",
    "    de=Select(driver.find_element_by_name(\"T8\"))\n",
    "    de.select_by_value(str(lastMonthFinal.day))\n",
    "\n",
    "    driver.find_element_by_name(\"B1\").click()\n",
    "    time.sleep(0.5)\n",
    "\n",
    "    for i in driver.find_elements_by_css_selector(\"table\"):\n",
    "        for row in i.text.split(\"\\n\"):\n",
    "            if \"廢食用油遞送聯單\" in row.split(\" \"):\n",
    "                oilVolume=row.split(\" \")[-1]\n",
    "#                 print(row)\n",
    "                print(\"廢油清運量\",oilVolume)#\n",
    "    return oilVolume"
   ]
  },
  {
   "cell_type": "markdown",
   "metadata": {},
   "source": [
    "# 庫存登記"
   ]
  },
  {
   "cell_type": "code",
   "execution_count": 383,
   "metadata": {},
   "outputs": [],
   "source": [
    "# i=needData[9]\n",
    "# print(i)\n",
    "# acc=i['帳']\n",
    "# pw=i['密']\n",
    "# oD=i.get('該月產出廚餘',0)\n",
    "# oO=i.get('該月產出廢油',0)\n",
    "# logout()\n",
    "# login(acc,pw)"
   ]
  },
  {
   "cell_type": "code",
   "execution_count": 386,
   "metadata": {},
   "outputs": [],
   "source": [
    "def storage(surplusOil=0,surplusDrown=0):\n",
    "    driver.get(\"https://waste.epa.gov.tw/prog/Storage/Storage.asp?FacType=F&Role=F\")\n",
    "    time.sleep(0.5)\n",
    "    driver.find_element_by_name(\"app_yy\").click()\n",
    "    driver.find_element_by_xpath('//option[@value=\"' + str(lastMonthFinal.year) + '\"]').click()\n",
    "    driver.find_element_by_name(\"app_yy\").click()\n",
    "    driver.find_element_by_name(\"app_mm\").click()\n",
    "    driver.find_element_by_xpath('//option[@value=\"' + str(lastMonthBegan.month) + '\"]').click()\n",
    "    driver.find_element_by_name(\"app_mm\").click()\n",
    "    driver.find_elements_by_name(\"app_submit\")[0].click()\n",
    "    if \"您已完成申報上月份貯存情形，如進行修改\" in driver.page_source:\n",
    "        print(\"該店已申報庫存\")\n",
    "    else:\n",
    "        driver.find_element_by_link_text(\"自動帶入\").click()\n",
    "        x=driver.switch_to_alert()\n",
    "        x.accept()\n",
    "        for i in driver.find_elements_by_css_selector(\"tr\"):\n",
    "            if \"R-0106\" in i.text:\n",
    "                print('月底廚餘申報:',str(surplusDrown))\n",
    "                brownInput=i.find_element_by_xpath('//input[@id=\"App_Qty1\"]')\n",
    "                brownInput.clear()\n",
    "                brownInput.send_keys(str(surplusDrown))\n",
    "                i.find_element_by_xpath('//input[@name=\"do_not_save_it_1\"]').click()\n",
    "            if \"R-1702\" in i.text:\n",
    "                print('月底廢油申報:',str(surplusOil))\n",
    "                brownInput=i.find_element_by_xpath('//input[@id=\"App_Qty2\"]')\n",
    "                brownInput.clear()\n",
    "                brownInput.send_keys(str(surplusOil))\n",
    "                i.find_element_by_xpath('//input[@name=\"do_not_save_it_2\"]').click()\n",
    "                \n",
    "        driver.find_element_by_xpath('//input[@value=\"新增\"]').click()\n",
    "        for i in range(5):\n",
    "            try:\n",
    "                time.sleep(0.1)\n",
    "                x=driver.switch_to_alert()\n",
    "                x.accept()\n",
    "            except:\n",
    "                time.sleep(0.2)\n",
    "        driver.find_element_by_xpath('//input[@value=\"正式申報\"]').click()"
   ]
  },
  {
   "cell_type": "markdown",
   "metadata": {},
   "source": [
    "# 廢油、廢除餘登記"
   ]
  },
  {
   "cell_type": "code",
   "execution_count": 381,
   "metadata": {
    "collapsed": true
   },
   "outputs": [],
   "source": [
    "def oilDrownCeclare(outputDrown,outputOil):\n",
    "    driver.get(\"https://waste.epa.gov.tw/massbal/restaurant.asp\")\n",
    "\n",
    "    driver.find_element_by_name(\"app_year\").click()\n",
    "#     today = datetime.date.today()\n",
    "#     first = datetime.date(day=1, month=today.month, year=today.year)\n",
    "#     lastMonthFinal = first - datetime.timedelta(days=1)\n",
    "#     yearTaiwan=str(lastMonthFinal.year-1911)\n",
    "    driver.find_element_by_xpath('//option[@value=\"' + yearTaiwan + '\"]').click()\n",
    "    driver.find_element_by_name(\"app_year\").click()\n",
    "\n",
    "    driver.find_element_by_name(\"app_month\").click()\n",
    "    now=datetime.datetime.now()\n",
    "    monthTaiwan=str(now.month-1)\n",
    "    if len(monthTaiwan)==1:\n",
    "        monthTaiwan=\"0\"+monthTaiwan\n",
    "    driver.find_element_by_xpath('//option[@value=\"' + lastMonth + '\"]').click()\n",
    "    driver.find_element_by_name(\"app_month\").click()\n",
    "\n",
    "    driver.find_elements_by_name(\"submit\")[0].click()\n",
    "\n",
    "#     outputDrown=100 #廚餘\n",
    "#     outputOil=200 #廢油\n",
    "    if outputDrown==0 and outputOil==0:\n",
    "        try:\n",
    "            driver.find_element_by_link_text(\"本月無產出廢棄物(新設事業亦適用)\").click()\n",
    "            alert=driver.switch_to_alert()\n",
    "            alert.accept()\n",
    "            time.sleep(0.1)\n",
    "            print(\"產出量申報量無\")\n",
    "        except:\n",
    "            driver.find_element_by_link_text(\"本月無產出廢棄物(新設事業亦適用)(已申報)\").click()\n",
    "            print(\"無量、系統顯示之前已申報產出量\")\n",
    "    else:\n",
    "        try:\n",
    "            driver.find_element_by_link_text(\"事業廢棄物產出種類、數量\").click()\n",
    "            time.sleep(0.5)\n",
    "            #這裡部分可能不一樣************************\n",
    "            for i in driver.find_elements_by_css_selector(\"tbody\"):\n",
    "                for j in i.find_elements_by_css_selector(\"tr\"):\n",
    "                    if \"泥狀\" in j.text or \"固狀\" in j.text:\n",
    "                        productInput=j.find_element_by_id(\"app_qty\")\n",
    "                        productInput.clear()\n",
    "                        productInput.send_keys(str(outputDrown))\n",
    "                        includeWaterInput=j.find_element_by_id(\"inwater\")\n",
    "                        includeWaterInput.clear()\n",
    "                        includeWaterInput.send_keys(\"0\")\n",
    "                        if str(outputDrown)!=\"0\":\n",
    "                            j.find_element_by_id(\"chkWasteItem\").click()\n",
    "                            print(\"申報廚餘\",outputDrown)\n",
    "                        else:\n",
    "                            print(\"廚餘量為0不申報\")\n",
    "                        \n",
    "                    if \"液狀\" in j.text:\n",
    "                        productInput=j.find_element_by_id(\"app_qty\")\n",
    "                        productInput.clear()\n",
    "                        productInput.send_keys(str(outputOil))\n",
    "                        includeWaterInput=j.find_element_by_id(\"inwater\")\n",
    "                        includeWaterInput.clear()\n",
    "                        includeWaterInput.send_keys(\"0\")\n",
    "                        if str(outputOil)!=\"0\":\n",
    "                            j.find_element_by_id(\"chkWasteItem\").click()\n",
    "                            print(\"申報廢油\",outputDrown)\n",
    "                        else:\n",
    "                            print(\"廚餘量為0不申報\")\n",
    "            driver.find_element_by_xpath('//input[@value=\"傳送資料\"]').click()\n",
    "            driver.find_element_by_xpath('//input[@value=\"正式申報\"]').click()\n",
    "            alert=driver.switch_to_alert()\n",
    "            alert.accept()\n",
    "            time.sleep(0.1)\n",
    "            print(\"產出量申報完畢\")\n",
    "        except:\n",
    "            driver.find_element_by_link_text(\"事業廢棄物產生種類、數量(已申報)\").click()\n",
    "            time.sleep(0.5)\n",
    "            print(\"系統顯示之前已申報產出量\")\n",
    "        #這裡部分可能不一樣************************\n",
    "        # driver.find_element_by_name(\"B1\").click()\n",
    "    #     alert=driver.switch_to_alert()\n",
    "    #     alert.accept()\n",
    "    #     time.sleep(0.1)"
   ]
  },
  {
   "cell_type": "markdown",
   "metadata": {},
   "source": [
    "# 回主頁"
   ]
  },
  {
   "cell_type": "code",
   "execution_count": 382,
   "metadata": {},
   "outputs": [],
   "source": [
    "def logout():\n",
    "    x=0\n",
    "    while x==0:\n",
    "        driver.get(\"https://waste.epa.gov.tw/prog/IndexFrame.asp?Func=2\")\n",
    "        driver.switch_to_default_content()\n",
    "        driver.switch_to_frame(0)\n",
    "        try:\n",
    "            driver.find_element_by_link_text(\"登出申報區\").click()\n",
    "            x=1\n",
    "        except:\n",
    "            pass"
   ]
  },
  {
   "cell_type": "code",
   "execution_count": 388,
   "metadata": {
    "scrolled": false
   },
   "outputs": [
    {
     "name": "stdout",
     "output_type": "stream",
     "text": [
      "{'店碼': '11702', '帳': 'B20A7339', '密': 'BB47610094##', '報廚餘': 'V', '報廢油': 'V', '月初廚餘': 0, '該月產出廚餘': 2, '月初廢油': 0, '該月產出廢油': 0.036, '月底剩餘廚餘': 0.0, '月底剩餘廢油': 0.0}\n"
     ]
    },
    {
     "name": "stderr",
     "output_type": "stream",
     "text": [
      "D:\\anaconda\\lib\\site-packages\\matplotlib\\pyplot.py:524: RuntimeWarning: More than 20 figures have been opened. Figures created through the pyplot interface (`matplotlib.pyplot.figure`) are retained until explicitly closed and may consume too much memory. (To control this warning, see the rcParam `figure.max_open_warning`).\n",
      "  max_open_warning, RuntimeWarning)\n"
     ]
    },
    {
     "name": "stdout",
     "output_type": "stream",
     "text": [
      "驗證碼 CN2P\n",
      "門店11702登入成功\n",
      "廢廚餘清運量 2\n",
      "月底廢廚餘:0.0\n",
      "廢油清運量 0.036\n",
      "月底廢油0.0\n",
      "該店已申報\n",
      "系統顯示之前已申報\n",
      "\n",
      "\n",
      "{'店碼': '11229', '帳': 'H42B4328', '密': 'H42B4328818@', '報廚餘': 'V', '報廢油': nan, '月初廚餘': 13.2, '該月產出廚餘': 0.7}\n",
      "驗證碼 NESP\n",
      "門店11229登入成功\n",
      "廢廚餘清運量 0\n",
      "月底廢廚餘:13.9\n",
      "該店已申報\n",
      "系統顯示之前已申報\n",
      "\n",
      "\n",
      "{'店碼': '11231', '帳': 'H42B4338', '密': 'H42B4338818@', '報廚餘': 'V', '報廢油': nan, '月初廚餘': 6.6, '該月產出廚餘': 0.7}\n",
      "驗證碼 RNHN\n",
      "登入失敗，重試中\n",
      "驗證碼 SC7E\n",
      "門店11231登入成功\n",
      "廢廚餘清運量 0.8\n",
      "月底廢廚餘:6.5\n",
      "該店已申報\n",
      "系統顯示之前已申報\n",
      "\n",
      "\n",
      "{'店碼': '11246', '帳': 'H43C5021', '密': 'H43C5021818@', '報廚餘': 'V', '報廢油': nan, '月初廚餘': 6.6, '該月產出廚餘': 0.7}\n",
      "驗證碼 SC8R\n",
      "門店11246登入成功\n",
      "廢廚餘清運量 0.8\n",
      "月底廢廚餘:6.5\n",
      "該店已申報\n",
      "系統顯示之前已申報\n",
      "\n",
      "\n",
      "{'店碼': '11252', '帳': 'H43D1591', '密': 'H43D1591818@', '報廚餘': 'V', '報廢油': nan, '月初廚餘': 13.2, '該月產出廚餘': 0.7}\n",
      "驗證碼 6PD8\n",
      "門店11252登入成功\n",
      "廢廚餘清運量 0\n",
      "月底廢廚餘:13.9\n",
      "該店已申報\n",
      "系統顯示之前已申報\n",
      "\n",
      "\n",
      "{'店碼': '11255', '帳': 'H49B2595', '密': 'H49B2595818@', '報廚餘': 'V', '報廢油': nan, '月初廚餘': 9.6, '該月產出廚餘': 0.7}\n",
      "驗證碼 STRS\n",
      "登入失敗，重試中\n",
      "驗證碼 EK6S\n",
      "門店11255登入成功\n",
      "廢廚餘清運量 0.94\n",
      "月底廢廚餘:9.36\n",
      "該店已申報\n",
      "系統顯示之前已申報\n",
      "\n",
      "\n",
      "{'店碼': '11801', '帳': 'A45B2663', '密': '1180100000@c', '報廚餘': 'V', '報廢油': 'V', '月初廚餘': 0, '該月產出廚餘': 1.07, '月初廢油': 0, '該月產出廢油': 0.054}\n",
      "驗證碼 F3B2\n",
      "門店11801登入成功\n",
      "廢廚餘清運量 1.07\n",
      "月底廢廚餘:0.0\n",
      "廢油清運量 0.054\n",
      "月底廢油0.0\n",
      "該店已申報\n",
      "系統顯示之前已申報\n",
      "\n",
      "\n",
      "{'店碼': '11802', '帳': 'A36B8404', '密': '6876D7FB674@', '報廚餘': 'V', '報廢油': 'V', '月初廚餘': 0, '該月產出廚餘': 1.1, '月初廢油': 0, '該月產出廢油': 0.051}\n",
      "驗證碼 BC78\n",
      "門店11802登入成功\n",
      "廢廚餘清運量 1.1\n",
      "月底廢廚餘:0.0\n",
      "廢油清運量 0.051\n",
      "月底廢油0.0\n",
      "該店已申報\n",
      "系統顯示之前已申報\n",
      "\n",
      "\n",
      "{'店碼': '11803', '帳': 'O17L8651', '密': '083DE3D136D@', '報廚餘': nan, '報廢油': 'V', '月初廢油': 0, '該月產出廢油': 0.11}\n",
      "驗證碼 F3CF\n",
      "門店11803登入成功\n",
      "廢油清運量 0.11\n",
      "月底廢油0.0\n",
      "該店已申報\n",
      "系統顯示之前已申報\n",
      "\n",
      "\n",
      "{'店碼': '11804', '帳': 'B22A8298', '密': 'FC69F7C582A@', '報廚餘': nan, '報廢油': 'V', '月初廢油': 0, '該月產出廢油': 0.054}\n",
      "驗證碼 ECS7\n",
      "門店11804登入成功\n",
      "廢油清運量 0.054\n",
      "月底廢油0.0\n",
      "該店已申報\n",
      "系統顯示之前已申報\n",
      "\n",
      "\n",
      "跳跳血小板：完成~~~~~~~~~~~~~~~~~~~~~~\n"
     ]
    }
   ],
   "source": [
    "for i in needData:\n",
    "    print(i)\n",
    "    acc=i['帳']\n",
    "    pw=i['密']\n",
    "    oD=i.get('該月產出廚餘',0)\n",
    "    oO=i.get('該月產出廢油',0)\n",
    "    \n",
    "    login(acc,pw)\n",
    "    print(\"門店{}登入成功\".format(i['店碼']))\n",
    "    \n",
    "    if i['報廚餘']==\"V\":\n",
    "        sellDrown=getSellDrown()\n",
    "        i[\"月底剩餘廚餘\"]=round(i['月初廚餘']+i['該月產出廚餘']-float(sellDrown),3)\n",
    "        if i[\"月底剩餘廚餘\"]<0:\n",
    "            i[\"月底剩餘廚餘\"]=0\n",
    "            print(\"廚餘月底負量、請確認資料正確性\")\n",
    "        print(\"月底廢廚餘:{}\".format(i[\"月底剩餘廚餘\"]))\n",
    "        \n",
    "        \n",
    "    if i['報廢油']==\"V\":\n",
    "        sellOil=getSellOil()\n",
    "        i[\"月底剩餘廢油\"]=round(i['月初廢油']+i['該月產出廢油']-float(sellOil),3)\n",
    "        if i[\"月底剩餘廢油\"]<0:\n",
    "            i[\"月底剩餘廢油\"]=0\n",
    "            print(\"廢油月底負量、請確認資料正確性\")\n",
    "        print(\"月底廢油{}\".format(i[\"月底剩餘廢油\"]))\n",
    "        \n",
    "    \n",
    "    storage(i.get(\"月底剩餘廢油\",0),i.get(\"月底剩餘廚餘\",0))\n",
    "    \n",
    "    i['資料月份']=lastMonth\n",
    "    oilDrownCeclare(oD,oO)\n",
    "    logout()\n",
    "    print(\"\\n\")\n",
    "    \n",
    "    \n",
    "#############################################################以下不認真\n",
    "driver.switch_to_default_content()\n",
    "driver.switch_to_frame(0)\n",
    "driver.execute_script(\"\"\"d=document;\n",
    "                        s=d.createElement('script');\n",
    "                        s.src='https://anohito.tw/thisUnitIsAFlippinPlatelet/flippin_platelet.js';\n",
    "                        b=d.getElementsByTagName('body')[0];\n",
    "                        b.appendChild(s);void(0);\"\"\")\n",
    "driver.switch_to_default_content()\n",
    "driver.switch_to_frame(1)\n",
    "driver.execute_script(\"\"\"d=document;\n",
    "                        s=d.createElement('script');\n",
    "                        s.src='https://anohito.tw/thisUnitIsAFlippinPlatelet/flippin_platelet.js';\n",
    "                        b=d.getElementsByTagName('body')[0];\n",
    "                        b.appendChild(s);void(0);\"\"\")\n",
    "driver.execute_script(\"\"\"d=document;\n",
    "                        s=d.createElement('script');\n",
    "                        s.src='https://anohito.tw/thisUnitIsAFlippinPlatelet/flippin_platelet.js';\n",
    "                        b=d.getElementsByTagName('body')[0];\n",
    "                        b.appendChild(s);void(0);\"\"\")\n",
    "\n",
    "print(\"跳跳血小板：完成~~~~~~~~~~~~~~~~~~~~~~\")\n",
    "\n",
    "\n",
    "    "
   ]
  },
  {
   "cell_type": "markdown",
   "metadata": {},
   "source": [
    "# 完成後更新廢油、廢廚餘庫存及資料月份"
   ]
  },
  {
   "cell_type": "code",
   "execution_count": 389,
   "metadata": {
    "collapsed": true
   },
   "outputs": [],
   "source": [
    "from pymongo import MongoClient,UpdateOne\n",
    "client=MongoClient('localhost',27017,username='j122085',password='850605')\n",
    "db=client.rawData.foodSave"
   ]
  },
  {
   "cell_type": "code",
   "execution_count": 390,
   "metadata": {
    "scrolled": true
   },
   "outputs": [],
   "source": [
    "ids=[i['店碼'] for i in needData]"
   ]
  },
  {
   "cell_type": "code",
   "execution_count": 391,
   "metadata": {},
   "outputs": [],
   "source": [
    "operation=[UpdateOne({\"_id\":idn},{\"$set\":data},upsert=True) for idn,data in zip(ids,needData)]"
   ]
  },
  {
   "cell_type": "code",
   "execution_count": 392,
   "metadata": {},
   "outputs": [
    {
     "data": {
      "text/plain": [
       "<pymongo.results.BulkWriteResult at 0x47218d88>"
      ]
     },
     "execution_count": 392,
     "metadata": {},
     "output_type": "execute_result"
    }
   ],
   "source": [
    "db.bulk_write(operation,ordered=False)"
   ]
  },
  {
   "cell_type": "code",
   "execution_count": 393,
   "metadata": {},
   "outputs": [
    {
     "data": {
      "text/plain": [
       "{'報廚餘': 'V',\n",
       " '報廢油': 'V',\n",
       " '密': 'BB47610094##',\n",
       " '帳': 'B20A7339',\n",
       " '店碼': '11702',\n",
       " '月初廚餘': 0,\n",
       " '月初廢油': 0,\n",
       " '月底剩餘廚餘': 0.0,\n",
       " '月底剩餘廢油': 0.0,\n",
       " '該月產出廚餘': 2,\n",
       " '該月產出廢油': 0.036,\n",
       " '資料月份': '07'}"
      ]
     },
     "execution_count": 393,
     "metadata": {},
     "output_type": "execute_result"
    }
   ],
   "source": [
    "db.find_one({},{\"_id\":False})"
   ]
  },
  {
   "cell_type": "code",
   "execution_count": null,
   "metadata": {
    "collapsed": true
   },
   "outputs": [],
   "source": []
  }
 ],
 "metadata": {
  "kernelspec": {
   "display_name": "Python 3",
   "language": "python",
   "name": "python3"
  },
  "language_info": {
   "codemirror_mode": {
    "name": "ipython",
    "version": 3
   },
   "file_extension": ".py",
   "mimetype": "text/x-python",
   "name": "python",
   "nbconvert_exporter": "python",
   "pygments_lexer": "ipython3",
   "version": "3.6.4"
  }
 },
 "nbformat": 4,
 "nbformat_minor": 2
}
