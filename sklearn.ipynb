{
 "cells": [
  {
   "cell_type": "markdown",
   "metadata": {},
   "source": [
    "# sklearn\n",
    "https://machine-learning-python.kspax.io/Introduction/intro.html\n"
   ]
  },
  {
   "cell_type": "markdown",
   "metadata": {},
   "source": [
    "# load Data(X->Y)"
   ]
  },
  {
   "cell_type": "code",
   "execution_count": 485,
   "metadata": {
    "collapsed": true
   },
   "outputs": [],
   "source": [
    "import pymongo\n",
    "client=pymongo.MongoClient('localhost',27017,username=\"j122085\",password=\"850605\")\n",
    "client.rawData.collection_names()\n",
    "collection=client.rawData.wowprimediendata\n",
    "data=list(collection.find({\"avgDailyCustomer\":{\"$gte\":0},\"avgDailyNet\":{\"$gte\":0},\"costPower_Analyze\":{\"$gte\":0}}))"
   ]
  },
  {
   "cell_type": "code",
   "execution_count": 486,
   "metadata": {
    "collapsed": true
   },
   "outputs": [],
   "source": [
    "import numpy as np\n",
    "def zscore(x, axis = None):\n",
    "    x=np.array(x)\n",
    "    xmean = x.mean(axis=axis, keepdims=True)\n",
    "    xstd  = np.std(x, axis=axis, keepdims=True)\n",
    "    zscore = (x-xmean)/xstd\n",
    "    return zscore"
   ]
  },
  {
   "cell_type": "code",
   "execution_count": 503,
   "metadata": {
    "scrolled": true
   },
   "outputs": [
    {
     "data": {
      "text/plain": [
       "{'CooK BEEF!',\n",
       " 'hot 7',\n",
       " 'ita義塔',\n",
       " '乍牛',\n",
       " '原燒',\n",
       " '品田牧場',\n",
       " '夏慕尼',\n",
       " '沐越',\n",
       " '王品',\n",
       " '石二鍋',\n",
       " '聚',\n",
       " '舒果',\n",
       " '莆田',\n",
       " '藝奇',\n",
       " '陶板屋',\n",
       " '青花驕',\n",
       " '麻佬大',\n",
       " 'ＴＡＳＴｙ'}"
      ]
     },
     "execution_count": 503,
     "metadata": {},
     "output_type": "execute_result"
    }
   ],
   "source": [
    "set([i[\"Called\"] for i in data])"
   ]
  },
  {
   "cell_type": "code",
   "execution_count": null,
   "metadata": {
    "collapsed": true
   },
   "outputs": [],
   "source": []
  },
  {
   "cell_type": "code",
   "execution_count": 487,
   "metadata": {
    "collapsed": true
   },
   "outputs": [],
   "source": [
    "import numpy as np\n",
    "\n",
    "Calls=set(i[\"Called\"] for i in data)\n",
    "for Call in Calls:\n",
    "    mean=np.mean([i[\"avgDailyCustomer\"] for i in data if i[\"Called\"]==Call and 'avgDailyCustomer' in i])\n",
    "    if not np.isnan(mean):\n",
    "        for j in data:\n",
    "            if j[\"Called\"]==Call and 'avgDailyCustomer' in j:\n",
    "#                 if j[\"avgDailyCustomer\"]>mean*1.15:\n",
    "#                     j['type']=\"good\"\n",
    "#                 elif j[\"avgDailyCustomer\"]<mean*0.85:\n",
    "#                     j['type']=\"bad\"\n",
    "#                 else:\n",
    "#                     j['type']=\"normal\"\n",
    "                if j[\"avgDailyCustomer\"]>mean*1.1:\n",
    "                    j['type']=1\n",
    "                elif j[\"avgDailyCustomer\"]<mean*0.9:\n",
    "                    j['type']=3\n",
    "                else:\n",
    "                    j['type']=2\n",
    "            if 'avgDailyCustomer' in j:\n",
    "                aC=j[\"avgDailyNet\"]/j[\"avgDailyCustomer\"]\n",
    "                if aC<290:\n",
    "                    j['typeP']=\"低\"\n",
    "                elif aC<450:\n",
    "                    j['typeP']=\"中\"\n",
    "                elif aC<800:\n",
    "                    j['typeP']=\"中高\"\n",
    "                else:\n",
    "                    j['typeP']=\"高\"\n",
    "\n",
    "\n",
    "\n",
    "#用來預測的X 產生\n",
    "myX=[[i['costPower_Analyze'],\n",
    "  i['Nhuman_Analyze'],\n",
    "  i['NbusStation_Analyze'],\n",
    "  i['NconStore_Analyze'],\n",
    "  i['Nstar_Analyze'],\n",
    "  i['Nmc_Analyze'],\n",
    "  i['Nken_Analyze'],\n",
    "  i['Nwa_Analyze']\n",
    "  ] for i in data if i['typeP']==\"低\"]\n",
    "\n",
    "# from sklearn import preprocessing\n",
    "# X=preprocessing.scale(X)\n",
    "x=[]\n",
    "for i in range(len(myX[0])):\n",
    "    x.append(zscore(np.array(myX).T[i]))\n",
    "myX=np.array(x).T\n",
    "\n",
    "\n",
    "\n",
    "\n",
    "#連續型Y 產生\n",
    "myY=[i['avgDailyCustomer'] for i in data if i['typeP']==\"低\"]\n",
    "\n",
    "#分類用類型Y2 產生\n",
    "myY2=[i['type'] for i in data if i['typeP']==\"低\"]\n",
    "# i['avgDailyNet'],\n"
   ]
  },
  {
   "cell_type": "code",
   "execution_count": 340,
   "metadata": {},
   "outputs": [
    {
     "data": {
      "text/plain": [
       "62"
      ]
     },
     "execution_count": 340,
     "metadata": {},
     "output_type": "execute_result"
    }
   ],
   "source": [
    "len(myY2)"
   ]
  },
  {
   "cell_type": "code",
   "execution_count": 343,
   "metadata": {
    "collapsed": true
   },
   "outputs": [],
   "source": [
    "ndata=len(myX)\n",
    "target_names=['good','normal','bad']"
   ]
  },
  {
   "cell_type": "markdown",
   "metadata": {},
   "source": [
    "# 分類 (SVM)"
   ]
  },
  {
   "cell_type": "code",
   "execution_count": 344,
   "metadata": {},
   "outputs": [
    {
     "name": "stdout",
     "output_type": "stream",
     "text": [
      "正確率：0.3333333333333333\n"
     ]
    }
   ],
   "source": [
    "import matplotlib.pyplot as plt\n",
    "from sklearn import datasets, svm, metrics\n",
    "\n",
    "# 產生SVC分類器\n",
    "classifier = svm.SVC(gamma=2, C=1)\n",
    "# classifier = svm.SVC(kernel=\"linear\", C=0.025)\n",
    "\n",
    "#     SVC(kernel=\"linear\", C=0.025),\n",
    "#     SVC(gamma=2, C=1),\n",
    "#訓練\n",
    "classifier.fit(myX[:ndata*2 // 3], myY2[:ndata*2 // 3])\n",
    "\n",
    "expected = myY2[ndata*2 // 3:] #正確答案\n",
    "predicted = classifier.predict(myX[ndata*2 // 3:]) #預測結果\n",
    "accuracy=list(predicted==expected)#回傳true or false的list\n",
    "print(\"正確率：{}\".format(accuracy.count(True)/len(accuracy))) #看正確率"
   ]
  },
  {
   "cell_type": "code",
   "execution_count": null,
   "metadata": {
    "collapsed": true
   },
   "outputs": [],
   "source": [
    "classifier"
   ]
  },
  {
   "cell_type": "code",
   "execution_count": 345,
   "metadata": {
    "scrolled": false
   },
   "outputs": [
    {
     "data": {
      "image/png": "[encoded data removed]",
      "text/plain": [
       "<matplotlib.figure.Figure at 0x1a306710>"
      ]
     },
     "metadata": {},
     "output_type": "display_data"
    },
    {
     "name": "stdout",
     "output_type": "stream",
     "text": [
      "Classification report for classifier SVC(C=1, cache_size=200, class_weight=None, coef0=0.0,\n",
      "  decision_function_shape='ovr', degree=3, gamma=2, kernel='rbf',\n",
      "  max_iter=-1, probability=False, random_state=None, shrinking=True,\n",
      "  tol=0.001, verbose=False):\n",
      "             precision    recall  f1-score   support\n",
      "\n",
      "          1       0.00      0.00      0.00         8\n",
      "          2       0.50      0.14      0.22         7\n",
      "          3       0.32      1.00      0.48         6\n",
      "\n",
      "avg / total       0.26      0.33      0.21        21\n",
      "\n",
      "\n"
     ]
    },
    {
     "name": "stderr",
     "output_type": "stream",
     "text": [
      "D:\\anaconda\\lib\\site-packages\\sklearn\\metrics\\classification.py:1135: UndefinedMetricWarning: Precision and F-score are ill-defined and being set to 0.0 in labels with no predicted samples.\n",
      "  'precision', 'predicted', average, warn_for)\n"
     ]
    }
   ],
   "source": [
    "def plot_confusion_matrix(cm, title='Confusion matrix', cmap=plt.cm.Blues):\n",
    "    import numpy as np\n",
    "    plt.imshow(cm, interpolation='nearest', cmap=cmap)\n",
    "    plt.title(title)\n",
    "    plt.colorbar()\n",
    "    tick_marks = np.arange(len(target_names))\n",
    "    plt.xticks(tick_marks, target_names, rotation=45)\n",
    "    plt.yticks(tick_marks, target_names)\n",
    "    plt.tight_layout()\n",
    "    plt.ylabel('True label')\n",
    "    plt.xlabel('Predicted label')\n",
    "\n",
    "\n",
    "    \n",
    "plt.figure()\n",
    "plot_confusion_matrix(metrics.confusion_matrix(expected, predicted))\n",
    "plt.show()\n",
    "\n",
    "print(\"Classification report for classifier %s:\\n%s\\n\"\n",
    "    % (classifier, metrics.classification_report(expected, predicted)))"
   ]
  },
  {
   "cell_type": "markdown",
   "metadata": {},
   "source": [
    "# 線性分類器"
   ]
  },
  {
   "cell_type": "code",
   "execution_count": 347,
   "metadata": {},
   "outputs": [
    {
     "name": "stdout",
     "output_type": "stream",
     "text": [
      "正確率：0.047619047619047616\n"
     ]
    }
   ],
   "source": [
    "from sklearn.discriminant_analysis import LinearDiscriminantAnalysis\n",
    "clf1 = LinearDiscriminantAnalysis(solver='lsqr', shrinkage='auto').fit(myX[:ndata*2 // 3], myY2[:ndata*2 // 3])\n",
    "expected = myY2[ndata*2 // 3:] #正確答案\n",
    "predicted = clf1.predict(myX[ndata*2 // 3:]) #預測結果\n",
    "accuracy=list(predicted==expected)#回傳true or false的list\n",
    "print(\"正確率：{}\".format(accuracy.count(True)/len(accuracy))) #看正確率"
   ]
  },
  {
   "cell_type": "code",
   "execution_count": null,
   "metadata": {
    "collapsed": true
   },
   "outputs": [],
   "source": []
  },
  {
   "cell_type": "markdown",
   "metadata": {},
   "source": [
    "# 預測連續數值(Linear)"
   ]
  },
  {
   "cell_type": "code",
   "execution_count": 348,
   "metadata": {
    "collapsed": true
   },
   "outputs": [],
   "source": [
    "from sklearn import datasets\n",
    "from sklearn.cross_validation import cross_val_predict\n",
    "from sklearn import linear_model\n",
    "import matplotlib.pyplot as plt\n",
    "lr = linear_model.LinearRegression()\n",
    "# The boston dataset\n",
    "x = np.array(myX)\n",
    "y = np.array(myY)"
   ]
  },
  {
   "cell_type": "code",
   "execution_count": 349,
   "metadata": {
    "collapsed": true
   },
   "outputs": [],
   "source": [
    "predicted = cross_val_predict(lr, x, y, cv=10)"
   ]
  },
  {
   "cell_type": "code",
   "execution_count": 350,
   "metadata": {},
   "outputs": [
    {
     "data": {
      "text/plain": [
       "['./lr_machine.pkl']"
      ]
     },
     "execution_count": 350,
     "metadata": {},
     "output_type": "execute_result"
    }
   ],
   "source": [
    "from sklearn.externals import joblib\n",
    "\n",
    "joblib.dump(lr,\"./lr_machine.pkl\")"
   ]
  },
  {
   "cell_type": "code",
   "execution_count": 358,
   "metadata": {},
   "outputs": [
    {
     "data": {
      "text/plain": [
       "array([322.54060246])"
      ]
     },
     "execution_count": 358,
     "metadata": {},
     "output_type": "execute_result"
    }
   ],
   "source": [
    "lr=joblib.load(\"./lr_machine.pkl\")\n",
    "lr.fit(x, y)\n",
    "\n",
    "newData=[[int(j)for j in i.split(\"\\t\")] for i in \"\"\"56\t368003\t8\t186\t7\t6\t3\t2\"\"\".split('\\n')]\n",
    "\n",
    "predict_y=lr.predict([x[40]])\n",
    "# predict_y=lr.predict(newData)\n",
    "predict_y"
   ]
  },
  {
   "cell_type": "code",
   "execution_count": 357,
   "metadata": {},
   "outputs": [
    {
     "data": {
      "text/plain": [
       "array([-0.52935065, -1.422515  , -1.5161136 , -1.32074617, -0.83572781,\n",
       "       -1.19401755,  0.08708597, -0.82818595])"
      ]
     },
     "execution_count": 357,
     "metadata": {},
     "output_type": "execute_result"
    }
   ],
   "source": [
    "x[50]"
   ]
  },
  {
   "cell_type": "code",
   "execution_count": 359,
   "metadata": {},
   "outputs": [
    {
     "data": {
      "text/plain": [
       "[<matplotlib.lines.Line2D at 0x1c3b59e8>]"
      ]
     },
     "execution_count": 359,
     "metadata": {},
     "output_type": "execute_result"
    }
   ],
   "source": [
    "plt.scatter(predicted,y,s=2)\n",
    "plt.plot(predict_y, y[60], 'ro')\n",
    "plt.plot([y.min(), y.max()], [y.min(), y.max()], 'k--', lw=2)\n",
    "# plt.xlabel('Predicted')\n",
    "# plt.ylabel('Measured')"
   ]
  },
  {
   "cell_type": "code",
   "execution_count": 21,
   "metadata": {},
   "outputs": [
    {
     "data": {
      "image/png": "[encoded data removed]",
      "text/plain": [
       "<matplotlib.figure.Figure at 0x18d260b8>"
      ]
     },
     "metadata": {},
     "output_type": "display_data"
    }
   ],
   "source": [
    "plt.show()"
   ]
  },
  {
   "cell_type": "code",
   "execution_count": null,
   "metadata": {
    "collapsed": true
   },
   "outputs": [],
   "source": []
  },
  {
   "cell_type": "markdown",
   "metadata": {},
   "source": [
    "# 預測連續數值2(SVR)"
   ]
  },
  {
   "cell_type": "code",
   "execution_count": 360,
   "metadata": {
    "collapsed": true
   },
   "outputs": [],
   "source": [
    "from sklearn import datasets\n",
    "from sklearn.svm import SVR\n",
    "import matplotlib.pyplot as plt\n",
    "\n",
    "boston = datasets.load_boston()\n",
    "x=np.array(myX)\n",
    "y = np.array(myY)"
   ]
  },
  {
   "cell_type": "code",
   "execution_count": 361,
   "metadata": {},
   "outputs": [
    {
     "data": {
      "text/plain": [
       "SVR(C=1000.0, cache_size=200, coef0=0.0, degree=3, epsilon=0.1, gamma=0.1,\n",
       "  kernel='rbf', max_iter=-1, shrinking=True, tol=0.001, verbose=False)"
      ]
     },
     "execution_count": 361,
     "metadata": {},
     "output_type": "execute_result"
    }
   ],
   "source": [
    "clf = SVR(kernel='rbf', C=1e3, gamma=0.1)\n",
    "clf.fit(x, y)"
   ]
  },
  {
   "cell_type": "code",
   "execution_count": 362,
   "metadata": {
    "collapsed": true
   },
   "outputs": [],
   "source": [
    "# from sklearn.externals import joblib\n",
    "# joblib.dump(clf,\"./machine_SVR.pkl\")"
   ]
  },
  {
   "cell_type": "code",
   "execution_count": 372,
   "metadata": {},
   "outputs": [
    {
     "data": {
      "text/plain": [
       "array([264.76833904, 274.47210065, 259.22482388, 402.2562006 ,\n",
       "       307.87913706, 296.43918681, 274.96413344, 192.30027457,\n",
       "       431.55854466])"
      ]
     },
     "execution_count": 372,
     "metadata": {},
     "output_type": "execute_result"
    }
   ],
   "source": [
    "# clf=joblib.load(\"./machine_SVR.pkl\")\n",
    "# clf.fit(x, y)\n",
    "\n",
    "newData=zscore([[int(j)for j in i.split(\"\\t\")] for i in \"\"\"52\t102316\t0\t49\t2\t4\t2\t0\n",
    "56\t178949\t12\t125\t5\t8\t5\t3\n",
    "58\t185640\t39\t132\t3\t5\t3\t1\n",
    "67\t373797\t11\t229\t31\t16\t2\t3\n",
    "70\t353804\t11\t252\t30\t14\t4\t2\n",
    "51\t106274\t7\t39\t1\t2\t2\t0\n",
    "60\t185182\t42\t134\t3\t5\t4\t1\n",
    "52\t303312\t7\t119\t7\t6\t1\t0\n",
    "65\t342102\t20\t151\t13\t11\t3\t2\"\"\".split('\\n')])\n",
    "\n",
    "newdata=[]\n",
    "for i in range(len(newData[0])):\n",
    "    newdata.append(zscore(np.array(newData).T[i]))\n",
    "newData=np.array(newdata).T\n",
    "\n",
    "#連續型Y 產生\n",
    "Y=[i['avgDailyCustomer'] for i in data]\n",
    "\n",
    "\n",
    "\n",
    "\n",
    "#消費力\t人口數\t公車站數\t四大超商數\t星巴克數\t麥當勞數\t肯德基數\t瓦城數\n",
    "\n",
    "\n",
    "\n",
    "predict_y=clf.predict(newData)\n",
    "# predict_y=clf.predict([x[205]])\n",
    "predict_y"
   ]
  },
  {
   "cell_type": "code",
   "execution_count": 364,
   "metadata": {},
   "outputs": [
    {
     "data": {
      "text/plain": [
       "0.7902633866801508"
      ]
     },
     "execution_count": 364,
     "metadata": {},
     "output_type": "execute_result"
    }
   ],
   "source": [
    "predict=clf.predict(x)\n",
    "clf.score(x, y)"
   ]
  },
  {
   "cell_type": "code",
   "execution_count": 366,
   "metadata": {},
   "outputs": [
    {
     "data": {
      "image/png": "[encoded data removed]",
      "text/plain": [
       "<matplotlib.figure.Figure at 0x1c362f28>"
      ]
     },
     "metadata": {},
     "output_type": "display_data"
    }
   ],
   "source": [
    "plt.scatter(predict,y,s=2)\n",
    "plt.plot(predict_y, predict_y, 'ro')\n",
    "# plt.plot([y.min(), y.max()], [y.min(), y.max()], 'k--', lw=2)\n",
    "plt.xlabel('Predicted')\n",
    "plt.ylabel('Measured')\n",
    "plt.show()"
   ]
  },
  {
   "cell_type": "code",
   "execution_count": null,
   "metadata": {
    "collapsed": true
   },
   "outputs": [],
   "source": []
  },
  {
   "cell_type": "markdown",
   "metadata": {},
   "source": [
    "# 特徵選擇器Pipeline Anova SVM\n",
    "\n",
    "#### 此機器學習範例示範佇列的使用，依照順序執行ANOVA挑選主要特徵，並且使用C-SVM來計算特徵的權重與預測。\n"
   ]
  },
  {
   "cell_type": "code",
   "execution_count": 373,
   "metadata": {},
   "outputs": [
    {
     "name": "stdout",
     "output_type": "stream",
     "text": [
      "(100, 20) \n",
      " [[-2.54937851 -0.58709228  0.39188949 ... -2.63056931 -0.32447045\n",
      "   1.78439024]\n",
      " [ 0.40445055  0.90844646 -0.20829952 ... -1.98046834 -0.36818248\n",
      "  -1.13580096]\n",
      " [ 0.38877715 -0.05073595  1.53453214 ... -1.51356552  1.20786155\n",
      "  -1.90083685]\n",
      " ...\n",
      " [ 0.85041222  0.72363725 -1.2991601  ... -1.27833109  1.06788334\n",
      "   0.90096975]\n",
      " [ 0.21483367  1.43530764  1.48253564 ... -1.57622211 -1.67915563\n",
      "  -0.30558895]\n",
      " [-0.4019354  -0.89299684 -1.20451834 ...  0.26415119 -1.40523927\n",
      "   0.16733032]]\n",
      "100 \n",
      " [0 1 1 2 2 0 1 1 3 0 3 0 3 1 0 2 2 0 0 2 3 1 2 0 3 3 3 1 3 0 0 1 1 3 1 1 1\n",
      " 0 2 2 2 0 0 2 1 0 2 3 1 0 0 2 2 3 1 3 0 0 3 3 0 2 3 3 3 0 2 0 3 1 0 1 3 2\n",
      " 3 3 1 2 1 3 1 3 1 2 1 2 1 0 2 1 2 2 2 1 3 3 2 0 0 2]\n"
     ]
    }
   ],
   "source": [
    "from sklearn import svm\n",
    "from sklearn.datasets import samples_generator\n",
    "from sklearn.feature_selection import SelectKBest, f_regression\n",
    "from sklearn.pipeline import make_pipeline\n",
    "\n",
    "\n",
    "\n",
    "# import some data to play with(20個特徵變數，其中3個特徵有意義、4個類別)\n",
    "X, y = samples_generator.make_classification(\n",
    "    n_features=20, n_informative=3, n_redundant=0, n_classes=4,\n",
    "    n_clusters_per_class=2)\n",
    "print(X.shape,\"\\n\",X)\n",
    "print(len(y),\"\\n\",y)\n",
    "\n",
    "\n",
    "# sklearn.datasets.make_classification(   n_samples=100,\n",
    "#                                         n_features=20,\n",
    "#                                         n_informative=2,\n",
    "#                                         n_redundant=2,\n",
    "#                                         n_repeated=0,\n",
    "#                                         n_classes=2,\n",
    "#                                         n_clusters_per_class=2,    \n",
    "#                                         weights=None,\n",
    "#                                         flip_y=0.01,\n",
    "#                                         class_sep=1.0,\n",
    "#                                         hypercube=True,\n",
    "#                                         shift=0.0,\n",
    "#                                         scale=1.0,\n",
    "#                                         shuffle=True,\n",
    "#                                         random_state=None)\n",
    "\n",
    "# 參數:\n",
    "# n_samples : 產生幾個數據\n",
    "# n_fratures : 總特徵數目\n",
    "# n_informative: 有意義的特徵數目\n",
    "# n_redundant : 產生有意義特徵的隨機線性組合\n",
    "# n_repeated\n",
    "# n_classes: 共分類為幾類\n",
    "# n_clusters_per_class: 一個類群有幾個群組分布\n",
    "# weights :\n",
    "# flip_y :\n",
    "# class_sep :\n",
    "# hypercube :\n",
    "# shift :\n",
    "# scale :\n",
    "# shuffle :\n",
    "# random_state :\n",
    "\n",
    "# 輸出:\n",
    "# X : 特徵矩陣資料\n",
    "# Y : 對應目標資料"
   ]
  },
  {
   "cell_type": "code",
   "execution_count": 374,
   "metadata": {
    "collapsed": true
   },
   "outputs": [],
   "source": [
    "#產生anova篩選器、找到最有效果的特徵 k個\n",
    "anova_filter = SelectKBest(f_regression, k=5)\n",
    "\n",
    "# SelectKBest() 的參數\n",
    "# SelectKBest 的使用:\n",
    "\n",
    "# 選擇最好的特徵(目標函式, 特徵個數)\n",
    "# 目標函式: 測試X與Y之間關係，須提供F score與p-value\n",
    "# 特徵個數: 最好的特徵個數\n",
    "# f_regression 的使用：\n",
    "\n",
    "# f_regression(X,y)\n",
    "# 輸入X與y\n",
    "# 輸出F score與p-value"
   ]
  },
  {
   "cell_type": "code",
   "execution_count": 375,
   "metadata": {},
   "outputs": [
    {
     "data": {
      "text/plain": [
       "0.85"
      ]
     },
     "execution_count": 375,
     "metadata": {},
     "output_type": "execute_result"
    }
   ],
   "source": [
    "#將SVC分類器加入anova的篩選機制，並做出會篩選出重要特徵3個的SVC模型\n",
    "clf = svm.SVC(kernel='linear')\n",
    "\n",
    "anova_svm = make_pipeline(anova_filter, clf)\n",
    "anova_svm.fit(X, y)\n",
    "anova_svm.predict(X)\n",
    "len([i for i in anova_svm.predict(X)==y if i ==True])/len(X)"
   ]
  },
  {
   "cell_type": "code",
   "execution_count": 376,
   "metadata": {},
   "outputs": [
    {
     "data": {
      "text/plain": [
       "0.46774193548387094"
      ]
     },
     "execution_count": 376,
     "metadata": {},
     "output_type": "execute_result"
    }
   ],
   "source": [
    "anova_svm.fit(myX, myY2)\n",
    "anova_svm.predict(myX)\n",
    "len([i for i in anova_svm.predict(myX)==myY2 if i ==True])/len(myX)"
   ]
  },
  {
   "cell_type": "code",
   "execution_count": null,
   "metadata": {
    "collapsed": true
   },
   "outputs": [],
   "source": []
  },
  {
   "cell_type": "markdown",
   "metadata": {},
   "source": [
    "# 特徵選擇/範例二: Recursive feature elimination\n",
    "\n",
    "#### 本範例主要目的是減少特徵數量來提升機器學習之預測準確度。 主要方法是去不斷去剔除與資料分類關係轉少之特徵，來篩選特徵數目至指定數目。"
   ]
  },
  {
   "cell_type": "code",
   "execution_count": 377,
   "metadata": {},
   "outputs": [
    {
     "data": {
      "image/png": "[encoded data removed]",
      "text/plain": [
       "<matplotlib.figure.Figure at 0x19e05908>"
      ]
     },
     "metadata": {},
     "output_type": "display_data"
    }
   ],
   "source": [
    "from sklearn.svm import SVC\n",
    "from sklearn.datasets import load_digits\n",
    "from sklearn.feature_selection import RFE\n",
    "import matplotlib.pyplot as plt\n",
    "\n",
    "# Load the digits dataset\n",
    "digits = load_digits()\n",
    "X = digits.images.reshape((len(digits.images), -1))\n",
    "y = digits.target\n",
    "\n",
    "# Create the RFE object and rank each pixel\n",
    "svc = SVC(kernel=\"linear\", C=1)\n",
    "\n",
    "#RFE以排除最不具目標影響力的特徵，做特徵的影響力排序。並且將訓練用的特徵挑選至n_features_to_select所給定的特徵數。\n",
    "#step代表每次刪除較不具影響力的特徵數目\n",
    "rfe = RFE(estimator=svc, n_features_to_select=1, step=1)\n",
    "rfe.fit(X, y)\n",
    "\n",
    "#可以用方法ranking_來看輸入的特徵權重關係\n",
    "ranking = rfe.ranking_.reshape(digits.images[0].shape)\n",
    "\n",
    "# Plot pixel ranking\n",
    "plt.matshow(ranking, cmap=plt.cm.Blues)\n",
    "plt.colorbar()\n",
    "plt.title(\"Ranking of pixels with RFE\")\n",
    "plt.show()"
   ]
  },
  {
   "cell_type": "code",
   "execution_count": 378,
   "metadata": {},
   "outputs": [
    {
     "name": "stdout",
     "output_type": "stream",
     "text": [
      "(1797, 8, 8)\n"
     ]
    },
    {
     "data": {
      "text/plain": [
       "(1797, 64)"
      ]
     },
     "execution_count": 378,
     "metadata": {},
     "output_type": "execute_result"
    }
   ],
   "source": [
    "YY=X.reshape((len(X),8,8))\n",
    "print(YY.shape)\n",
    "YY.reshape((len(YY),-1)).shape #只要reshape (資料數量,-1)就能將裡面資料的為度展開唯一"
   ]
  },
  {
   "cell_type": "markdown",
   "metadata": {},
   "source": [
    "# 自動特徵樹選擇 Recursive feature elimination with cross-validation\n",
    "\n",
    "##### kfold做交叉驗證"
   ]
  },
  {
   "cell_type": "code",
   "execution_count": 379,
   "metadata": {},
   "outputs": [
    {
     "name": "stdout",
     "output_type": "stream",
     "text": [
      "Optimal number of features : 2\n"
     ]
    },
    {
     "data": {
      "image/png": "[encoded data removed]",
      "text/plain": [
       "<matplotlib.figure.Figure at 0x1cac36d8>"
      ]
     },
     "metadata": {},
     "output_type": "display_data"
    }
   ],
   "source": [
    "import matplotlib.pyplot as plt\n",
    "from sklearn.svm import SVC\n",
    "from sklearn.cross_validation import StratifiedKFold\n",
    "from sklearn.feature_selection import RFECV\n",
    "from sklearn.datasets import make_classification\n",
    "\n",
    "#有25個特徵變數、但只有3個有效>有8類\n",
    "# Build a classification task using 3 informative features\n",
    "X, y = make_classification(n_samples=1000, n_features=25, n_informative=3,\n",
    "                           n_redundant=2, n_repeated=0, n_classes=8,\n",
    "                           n_clusters_per_class=1, random_state=0)\n",
    "\n",
    "\n",
    "\n",
    "# Create the RFE object and compute a cross-validated score.\n",
    "svc = SVC(kernel=\"linear\")\n",
    "# The \"accuracy\" scoring is proportional to the number of correct\n",
    "# classifications\n",
    "\n",
    "\n",
    "#在交叉驗證的部分，我們使用StratifiedKFold指令來做K 堆疊(Fold)的交叉驗證。\n",
    "#也就是將資料分為K堆，一堆作為預測用，剩下的(K-1)堆則用來訓練，經過計算後，再以另外一堆作為預測，重複K次。\n",
    "\n",
    "#而scoring參數則是依照分類資料的形式，輸入對應的評分方式。以本例子為超過兩類型的分類，因此使用'accuracy'來對多重分類的評分方式\n",
    "\n",
    "# rfecv = RFECV(estimator=svc, step=1, cv=StratifiedKFold(y, 2),\n",
    "#               scoring='accuracy')\n",
    "# rfecv.fit(X, y)\n",
    "\n",
    "\n",
    "rfecv = RFECV(estimator=svc, step=1, cv=StratifiedKFold(myY2, n_folds=2),\n",
    "              scoring='accuracy')\n",
    "rfecv.fit(myX, myY2)\n",
    "print(\"Optimal number of features : %d\" % rfecv.n_features_)\n",
    "\n",
    "# Plot number of features VS. cross-validation scores\n",
    "plt.figure()\n",
    "plt.xlabel(\"Number of features selected\")\n",
    "plt.ylabel(\"Cross validation score (nb of correct classifications)\")\n",
    "plt.plot(range(1, len(rfecv.grid_scores_) + 1), rfecv.grid_scores_)\n",
    "plt.show()"
   ]
  },
  {
   "cell_type": "code",
   "execution_count": 380,
   "metadata": {},
   "outputs": [
    {
     "data": {
      "text/plain": [
       "0.4032258064516129"
      ]
     },
     "execution_count": 380,
     "metadata": {},
     "output_type": "execute_result"
    }
   ],
   "source": [
    "len([i for i in rfecv.predict(myX)==myY2 if i ==True])/len(myX)"
   ]
  },
  {
   "cell_type": "code",
   "execution_count": null,
   "metadata": {
    "collapsed": true
   },
   "outputs": [],
   "source": []
  },
  {
   "cell_type": "markdown",
   "metadata": {},
   "source": [
    "# 替分類器打分數\n",
    "### permutation_test_score提供了對分類標籤做隨機置換的功能，並依照給定的置換次數來計算不同的資料組合配上置換過標籤的組合，用交叉驗證來計算準確性分佈，並統計顯著性。計算過後可取得該分類機器的真實分數與經過數次組合後取得的分數。"
   ]
  },
  {
   "cell_type": "code",
   "execution_count": 391,
   "metadata": {},
   "outputs": [
    {
     "name": "stdout",
     "output_type": "stream",
     "text": [
      "Classification score 0.25625 (pvalue : 0.801980198019802)\n"
     ]
    },
    {
     "data": {
      "image/png": "[encoded data removed]",
      "text/plain": [
       "<matplotlib.figure.Figure at 0x1c362748>"
      ]
     },
     "metadata": {},
     "output_type": "display_data"
    }
   ],
   "source": [
    "import numpy as np\n",
    "import matplotlib.pyplot as plt\n",
    "\n",
    "from sklearn.svm import SVC\n",
    "from sklearn.cross_validation import StratifiedKFold, permutation_test_score\n",
    "from sklearn import datasets\n",
    "\n",
    "\n",
    "##############################################################################\n",
    "# Loading a dataset\n",
    "iris = datasets.load_iris()\n",
    "X = iris.data\n",
    "y = iris.target\n",
    "n_classes = np.unique(myY2).size\n",
    "\n",
    "# Some noisy data not correlated\n",
    "random = np.random.RandomState(seed=0)\n",
    "E = random.normal(size=(len(myX), 2200))\n",
    "\n",
    "# Add noisy data to the informative features for make the task harder\n",
    "X = np.c_[myX, E]\n",
    "\n",
    "svm = SVC(kernel='linear')\n",
    "cv = StratifiedKFold(myY2, 2)\n",
    "\n",
    "# score, permutation_scores, pvalue = permutation_test_score(\n",
    "#     svm, X, y, scoring=\"accuracy\", cv=cv, n_permutations=100, n_jobs=1)\n",
    "score, permutation_scores, pvalue = permutation_test_score(\n",
    "    svm, myX, myY2, scoring=\"accuracy\", cv=cv, n_permutations=100, n_jobs=1)\n",
    "print(\"Classification score %s (pvalue : %s)\" % (score, pvalue))\n",
    "\n",
    "###############################################################################\n",
    "# View histogram of permutation scores\n",
    "plt.hist(permutation_scores, 20, label='Permutation scores')\n",
    "ylim = plt.ylim()\n",
    "# BUG: vlines(..., linestyle='--') fails on older versions of matplotlib\n",
    "#plt.vlines(score, ylim[0], ylim[1], linestyle='--',\n",
    "#          color='g', linewidth=3, label='Classification Score'\n",
    "#          ' (pvalue %s)' % pvalue)\n",
    "#plt.vlines(1.0 / n_classes, ylim[0], ylim[1], linestyle='--',\n",
    "#          color='k', linewidth=3, label='Luck')\n",
    "plt.plot(2 * [score], ylim, '--g', linewidth=3,\n",
    "         label='Classification Score'\n",
    "         ' (pvalue %s)' % pvalue)\n",
    "plt.plot(2 * [1. / n_classes], ylim, '--k', linewidth=3, label='Luck')\n",
    "\n",
    "plt.ylim(ylim)\n",
    "plt.legend()\n",
    "plt.xlabel('Score')\n",
    "plt.show()"
   ]
  },
  {
   "cell_type": "markdown",
   "metadata": {},
   "source": [
    "# 使用f-value作為判斷的基準來找主要影響力特徵\n",
    "#### 以SelectPercentile作單變量特徵的計算，以F-test(f_classif)來做為選擇的統計方式，挑選函式輸出結果大於百分之十的特徵。並將計算出來的單便量特徵分數結果做正規化，以便比較每特徵在使用單變量計算與未使用單變量計算的差別。"
   ]
  },
  {
   "cell_type": "code",
   "execution_count": 405,
   "metadata": {},
   "outputs": [
    {
     "data": {
      "image/png": "[encoded data removed]",
      "text/plain": [
       "<matplotlib.figure.Figure at 0x1c893f98>"
      ]
     },
     "metadata": {},
     "output_type": "display_data"
    }
   ],
   "source": [
    "import numpy as np\n",
    "import matplotlib.pyplot as plt\n",
    "\n",
    "from sklearn import datasets, svm\n",
    "from sklearn.feature_selection import SelectPercentile, f_classif\n",
    "\n",
    "###############################################################################\n",
    "# # import some data to play with\n",
    "\n",
    "# # The iris dataset\n",
    "# iris = datasets.load_iris()\n",
    "\n",
    "# # Some noisy data not correlated\n",
    "# E = np.random.uniform(0, 0.1, size=(len(iris.data), 20))\n",
    "\n",
    "# # Add the noisy data to the informative features\n",
    "# X = np.hstack((iris.data, E))\n",
    "# y = iris.target\n",
    "\n",
    "###############################################################################\n",
    "plt.figure(1)\n",
    "plt.clf()\n",
    "\n",
    "X_indices = np.arange(myX.shape[-1])\n",
    "\n",
    "###############################################################################\n",
    "# Univariate feature selection with F-test for feature scoring\n",
    "# We use the default selection function: the 10% most significant features\n",
    "selector = SelectPercentile(f_classif, percentile=10)\n",
    "selector.fit(myX, myY2)\n",
    "scores = -np.log10(selector.pvalues_)\n",
    "scores /= scores.max()\n",
    "plt.bar(X_indices - .45, scores, width=.2,\n",
    "        label=r'Univariate score ($-Log(p_{value})$)', color='g')\n",
    "\n",
    "###############################################################################\n",
    "# Compare to the weights of an SVM\n",
    "clf = svm.SVC(kernel='linear')\n",
    "clf.fit(myX, myY2)\n",
    "\n",
    "svm_weights = (clf.coef_ ** 2).sum(axis=0)\n",
    "svm_weights /= svm_weights.max()\n",
    "\n",
    "plt.bar(X_indices - .25, svm_weights, width=.2, label='SVM weight', color='r')\n",
    "\n",
    "clf_selected = svm.SVC(kernel='linear')\n",
    "clf_selected.fit(selector.transform(myX), myY2)\n",
    "\n",
    "svm_weights_selected = (clf_selected.coef_ ** 2).sum(axis=0)\n",
    "svm_weights_selected /= svm_weights_selected.max()\n",
    "\n",
    "plt.bar(X_indices[selector.get_support()] - .05, svm_weights_selected,\n",
    "        width=.2, label='SVM weights after selection', color='b')\n",
    "\n",
    "\n",
    "plt.title(\"Comparing feature selection\")\n",
    "plt.xlabel('Feature number')\n",
    "plt.yticks(())\n",
    "plt.axis('tight')\n",
    "plt.legend(loc='upper right')\n",
    "plt.show()"
   ]
  },
  {
   "attachments": {
    "image.png": {
     "image/png": "[encoded data removed]"
    }
   },
   "cell_type": "markdown",
   "metadata": {},
   "source": [
    "# Decision Tree Regression\n",
    "\n",
    "#### 此範例利用Decision Tree從數據中學習一組if-then-else決策規則，逼近加有雜訊的sine curve，因此它模擬出局部的線性迴歸以近似sine curve。 若決策樹深度越深(可由max_depth參數控制)，則決策規則越複雜，模型也會越接近數據，但若數據中含有雜訊，太深的樹就有可能產生過擬合的情形。 此範例模擬了不同深度的樹，當用帶有雜點的數據可能造成的情況。\n",
    "![image.png](attachment:image.png)"
   ]
  },
  {
   "cell_type": "code",
   "execution_count": 442,
   "metadata": {
    "scrolled": false
   },
   "outputs": [
    {
     "data": {
      "image/png": "[encoded data removed]",
      "text/plain": [
       "<matplotlib.figure.Figure at 0x1ca92978>"
      ]
     },
     "metadata": {},
     "output_type": "display_data"
    }
   ],
   "source": [
    "import numpy as np\n",
    "from sklearn.tree import DecisionTreeRegressor\n",
    "import matplotlib.pyplot as plt\n",
    "\n",
    "# Create a random dataset\n",
    "rng = np.random.RandomState(1)\n",
    "X = np.sort(5 * rng.rand(80, 1), axis=0)\n",
    "y = np.sin(X).ravel()\n",
    "y[::5] += 3 * (0.5 - rng.rand(16))\n",
    "\n",
    "# Fit regression model\n",
    "regr_1 = DecisionTreeRegressor(max_depth=2)\n",
    "regr_2 = DecisionTreeRegressor(max_depth=5)\n",
    "regr_1.fit(X, y)\n",
    "regr_2.fit(X, y)\n",
    "\n",
    "# Predict\n",
    "X_test = np.arange(0.0, 5.0, 0.01)[:, np.newaxis]\n",
    "y_1 = regr_1.predict(X_test)\n",
    "y_2 = regr_2.predict(X_test)\n",
    "\n",
    "# Plot the results\n",
    "plt.figure()\n",
    "plt.scatter(X, y, c=\"darkorange\", label=\"data\")\n",
    "plt.plot(X_test, y_1, color=\"cornflowerblue\", label=\"max_depth=2\", linewidth=2)\n",
    "plt.plot(X_test, y_2, color=\"yellowgreen\", label=\"max_depth=5\", linewidth=2)\n",
    "plt.xlabel(\"data\")\n",
    "plt.ylabel(\"target\")\n",
    "plt.title(\"Decision Tree Regression\")\n",
    "plt.legend()\n",
    "plt.show()"
   ]
  },
  {
   "attachments": {
    "image.png": {
     "image/png": "[encoded data removed]"
    }
   },
   "cell_type": "markdown",
   "metadata": {},
   "source": [
    "# 決策樹/範例二:Multi-output Decision Tree Regression\n",
    "\n",
    "#### 此範例用決策樹說明多輸出迴歸的例子，利用帶有雜訊的特徵及目標值模擬出近似圓的局部線性迴歸。 若決策樹深度越深(可由max_depth參數控制)，則決策規則越複雜，模型也會越接近數據，但若數據中含有雜訊，太深的樹就有可能產生過擬合的情形。 此範例模擬了不同深度的樹，當用帶有雜點的數據可能造成的情況。\n",
    "\n",
    "![image.png](attachment:image.png)"
   ]
  },
  {
   "cell_type": "code",
   "execution_count": 450,
   "metadata": {
    "scrolled": true
   },
   "outputs": [
    {
     "data": {
      "image/png": "[encoded data removed]",
      "text/plain": [
       "<matplotlib.figure.Figure at 0x1c9f5f98>"
      ]
     },
     "metadata": {},
     "output_type": "display_data"
    }
   ],
   "source": [
    "import numpy as np\n",
    "import matplotlib.pyplot as plt\n",
    "from sklearn.tree import DecisionTreeRegressor\n",
    "\n",
    "# Create a random dataset\n",
    "\n",
    "rng = np.random.RandomState(1)\n",
    "\n",
    "\n",
    "X = np.sort(200 * rng.rand(100, 1) - 100, axis=0)\n",
    "y = np.array([np.pi * np.sin(X).ravel(), np.pi * np.cos(X).ravel()]).T\n",
    "y[::5, :] += (0.5 - rng.rand(20, 2))\n",
    "\n",
    "# Fit regression model\n",
    "regr_1 = DecisionTreeRegressor(max_depth=2)\n",
    "regr_2 = DecisionTreeRegressor(max_depth=5)\n",
    "regr_3 = DecisionTreeRegressor(max_depth=8)\n",
    "regr_1.fit(X, y)\n",
    "regr_2.fit(X, y)\n",
    "regr_3.fit(X, y)\n",
    "\n",
    "# Predict\n",
    "X_test = np.arange(-100.0, 100.0, 0.01)[:, np.newaxis]\n",
    "y_1 = regr_1.predict(X_test)\n",
    "y_2 = regr_2.predict(X_test)\n",
    "y_3 = regr_3.predict(X_test)\n",
    "\n",
    "# Plot the results\n",
    "plt.figure()\n",
    "s = 50\n",
    "plt.scatter(y[:, 0], y[:, 1], c=\"navy\", s=s, label=\"data\")\n",
    "plt.scatter(y_1[:, 0], y_1[:, 1], c=\"cornflowerblue\", s=s, label=\"max_depth=2\")\n",
    "plt.scatter(y_2[:, 0], y_2[:, 1], c=\"c\", s=s, label=\"max_depth=5\")\n",
    "plt.scatter(y_3[:, 0], y_3[:, 1], c=\"orange\", s=s, label=\"max_depth=8\")\n",
    "plt.xlim([-6, 6])\n",
    "plt.ylim([-6, 6])\n",
    "plt.xlabel(\"target 1\")\n",
    "plt.ylabel(\"target 2\")\n",
    "plt.title(\"Multi-output Decision Tree Regression\")\n",
    "plt.legend()\n",
    "plt.show()"
   ]
  },
  {
   "cell_type": "code",
   "execution_count": null,
   "metadata": {
    "collapsed": true
   },
   "outputs": [],
   "source": []
  },
  {
   "cell_type": "code",
   "execution_count": null,
   "metadata": {
    "collapsed": true
   },
   "outputs": [],
   "source": []
  }
 ],
 "metadata": {
  "kernelspec": {
   "display_name": "Python 3",
   "language": "python",
   "name": "python3"
  },
  "language_info": {
   "codemirror_mode": {
    "name": "ipython",
    "version": 3
   },
   "file_extension": ".py",
   "mimetype": "text/x-python",
   "name": "python",
   "nbconvert_exporter": "python",
   "pygments_lexer": "ipython3",
   "version": "3.6.4"
  }
 },
 "nbformat": 4,
 "nbformat_minor": 2
}
