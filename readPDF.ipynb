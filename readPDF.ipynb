{
 "cells": [
  {
   "cell_type": "code",
   "execution_count": 1,
   "metadata": {},
   "outputs": [
    {
     "name": "stdout",
     "output_type": "stream",
     "text": [
      "Collecting PyPDF2\n",
      "  Downloading https://files.pythonhosted.org/packages/b4/01/68fcc0d43daf4c6bdbc6b33cc3f77bda531c86b174cac56ef0ffdb96faab/PyPDF2-1.26.0.tar.gz (77kB)\n",
      "Building wheels for collected packages: PyPDF2\n",
      "  Running setup.py bdist_wheel for PyPDF2: started\n",
      "  Running setup.py bdist_wheel for PyPDF2: finished with status 'done'\n",
      "  Stored in directory: C:\\Users\\andy.yuan\\AppData\\Local\\pip\\Cache\\wheels\\53\\84\\19\\35bc977c8bf5f0c23a8a011aa958acd4da4bbd7a229315c1b7\n",
      "Successfully built PyPDF2\n",
      "Installing collected packages: PyPDF2\n",
      "Successfully installed PyPDF2-1.26.0\n"
     ]
    }
   ],
   "source": [
    "!pip install PyPDF2\n",
    "\n"
   ]
  },
  {
   "cell_type": "code",
   "execution_count": 46,
   "metadata": {},
   "outputs": [
    {
     "name": "stdout",
     "output_type": "stream",
     "text": [
      "23\n"
     ]
    },
    {
     "name": "stderr",
     "output_type": "stream",
     "text": [
      "PdfReadWarning: Xref table not zero-indexed. ID numbers for objects will be corrected. [pdf.py:1736]\n"
     ]
    }
   ],
   "source": [
    "# importing all the required modules\n",
    "import PyPDF2\n",
    "\n",
    "# creating an object \n",
    "file = open(r'D:\\trydata\\agriculture-05-00626.pdf', 'rb')\n",
    "\n",
    "# creating a pdf reader object\n",
    "fileReader = PyPDF2.PdfFileReader(file)\n",
    "\n",
    "# print the number of pages in pdf file\n",
    "print(fileReader.numPages)"
   ]
  },
  {
   "cell_type": "code",
   "execution_count": 58,
   "metadata": {},
   "outputs": [],
   "source": [
    "pageObj = fileReader.getPage(17)\n"
   ]
  },
  {
   "cell_type": "code",
   "execution_count": 59,
   "metadata": {},
   "outputs": [],
   "source": [
    "x=pageObj.extractText()"
   ]
  },
  {
   "cell_type": "code",
   "execution_count": 60,
   "metadata": {},
   "outputs": [
    {
     "data": {
      "text/plain": [
       "['Agriculture 2015, 5 643   The top three fresh vegetables in',\n",
       " ' terms of amount of uneaten vege',\n",
       " 'tables per year',\n",
       " ' are potatoes, ',\n",
       " 'tomatoes, and ﬁromaine and leaf lettuceﬂ. After re',\n",
       " 'moving the inedible share, the top three fresh ',\n",
       " 'vegetables in terms of food loss remained the same. The main reason these three differ from the top three ',\n",
       " 'fresh vegetables in terms of the ',\n",
       " 'percent shrink in supermarkets (',\n",
       " 'i.e.',\n",
       " ', fresh turnip greens, fresh mustard ',\n",
       " 'greens, and escarole/endive) is likely because potatoes,',\n",
       " ' tomatoes, and ﬁromaine and leaf lettuceﬂ were ',\n",
       " 'among the top five fresh vegetables in te',\n",
       " 'rms of U.S. retail level availability (',\n",
       " 'i.e., among the most popular ',\n",
       " 'for U.S. consumption) (Figure 2). ',\n",
       " ' Figure 2. The top fresh vegetables in terms of shrink are different than the top vegetables in ',\n",
       " 'terms of the total amounts of uneaten, whole, fr',\n",
       " 'esh vegetables in U.S. supermarkets, 2012. ',\n",
       " '4. Discussion and Outlook The supermarket shrink estimates provided here ar',\n",
       " 'e high compared to food shrink, loss, and waste ',\n",
       " 'estimates reported in other studies ',\n",
       " 'both internationally and in the Un',\n",
       " 'ited States. The estimates presented ',\n",
       " 'here are higher than the estimates in Mena',\n",
       " ' et al.',\n",
       " ' [24]. For example, the estima',\n",
       " 'te for strawberries in the ',\n",
       " 'United Kingdom was 2 to 4 percent co',\n",
       " 'mpared to 14.2 percent in the curr',\n",
       " 'ent study for strawberries in the ',\n",
       " 'United States. The estimates presented here are much ',\n",
       " 'higher than 4.3 percent of ',\n",
       " 'fruits and vegetables by ',\n",
       " 'mass reported in Eriksson',\n",
       " ' et al.',\n",
       " ' [31] in six Swedish retail stores',\n",
       " ' and slightly higher than the 2005Œ2006 ',\n",
       " 'estimates in Buzby',\n",
       " ' et al.',\n",
       " ' [8]. The estimates are not directly comp',\n",
       " 'arable to those based on the percent of ',\n",
       " 'sales or calories. The overall aver',\n",
       " 'age supermarket shrink rates here (',\n",
       " 'i.e., weighted by commodity value) ',\n",
       " 'were 1.2 percentage point higher for fresh fruit and ',\n",
       " '2.2 percentage points hi',\n",
       " 'gher for fresh vegetables than in 2005Œ2006 [8]. Although, individual estimates ofte',\n",
       " 'n varied considerably from the corresponding ',\n",
       " 'average estimates for 2005Œ2006, the relative position of',\n",
       " ' individual foods in terms of low or high shrink ',\n",
       " 'levels remained similar for both fresh fruits and ve',\n",
       " 'getables. For example, estimated shrink for papayas ',\n",
       " 'and mustard greens were high in both studies out of',\n",
       " ' all fresh fruits and ve',\n",
       " 'getables respectively. ',\n",
       " 'The LAFA data series con',\n",
       " 'tinues to be considered ',\n",
       " 'preliminary or work in progress as there are a series ',\n",
       " 'of initiatives underway to improve the data struct',\n",
       " 'ure and underlying assumptions, including the current ']"
      ]
     },
     "execution_count": 60,
     "metadata": {},
     "output_type": "execute_result"
    }
   ],
   "source": [
    "x.split(\"\\n\")"
   ]
  },
  {
   "cell_type": "code",
   "execution_count": null,
   "metadata": {
    "collapsed": true
   },
   "outputs": [],
   "source": []
  }
 ],
 "metadata": {
  "kernelspec": {
   "display_name": "Python 3",
   "language": "python",
   "name": "python3"
  },
  "language_info": {
   "codemirror_mode": {
    "name": "ipython",
    "version": 3
   },
   "file_extension": ".py",
   "mimetype": "text/x-python",
   "name": "python",
   "nbconvert_exporter": "python",
   "pygments_lexer": "ipython3",
   "version": "3.6.4"
  }
 },
 "nbformat": 4,
 "nbformat_minor": 2
}
